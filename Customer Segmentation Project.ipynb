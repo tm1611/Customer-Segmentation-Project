{
 "cells": [
  {
   "cell_type": "markdown",
   "metadata": {},
   "source": [
    "# Project: Identify Customer Segments\n",
    "\n",
    "The following project applies various unsupervised learning techniques to identify segments of the population that form the customer base for a mail-order sales company in Germany (Arvato Bertelsmann). \n",
    "\n",
    "These segments can then for example be used to examine the customer base and direct marketing campaigns towards audiences that will have the highest expected rate of returns as one business example. The data has been provided by Bertelsmann Arvato Analytics and represents a typical task of their Data Scientists work.  \n",
    "\n",
    "The data is proprietary and was deleted after finishing the project for the Data Scientist Nanodegree program offered by Udacity. To give a good impression of the data I introduce it in detail and show important aspects."
   ]
  },
  {
   "cell_type": "code",
   "execution_count": 1,
   "metadata": {},
   "outputs": [],
   "source": [
    "# Import libraries\n",
    "import numpy as np\n",
    "import pandas as pd\n",
    "import matplotlib.pyplot as plt\n",
    "import seaborn as sns\n",
    "\n",
    "# Import functions\n",
    "from sklearn.preprocessing import Imputer\n",
    "from sklearn.cluster import KMeans, MiniBatchKMeans\n",
    "from sklearn.preprocessing import StandardScaler\n",
    "from sklearn.decomposition import PCA    \n",
    "from sklearn.preprocessing import LabelEncoder\n",
    "\n",
    "# Visualization in notebook\n",
    "%matplotlib inline"
   ]
  },
  {
   "cell_type": "markdown",
   "metadata": {},
   "source": [
    "## Part 1: Data and Preprocessing"
   ]
  },
  {
   "cell_type": "markdown",
   "metadata": {},
   "source": [
    "### Load the Data\n",
    "\n",
    "There are four files associated with this project:\n",
    "\n",
    "- `Udacity_AZDIAS_Subset.csv`: Demographics data for the general population of Germany; 891211 persons (rows) x 85 features (columns).\n",
    "- `Udacity_CUSTOMERS_Subset.csv`: Demographics data for customers of a mail-order company; 191652 persons (rows) x 85 features (columns).\n",
    "- `Data_Dictionary.md`: Detailed information file about the features in the provided datasets.\n",
    "- `AZDIAS_Feature_Summary.csv`: Summary of feature attributes for demographics data; 85 features (rows) x 4 columns\n",
    "\n",
    "Each row of the demographics files represents a single person, but also includes information outside of individuals, including information about their household, building, and neighborhood. We will use this information to cluster the general population into groups with similar demographic properties. \n",
    "\n",
    "Then, we will see how the people in the customers dataset fit into those created clusters. The hope here is that certain clusters are over-represented in the customers data, as compared to the general population; those over-represented clusters will be assumed to be part of the core userbase. This information can then be used for further applications, such as targeting for a marketing campaign."
   ]
  },
  {
   "cell_type": "markdown",
   "metadata": {},
   "source": [
    "First, we'll load two files that will be examined. The general demographics data and an additional data containing information about the features. "
   ]
  },
  {
   "cell_type": "code",
   "execution_count": 2,
   "metadata": {},
   "outputs": [],
   "source": [
    "# Load in the general demographics data.\n",
    "azdias = pd.read_csv(\"Udacity_AZDIAS_Subset.csv\", sep=\";\")\n",
    "\n",
    "# Load in the feature summary file.\n",
    "feat_info = pd.read_csv(\"AZDIAS_Feature_Summary.csv\", sep=\";\")"
   ]
  },
  {
   "cell_type": "markdown",
   "metadata": {},
   "source": [
    "#### General demographics data (azdias)"
   ]
  },
  {
   "cell_type": "code",
   "execution_count": 3,
   "metadata": {},
   "outputs": [
    {
     "name": "stdout",
     "output_type": "stream",
     "text": [
      "Structure 'azdias': \n"
     ]
    },
    {
     "data": {
      "text/plain": [
       "(891221, 85)"
      ]
     },
     "execution_count": 3,
     "metadata": {},
     "output_type": "execute_result"
    }
   ],
   "source": [
    "# Shape of azdias\n",
    "print(\"Structure 'azdias': \")\n",
    "azdias.shape"
   ]
  },
  {
   "cell_type": "markdown",
   "metadata": {},
   "source": [
    "Dataset has `891221` rows and `85`columns indicating no. of individuals and features, respectively."
   ]
  },
  {
   "cell_type": "code",
   "execution_count": 4,
   "metadata": {},
   "outputs": [
    {
     "data": {
      "text/html": [
       "<div>\n",
       "<style scoped>\n",
       "    .dataframe tbody tr th:only-of-type {\n",
       "        vertical-align: middle;\n",
       "    }\n",
       "\n",
       "    .dataframe tbody tr th {\n",
       "        vertical-align: top;\n",
       "    }\n",
       "\n",
       "    .dataframe thead th {\n",
       "        text-align: right;\n",
       "    }\n",
       "</style>\n",
       "<table border=\"1\" class=\"dataframe\">\n",
       "  <thead>\n",
       "    <tr style=\"text-align: right;\">\n",
       "      <th></th>\n",
       "      <th>AGER_TYP</th>\n",
       "      <th>ALTERSKATEGORIE_GROB</th>\n",
       "      <th>ANREDE_KZ</th>\n",
       "      <th>CJT_GESAMTTYP</th>\n",
       "      <th>FINANZ_MINIMALIST</th>\n",
       "      <th>FINANZ_SPARER</th>\n",
       "      <th>FINANZ_VORSORGER</th>\n",
       "      <th>FINANZ_ANLEGER</th>\n",
       "      <th>FINANZ_UNAUFFAELLIGER</th>\n",
       "      <th>FINANZ_HAUSBAUER</th>\n",
       "      <th>...</th>\n",
       "      <th>PLZ8_ANTG1</th>\n",
       "      <th>PLZ8_ANTG2</th>\n",
       "      <th>PLZ8_ANTG3</th>\n",
       "      <th>PLZ8_ANTG4</th>\n",
       "      <th>PLZ8_BAUMAX</th>\n",
       "      <th>PLZ8_HHZ</th>\n",
       "      <th>PLZ8_GBZ</th>\n",
       "      <th>ARBEIT</th>\n",
       "      <th>ORTSGR_KLS9</th>\n",
       "      <th>RELAT_AB</th>\n",
       "    </tr>\n",
       "  </thead>\n",
       "  <tbody>\n",
       "    <tr>\n",
       "      <th>0</th>\n",
       "      <td>-1</td>\n",
       "      <td>2</td>\n",
       "      <td>1</td>\n",
       "      <td>2.0</td>\n",
       "      <td>3</td>\n",
       "      <td>4</td>\n",
       "      <td>3</td>\n",
       "      <td>5</td>\n",
       "      <td>5</td>\n",
       "      <td>3</td>\n",
       "      <td>...</td>\n",
       "      <td>NaN</td>\n",
       "      <td>NaN</td>\n",
       "      <td>NaN</td>\n",
       "      <td>NaN</td>\n",
       "      <td>NaN</td>\n",
       "      <td>NaN</td>\n",
       "      <td>NaN</td>\n",
       "      <td>NaN</td>\n",
       "      <td>NaN</td>\n",
       "      <td>NaN</td>\n",
       "    </tr>\n",
       "    <tr>\n",
       "      <th>1</th>\n",
       "      <td>-1</td>\n",
       "      <td>1</td>\n",
       "      <td>2</td>\n",
       "      <td>5.0</td>\n",
       "      <td>1</td>\n",
       "      <td>5</td>\n",
       "      <td>2</td>\n",
       "      <td>5</td>\n",
       "      <td>4</td>\n",
       "      <td>5</td>\n",
       "      <td>...</td>\n",
       "      <td>2.0</td>\n",
       "      <td>3.0</td>\n",
       "      <td>2.0</td>\n",
       "      <td>1.0</td>\n",
       "      <td>1.0</td>\n",
       "      <td>5.0</td>\n",
       "      <td>4.0</td>\n",
       "      <td>3.0</td>\n",
       "      <td>5.0</td>\n",
       "      <td>4.0</td>\n",
       "    </tr>\n",
       "    <tr>\n",
       "      <th>2</th>\n",
       "      <td>-1</td>\n",
       "      <td>3</td>\n",
       "      <td>2</td>\n",
       "      <td>3.0</td>\n",
       "      <td>1</td>\n",
       "      <td>4</td>\n",
       "      <td>1</td>\n",
       "      <td>2</td>\n",
       "      <td>3</td>\n",
       "      <td>5</td>\n",
       "      <td>...</td>\n",
       "      <td>3.0</td>\n",
       "      <td>3.0</td>\n",
       "      <td>1.0</td>\n",
       "      <td>0.0</td>\n",
       "      <td>1.0</td>\n",
       "      <td>4.0</td>\n",
       "      <td>4.0</td>\n",
       "      <td>3.0</td>\n",
       "      <td>5.0</td>\n",
       "      <td>2.0</td>\n",
       "    </tr>\n",
       "    <tr>\n",
       "      <th>3</th>\n",
       "      <td>2</td>\n",
       "      <td>4</td>\n",
       "      <td>2</td>\n",
       "      <td>2.0</td>\n",
       "      <td>4</td>\n",
       "      <td>2</td>\n",
       "      <td>5</td>\n",
       "      <td>2</td>\n",
       "      <td>1</td>\n",
       "      <td>2</td>\n",
       "      <td>...</td>\n",
       "      <td>2.0</td>\n",
       "      <td>2.0</td>\n",
       "      <td>2.0</td>\n",
       "      <td>0.0</td>\n",
       "      <td>1.0</td>\n",
       "      <td>3.0</td>\n",
       "      <td>4.0</td>\n",
       "      <td>2.0</td>\n",
       "      <td>3.0</td>\n",
       "      <td>3.0</td>\n",
       "    </tr>\n",
       "    <tr>\n",
       "      <th>4</th>\n",
       "      <td>-1</td>\n",
       "      <td>3</td>\n",
       "      <td>1</td>\n",
       "      <td>5.0</td>\n",
       "      <td>4</td>\n",
       "      <td>3</td>\n",
       "      <td>4</td>\n",
       "      <td>1</td>\n",
       "      <td>3</td>\n",
       "      <td>2</td>\n",
       "      <td>...</td>\n",
       "      <td>2.0</td>\n",
       "      <td>4.0</td>\n",
       "      <td>2.0</td>\n",
       "      <td>1.0</td>\n",
       "      <td>2.0</td>\n",
       "      <td>3.0</td>\n",
       "      <td>3.0</td>\n",
       "      <td>4.0</td>\n",
       "      <td>6.0</td>\n",
       "      <td>5.0</td>\n",
       "    </tr>\n",
       "  </tbody>\n",
       "</table>\n",
       "<p>5 rows × 85 columns</p>\n",
       "</div>"
      ],
      "text/plain": [
       "   AGER_TYP  ALTERSKATEGORIE_GROB  ANREDE_KZ  CJT_GESAMTTYP  \\\n",
       "0        -1                     2          1            2.0   \n",
       "1        -1                     1          2            5.0   \n",
       "2        -1                     3          2            3.0   \n",
       "3         2                     4          2            2.0   \n",
       "4        -1                     3          1            5.0   \n",
       "\n",
       "   FINANZ_MINIMALIST  FINANZ_SPARER  FINANZ_VORSORGER  FINANZ_ANLEGER  \\\n",
       "0                  3              4                 3               5   \n",
       "1                  1              5                 2               5   \n",
       "2                  1              4                 1               2   \n",
       "3                  4              2                 5               2   \n",
       "4                  4              3                 4               1   \n",
       "\n",
       "   FINANZ_UNAUFFAELLIGER  FINANZ_HAUSBAUER    ...     PLZ8_ANTG1  PLZ8_ANTG2  \\\n",
       "0                      5                 3    ...            NaN         NaN   \n",
       "1                      4                 5    ...            2.0         3.0   \n",
       "2                      3                 5    ...            3.0         3.0   \n",
       "3                      1                 2    ...            2.0         2.0   \n",
       "4                      3                 2    ...            2.0         4.0   \n",
       "\n",
       "   PLZ8_ANTG3  PLZ8_ANTG4  PLZ8_BAUMAX  PLZ8_HHZ  PLZ8_GBZ  ARBEIT  \\\n",
       "0         NaN         NaN          NaN       NaN       NaN     NaN   \n",
       "1         2.0         1.0          1.0       5.0       4.0     3.0   \n",
       "2         1.0         0.0          1.0       4.0       4.0     3.0   \n",
       "3         2.0         0.0          1.0       3.0       4.0     2.0   \n",
       "4         2.0         1.0          2.0       3.0       3.0     4.0   \n",
       "\n",
       "   ORTSGR_KLS9  RELAT_AB  \n",
       "0          NaN       NaN  \n",
       "1          5.0       4.0  \n",
       "2          5.0       2.0  \n",
       "3          3.0       3.0  \n",
       "4          6.0       5.0  \n",
       "\n",
       "[5 rows x 85 columns]"
      ]
     },
     "execution_count": 4,
     "metadata": {},
     "output_type": "execute_result"
    }
   ],
   "source": [
    "# Head of azdias\n",
    "azdias.head()"
   ]
  },
  {
   "cell_type": "markdown",
   "metadata": {},
   "source": [
    "#### The feature dataset (feat_info)\n",
    "Contains 4 characteristics of the respective features of `azdias`."
   ]
  },
  {
   "cell_type": "code",
   "execution_count": 5,
   "metadata": {},
   "outputs": [
    {
     "data": {
      "text/html": [
       "<div>\n",
       "<style scoped>\n",
       "    .dataframe tbody tr th:only-of-type {\n",
       "        vertical-align: middle;\n",
       "    }\n",
       "\n",
       "    .dataframe tbody tr th {\n",
       "        vertical-align: top;\n",
       "    }\n",
       "\n",
       "    .dataframe thead th {\n",
       "        text-align: right;\n",
       "    }\n",
       "</style>\n",
       "<table border=\"1\" class=\"dataframe\">\n",
       "  <thead>\n",
       "    <tr style=\"text-align: right;\">\n",
       "      <th></th>\n",
       "      <th>attribute</th>\n",
       "      <th>information_level</th>\n",
       "      <th>type</th>\n",
       "      <th>missing_or_unknown</th>\n",
       "    </tr>\n",
       "  </thead>\n",
       "  <tbody>\n",
       "    <tr>\n",
       "      <th>0</th>\n",
       "      <td>AGER_TYP</td>\n",
       "      <td>person</td>\n",
       "      <td>categorical</td>\n",
       "      <td>[-1,0]</td>\n",
       "    </tr>\n",
       "    <tr>\n",
       "      <th>1</th>\n",
       "      <td>ALTERSKATEGORIE_GROB</td>\n",
       "      <td>person</td>\n",
       "      <td>ordinal</td>\n",
       "      <td>[-1,0,9]</td>\n",
       "    </tr>\n",
       "    <tr>\n",
       "      <th>2</th>\n",
       "      <td>ANREDE_KZ</td>\n",
       "      <td>person</td>\n",
       "      <td>categorical</td>\n",
       "      <td>[-1,0]</td>\n",
       "    </tr>\n",
       "    <tr>\n",
       "      <th>3</th>\n",
       "      <td>CJT_GESAMTTYP</td>\n",
       "      <td>person</td>\n",
       "      <td>categorical</td>\n",
       "      <td>[0]</td>\n",
       "    </tr>\n",
       "    <tr>\n",
       "      <th>4</th>\n",
       "      <td>FINANZ_MINIMALIST</td>\n",
       "      <td>person</td>\n",
       "      <td>ordinal</td>\n",
       "      <td>[-1]</td>\n",
       "    </tr>\n",
       "  </tbody>\n",
       "</table>\n",
       "</div>"
      ],
      "text/plain": [
       "              attribute information_level         type missing_or_unknown\n",
       "0              AGER_TYP            person  categorical             [-1,0]\n",
       "1  ALTERSKATEGORIE_GROB            person      ordinal           [-1,0,9]\n",
       "2             ANREDE_KZ            person  categorical             [-1,0]\n",
       "3         CJT_GESAMTTYP            person  categorical                [0]\n",
       "4     FINANZ_MINIMALIST            person      ordinal               [-1]"
      ]
     },
     "execution_count": 5,
     "metadata": {},
     "output_type": "execute_result"
    }
   ],
   "source": [
    "# Head of feat_info\n",
    "feat_info.head()"
   ]
  },
  {
   "cell_type": "markdown",
   "metadata": {},
   "source": [
    "Note in particular how the **type** is structured and how **missingness** is encoded here."
   ]
  },
  {
   "cell_type": "code",
   "execution_count": 6,
   "metadata": {},
   "outputs": [
    {
     "name": "stdout",
     "output_type": "stream",
     "text": [
      "\n",
      "Shape:  (85, 4)\n",
      "\n",
      "Information level:  ['person' 'household' 'building' 'microcell_rr4' 'microcell_rr3'\n",
      " 'postcode' 'region_rr1' 'macrocell_plz8' 'community']\n",
      "\n",
      "Data type:  ['categorical' 'ordinal' 'numeric' 'mixed' 'interval']\n"
     ]
    }
   ],
   "source": [
    "# Shape of feat_info:\n",
    "print(\"\\nShape: \", feat_info.shape)\n",
    "\n",
    "# Unique information level of feat_info\n",
    "print(\"\\nInformation level: \",feat_info[\"information_level\"].unique())\n",
    "\n",
    "# Unique data type categories\n",
    "print(\"\\nData type: \", feat_info[\"type\"].unique())"
   ]
  },
  {
   "cell_type": "code",
   "execution_count": 7,
   "metadata": {},
   "outputs": [
    {
     "name": "stdout",
     "output_type": "stream",
     "text": [
      "information_level\n",
      "building           7\n",
      "community          3\n",
      "household          7\n",
      "macrocell_plz8     8\n",
      "microcell_rr3      6\n",
      "microcell_rr4      3\n",
      "person            43\n",
      "postcode           3\n",
      "region_rr1         5\n",
      "dtype: int64\n",
      "\n",
      " type\n",
      "categorical    21\n",
      "interval        1\n",
      "mixed           7\n",
      "numeric         7\n",
      "ordinal        49\n",
      "dtype: int64\n"
     ]
    }
   ],
   "source": [
    "# Show feature info by information level\n",
    "print(feat_info.groupby(by=\"information_level\").size())\n",
    "\n",
    "# ...and by type\n",
    "print(\"\\n\",feat_info.groupby(by=\"type\").size())"
   ]
  },
  {
   "cell_type": "markdown",
   "metadata": {},
   "source": [
    "**Notes**  \n",
    "There are 43 features directly related to the person, whereas other features are on the household (7) or community (3) level. \n",
    "\n",
    "Moreover, the data features have different measurement scales. Of the 85 features, 49 are ordinally scaled, 21 categorically and the rest of the features are either interval, mixed or numerically scaled. It seems reasonable to have a look at the individually measurement scales later on and process them further."
   ]
  },
  {
   "cell_type": "markdown",
   "metadata": {},
   "source": [
    "## Preprocessing\n",
    "We'll have a detailed look at how to preprocess this data. Later on I'll bring all these steps together in a compact function... \n",
    "\n",
    "### Missing data\n",
    "Different value codes indicate missing or unknown data. We will convert them consistently to NaN. Value from the data dictionary that indicate missing or unknown data can be found in `feat_info` (see fourth col above)."
   ]
  },
  {
   "cell_type": "code",
   "execution_count": 8,
   "metadata": {},
   "outputs": [],
   "source": [
    "# Identify missing or unknown data values and convert them to NaNs.\n",
    "for index in feat_info.index:\n",
    "    feat_info.loc[index,'missing_or_unknown'] = feat_info.loc[index,'missing_or_unknown'].strip('[]').split(',')\n",
    "    \n",
    "    for item in range(len(feat_info.loc[index,'missing_or_unknown'])):\n",
    "        try:\n",
    "            feat_info.loc[index,'missing_or_unknown'][item] = int(feat_info.loc[index,'missing_or_unknown'][item])\n",
    "        except:\n",
    "            continue\n",
    "            \n",
    "    azdias.loc[:,(feat_info.loc[index, 'attribute'])].replace(feat_info.loc[index,'missing_or_unknown'], np.nan, inplace=True)"
   ]
  },
  {
   "cell_type": "markdown",
   "metadata": {},
   "source": [
    "**Notes**  \n",
    "This complicated looking animal compared the values to how missing or unknown data are indicated in `feat_info` by the col. `missing_or_unknown`. Then, it replaces these value codes to NaN. There may be a more intuitive or straight-forward way of doing this and I happily accept suggestions to simplify this part. "
   ]
  },
  {
   "cell_type": "code",
   "execution_count": 9,
   "metadata": {},
   "outputs": [
    {
     "data": {
      "text/html": [
       "<div>\n",
       "<style scoped>\n",
       "    .dataframe tbody tr th:only-of-type {\n",
       "        vertical-align: middle;\n",
       "    }\n",
       "\n",
       "    .dataframe tbody tr th {\n",
       "        vertical-align: top;\n",
       "    }\n",
       "\n",
       "    .dataframe thead th {\n",
       "        text-align: right;\n",
       "    }\n",
       "</style>\n",
       "<table border=\"1\" class=\"dataframe\">\n",
       "  <thead>\n",
       "    <tr style=\"text-align: right;\">\n",
       "      <th></th>\n",
       "      <th>AGER_TYP</th>\n",
       "      <th>ALTERSKATEGORIE_GROB</th>\n",
       "      <th>ANREDE_KZ</th>\n",
       "      <th>CJT_GESAMTTYP</th>\n",
       "      <th>FINANZ_MINIMALIST</th>\n",
       "      <th>FINANZ_SPARER</th>\n",
       "      <th>FINANZ_VORSORGER</th>\n",
       "      <th>FINANZ_ANLEGER</th>\n",
       "      <th>FINANZ_UNAUFFAELLIGER</th>\n",
       "      <th>FINANZ_HAUSBAUER</th>\n",
       "      <th>...</th>\n",
       "      <th>PLZ8_ANTG1</th>\n",
       "      <th>PLZ8_ANTG2</th>\n",
       "      <th>PLZ8_ANTG3</th>\n",
       "      <th>PLZ8_ANTG4</th>\n",
       "      <th>PLZ8_BAUMAX</th>\n",
       "      <th>PLZ8_HHZ</th>\n",
       "      <th>PLZ8_GBZ</th>\n",
       "      <th>ARBEIT</th>\n",
       "      <th>ORTSGR_KLS9</th>\n",
       "      <th>RELAT_AB</th>\n",
       "    </tr>\n",
       "  </thead>\n",
       "  <tbody>\n",
       "    <tr>\n",
       "      <th>1</th>\n",
       "      <td>NaN</td>\n",
       "      <td>1.0</td>\n",
       "      <td>2</td>\n",
       "      <td>5.0</td>\n",
       "      <td>1</td>\n",
       "      <td>5</td>\n",
       "      <td>2</td>\n",
       "      <td>5</td>\n",
       "      <td>4</td>\n",
       "      <td>5</td>\n",
       "      <td>...</td>\n",
       "      <td>2.0</td>\n",
       "      <td>3.0</td>\n",
       "      <td>2.0</td>\n",
       "      <td>1.0</td>\n",
       "      <td>1.0</td>\n",
       "      <td>5.0</td>\n",
       "      <td>4.0</td>\n",
       "      <td>3.0</td>\n",
       "      <td>5.0</td>\n",
       "      <td>4.0</td>\n",
       "    </tr>\n",
       "    <tr>\n",
       "      <th>2</th>\n",
       "      <td>NaN</td>\n",
       "      <td>3.0</td>\n",
       "      <td>2</td>\n",
       "      <td>3.0</td>\n",
       "      <td>1</td>\n",
       "      <td>4</td>\n",
       "      <td>1</td>\n",
       "      <td>2</td>\n",
       "      <td>3</td>\n",
       "      <td>5</td>\n",
       "      <td>...</td>\n",
       "      <td>3.0</td>\n",
       "      <td>3.0</td>\n",
       "      <td>1.0</td>\n",
       "      <td>0.0</td>\n",
       "      <td>1.0</td>\n",
       "      <td>4.0</td>\n",
       "      <td>4.0</td>\n",
       "      <td>3.0</td>\n",
       "      <td>5.0</td>\n",
       "      <td>2.0</td>\n",
       "    </tr>\n",
       "    <tr>\n",
       "      <th>3</th>\n",
       "      <td>2.0</td>\n",
       "      <td>4.0</td>\n",
       "      <td>2</td>\n",
       "      <td>2.0</td>\n",
       "      <td>4</td>\n",
       "      <td>2</td>\n",
       "      <td>5</td>\n",
       "      <td>2</td>\n",
       "      <td>1</td>\n",
       "      <td>2</td>\n",
       "      <td>...</td>\n",
       "      <td>2.0</td>\n",
       "      <td>2.0</td>\n",
       "      <td>2.0</td>\n",
       "      <td>0.0</td>\n",
       "      <td>1.0</td>\n",
       "      <td>3.0</td>\n",
       "      <td>4.0</td>\n",
       "      <td>2.0</td>\n",
       "      <td>3.0</td>\n",
       "      <td>3.0</td>\n",
       "    </tr>\n",
       "    <tr>\n",
       "      <th>4</th>\n",
       "      <td>NaN</td>\n",
       "      <td>3.0</td>\n",
       "      <td>1</td>\n",
       "      <td>5.0</td>\n",
       "      <td>4</td>\n",
       "      <td>3</td>\n",
       "      <td>4</td>\n",
       "      <td>1</td>\n",
       "      <td>3</td>\n",
       "      <td>2</td>\n",
       "      <td>...</td>\n",
       "      <td>2.0</td>\n",
       "      <td>4.0</td>\n",
       "      <td>2.0</td>\n",
       "      <td>1.0</td>\n",
       "      <td>2.0</td>\n",
       "      <td>3.0</td>\n",
       "      <td>3.0</td>\n",
       "      <td>4.0</td>\n",
       "      <td>6.0</td>\n",
       "      <td>5.0</td>\n",
       "    </tr>\n",
       "    <tr>\n",
       "      <th>5</th>\n",
       "      <td>3.0</td>\n",
       "      <td>1.0</td>\n",
       "      <td>2</td>\n",
       "      <td>2.0</td>\n",
       "      <td>3</td>\n",
       "      <td>1</td>\n",
       "      <td>5</td>\n",
       "      <td>2</td>\n",
       "      <td>2</td>\n",
       "      <td>5</td>\n",
       "      <td>...</td>\n",
       "      <td>2.0</td>\n",
       "      <td>3.0</td>\n",
       "      <td>1.0</td>\n",
       "      <td>1.0</td>\n",
       "      <td>1.0</td>\n",
       "      <td>5.0</td>\n",
       "      <td>5.0</td>\n",
       "      <td>2.0</td>\n",
       "      <td>3.0</td>\n",
       "      <td>3.0</td>\n",
       "    </tr>\n",
       "    <tr>\n",
       "      <th>6</th>\n",
       "      <td>NaN</td>\n",
       "      <td>2.0</td>\n",
       "      <td>2</td>\n",
       "      <td>5.0</td>\n",
       "      <td>1</td>\n",
       "      <td>5</td>\n",
       "      <td>1</td>\n",
       "      <td>5</td>\n",
       "      <td>4</td>\n",
       "      <td>3</td>\n",
       "      <td>...</td>\n",
       "      <td>3.0</td>\n",
       "      <td>3.0</td>\n",
       "      <td>1.0</td>\n",
       "      <td>0.0</td>\n",
       "      <td>1.0</td>\n",
       "      <td>5.0</td>\n",
       "      <td>5.0</td>\n",
       "      <td>4.0</td>\n",
       "      <td>6.0</td>\n",
       "      <td>3.0</td>\n",
       "    </tr>\n",
       "    <tr>\n",
       "      <th>7</th>\n",
       "      <td>NaN</td>\n",
       "      <td>1.0</td>\n",
       "      <td>1</td>\n",
       "      <td>3.0</td>\n",
       "      <td>3</td>\n",
       "      <td>3</td>\n",
       "      <td>4</td>\n",
       "      <td>1</td>\n",
       "      <td>3</td>\n",
       "      <td>2</td>\n",
       "      <td>...</td>\n",
       "      <td>3.0</td>\n",
       "      <td>3.0</td>\n",
       "      <td>1.0</td>\n",
       "      <td>0.0</td>\n",
       "      <td>1.0</td>\n",
       "      <td>4.0</td>\n",
       "      <td>4.0</td>\n",
       "      <td>2.0</td>\n",
       "      <td>5.0</td>\n",
       "      <td>2.0</td>\n",
       "    </tr>\n",
       "    <tr>\n",
       "      <th>8</th>\n",
       "      <td>NaN</td>\n",
       "      <td>3.0</td>\n",
       "      <td>1</td>\n",
       "      <td>3.0</td>\n",
       "      <td>4</td>\n",
       "      <td>4</td>\n",
       "      <td>2</td>\n",
       "      <td>4</td>\n",
       "      <td>2</td>\n",
       "      <td>2</td>\n",
       "      <td>...</td>\n",
       "      <td>2.0</td>\n",
       "      <td>3.0</td>\n",
       "      <td>2.0</td>\n",
       "      <td>1.0</td>\n",
       "      <td>1.0</td>\n",
       "      <td>3.0</td>\n",
       "      <td>3.0</td>\n",
       "      <td>2.0</td>\n",
       "      <td>4.0</td>\n",
       "      <td>3.0</td>\n",
       "    </tr>\n",
       "    <tr>\n",
       "      <th>9</th>\n",
       "      <td>NaN</td>\n",
       "      <td>3.0</td>\n",
       "      <td>2</td>\n",
       "      <td>4.0</td>\n",
       "      <td>2</td>\n",
       "      <td>4</td>\n",
       "      <td>2</td>\n",
       "      <td>3</td>\n",
       "      <td>5</td>\n",
       "      <td>4</td>\n",
       "      <td>...</td>\n",
       "      <td>2.0</td>\n",
       "      <td>3.0</td>\n",
       "      <td>2.0</td>\n",
       "      <td>1.0</td>\n",
       "      <td>1.0</td>\n",
       "      <td>3.0</td>\n",
       "      <td>3.0</td>\n",
       "      <td>2.0</td>\n",
       "      <td>3.0</td>\n",
       "      <td>1.0</td>\n",
       "    </tr>\n",
       "    <tr>\n",
       "      <th>10</th>\n",
       "      <td>NaN</td>\n",
       "      <td>3.0</td>\n",
       "      <td>2</td>\n",
       "      <td>1.0</td>\n",
       "      <td>2</td>\n",
       "      <td>2</td>\n",
       "      <td>5</td>\n",
       "      <td>3</td>\n",
       "      <td>1</td>\n",
       "      <td>5</td>\n",
       "      <td>...</td>\n",
       "      <td>2.0</td>\n",
       "      <td>4.0</td>\n",
       "      <td>2.0</td>\n",
       "      <td>0.0</td>\n",
       "      <td>2.0</td>\n",
       "      <td>3.0</td>\n",
       "      <td>3.0</td>\n",
       "      <td>4.0</td>\n",
       "      <td>6.0</td>\n",
       "      <td>5.0</td>\n",
       "    </tr>\n",
       "  </tbody>\n",
       "</table>\n",
       "<p>10 rows × 85 columns</p>\n",
       "</div>"
      ],
      "text/plain": [
       "    AGER_TYP  ALTERSKATEGORIE_GROB  ANREDE_KZ  CJT_GESAMTTYP  \\\n",
       "1        NaN                   1.0          2            5.0   \n",
       "2        NaN                   3.0          2            3.0   \n",
       "3        2.0                   4.0          2            2.0   \n",
       "4        NaN                   3.0          1            5.0   \n",
       "5        3.0                   1.0          2            2.0   \n",
       "6        NaN                   2.0          2            5.0   \n",
       "7        NaN                   1.0          1            3.0   \n",
       "8        NaN                   3.0          1            3.0   \n",
       "9        NaN                   3.0          2            4.0   \n",
       "10       NaN                   3.0          2            1.0   \n",
       "\n",
       "    FINANZ_MINIMALIST  FINANZ_SPARER  FINANZ_VORSORGER  FINANZ_ANLEGER  \\\n",
       "1                   1              5                 2               5   \n",
       "2                   1              4                 1               2   \n",
       "3                   4              2                 5               2   \n",
       "4                   4              3                 4               1   \n",
       "5                   3              1                 5               2   \n",
       "6                   1              5                 1               5   \n",
       "7                   3              3                 4               1   \n",
       "8                   4              4                 2               4   \n",
       "9                   2              4                 2               3   \n",
       "10                  2              2                 5               3   \n",
       "\n",
       "    FINANZ_UNAUFFAELLIGER  FINANZ_HAUSBAUER    ...     PLZ8_ANTG1  PLZ8_ANTG2  \\\n",
       "1                       4                 5    ...            2.0         3.0   \n",
       "2                       3                 5    ...            3.0         3.0   \n",
       "3                       1                 2    ...            2.0         2.0   \n",
       "4                       3                 2    ...            2.0         4.0   \n",
       "5                       2                 5    ...            2.0         3.0   \n",
       "6                       4                 3    ...            3.0         3.0   \n",
       "7                       3                 2    ...            3.0         3.0   \n",
       "8                       2                 2    ...            2.0         3.0   \n",
       "9                       5                 4    ...            2.0         3.0   \n",
       "10                      1                 5    ...            2.0         4.0   \n",
       "\n",
       "    PLZ8_ANTG3  PLZ8_ANTG4  PLZ8_BAUMAX  PLZ8_HHZ  PLZ8_GBZ  ARBEIT  \\\n",
       "1          2.0         1.0          1.0       5.0       4.0     3.0   \n",
       "2          1.0         0.0          1.0       4.0       4.0     3.0   \n",
       "3          2.0         0.0          1.0       3.0       4.0     2.0   \n",
       "4          2.0         1.0          2.0       3.0       3.0     4.0   \n",
       "5          1.0         1.0          1.0       5.0       5.0     2.0   \n",
       "6          1.0         0.0          1.0       5.0       5.0     4.0   \n",
       "7          1.0         0.0          1.0       4.0       4.0     2.0   \n",
       "8          2.0         1.0          1.0       3.0       3.0     2.0   \n",
       "9          2.0         1.0          1.0       3.0       3.0     2.0   \n",
       "10         2.0         0.0          2.0       3.0       3.0     4.0   \n",
       "\n",
       "    ORTSGR_KLS9  RELAT_AB  \n",
       "1           5.0       4.0  \n",
       "2           5.0       2.0  \n",
       "3           3.0       3.0  \n",
       "4           6.0       5.0  \n",
       "5           3.0       3.0  \n",
       "6           6.0       3.0  \n",
       "7           5.0       2.0  \n",
       "8           4.0       3.0  \n",
       "9           3.0       1.0  \n",
       "10          6.0       5.0  \n",
       "\n",
       "[10 rows x 85 columns]"
      ]
     },
     "execution_count": 9,
     "metadata": {},
     "output_type": "execute_result"
    }
   ],
   "source": [
    "# Just checking in ...\n",
    "azdias.loc[1:10]"
   ]
  },
  {
   "cell_type": "markdown",
   "metadata": {},
   "source": [
    "---\n",
    "#### Assess Missing Data in Each Column\n",
    "Questions to answer:\n",
    "- How much missing data is present in each column?\n",
    "- Outliers in terms of the proportion of values that are missing?\n",
    "- Are there any patterns in which columns have, or share, missing data?"
   ]
  },
  {
   "cell_type": "code",
   "execution_count": 10,
   "metadata": {},
   "outputs": [
    {
     "name": "stdout",
     "output_type": "stream",
     "text": [
      "Missings per column: (many to none)\n",
      "\n",
      "TITEL_KZ                 889061\n",
      "AGER_TYP                 685843\n",
      "KK_KUNDENTYP             584612\n",
      "KBA05_BAUMAX             476524\n",
      "GEBURTSJAHR              392318\n",
      "ALTER_HH                 310267\n",
      "REGIOTYP                 158064\n",
      "KKK                      158064\n",
      "W_KEIT_KIND_HH           147988\n",
      "KBA05_ANTG1              133324\n",
      "KBA05_ANTG2              133324\n",
      "KBA05_ANTG3              133324\n",
      "KBA05_ANTG4              133324\n",
      "KBA05_GBZ                133324\n",
      "MOBI_REGIO               133324\n",
      "PLZ8_BAUMAX              116515\n",
      "PLZ8_GBZ                 116515\n",
      "PLZ8_ANTG1               116515\n",
      "PLZ8_ANTG2               116515\n",
      "PLZ8_ANTG3               116515\n",
      "PLZ8_ANTG4               116515\n",
      "PLZ8_HHZ                 116515\n",
      "VERS_TYP                 111196\n",
      "HEALTH_TYP               111196\n",
      "SHOPPER_TYP              111196\n",
      "NATIONALITAET_KZ         108315\n",
      "PRAEGENDE_JUGENDJAHRE    108164\n",
      "KBA13_ANZAHL_PKW         105800\n",
      "ANZ_HAUSHALTE_AKTIV       99611\n",
      "CAMEO_INTL_2015           99352\n",
      "                          ...  \n",
      "LP_STATUS_FEIN             4854\n",
      "ONLINE_AFFINITAET          4854\n",
      "GFK_URLAUBERTYP            4854\n",
      "RETOURTYP_BK_S             4854\n",
      "LP_STATUS_GROB             4854\n",
      "ALTERSKATEGORIE_GROB       2881\n",
      "ANREDE_KZ                     0\n",
      "FINANZTYP                     0\n",
      "FINANZ_SPARER                 0\n",
      "FINANZ_VORSORGER              0\n",
      "FINANZ_HAUSBAUER              0\n",
      "FINANZ_UNAUFFAELLIGER         0\n",
      "FINANZ_ANLEGER                0\n",
      "FINANZ_MINIMALIST             0\n",
      "SEMIO_KAEM                    0\n",
      "SEMIO_SOZ                     0\n",
      "SEMIO_DOM                     0\n",
      "SEMIO_FAM                     0\n",
      "SEMIO_REL                     0\n",
      "SEMIO_MAT                     0\n",
      "SEMIO_VERT                    0\n",
      "SEMIO_LUST                    0\n",
      "SEMIO_ERL                     0\n",
      "SEMIO_KULT                    0\n",
      "SEMIO_RAT                     0\n",
      "SEMIO_KRIT                    0\n",
      "SEMIO_TRADV                   0\n",
      "SEMIO_PFLICHT                 0\n",
      "GREEN_AVANTGARDE              0\n",
      "ZABEOTYP                      0\n",
      "Length: 85, dtype: int64\n",
      "\n",
      "Total NaN:  8373929\n"
     ]
    }
   ],
   "source": [
    "# Aggregate NaNs\n",
    "col_missings = azdias.isnull().sum()\n",
    "\n",
    "# Create sorting index many to none\n",
    "sort_index = np.argsort(-col_missings)\n",
    "\n",
    "# Show NaNs per col by sort_index\n",
    "col_missings_sort = col_missings.iloc[sort_index]\n",
    "print(\"Missings per column: (many to none)\\n\")\n",
    "print(col_missings_sort)\n",
    "\n",
    "# Total number of NaNs\n",
    "print(\"\\nTotal NaN: \", azdias.isnull().sum().sum())"
   ]
  },
  {
   "cell_type": "code",
   "execution_count": 11,
   "metadata": {},
   "outputs": [
    {
     "name": "stdout",
     "output_type": "stream",
     "text": [
      "Entries missing: 11.05%\n"
     ]
    }
   ],
   "source": [
    "# Calculate percentage of NaN wrt total entries\n",
    "total_missings = azdias.isnull().sum().sum()\n",
    "total_entries = azdias.shape[0]*azdias.shape[1]\n",
    "print(\"Entries missing: {:.2f}%\".format( (total_missings / total_entries) * 100) )"
   ]
  },
  {
   "cell_type": "code",
   "execution_count": 12,
   "metadata": {},
   "outputs": [
    {
     "data": {
      "image/png": "[encoded data removed]",
      "text/plain": [
       "<matplotlib.figure.Figure at 0x1758c0cb438>"
      ]
     },
     "metadata": {
      "needs_background": "light"
     },
     "output_type": "display_data"
    }
   ],
   "source": [
    "# Investigate patterns in the amount of missing data in each column.\n",
    "#Use hist to identify columns with higher proportion of missings\n",
    "plt.hist(col_missings, bins = 30)\n",
    "plt.xlabel(\"# of missing values\")\n",
    "plt.ylabel(\"# of columns\")\n",
    "\n",
    "plt.show()"
   ]
  },
  {
   "cell_type": "markdown",
   "metadata": {},
   "source": [
    "**Notes**\n",
    "Based on the histogram it seems as there is a gap between cols with more and fewer 159k NaNs."
   ]
  },
  {
   "cell_type": "code",
   "execution_count": 13,
   "metadata": {},
   "outputs": [
    {
     "name": "stdout",
     "output_type": "stream",
     "text": [
      "Cols given more than 159k missings:\n",
      " TITEL_KZ        889061\n",
      "AGER_TYP        685843\n",
      "KK_KUNDENTYP    584612\n",
      "KBA05_BAUMAX    476524\n",
      "GEBURTSJAHR     392318\n",
      "ALTER_HH        310267\n",
      "dtype: int64\n",
      "\n",
      "Cols given more than 159k missings (NaNs relative to toal entries):\n",
      " TITEL_KZ        99.757636\n",
      "AGER_TYP        76.955435\n",
      "KK_KUNDENTYP    65.596749\n",
      "KBA05_BAUMAX    53.468668\n",
      "GEBURTSJAHR     44.020282\n",
      "ALTER_HH        34.813699\n",
      "dtype: float64\n"
     ]
    }
   ],
   "source": [
    "# Show cols with more than 159 \n",
    "print(\"Cols given more than 159k missings:\\n\", col_missings_sort[col_missings_sort > 159000])\n",
    "\n",
    "# Show missing percentages of those columns with more than 159k NaNs. \n",
    "print(\"\\nCols given more than 159k missings (NaNs relative to toal entries):\\n\", (col_missings_sort[col_missings_sort > 159000] / azdias.shape[0])*100)"
   ]
  },
  {
   "cell_type": "markdown",
   "metadata": {},
   "source": [
    "**Notes**:  \n",
    "It seems as if there is a clear gap between columns with fewer than 159k missing values and the 6 columns with more than 310k missing values per column. There is not a single column where the number of NaNs is between 159k (~17%) and 310k (~35%).\n",
    "\n",
    "The first column with more than 159k missings (ascending order) is `ALTER_HH` with 310,267 missing values or roughly 35%. The column with the most missing values is `TITEL_KZ` and has 889061 missing values (Recall from the shape that we have 891221 data entries). Hence, almost all data for this category are missing, except 2160. In percentage this means that 99.7% of the data are missing or unknown!"
   ]
  },
  {
   "cell_type": "code",
   "execution_count": 14,
   "metadata": {},
   "outputs": [
    {
     "data": {
      "text/plain": [
       "count        85.000000\n",
       "mean      98516.811765\n",
       "std      146604.203317\n",
       "min           0.000000\n",
       "25%           0.000000\n",
       "50%       93148.000000\n",
       "75%      116515.000000\n",
       "max      889061.000000\n",
       "dtype: float64"
      ]
     },
     "execution_count": 14,
     "metadata": {},
     "output_type": "execute_result"
    }
   ],
   "source": [
    "# Overview of missings per col.\n",
    "col_missings.describe()"
   ]
  },
  {
   "cell_type": "code",
   "execution_count": 15,
   "metadata": {},
   "outputs": [
    {
     "name": "stdout",
     "output_type": "stream",
     "text": [
      "24 columns without missings!\n"
     ]
    }
   ],
   "source": [
    "# How many columns have no missings at all?\n",
    "no_missings = len(col_missings[col_missings == 0])\n",
    "print(\"{} columns without missings!\".format(no_missings))"
   ]
  },
  {
   "cell_type": "markdown",
   "metadata": {},
   "source": [
    "**Notes**  \n",
    "The 85 columns have on average ~98,5k missing values, whereas the median is a little bit lower at ~93,1k missing values indicating that the distribution is right-skewed. Next step:\n",
    "- Identify and delete outlier columns. \n",
    "\n",
    "This is slightly subjective but at least 35% of the data in the respective columns are missing and we want to simplify the Analysis for now."
   ]
  },
  {
   "cell_type": "code",
   "execution_count": 16,
   "metadata": {},
   "outputs": [
    {
     "name": "stdout",
     "output_type": "stream",
     "text": [
      "AGER_TYP        685843\n",
      "GEBURTSJAHR     392318\n",
      "TITEL_KZ        889061\n",
      "ALTER_HH        310267\n",
      "KK_KUNDENTYP    584612\n",
      "KBA05_BAUMAX    476524\n",
      "dtype: int64\n",
      "\n",
      "Outlier columns: \n",
      " Index(['AGER_TYP', 'GEBURTSJAHR', 'TITEL_KZ', 'ALTER_HH', 'KK_KUNDENTYP',\n",
      "       'KBA05_BAUMAX'],\n",
      "      dtype='object')\n"
     ]
    }
   ],
   "source": [
    "# Identifying \"outlier columns\"\n",
    "col_outlier = col_missings[col_missings > 159000]\n",
    "col_outlier_names = col_missings[col_missings > 159000].index\n",
    "print(col_outlier)\n",
    "print(\"\\nOutlier columns: \\n\", col_outlier_names)"
   ]
  },
  {
   "cell_type": "markdown",
   "metadata": {},
   "source": [
    "**Notes**  \n",
    "Delete the following columns, which have been identified as outliers:  \n",
    "- AGER_TYP\n",
    "- GEBURTSJAHR\n",
    "- TITEL_KZ\n",
    "- ALTER_HH\n",
    "- KK_KUNDENTYP\n",
    "- KBA05_BAUMAX"
   ]
  },
  {
   "cell_type": "code",
   "execution_count": 17,
   "metadata": {},
   "outputs": [
    {
     "name": "stdout",
     "output_type": "stream",
     "text": [
      "New shape:  (891221, 79)\n",
      "No. of total NaNs after deleting columns: 5035304\n",
      "Percent of NaNs:  7.15 %\n"
     ]
    },
    {
     "data": {
      "text/plain": [
       "count        79.000000\n",
       "mean      63738.025316\n",
       "std       54253.866391\n",
       "min           0.000000\n",
       "25%           0.000000\n",
       "50%       93148.000000\n",
       "75%      108239.500000\n",
       "max      158064.000000\n",
       "dtype: float64"
      ]
     },
     "execution_count": 17,
     "metadata": {},
     "output_type": "execute_result"
    }
   ],
   "source": [
    "# Remove the outlier columns from the dataset. \n",
    "azdias = azdias.drop(col_outlier_names, axis =1) # could also be done using inplace but I prefer it this way\n",
    "print(\"New shape: \",azdias.shape)\n",
    "\n",
    "# Calculate NaNs after deleting cols\n",
    "col_missings2 = azdias.isnull().sum()\n",
    "\n",
    "# Print Total NaNs after deleting the columns\n",
    "print(\"No. of total NaNs after deleting columns:\",col_missings2.sum())\n",
    "\n",
    "# Print percentage of NaNs to all remaining entries\n",
    "rel_NaN = (col_missings2.sum() / (azdias.shape[0] * azdias.shape[1]))*100\n",
    "print(\"Percent of NaNs: \", round(rel_NaN,2), \"%\")\n",
    "\n",
    "# Descriptive stats of NaNs after deleting columns\n",
    "col_missings2.describe()"
   ]
  },
  {
   "cell_type": "markdown",
   "metadata": {},
   "source": [
    "**Notes**  \n",
    "- Before deleting the 6 columns we had `8373929` missing values\n",
    "- After deleting we have `5035304` missing values left.\n",
    "- Mean of missing values decreased to ~63,7k missing values."
   ]
  },
  {
   "cell_type": "markdown",
   "metadata": {},
   "source": [
    "#### Notes on Assessing Missing Data in Each Column\n",
    "The raw dataset contains 891,221 rows and 85 columns indicating no. of individuals and features, respectively.\n",
    "\n",
    "Its features are categorized by level of collection and measurement scales (type). There are 43 features collected on the personal level, whereas other features are for example collected on the household (7) or community (3) level. \n",
    "\n",
    "Moreover, the data features have different measurement scales. Of the 85 features, 49 are ordinally scaled, 21 categorically and the rest of the features are either interval, mixed or numerically scaled. It seems reasonable to have a look at the individually measurement scales later on and process them further.\n",
    "\n",
    "After changing the code for missings to nan it becomes visible that the dataset contains 8,373,929 missing or unknown values (11.05%). In the following analysis missing and unknown values are treated equally and the terms `missing` and `unknown` are interchangeably. \n",
    "\n",
    "Additionally, it can be seen that there is a clear gap between columns with fewer than 159k missing values and 6 columns with more than 310k missing values per column. Again, there are no columns with  missing values between 159k (~17%) and 310k (~35%).\n",
    "\n",
    "The first column with more than 159k missings (ascending order) is `ALTER_HH` with 310,267 missing values or ~35%. The column with the most missing values is `TITEL_KZ` and has 889,061 missing values (Recall from the shape that we have 891,221 data entries). Hence, almost all data for this category are missing, except 2,160. More than 99.7% of the data are missing in this column!\n",
    "\n",
    "The 85 columns have on average ~98,5k missing values, whereas the median is a little bit lower at ~93,1k missing values indicating that the distribution is right-skewed. In total, 11.05% of the entries are missing or unknown. Based on the aforementioned huge gap I decided to delete all columns with more than 159,000 missing values. \n",
    "\n",
    "Hence, I deleted the following columns, which I have identified as outliers:  \n",
    "- AGER_TYP\n",
    "- GEBURTSJAHR\n",
    "- TITEL_KZ\n",
    "- ALTER_HH\n",
    "- KK_KUNDENTYP\n",
    "- KBA05_BAUMAX\n",
    "\n",
    "Before deleting the 6 columns we had 8,373,929 missing values, whereas after deleting them  5,035,304 missing values are left. This decreased the mean of missing values to ~63,7k. In total 7.15% (-3.9) of the data are now missing or unknown. "
   ]
  },
  {
   "cell_type": "markdown",
   "metadata": {},
   "source": [
    "--- \n",
    "####  Assess Missing Data in Each Row\n",
    "Next, we'll assess NaNs in each row. The questions are similar to the previous task but now we'll focus on the rows. Again, we'll have a look at basic statistics and, in particular, outliers. Are there outlier rows and are these outliers inherently different from the rest of the sample?"
   ]
  },
  {
   "cell_type": "code",
   "execution_count": 18,
   "metadata": {},
   "outputs": [
    {
     "data": {
      "text/plain": [
       "count    891221.000000\n",
       "mean          5.649894\n",
       "std          13.234687\n",
       "min           0.000000\n",
       "25%           0.000000\n",
       "50%           0.000000\n",
       "75%           3.000000\n",
       "max          49.000000\n",
       "dtype: float64"
      ]
     },
     "execution_count": 18,
     "metadata": {},
     "output_type": "execute_result"
    }
   ],
   "source": [
    "# How much data is missing in each row of the dataset?\n",
    "row_missings = azdias.isnull().sum(axis=1)\n",
    "row_missings.describe()"
   ]
  },
  {
   "cell_type": "code",
   "execution_count": 19,
   "metadata": {},
   "outputs": [
    {
     "name": "stdout",
     "output_type": "stream",
     "text": [
      "0.50 Quantile 0.0\n",
      "0.55 Quantile 0.0\n",
      "0.60 Quantile 0.0\n",
      "0.65 Quantile 0.0\n",
      "0.70 Quantile 1.0\n",
      "0.75 Quantile 3.0\n",
      "0.80 Quantile 5.0\n",
      "0.85 Quantile 8.0\n",
      "0.90 Quantile 34.0\n",
      "0.95 Quantile 47.0\n"
     ]
    }
   ],
   "source": [
    "# Missings per quantile\n",
    "for i in range(50,100,5):\n",
    "    print(\"0.\"+str(i), \"Quantile\", np.percentile(row_missings,i))"
   ]
  },
  {
   "cell_type": "markdown",
   "metadata": {},
   "source": [
    "**Notes**  \n",
    "After deleting the outlier columns we have on average 5.7 missing values per row. Moreover, the 0.5 quantile (median) as well as the 0.65 quantile is zero. Hence, for 65% of the rows we have the complete feature set. Additionally, even the 0.85 Quantile is only 8, indicating that 85% of the rows have only 8 or fewer missings. One observation is that few rows account for a lot of the NaNs in the data. We will investigate whether those individual observations with many missings are inherently different from the rest of the observations. For now we have a closer look at rows with fewer or equal 5 NaNs."
   ]
  },
  {
   "cell_type": "code",
   "execution_count": 20,
   "metadata": {},
   "outputs": [
    {
     "name": "stdout",
     "output_type": "stream",
     "text": [
      "Rows with fewer or equal 5 NaNs: 719624\n",
      "Rows with more than 5 NaNs: 171597\n",
      "19.25 % of the rows have more than 5 NaNs.\n"
     ]
    },
    {
     "data": {
      "image/png": "[encoded data removed]",
      "text/plain": [
       "<matplotlib.figure.Figure at 0x175b4603fd0>"
      ]
     },
     "metadata": {
      "needs_background": "light"
     },
     "output_type": "display_data"
    }
   ],
   "source": [
    "# How many rows have fewer or equal 5 NaNs vs more than 5 NaNs?\n",
    "print(\"Rows with fewer or equal 5 NaNs:\",len(row_missings[row_missings <= 5]))\n",
    "print(\"Rows with more than 5 NaNs:\", len(row_missings[row_missings > 5]))\n",
    "\n",
    "# Calculate how many rows have more than 5 NaNs (in percent)\n",
    "rows_NaNs_perc = 100 - ((len(row_missings[row_missings <= 5])/len(row_missings))*100)\n",
    "print(round(rows_NaNs_perc,2), \"% of the rows have more than 5 NaNs.\")\n",
    "\n",
    "# Histogram of NaNs per row\n",
    "plt.hist(row_missings, bins = 20)\n",
    "plt.xlabel(\"# of missing values\")\n",
    "plt.ylabel(\"# of rows\")\n",
    "plt.show()"
   ]
  },
  {
   "cell_type": "markdown",
   "metadata": {},
   "source": [
    "**Notes**  \n",
    "There are a lot of rows with (almost) no Nans. Moreover, nearly no row has between 20 - 30 NaN values. Then again, at the right side of the distribution we see that some rows have 30 and more unknown or missing values per rows."
   ]
  },
  {
   "cell_type": "code",
   "execution_count": 21,
   "metadata": {},
   "outputs": [
    {
     "name": "stdout",
     "output_type": "stream",
     "text": [
      "Row missings fewer or equal 20:\n",
      " 797426\n",
      "Row missings more than 20:\n",
      " 93795\n",
      "Twenty or fewer missings values per row: 89.48 %\n"
     ]
    }
   ],
   "source": [
    "# Rows missings with <= 20 vs. > 20 NaNs\n",
    "print(\"Row missings fewer or equal 20:\\n\",len(row_missings[row_missings <= 20]))\n",
    "print(\"Row missings more than 20:\\n\", len(row_missings[row_missings > 20]))\n",
    "\n",
    "# Calculate share\n",
    "few_NaNs = (len(row_missings[row_missings <= 20]) / len(row_missings))*100\n",
    "print(\"Twenty or fewer missings values per row:\",round(few_NaNs, 2),\"%\")"
   ]
  },
  {
   "cell_type": "markdown",
   "metadata": {},
   "source": [
    "**Notes**  \n",
    "In addition it seems as there is a gap betwen 20 and 30 missing values per row as almost 90% of rows have fewer than 20 missing values. "
   ]
  },
  {
   "cell_type": "code",
   "execution_count": 22,
   "metadata": {},
   "outputs": [],
   "source": [
    "# Function to split the data according to indicated missings per row\n",
    "def subset_row_missings(missings_per_row=20):\n",
    "    \"\"\"\n",
    "    Input: int >= 0 as value to split the data in two subsets\n",
    "    Results in two subsets of azdias, where sub1 has <= missings_per_row\n",
    "        and sub2 consists of rows > missings_per_row\"\"\"\n",
    "    \n",
    "    idx_be = row_missings.index[row_missings <= missings_per_row]\n",
    "    idx_ab = row_missings.index[row_missings > missings_per_row] \n",
    "    sub1 = azdias.loc[idx_be]\n",
    "    sub2 = azdias.loc[idx_ab]\n",
    "    return sub1, sub2\n",
    "\n",
    "sub1, sub2 = subset_row_missings(20)"
   ]
  },
  {
   "cell_type": "code",
   "execution_count": 23,
   "metadata": {},
   "outputs": [
    {
     "name": "stdout",
     "output_type": "stream",
     "text": [
      "Shape of complete dataset :  (891221, 79)\n",
      "Rows with fewer or equal 20 missings:  797426\n",
      "Rows with more than 20 missings:  93795\n"
     ]
    }
   ],
   "source": [
    "# Check shape and size of subsets\n",
    "print(\"Shape of complete dataset : \", azdias.shape)\n",
    "print(\"Rows with fewer or equal 20 missings: \", sub1.shape[0])\n",
    "print(\"Rows with more than 20 missings: \", sub2.shape[0])"
   ]
  },
  {
   "cell_type": "markdown",
   "metadata": {},
   "source": [
    "#### Compare subsets\n",
    "Next step is to compare the two subsets and if they indicate inherent differences. First, visually inspect differences with 5 randomly chosen features"
   ]
  },
  {
   "cell_type": "code",
   "execution_count": 24,
   "metadata": {},
   "outputs": [],
   "source": [
    "# Choose (random) cols\n",
    "import random\n",
    "\n",
    "# Uncomment if you want 5 random cols\n",
    "# five_cols = azdias.columns[np.random.randint(0, 79,5)]\n",
    "\n",
    "five_cols = ([\"GREEN_AVANTGARDE\", \n",
    "              \"FINANZTYP\", \n",
    "              \"FINANZ_ANLEGER\", \n",
    "              \"SEMIO_PFLICHT\", \n",
    "              \"ZABEOTYP\", \n",
    "              ])"
   ]
  },
  {
   "cell_type": "code",
   "execution_count": 25,
   "metadata": {},
   "outputs": [
    {
     "name": "stderr",
     "output_type": "stream",
     "text": [
      "C:\\Users\\TM\\Anaconda3\\lib\\site-packages\\seaborn\\categorical.py:1460: FutureWarning: remove_na is deprecated and is a private function. Do not use.\n",
      "  stat_data = remove_na(group_data)\n"
     ]
    },
    {
     "data": {
      "image/png": "[encoded data removed]",
      "text/plain": [
       "<matplotlib.figure.Figure at 0x1758c8e0438>"
      ]
     },
     "metadata": {
      "needs_background": "light"
     },
     "output_type": "display_data"
    }
   ],
   "source": [
    "# Plot both subsets for five features side by side\n",
    "# differences in distribution?\n",
    "fig, axes = plt.subplots(nrows= 5, ncols = 2, figsize = (20,30))\n",
    "n = 0\n",
    "\n",
    "sns.set(style=\"darkgrid\")\n",
    "\n",
    "for column in five_cols:\n",
    "    sns.countplot(sub1.loc[:, column], ax = axes[n,0])\n",
    "    axes[n,0].set_title(\"Subset 1: Rows with <= 20 total missings \")\n",
    "    sns.countplot(sub2.loc[:, column], ax = axes[n,1])\n",
    "    axes[n,1].set_title(\"Subset 2: Rows with > 20 total per row\")\n",
    "    n+=1"
   ]
  },
  {
   "cell_type": "markdown",
   "metadata": {},
   "source": [
    "####  Assess Missing Data in Each Row\n",
    "After deleting the outlier columns we have on average 5.7 missing values per row. Moreover, the 0.5 quantile (median) as well as the 0.65 quantile is zero. Hence, 65% of the rows have zero missings. Additionally, even the 0.85 Quantile is only 8, which means that 85% of the rows have 8 or fewer missings.\n",
    "\n",
    "We have 719,624 rows (80.75%) with fewer or equal to 5 missings and 171,597 rows (19.25%) have more than 5 missings. \n",
    "\n",
    "The histogram implies that there are many rows with zero or close to zero missing values. Moreover, (almost) no rows with 20 - 30 missing values before the number of rows with 30 or more missing values per rows are increasing again.\n",
    "\n",
    "In addition it seems as there is a gap betwen 20 and 30 missing values per row as almost 90% of rows have fewer than 20 missing values.\n",
    "\n",
    "Function subset_row_missings divides the dataset into a subset 1 with fewer or equal to the determined values of missings per row and one subset which consists of the rows with more than the determined value of missings. \n",
    "\n",
    "The task is now to create a subset based on no or few missing values. I have determined this threshold to be five missing values per row. Afterwards I have plotted both subsets for five cols to see differences in distribution.\n",
    "\n",
    "Col. 1 (\"GREEN AVANTGARDE\"): Of those with fewer than 20 missing values per row roughly 180,000 are of type 1 in subset 1, whereas in subset 2 virtually nobody is of type 1\n",
    "\n",
    "Col. 2 (\"FINANZTYP\"): Distribution between both subsets is pretty different here as well. Whereas the most common type in subset 1 is `6`, most of the individuals in subset 2 belong to group 4. \n",
    "\n",
    "Col. 3 (\"FINANZ_ANLEGER\"): Whereas the distribution of individuals in subset 1 (<= 20 missings) is roughly uniform for groups 2 to 5 and most individuals belong to group 1, most individuals in subset 2 belong exclusively to category 5. \n",
    "\n",
    "Col. 4 (\"SEMIO_Pflicht\"): Again we see a quite different distribution between both subsets. In subset 1 individuals are spread across many groups, in particular group 3-7. In stark contrast individuals of subset 2 belong only to group 5 and few to group 4.\n",
    "\n",
    "Col. 5 (\"ZABEOTYP\"): For this feature we see that in both subsets the most common category is no.5. However, whereas individuals of subset 2 almost exclusively belong to this group, it is more heterogeneous for subset 1.   \n",
    "\n",
    "To summarize, data with >20 missing values per row seem to be qualitatively very different from data with <= 20 missing values per row.\n",
    "\n",
    "In general, the problem of missing data is the additional noise we would include in the analysis making it harder to squeeze out the underlying signal. I have decided to continue the analysis using only the data of subset1 (`sub1`) from here. It may be interesting to compare both subsets in a later stage of the analysis to compare differences and the causal basis of why they are so different but this is beyond the scope of this version of the project."
   ]
  },
  {
   "cell_type": "markdown",
   "metadata": {},
   "source": [
    "### Select and Re-Encode Features\n",
    "Checking for missing data isn't the only way in which we can prepare a dataset for analysis. Since the unsupervised learning techniques to be used will only work on data that is encoded numerically, we need to make a few encoding changes or additional assumptions to be able to make progress. In addition, while almost all of the values in the dataset are encoded using numbers, not all of them represent numeric values. Check the third column of the feature summary (`feat_info`) for a summary of types of measurement.\n",
    "\n",
    "- For numeric and interval data, these features can be kept without changes.\n",
    "- Most of the variables in the dataset are ordinal in nature. While ordinal values may technically be non-linear in spacing, we make the simplifying assumption that the ordinal variables can be treated as being interval in nature (that is, kept without any changes).\n",
    "- Special handling may be necessary for the remaining two variable types: categorical, and 'mixed'.\n",
    "\n",
    "We will now perform an investigation of the categorical and mixed-type features and make a decision on each of them, whether to keep, drop, or re-encode. Then, we will create a new data frame with only the selected and engineered columns.\n",
    "\n",
    "Data wrangling is often tricky and there's a lot of it to be done here. But once we're done with this step, we'll be ready to get to the more satisfying parts of modeling the data and squeezing out some of their secrets. "
   ]
  },
  {
   "cell_type": "code",
   "execution_count": 26,
   "metadata": {},
   "outputs": [
    {
     "data": {
      "text/html": [
       "<div>\n",
       "<style scoped>\n",
       "    .dataframe tbody tr th:only-of-type {\n",
       "        vertical-align: middle;\n",
       "    }\n",
       "\n",
       "    .dataframe tbody tr th {\n",
       "        vertical-align: top;\n",
       "    }\n",
       "\n",
       "    .dataframe thead th {\n",
       "        text-align: right;\n",
       "    }\n",
       "</style>\n",
       "<table border=\"1\" class=\"dataframe\">\n",
       "  <thead>\n",
       "    <tr style=\"text-align: right;\">\n",
       "      <th></th>\n",
       "      <th>attribute</th>\n",
       "      <th>information_level</th>\n",
       "      <th>missing_or_unknown</th>\n",
       "    </tr>\n",
       "    <tr>\n",
       "      <th>type</th>\n",
       "      <th></th>\n",
       "      <th></th>\n",
       "      <th></th>\n",
       "    </tr>\n",
       "  </thead>\n",
       "  <tbody>\n",
       "    <tr>\n",
       "      <th>categorical</th>\n",
       "      <td>21</td>\n",
       "      <td>21</td>\n",
       "      <td>21</td>\n",
       "    </tr>\n",
       "    <tr>\n",
       "      <th>interval</th>\n",
       "      <td>1</td>\n",
       "      <td>1</td>\n",
       "      <td>1</td>\n",
       "    </tr>\n",
       "    <tr>\n",
       "      <th>mixed</th>\n",
       "      <td>7</td>\n",
       "      <td>7</td>\n",
       "      <td>7</td>\n",
       "    </tr>\n",
       "    <tr>\n",
       "      <th>numeric</th>\n",
       "      <td>7</td>\n",
       "      <td>7</td>\n",
       "      <td>7</td>\n",
       "    </tr>\n",
       "    <tr>\n",
       "      <th>ordinal</th>\n",
       "      <td>49</td>\n",
       "      <td>49</td>\n",
       "      <td>49</td>\n",
       "    </tr>\n",
       "  </tbody>\n",
       "</table>\n",
       "</div>"
      ],
      "text/plain": [
       "             attribute  information_level  missing_or_unknown\n",
       "type                                                         \n",
       "categorical         21                 21                  21\n",
       "interval             1                  1                   1\n",
       "mixed                7                  7                   7\n",
       "numeric              7                  7                   7\n",
       "ordinal             49                 49                  49"
      ]
     },
     "execution_count": 26,
     "metadata": {},
     "output_type": "execute_result"
    }
   ],
   "source": [
    "# How many features are there of each data type?\n",
    "feat_info.groupby(\"type\").count()"
   ]
  },
  {
   "cell_type": "markdown",
   "metadata": {},
   "source": [
    "#### Re-Encode Categorical Features\n",
    "\n",
    "For categorical data, we would normally need to encode the levels as dummy variables. Depending on the number of categories however, we perform one of the following:\n",
    "\n",
    "- For binary (two-level) categoricals that take numeric values, we keep them without needing to do anything.\n",
    "- There is one binary variable that takes on non-numeric values. For this one, we re-encode the values as numbers or create a dummy variable.\n",
    "- For multi-level categoricals (three or more values), we choose to encode the values using multiple dummy variables (e.g. via [OneHotEncoder](http://scikit-learn.org/stable/modules/generated/sklearn.preprocessing.OneHotEncoder.html)), or (to simplify things) just drop them from the analysis if appropriate. "
   ]
  },
  {
   "cell_type": "markdown",
   "metadata": {},
   "source": [
    "**Assess categorical variables:** Which are binary, which are multi-level? Which one needs to be re-encoded?"
   ]
  },
  {
   "cell_type": "code",
   "execution_count": 27,
   "metadata": {},
   "outputs": [
    {
     "name": "stdout",
     "output_type": "stream",
     "text": [
      "We have 18 categorical variables.\n"
     ]
    }
   ],
   "source": [
    "# Change to array\n",
    "feat_info_categorical = feat_info[feat_info['type'] == 'categorical']['attribute'].values\n",
    "feat_info_categorical = [x for x in feat_info_categorical if x in azdias.columns]\n",
    "\n",
    "# Results in categorical features of the reduced dataset\n",
    "print(\"We have\", len(feat_info_categorical), \"categorical variables.\")"
   ]
  },
  {
   "cell_type": "code",
   "execution_count": 28,
   "metadata": {},
   "outputs": [
    {
     "name": "stdout",
     "output_type": "stream",
     "text": [
      "We have 5 binary variables.\n"
     ]
    }
   ],
   "source": [
    "# List of binary variables\n",
    "binary = [x for x in feat_info_categorical if azdias[x].nunique()==2]\n",
    "azdias[binary][:5]\n",
    "\n",
    "# How many...\n",
    "print(\"We have\", len(binary), \"binary variables.\")"
   ]
  },
  {
   "cell_type": "code",
   "execution_count": 29,
   "metadata": {},
   "outputs": [
    {
     "name": "stdout",
     "output_type": "stream",
     "text": [
      "We have 13 multilevel variables.\n"
     ]
    }
   ],
   "source": [
    "# List of multilevel variables\n",
    "multilevel = [x for x in feat_info_categorical if azdias[x].nunique()>2]\n",
    "azdias[multilevel][:5]\n",
    "\n",
    "# How many ...\n",
    "print(\"We have\", len(multilevel), \"multilevel variables.\")"
   ]
  },
  {
   "cell_type": "markdown",
   "metadata": {},
   "source": [
    "**Next step:** Taking a closer look at categorical variables to see of how many categories they are comprised. Note that for each category we have to add K-1 dummy variables. For example: `ANREDE_KZ` consists of two categories. We need only one 0/1 dummy variable to express this in vectorized form."
   ]
  },
  {
   "cell_type": "code",
   "execution_count": 30,
   "metadata": {},
   "outputs": [
    {
     "data": {
      "text/plain": [
       "ANREDE_KZ            2\n",
       "CJT_GESAMTTYP        6\n",
       "FINANZTYP            6\n",
       "GFK_URLAUBERTYP     12\n",
       "GREEN_AVANTGARDE     2\n",
       "LP_FAMILIE_FEIN     11\n",
       "LP_FAMILIE_GROB      5\n",
       "LP_STATUS_FEIN      10\n",
       "LP_STATUS_GROB       5\n",
       "NATIONALITAET_KZ     3\n",
       "SHOPPER_TYP          4\n",
       "SOHO_KZ              2\n",
       "VERS_TYP             2\n",
       "ZABEOTYP             6\n",
       "GEBAEUDETYP          7\n",
       "OST_WEST_KZ          2\n",
       "CAMEO_DEUG_2015      9\n",
       "CAMEO_DEU_2015      44\n",
       "dtype: int64"
      ]
     },
     "execution_count": 30,
     "metadata": {},
     "output_type": "execute_result"
    }
   ],
   "source": [
    "# Uncomment to take a look at categorical data to decide on how to proceed\n",
    "# azdias[feat_info_categorical][:5]\n",
    "\n",
    "# And another look on how many categories we have per feature...\n",
    "azdias[feat_info_categorical].nunique()"
   ]
  },
  {
   "cell_type": "markdown",
   "metadata": {},
   "source": [
    "**Notes**  \n",
    "We see that most of the categorical variables have fewer than 7 different categories which is fine to apply one-hot encoding (adding dummy variables). But there are three variables with 10, 11, and 12 categories respectively, which I will drop for the following reasons: \n",
    "- They result in too many dummies which may lead to computational performance issues later on.\n",
    "- Moreover, for `STATUS` and `FAMILIE` there are close substitutes constituting of nearly the same informational content in a broader coding.\n",
    "\n",
    "In addition, there is one variable that stands out, namely \"CAMEO_DEU_2015\" which has 44 factors and encodings like \"8A, 4C, 6B\", etc. I decided to drop this variable and not construct 44 dummies for this variable. \n",
    "\n",
    "In addition, the variable `OST_WEST_KZ` is decoded as \"W\" and \"O\" (in german \"Osten\" for 'east' and \"Westen\" for 'west'). We simply re-encode this to \"W\" as 0 and \"O\" to 1. "
   ]
  },
  {
   "cell_type": "code",
   "execution_count": 31,
   "metadata": {},
   "outputs": [
    {
     "data": {
      "text/plain": [
       "(797426, 75)"
      ]
     },
     "execution_count": 31,
     "metadata": {},
     "output_type": "execute_result"
    }
   ],
   "source": [
    "# Re-encode categorical variable(s) to be kept in the analysis.\n",
    "# Drop variables as stated above\n",
    "col_remove = [\"CAMEO_DEU_2015\", \"GFK_URLAUBERTYP\", \n",
    "              \"LP_FAMILIE_FEIN\", \"LP_STATUS_FEIN\"]\n",
    "\n",
    "# Remove specified columns in place (don't run this more than once...)\n",
    "for col in col_remove:\n",
    "    multilevel.remove(col)\n",
    "    sub1.drop(col, axis = 1, inplace=True)\n",
    "\n",
    "sub1.shape"
   ]
  },
  {
   "cell_type": "code",
   "execution_count": 32,
   "metadata": {},
   "outputs": [
    {
     "data": {
      "text/html": [
       "<div>\n",
       "<style scoped>\n",
       "    .dataframe tbody tr th:only-of-type {\n",
       "        vertical-align: middle;\n",
       "    }\n",
       "\n",
       "    .dataframe tbody tr th {\n",
       "        vertical-align: top;\n",
       "    }\n",
       "\n",
       "    .dataframe thead th {\n",
       "        text-align: right;\n",
       "    }\n",
       "</style>\n",
       "<table border=\"1\" class=\"dataframe\">\n",
       "  <thead>\n",
       "    <tr style=\"text-align: right;\">\n",
       "      <th></th>\n",
       "      <th>ALTERSKATEGORIE_GROB</th>\n",
       "      <th>ANREDE_KZ</th>\n",
       "      <th>CJT_GESAMTTYP</th>\n",
       "      <th>FINANZ_MINIMALIST</th>\n",
       "      <th>FINANZ_SPARER</th>\n",
       "      <th>FINANZ_VORSORGER</th>\n",
       "      <th>FINANZ_ANLEGER</th>\n",
       "      <th>FINANZ_UNAUFFAELLIGER</th>\n",
       "      <th>FINANZ_HAUSBAUER</th>\n",
       "      <th>FINANZTYP</th>\n",
       "      <th>...</th>\n",
       "      <th>PLZ8_ANTG1</th>\n",
       "      <th>PLZ8_ANTG2</th>\n",
       "      <th>PLZ8_ANTG3</th>\n",
       "      <th>PLZ8_ANTG4</th>\n",
       "      <th>PLZ8_BAUMAX</th>\n",
       "      <th>PLZ8_HHZ</th>\n",
       "      <th>PLZ8_GBZ</th>\n",
       "      <th>ARBEIT</th>\n",
       "      <th>ORTSGR_KLS9</th>\n",
       "      <th>RELAT_AB</th>\n",
       "    </tr>\n",
       "  </thead>\n",
       "  <tbody>\n",
       "    <tr>\n",
       "      <th>1</th>\n",
       "      <td>1.0</td>\n",
       "      <td>2</td>\n",
       "      <td>5.0</td>\n",
       "      <td>1</td>\n",
       "      <td>5</td>\n",
       "      <td>2</td>\n",
       "      <td>5</td>\n",
       "      <td>4</td>\n",
       "      <td>5</td>\n",
       "      <td>1</td>\n",
       "      <td>...</td>\n",
       "      <td>2.0</td>\n",
       "      <td>3.0</td>\n",
       "      <td>2.0</td>\n",
       "      <td>1.0</td>\n",
       "      <td>1.0</td>\n",
       "      <td>5.0</td>\n",
       "      <td>4.0</td>\n",
       "      <td>3.0</td>\n",
       "      <td>5.0</td>\n",
       "      <td>4.0</td>\n",
       "    </tr>\n",
       "    <tr>\n",
       "      <th>2</th>\n",
       "      <td>3.0</td>\n",
       "      <td>2</td>\n",
       "      <td>3.0</td>\n",
       "      <td>1</td>\n",
       "      <td>4</td>\n",
       "      <td>1</td>\n",
       "      <td>2</td>\n",
       "      <td>3</td>\n",
       "      <td>5</td>\n",
       "      <td>1</td>\n",
       "      <td>...</td>\n",
       "      <td>3.0</td>\n",
       "      <td>3.0</td>\n",
       "      <td>1.0</td>\n",
       "      <td>0.0</td>\n",
       "      <td>1.0</td>\n",
       "      <td>4.0</td>\n",
       "      <td>4.0</td>\n",
       "      <td>3.0</td>\n",
       "      <td>5.0</td>\n",
       "      <td>2.0</td>\n",
       "    </tr>\n",
       "    <tr>\n",
       "      <th>3</th>\n",
       "      <td>4.0</td>\n",
       "      <td>2</td>\n",
       "      <td>2.0</td>\n",
       "      <td>4</td>\n",
       "      <td>2</td>\n",
       "      <td>5</td>\n",
       "      <td>2</td>\n",
       "      <td>1</td>\n",
       "      <td>2</td>\n",
       "      <td>6</td>\n",
       "      <td>...</td>\n",
       "      <td>2.0</td>\n",
       "      <td>2.0</td>\n",
       "      <td>2.0</td>\n",
       "      <td>0.0</td>\n",
       "      <td>1.0</td>\n",
       "      <td>3.0</td>\n",
       "      <td>4.0</td>\n",
       "      <td>2.0</td>\n",
       "      <td>3.0</td>\n",
       "      <td>3.0</td>\n",
       "    </tr>\n",
       "    <tr>\n",
       "      <th>4</th>\n",
       "      <td>3.0</td>\n",
       "      <td>1</td>\n",
       "      <td>5.0</td>\n",
       "      <td>4</td>\n",
       "      <td>3</td>\n",
       "      <td>4</td>\n",
       "      <td>1</td>\n",
       "      <td>3</td>\n",
       "      <td>2</td>\n",
       "      <td>5</td>\n",
       "      <td>...</td>\n",
       "      <td>2.0</td>\n",
       "      <td>4.0</td>\n",
       "      <td>2.0</td>\n",
       "      <td>1.0</td>\n",
       "      <td>2.0</td>\n",
       "      <td>3.0</td>\n",
       "      <td>3.0</td>\n",
       "      <td>4.0</td>\n",
       "      <td>6.0</td>\n",
       "      <td>5.0</td>\n",
       "    </tr>\n",
       "    <tr>\n",
       "      <th>5</th>\n",
       "      <td>1.0</td>\n",
       "      <td>2</td>\n",
       "      <td>2.0</td>\n",
       "      <td>3</td>\n",
       "      <td>1</td>\n",
       "      <td>5</td>\n",
       "      <td>2</td>\n",
       "      <td>2</td>\n",
       "      <td>5</td>\n",
       "      <td>2</td>\n",
       "      <td>...</td>\n",
       "      <td>2.0</td>\n",
       "      <td>3.0</td>\n",
       "      <td>1.0</td>\n",
       "      <td>1.0</td>\n",
       "      <td>1.0</td>\n",
       "      <td>5.0</td>\n",
       "      <td>5.0</td>\n",
       "      <td>2.0</td>\n",
       "      <td>3.0</td>\n",
       "      <td>3.0</td>\n",
       "    </tr>\n",
       "  </tbody>\n",
       "</table>\n",
       "<p>5 rows × 75 columns</p>\n",
       "</div>"
      ],
      "text/plain": [
       "   ALTERSKATEGORIE_GROB  ANREDE_KZ  CJT_GESAMTTYP  FINANZ_MINIMALIST  \\\n",
       "1                   1.0          2            5.0                  1   \n",
       "2                   3.0          2            3.0                  1   \n",
       "3                   4.0          2            2.0                  4   \n",
       "4                   3.0          1            5.0                  4   \n",
       "5                   1.0          2            2.0                  3   \n",
       "\n",
       "   FINANZ_SPARER  FINANZ_VORSORGER  FINANZ_ANLEGER  FINANZ_UNAUFFAELLIGER  \\\n",
       "1              5                 2               5                      4   \n",
       "2              4                 1               2                      3   \n",
       "3              2                 5               2                      1   \n",
       "4              3                 4               1                      3   \n",
       "5              1                 5               2                      2   \n",
       "\n",
       "   FINANZ_HAUSBAUER  FINANZTYP    ...     PLZ8_ANTG1  PLZ8_ANTG2  PLZ8_ANTG3  \\\n",
       "1                 5          1    ...            2.0         3.0         2.0   \n",
       "2                 5          1    ...            3.0         3.0         1.0   \n",
       "3                 2          6    ...            2.0         2.0         2.0   \n",
       "4                 2          5    ...            2.0         4.0         2.0   \n",
       "5                 5          2    ...            2.0         3.0         1.0   \n",
       "\n",
       "   PLZ8_ANTG4  PLZ8_BAUMAX  PLZ8_HHZ  PLZ8_GBZ  ARBEIT  ORTSGR_KLS9  RELAT_AB  \n",
       "1         1.0          1.0       5.0       4.0     3.0          5.0       4.0  \n",
       "2         0.0          1.0       4.0       4.0     3.0          5.0       2.0  \n",
       "3         0.0          1.0       3.0       4.0     2.0          3.0       3.0  \n",
       "4         1.0          2.0       3.0       3.0     4.0          6.0       5.0  \n",
       "5         1.0          1.0       5.0       5.0     2.0          3.0       3.0  \n",
       "\n",
       "[5 rows x 75 columns]"
      ]
     },
     "execution_count": 32,
     "metadata": {},
     "output_type": "execute_result"
    }
   ],
   "source": [
    "# Mapping of W -> 0 and O -> 1\n",
    "sub1[\"OST_WEST_KZ\"] = sub1[\"OST_WEST_KZ\"].map({\"W\": 0, \"O\": 1})\n",
    "sub1[:5]"
   ]
  },
  {
   "cell_type": "code",
   "execution_count": 33,
   "metadata": {},
   "outputs": [
    {
     "data": {
      "text/plain": [
       "2"
      ]
     },
     "execution_count": 33,
     "metadata": {},
     "output_type": "execute_result"
    }
   ],
   "source": [
    "# Check if two values are left\n",
    "sub1[\"OST_WEST_KZ\"].nunique()"
   ]
  },
  {
   "cell_type": "markdown",
   "metadata": {},
   "source": [
    "**Next:** Re-Encode the other categorical variables"
   ]
  },
  {
   "cell_type": "code",
   "execution_count": 34,
   "metadata": {},
   "outputs": [],
   "source": [
    "# Using pd.get_dummies for one-hot encoding\n",
    "for col in multilevel:\n",
    "    df = sub1[col][sub1[col].notnull()]\n",
    "    sub1 = sub1.join(pd.get_dummies(df, prefix=col))\n",
    "    sub1.drop([col], axis = 1, inplace=True)"
   ]
  },
  {
   "cell_type": "code",
   "execution_count": 35,
   "metadata": {},
   "outputs": [
    {
     "name": "stdout",
     "output_type": "stream",
     "text": [
      "New shape: 797426 rows and 117 features/variables.\n"
     ]
    }
   ],
   "source": [
    "# Check the new shape of our data\n",
    "print(\"New shape:\", sub1.shape[0], \"rows and\", sub1.shape[1], \"features/variables.\") "
   ]
  },
  {
   "cell_type": "markdown",
   "metadata": {},
   "source": [
    "#### Recap: Re-Encode Categorical Features\n",
    "- Of 21 initial categorical variables, 18 remain to be taken care of (\"special handling\").\n",
    "- `CAMEO_DEU_2015` and three other variables were dropped. \n",
    "- `OST_WEST_KZ` was re-encoded from \"W\"/\"O\" to O/1.\n",
    "- New shape of the data seems plausible."
   ]
  },
  {
   "cell_type": "markdown",
   "metadata": {},
   "source": [
    "#### Engineer Mixed-Type Features\n",
    "There are some features that are marked as \"mixed\" in the feature summary that require special treatment in order to be included in the analysis. There are two in particular that deserve attention:\n",
    "\n",
    "- `PRAEGENDE_JUGENDJAHRE` combines information on three dimensions: generation by decade, movement (mainstream vs. avantgarde), and nation (east vs. west). While there aren't enough levels to disentangle east from west, we should create two new variables to capture the other two dimensions: an interval-type variable for decade, and a binary variable for movement.\n",
    "- `CAMEO_INTL_2015` combines information on two axes: wealth and life stage. We break up the two-digit codes by their 'tens'-place and 'ones'-place digits into two new ordinal variables (which, for the purposes of this project, is equivalent to just treating them as their raw numeric values).\n",
    "\n",
    "Note that the respective coding is clarified in the accompanying code book which I am not allowed to share. However, I think that the individual steps become clearer as we move along and apply them to the data.  "
   ]
  },
  {
   "cell_type": "code",
   "execution_count": 36,
   "metadata": {},
   "outputs": [
    {
     "name": "stdout",
     "output_type": "stream",
     "text": [
      "                attribute information_level   type missing_or_unknown\n",
      "15    LP_LEBENSPHASE_FEIN            person  mixed                [0]\n",
      "16    LP_LEBENSPHASE_GROB            person  mixed                [0]\n",
      "22  PRAEGENDE_JUGENDJAHRE            person  mixed            [-1, 0]\n",
      "56               WOHNLAGE          building  mixed               [-1]\n",
      "59        CAMEO_INTL_2015     microcell_rr4  mixed           [-1, XX] \n",
      "\n",
      " ['LP_LEBENSPHASE_FEIN' 'LP_LEBENSPHASE_GROB' 'PRAEGENDE_JUGENDJAHRE'\n",
      " 'WOHNLAGE' 'CAMEO_INTL_2015' 'KBA05_BAUMAX' 'PLZ8_BAUMAX'] \n",
      "\n",
      " ['LP_LEBENSPHASE_FEIN', 'LP_LEBENSPHASE_GROB', 'PRAEGENDE_JUGENDJAHRE', 'WOHNLAGE', 'CAMEO_INTL_2015', 'PLZ8_BAUMAX']\n"
     ]
    }
   ],
   "source": [
    "# Table of mixed type variables from feat_info\n",
    "feat_info_mixed = feat_info[feat_info[\"type\"] == \"mixed\"]\n",
    "\n",
    "# Get mixed variable names \n",
    "mixed_array = feat_info_mixed[\"attribute\"].values\n",
    "\n",
    "# List of mixed cols we want to keep\n",
    "mixed = [x for x in mixed_array if x in sub1.columns]\n",
    "\n",
    "# Show what we did...\n",
    "print(feat_info_mixed.head(), \"\\n\\n\",mixed_array, \"\\n\\n\", mixed)"
   ]
  },
  {
   "cell_type": "markdown",
   "metadata": {},
   "source": [
    "Now we will investigate the variable `PRAEGENDE_JUGENDJAHRE` and engineer two new variables. From the data dictionary (or code book) we know the encoding of the variable that indicates `mainstream` or `avantgarde`. We engineer a new variable to capture this.  "
   ]
  },
  {
   "cell_type": "code",
   "execution_count": 37,
   "metadata": {},
   "outputs": [
    {
     "data": {
      "text/plain": [
       "1    14.0\n",
       "2    15.0\n",
       "3     8.0\n",
       "4     8.0\n",
       "5     3.0\n",
       "Name: PRAEGENDE_JUGENDJAHRE, dtype: float64"
      ]
     },
     "execution_count": 37,
     "metadata": {},
     "output_type": "execute_result"
    }
   ],
   "source": [
    "# Have a look at the variable\n",
    "sub1[\"PRAEGENDE_JUGENDJAHRE\"][:5]"
   ]
  },
  {
   "cell_type": "code",
   "execution_count": 38,
   "metadata": {},
   "outputs": [],
   "source": [
    "# Mainstream / Avantgarde coding is taken from the data dictionary\n",
    "ms, av = [1,3,4,8,10,12,14], [2,4,6,7,9,11,13,15]"
   ]
  },
  {
   "cell_type": "code",
   "execution_count": 39,
   "metadata": {},
   "outputs": [],
   "source": [
    "# Function to disentangle \n",
    "def disentangler(x):\n",
    "    \"\"\"\n",
    "    Input is variable of 'PRAEGENDE_JUGENDJAHRE'\n",
    "    Results in 1 if value is in the list ms and 0 otherwise.\n",
    "    \"\"\"\n",
    "    if x in ms: \n",
    "        res = 1\n",
    "    elif x in av:\n",
    "        res = 0\n",
    "    else:\n",
    "        res = x\n",
    "    return res"
   ]
  },
  {
   "cell_type": "code",
   "execution_count": 40,
   "metadata": {},
   "outputs": [],
   "source": [
    "# Create new variable indicating whether mainstream=1 or avantgarde =0\n",
    "sub1[\"PRAEGENDE_JUGENDJAHRE_MS\"] = sub1[\"PRAEGENDE_JUGENDJAHRE\"].apply(disentangler)"
   ]
  },
  {
   "cell_type": "code",
   "execution_count": 41,
   "metadata": {},
   "outputs": [
    {
     "data": {
      "text/html": [
       "<div>\n",
       "<style scoped>\n",
       "    .dataframe tbody tr th:only-of-type {\n",
       "        vertical-align: middle;\n",
       "    }\n",
       "\n",
       "    .dataframe tbody tr th {\n",
       "        vertical-align: top;\n",
       "    }\n",
       "\n",
       "    .dataframe thead th {\n",
       "        text-align: right;\n",
       "    }\n",
       "</style>\n",
       "<table border=\"1\" class=\"dataframe\">\n",
       "  <thead>\n",
       "    <tr style=\"text-align: right;\">\n",
       "      <th></th>\n",
       "      <th>ALTERSKATEGORIE_GROB</th>\n",
       "      <th>ANREDE_KZ</th>\n",
       "      <th>FINANZ_MINIMALIST</th>\n",
       "      <th>FINANZ_SPARER</th>\n",
       "      <th>FINANZ_VORSORGER</th>\n",
       "      <th>FINANZ_ANLEGER</th>\n",
       "      <th>FINANZ_UNAUFFAELLIGER</th>\n",
       "      <th>FINANZ_HAUSBAUER</th>\n",
       "      <th>GREEN_AVANTGARDE</th>\n",
       "      <th>HEALTH_TYP</th>\n",
       "      <th>...</th>\n",
       "      <th>CAMEO_DEUG_2015_1</th>\n",
       "      <th>CAMEO_DEUG_2015_2</th>\n",
       "      <th>CAMEO_DEUG_2015_3</th>\n",
       "      <th>CAMEO_DEUG_2015_4</th>\n",
       "      <th>CAMEO_DEUG_2015_5</th>\n",
       "      <th>CAMEO_DEUG_2015_6</th>\n",
       "      <th>CAMEO_DEUG_2015_7</th>\n",
       "      <th>CAMEO_DEUG_2015_8</th>\n",
       "      <th>CAMEO_DEUG_2015_9</th>\n",
       "      <th>PRAEGENDE_JUGENDJAHRE_MS</th>\n",
       "    </tr>\n",
       "  </thead>\n",
       "  <tbody>\n",
       "    <tr>\n",
       "      <th>1</th>\n",
       "      <td>1.0</td>\n",
       "      <td>2</td>\n",
       "      <td>1</td>\n",
       "      <td>5</td>\n",
       "      <td>2</td>\n",
       "      <td>5</td>\n",
       "      <td>4</td>\n",
       "      <td>5</td>\n",
       "      <td>0</td>\n",
       "      <td>3.0</td>\n",
       "      <td>...</td>\n",
       "      <td>0.0</td>\n",
       "      <td>0.0</td>\n",
       "      <td>0.0</td>\n",
       "      <td>0.0</td>\n",
       "      <td>0.0</td>\n",
       "      <td>0.0</td>\n",
       "      <td>0.0</td>\n",
       "      <td>1.0</td>\n",
       "      <td>0.0</td>\n",
       "      <td>1.0</td>\n",
       "    </tr>\n",
       "    <tr>\n",
       "      <th>2</th>\n",
       "      <td>3.0</td>\n",
       "      <td>2</td>\n",
       "      <td>1</td>\n",
       "      <td>4</td>\n",
       "      <td>1</td>\n",
       "      <td>2</td>\n",
       "      <td>3</td>\n",
       "      <td>5</td>\n",
       "      <td>1</td>\n",
       "      <td>3.0</td>\n",
       "      <td>...</td>\n",
       "      <td>0.0</td>\n",
       "      <td>0.0</td>\n",
       "      <td>0.0</td>\n",
       "      <td>1.0</td>\n",
       "      <td>0.0</td>\n",
       "      <td>0.0</td>\n",
       "      <td>0.0</td>\n",
       "      <td>0.0</td>\n",
       "      <td>0.0</td>\n",
       "      <td>0.0</td>\n",
       "    </tr>\n",
       "    <tr>\n",
       "      <th>3</th>\n",
       "      <td>4.0</td>\n",
       "      <td>2</td>\n",
       "      <td>4</td>\n",
       "      <td>2</td>\n",
       "      <td>5</td>\n",
       "      <td>2</td>\n",
       "      <td>1</td>\n",
       "      <td>2</td>\n",
       "      <td>0</td>\n",
       "      <td>2.0</td>\n",
       "      <td>...</td>\n",
       "      <td>0.0</td>\n",
       "      <td>1.0</td>\n",
       "      <td>0.0</td>\n",
       "      <td>0.0</td>\n",
       "      <td>0.0</td>\n",
       "      <td>0.0</td>\n",
       "      <td>0.0</td>\n",
       "      <td>0.0</td>\n",
       "      <td>0.0</td>\n",
       "      <td>1.0</td>\n",
       "    </tr>\n",
       "    <tr>\n",
       "      <th>4</th>\n",
       "      <td>3.0</td>\n",
       "      <td>1</td>\n",
       "      <td>4</td>\n",
       "      <td>3</td>\n",
       "      <td>4</td>\n",
       "      <td>1</td>\n",
       "      <td>3</td>\n",
       "      <td>2</td>\n",
       "      <td>0</td>\n",
       "      <td>3.0</td>\n",
       "      <td>...</td>\n",
       "      <td>0.0</td>\n",
       "      <td>0.0</td>\n",
       "      <td>0.0</td>\n",
       "      <td>0.0</td>\n",
       "      <td>0.0</td>\n",
       "      <td>1.0</td>\n",
       "      <td>0.0</td>\n",
       "      <td>0.0</td>\n",
       "      <td>0.0</td>\n",
       "      <td>1.0</td>\n",
       "    </tr>\n",
       "    <tr>\n",
       "      <th>5</th>\n",
       "      <td>1.0</td>\n",
       "      <td>2</td>\n",
       "      <td>3</td>\n",
       "      <td>1</td>\n",
       "      <td>5</td>\n",
       "      <td>2</td>\n",
       "      <td>2</td>\n",
       "      <td>5</td>\n",
       "      <td>0</td>\n",
       "      <td>3.0</td>\n",
       "      <td>...</td>\n",
       "      <td>0.0</td>\n",
       "      <td>0.0</td>\n",
       "      <td>0.0</td>\n",
       "      <td>0.0</td>\n",
       "      <td>0.0</td>\n",
       "      <td>0.0</td>\n",
       "      <td>0.0</td>\n",
       "      <td>1.0</td>\n",
       "      <td>0.0</td>\n",
       "      <td>1.0</td>\n",
       "    </tr>\n",
       "  </tbody>\n",
       "</table>\n",
       "<p>5 rows × 118 columns</p>\n",
       "</div>"
      ],
      "text/plain": [
       "   ALTERSKATEGORIE_GROB  ANREDE_KZ  FINANZ_MINIMALIST  FINANZ_SPARER  \\\n",
       "1                   1.0          2                  1              5   \n",
       "2                   3.0          2                  1              4   \n",
       "3                   4.0          2                  4              2   \n",
       "4                   3.0          1                  4              3   \n",
       "5                   1.0          2                  3              1   \n",
       "\n",
       "   FINANZ_VORSORGER  FINANZ_ANLEGER  FINANZ_UNAUFFAELLIGER  FINANZ_HAUSBAUER  \\\n",
       "1                 2               5                      4                 5   \n",
       "2                 1               2                      3                 5   \n",
       "3                 5               2                      1                 2   \n",
       "4                 4               1                      3                 2   \n",
       "5                 5               2                      2                 5   \n",
       "\n",
       "   GREEN_AVANTGARDE  HEALTH_TYP            ...             CAMEO_DEUG_2015_1  \\\n",
       "1                 0         3.0            ...                           0.0   \n",
       "2                 1         3.0            ...                           0.0   \n",
       "3                 0         2.0            ...                           0.0   \n",
       "4                 0         3.0            ...                           0.0   \n",
       "5                 0         3.0            ...                           0.0   \n",
       "\n",
       "   CAMEO_DEUG_2015_2  CAMEO_DEUG_2015_3  CAMEO_DEUG_2015_4  CAMEO_DEUG_2015_5  \\\n",
       "1                0.0                0.0                0.0                0.0   \n",
       "2                0.0                0.0                1.0                0.0   \n",
       "3                1.0                0.0                0.0                0.0   \n",
       "4                0.0                0.0                0.0                0.0   \n",
       "5                0.0                0.0                0.0                0.0   \n",
       "\n",
       "   CAMEO_DEUG_2015_6  CAMEO_DEUG_2015_7  CAMEO_DEUG_2015_8  CAMEO_DEUG_2015_9  \\\n",
       "1                0.0                0.0                1.0                0.0   \n",
       "2                0.0                0.0                0.0                0.0   \n",
       "3                0.0                0.0                0.0                0.0   \n",
       "4                1.0                0.0                0.0                0.0   \n",
       "5                0.0                0.0                1.0                0.0   \n",
       "\n",
       "   PRAEGENDE_JUGENDJAHRE_MS  \n",
       "1                       1.0  \n",
       "2                       0.0  \n",
       "3                       1.0  \n",
       "4                       1.0  \n",
       "5                       1.0  \n",
       "\n",
       "[5 rows x 118 columns]"
      ]
     },
     "execution_count": 41,
     "metadata": {},
     "output_type": "execute_result"
    }
   ],
   "source": [
    "sub1.head()"
   ]
  },
  {
   "cell_type": "markdown",
   "metadata": {},
   "source": [
    "We create another variable which indicates the respective decade."
   ]
  },
  {
   "cell_type": "code",
   "execution_count": 42,
   "metadata": {},
   "outputs": [
    {
     "data": {
      "text/plain": [
       "1    90.0\n",
       "2    90.0\n",
       "3    70.0\n",
       "4    70.0\n",
       "5    50.0\n",
       "6    80.0\n",
       "7    70.0\n",
       "Name: PRAEGENDE_JUGENDJAHRE_DEC, dtype: float64"
      ]
     },
     "execution_count": 42,
     "metadata": {},
     "output_type": "execute_result"
    }
   ],
   "source": [
    "#### Create 2nd variable \n",
    "# Start with the mapping\n",
    "x, y = [x+1 for x in range(15)], [40,40,50,50,60,60,60,70,70,80,80,80,80,90,90]\n",
    "dec = pd.Series(y, x)\n",
    "\n",
    "# Engineer decade variable by applying the mapping\n",
    "sub1[\"PRAEGENDE_JUGENDJAHRE_DEC\"] = sub1[\"PRAEGENDE_JUGENDJAHRE\"].map(dec)\n",
    "\n",
    "# Show decade variable\n",
    "sub1[\"PRAEGENDE_JUGENDJAHRE_DEC\"][:7]"
   ]
  },
  {
   "cell_type": "code",
   "execution_count": 43,
   "metadata": {},
   "outputs": [
    {
     "data": {
      "text/plain": [
       "1    51\n",
       "2    24\n",
       "3    12\n",
       "4    43\n",
       "5    54\n",
       "6    22\n",
       "7    14\n",
       "Name: CAMEO_INTL_2015, dtype: object"
      ]
     },
     "execution_count": 43,
     "metadata": {},
     "output_type": "execute_result"
    }
   ],
   "source": [
    "# Investigate \"CAMEO_INTL_2015\" and engineer two new variables.\n",
    "sub1[\"CAMEO_INTL_2015\"][:7]"
   ]
  },
  {
   "cell_type": "code",
   "execution_count": 44,
   "metadata": {},
   "outputs": [
    {
     "data": {
      "text/plain": [
       "1    5.0\n",
       "2    2.0\n",
       "3    1.0\n",
       "4    4.0\n",
       "5    5.0\n",
       "6    2.0\n",
       "7    1.0\n",
       "Name: CAMEO_INTL_2015_WEALTH, dtype: float64"
      ]
     },
     "execution_count": 44,
     "metadata": {},
     "output_type": "execute_result"
    }
   ],
   "source": [
    "# Engineer first variable\n",
    "sub1.loc[sub1['CAMEO_INTL_2015'].notnull(),'CAMEO_INTL_2015_WEALTH'] = sub1.loc[sub1['CAMEO_INTL_2015'].notnull(),'CAMEO_INTL_2015'].map(lambda x:int(str(x)[0]))\n",
    "\n",
    "# Show variable\n",
    "sub1[\"CAMEO_INTL_2015_WEALTH\"][:7]"
   ]
  },
  {
   "cell_type": "code",
   "execution_count": 45,
   "metadata": {},
   "outputs": [
    {
     "data": {
      "text/plain": [
       "1    1.0\n",
       "2    4.0\n",
       "3    2.0\n",
       "4    3.0\n",
       "5    4.0\n",
       "6    2.0\n",
       "7    4.0\n",
       "Name: CAMEO_INTL_2015_LIFESTAGE, dtype: float64"
      ]
     },
     "execution_count": 45,
     "metadata": {},
     "output_type": "execute_result"
    }
   ],
   "source": [
    "# Engineer second variable\n",
    "sub1.loc[sub1['CAMEO_INTL_2015'].notnull(),'CAMEO_INTL_2015_LIFESTAGE'] = sub1.loc[sub1['CAMEO_INTL_2015'].notnull(),'CAMEO_INTL_2015'].map(lambda x:int(str(x)[1]))\n",
    "\n",
    "# Show second variable after reengineering\n",
    "sub1['CAMEO_INTL_2015_LIFESTAGE'][:7]"
   ]
  },
  {
   "cell_type": "markdown",
   "metadata": {},
   "source": [
    "We are now going to drop the initial variables and the rest of the mixed variables which we don't need anymore. In principle we could add additional re-engineered variables but again, we keep it simple for now... "
   ]
  },
  {
   "cell_type": "code",
   "execution_count": 46,
   "metadata": {},
   "outputs": [
    {
     "name": "stdout",
     "output_type": "stream",
     "text": [
      "['LP_LEBENSPHASE_FEIN', 'LP_LEBENSPHASE_GROB', 'PRAEGENDE_JUGENDJAHRE', 'WOHNLAGE', 'CAMEO_INTL_2015', 'PLZ8_BAUMAX']\n"
     ]
    }
   ],
   "source": [
    "# Show all pristine mixed variables\n",
    "print(mixed)\n",
    "\n",
    "# Drop all un-engineered mixed variables\n",
    "sub1.drop(mixed, axis=1, inplace=True)"
   ]
  },
  {
   "cell_type": "code",
   "execution_count": 47,
   "metadata": {},
   "outputs": [
    {
     "data": {
      "text/html": [
       "<div>\n",
       "<style scoped>\n",
       "    .dataframe tbody tr th:only-of-type {\n",
       "        vertical-align: middle;\n",
       "    }\n",
       "\n",
       "    .dataframe tbody tr th {\n",
       "        vertical-align: top;\n",
       "    }\n",
       "\n",
       "    .dataframe thead th {\n",
       "        text-align: right;\n",
       "    }\n",
       "</style>\n",
       "<table border=\"1\" class=\"dataframe\">\n",
       "  <thead>\n",
       "    <tr style=\"text-align: right;\">\n",
       "      <th></th>\n",
       "      <th>ALTERSKATEGORIE_GROB</th>\n",
       "      <th>ANREDE_KZ</th>\n",
       "      <th>FINANZ_MINIMALIST</th>\n",
       "      <th>FINANZ_SPARER</th>\n",
       "      <th>FINANZ_VORSORGER</th>\n",
       "      <th>FINANZ_ANLEGER</th>\n",
       "      <th>FINANZ_UNAUFFAELLIGER</th>\n",
       "      <th>FINANZ_HAUSBAUER</th>\n",
       "      <th>GREEN_AVANTGARDE</th>\n",
       "      <th>HEALTH_TYP</th>\n",
       "      <th>...</th>\n",
       "      <th>CAMEO_DEUG_2015_4</th>\n",
       "      <th>CAMEO_DEUG_2015_5</th>\n",
       "      <th>CAMEO_DEUG_2015_6</th>\n",
       "      <th>CAMEO_DEUG_2015_7</th>\n",
       "      <th>CAMEO_DEUG_2015_8</th>\n",
       "      <th>CAMEO_DEUG_2015_9</th>\n",
       "      <th>PRAEGENDE_JUGENDJAHRE_MS</th>\n",
       "      <th>PRAEGENDE_JUGENDJAHRE_DEC</th>\n",
       "      <th>CAMEO_INTL_2015_WEALTH</th>\n",
       "      <th>CAMEO_INTL_2015_LIFESTAGE</th>\n",
       "    </tr>\n",
       "  </thead>\n",
       "  <tbody>\n",
       "    <tr>\n",
       "      <th>1</th>\n",
       "      <td>1.0</td>\n",
       "      <td>2</td>\n",
       "      <td>1</td>\n",
       "      <td>5</td>\n",
       "      <td>2</td>\n",
       "      <td>5</td>\n",
       "      <td>4</td>\n",
       "      <td>5</td>\n",
       "      <td>0</td>\n",
       "      <td>3.0</td>\n",
       "      <td>...</td>\n",
       "      <td>0.0</td>\n",
       "      <td>0.0</td>\n",
       "      <td>0.0</td>\n",
       "      <td>0.0</td>\n",
       "      <td>1.0</td>\n",
       "      <td>0.0</td>\n",
       "      <td>1.0</td>\n",
       "      <td>90.0</td>\n",
       "      <td>5.0</td>\n",
       "      <td>1.0</td>\n",
       "    </tr>\n",
       "    <tr>\n",
       "      <th>2</th>\n",
       "      <td>3.0</td>\n",
       "      <td>2</td>\n",
       "      <td>1</td>\n",
       "      <td>4</td>\n",
       "      <td>1</td>\n",
       "      <td>2</td>\n",
       "      <td>3</td>\n",
       "      <td>5</td>\n",
       "      <td>1</td>\n",
       "      <td>3.0</td>\n",
       "      <td>...</td>\n",
       "      <td>1.0</td>\n",
       "      <td>0.0</td>\n",
       "      <td>0.0</td>\n",
       "      <td>0.0</td>\n",
       "      <td>0.0</td>\n",
       "      <td>0.0</td>\n",
       "      <td>0.0</td>\n",
       "      <td>90.0</td>\n",
       "      <td>2.0</td>\n",
       "      <td>4.0</td>\n",
       "    </tr>\n",
       "    <tr>\n",
       "      <th>3</th>\n",
       "      <td>4.0</td>\n",
       "      <td>2</td>\n",
       "      <td>4</td>\n",
       "      <td>2</td>\n",
       "      <td>5</td>\n",
       "      <td>2</td>\n",
       "      <td>1</td>\n",
       "      <td>2</td>\n",
       "      <td>0</td>\n",
       "      <td>2.0</td>\n",
       "      <td>...</td>\n",
       "      <td>0.0</td>\n",
       "      <td>0.0</td>\n",
       "      <td>0.0</td>\n",
       "      <td>0.0</td>\n",
       "      <td>0.0</td>\n",
       "      <td>0.0</td>\n",
       "      <td>1.0</td>\n",
       "      <td>70.0</td>\n",
       "      <td>1.0</td>\n",
       "      <td>2.0</td>\n",
       "    </tr>\n",
       "    <tr>\n",
       "      <th>4</th>\n",
       "      <td>3.0</td>\n",
       "      <td>1</td>\n",
       "      <td>4</td>\n",
       "      <td>3</td>\n",
       "      <td>4</td>\n",
       "      <td>1</td>\n",
       "      <td>3</td>\n",
       "      <td>2</td>\n",
       "      <td>0</td>\n",
       "      <td>3.0</td>\n",
       "      <td>...</td>\n",
       "      <td>0.0</td>\n",
       "      <td>0.0</td>\n",
       "      <td>1.0</td>\n",
       "      <td>0.0</td>\n",
       "      <td>0.0</td>\n",
       "      <td>0.0</td>\n",
       "      <td>1.0</td>\n",
       "      <td>70.0</td>\n",
       "      <td>4.0</td>\n",
       "      <td>3.0</td>\n",
       "    </tr>\n",
       "    <tr>\n",
       "      <th>5</th>\n",
       "      <td>1.0</td>\n",
       "      <td>2</td>\n",
       "      <td>3</td>\n",
       "      <td>1</td>\n",
       "      <td>5</td>\n",
       "      <td>2</td>\n",
       "      <td>2</td>\n",
       "      <td>5</td>\n",
       "      <td>0</td>\n",
       "      <td>3.0</td>\n",
       "      <td>...</td>\n",
       "      <td>0.0</td>\n",
       "      <td>0.0</td>\n",
       "      <td>0.0</td>\n",
       "      <td>0.0</td>\n",
       "      <td>1.0</td>\n",
       "      <td>0.0</td>\n",
       "      <td>1.0</td>\n",
       "      <td>50.0</td>\n",
       "      <td>5.0</td>\n",
       "      <td>4.0</td>\n",
       "    </tr>\n",
       "    <tr>\n",
       "      <th>6</th>\n",
       "      <td>2.0</td>\n",
       "      <td>2</td>\n",
       "      <td>1</td>\n",
       "      <td>5</td>\n",
       "      <td>1</td>\n",
       "      <td>5</td>\n",
       "      <td>4</td>\n",
       "      <td>3</td>\n",
       "      <td>0</td>\n",
       "      <td>2.0</td>\n",
       "      <td>...</td>\n",
       "      <td>1.0</td>\n",
       "      <td>0.0</td>\n",
       "      <td>0.0</td>\n",
       "      <td>0.0</td>\n",
       "      <td>0.0</td>\n",
       "      <td>0.0</td>\n",
       "      <td>1.0</td>\n",
       "      <td>80.0</td>\n",
       "      <td>2.0</td>\n",
       "      <td>2.0</td>\n",
       "    </tr>\n",
       "    <tr>\n",
       "      <th>7</th>\n",
       "      <td>1.0</td>\n",
       "      <td>1</td>\n",
       "      <td>3</td>\n",
       "      <td>3</td>\n",
       "      <td>4</td>\n",
       "      <td>1</td>\n",
       "      <td>3</td>\n",
       "      <td>2</td>\n",
       "      <td>0</td>\n",
       "      <td>1.0</td>\n",
       "      <td>...</td>\n",
       "      <td>0.0</td>\n",
       "      <td>0.0</td>\n",
       "      <td>0.0</td>\n",
       "      <td>0.0</td>\n",
       "      <td>0.0</td>\n",
       "      <td>0.0</td>\n",
       "      <td>1.0</td>\n",
       "      <td>70.0</td>\n",
       "      <td>1.0</td>\n",
       "      <td>4.0</td>\n",
       "    </tr>\n",
       "  </tbody>\n",
       "</table>\n",
       "<p>7 rows × 115 columns</p>\n",
       "</div>"
      ],
      "text/plain": [
       "   ALTERSKATEGORIE_GROB  ANREDE_KZ  FINANZ_MINIMALIST  FINANZ_SPARER  \\\n",
       "1                   1.0          2                  1              5   \n",
       "2                   3.0          2                  1              4   \n",
       "3                   4.0          2                  4              2   \n",
       "4                   3.0          1                  4              3   \n",
       "5                   1.0          2                  3              1   \n",
       "6                   2.0          2                  1              5   \n",
       "7                   1.0          1                  3              3   \n",
       "\n",
       "   FINANZ_VORSORGER  FINANZ_ANLEGER  FINANZ_UNAUFFAELLIGER  FINANZ_HAUSBAUER  \\\n",
       "1                 2               5                      4                 5   \n",
       "2                 1               2                      3                 5   \n",
       "3                 5               2                      1                 2   \n",
       "4                 4               1                      3                 2   \n",
       "5                 5               2                      2                 5   \n",
       "6                 1               5                      4                 3   \n",
       "7                 4               1                      3                 2   \n",
       "\n",
       "   GREEN_AVANTGARDE  HEALTH_TYP            ...              CAMEO_DEUG_2015_4  \\\n",
       "1                 0         3.0            ...                            0.0   \n",
       "2                 1         3.0            ...                            1.0   \n",
       "3                 0         2.0            ...                            0.0   \n",
       "4                 0         3.0            ...                            0.0   \n",
       "5                 0         3.0            ...                            0.0   \n",
       "6                 0         2.0            ...                            1.0   \n",
       "7                 0         1.0            ...                            0.0   \n",
       "\n",
       "   CAMEO_DEUG_2015_5  CAMEO_DEUG_2015_6  CAMEO_DEUG_2015_7  CAMEO_DEUG_2015_8  \\\n",
       "1                0.0                0.0                0.0                1.0   \n",
       "2                0.0                0.0                0.0                0.0   \n",
       "3                0.0                0.0                0.0                0.0   \n",
       "4                0.0                1.0                0.0                0.0   \n",
       "5                0.0                0.0                0.0                1.0   \n",
       "6                0.0                0.0                0.0                0.0   \n",
       "7                0.0                0.0                0.0                0.0   \n",
       "\n",
       "   CAMEO_DEUG_2015_9  PRAEGENDE_JUGENDJAHRE_MS  PRAEGENDE_JUGENDJAHRE_DEC  \\\n",
       "1                0.0                       1.0                       90.0   \n",
       "2                0.0                       0.0                       90.0   \n",
       "3                0.0                       1.0                       70.0   \n",
       "4                0.0                       1.0                       70.0   \n",
       "5                0.0                       1.0                       50.0   \n",
       "6                0.0                       1.0                       80.0   \n",
       "7                0.0                       1.0                       70.0   \n",
       "\n",
       "   CAMEO_INTL_2015_WEALTH  CAMEO_INTL_2015_LIFESTAGE  \n",
       "1                     5.0                        1.0  \n",
       "2                     2.0                        4.0  \n",
       "3                     1.0                        2.0  \n",
       "4                     4.0                        3.0  \n",
       "5                     5.0                        4.0  \n",
       "6                     2.0                        2.0  \n",
       "7                     1.0                        4.0  \n",
       "\n",
       "[7 rows x 115 columns]"
      ]
     },
     "execution_count": 47,
     "metadata": {},
     "output_type": "execute_result"
    }
   ],
   "source": [
    "# Show what's left...\n",
    "sub1[:7]"
   ]
  },
  {
   "cell_type": "code",
   "execution_count": 48,
   "metadata": {},
   "outputs": [
    {
     "name": "stdout",
     "output_type": "stream",
     "text": [
      "New shape: (797426, 115)\n"
     ]
    }
   ],
   "source": [
    "# New shape\n",
    "print(\"New shape:\", sub1.shape)"
   ]
  },
  {
   "cell_type": "markdown",
   "metadata": {},
   "source": [
    "#### Summary: Engineer Mixed-Type Features\n",
    "- Disentangled (or re-encoded) the variable `PRAEGENDE_JUGENDJAHRE` into mainstream (ms) and avantgarde (av) based on coding in data dictionary to a binary variable `PRAEGENDE_JUGENDJAHRE_MS`.\n",
    "- Re-engineered a variable that indciates the decade. \n",
    "- Re-engineered `CAMEO_INTL_2015` to a variable for wealth and one for the respective lifestage \n",
    "- Dropped the initial variables that we used for engineering new variables\n",
    "- Dropped `LP_LEBENSPHASE_FEIN` as it consists of almost the same information as `LP_LEBENSPHASE_GROB` and has too many levels."
   ]
  },
  {
   "cell_type": "markdown",
   "metadata": {},
   "source": [
    "#### Complete Feature Selection\n",
    "\n",
    "In order to finish this step, we need to make sure that the data frame only consists of the columns that we want to keep. The dataframe should now consist of:\n",
    "\n",
    "- All numeric, interval, and ordinal type columns from the original dataset.\n",
    "- Binary categorical features (all numerically-encoded).\n",
    "- Engineered features from other multi-level categorical features and mixed features."
   ]
  },
  {
   "cell_type": "markdown",
   "metadata": {},
   "source": [
    "### Create a Cleaning Function\n",
    "We have to redo all the cleaning and engineering steps on the customer dataset (we only worked with general demographic data so far) and probably repeat this task again in the futre. Hence,  we'd like to automate this using a function that does all the previous steps for us. This is what we are going to do now:"
   ]
  },
  {
   "cell_type": "code",
   "execution_count": 49,
   "metadata": {},
   "outputs": [],
   "source": [
    "def clean_data(df):\n",
    "    \"\"\"\n",
    "    Perform feature trimming, re-encoding, and engineering for demographics\n",
    "    data\n",
    "    \n",
    "    INPUT: Demographics DataFrame\n",
    "    OUTPUT: Trimmed and cleaned demographics DataFrame\n",
    "    \"\"\"\n",
    "    \n",
    "    # Put in code here to execute all main cleaning steps:\n",
    "    # convert missing value codes into NaNs, ...\n",
    "    feat_info = pd.read_csv('AZDIAS_Feature_Summary.csv', delimiter=';')\n",
    "    for index in feat_info.index:\n",
    "        feat_info.loc[index,'missing_or_unknown'] = feat_info.loc[index,'missing_or_unknown'].strip('[]').split(',')\n",
    "        for item in range(len(feat_info.loc[index,'missing_or_unknown'])):\n",
    "            try:\n",
    "                feat_info.loc[index,'missing_or_unknown'][item] = int(feat_info.loc[index,'missing_or_unknown'][item])\n",
    "            except:\n",
    "                continue\n",
    "        df.loc[:,(feat_info.loc[index, 'attribute'])].replace(feat_info.loc[index,'missing_or_unknown'], np.nan, inplace=True)        \n",
    "    \n",
    "    # Drop cols (outlier cols) + \"GEBAUEDTYP\" (issues with dummies)\n",
    "    drop_col = ['AGER_TYP', 'GEBURTSJAHR', 'TITEL_KZ', 'ALTER_HH', 'KK_KUNDENTYP',\n",
    "       'KBA05_BAUMAX', \"GEBAEUDETYP\"]\n",
    "    df.drop(drop_col , axis=1, inplace=True)\n",
    "    \n",
    "    # Index for rows with missings of equal or fewer than 20\n",
    "    row_missings = df.isnull().sum(axis=1)\n",
    "    idx1 = row_missings.index[row_missings <= 20]\n",
    "    idx2 = row_missings.index[row_missings > 20]\n",
    "    \n",
    "    categorical = feat_info[feat_info[\"type\"] == \"categorical\"][\"attribute\"].values\n",
    "    categorical = [x for x in categorical if x in df.columns]\n",
    "    binary = [x for x in categorical if df[x].nunique()==2]\n",
    "    multilevel = [x for x in categorical if df[x].nunique()>2]\n",
    "    \n",
    "    col_remove = [\"CAMEO_DEU_2015\", \"GFK_URLAUBERTYP\", \n",
    "              \"LP_FAMILIE_FEIN\", \"LP_STATUS_FEIN\"]\n",
    "\n",
    "    for col in col_remove:\n",
    "        multilevel.remove(col)\n",
    "        df.drop(col, axis = 1, inplace=True)\n",
    "\n",
    "    df[\"OST_WEST_KZ\"] = df[\"OST_WEST_KZ\"].map({\"W\": 0, \"O\": 1})\n",
    "    \n",
    "    for col in multilevel:\n",
    "        dat = df[col][df[col].notnull()]\n",
    "        df = df.join(pd.get_dummies(dat, prefix=col))\n",
    "        df.drop([col], axis=1, inplace=True)\n",
    "    \n",
    "    mixed = feat_info[feat_info['type'] == 'mixed']['attribute'].values\n",
    "    mixed = [x for x in mixed if x in df.columns] \n",
    "        \n",
    "    ms = [1,3,4,8,10,12,14]\n",
    "    av = [2,4,6,7,9,11,13,15]\n",
    "    df['PRAEGENDE_JUGENDJAHRE_MS'] = df['PRAEGENDE_JUGENDJAHRE'].apply(disentangler)\n",
    "      \n",
    "    x = [x+1 for x in range(15)]\n",
    "    y = [40,40,50,50,60,60,60,70,70,80,80,80,80,90,90]\n",
    "    dec = pd.Series(y, index = x)\n",
    "    df['PRAEGENDE_JUGENDJAHRE_DEC'] = df['PRAEGENDE_JUGENDJAHRE'].map(dec)\n",
    "    \n",
    "    df.loc[df['CAMEO_INTL_2015'].notnull(),'CAMEO_INTL_2015_WEALTH'] = df.loc[df['CAMEO_INTL_2015'].notnull(),'CAMEO_INTL_2015'].map(lambda x:int(str(x)[0]))\n",
    "    df.loc[df['CAMEO_INTL_2015'].notnull(),'CAMEO_INTL_2015_LIFESTAGE'] = df.loc[df['CAMEO_INTL_2015'].notnull(),'CAMEO_INTL_2015'].map(lambda x:int(str(x)[1]))\n",
    "\n",
    "    df.drop(mixed, axis=1, inplace=True)\n",
    "    \n",
    "    clean_df = df.loc[idx1]\n",
    "    dirty_df = df.loc[idx2]  \n",
    "        \n",
    "    # Return clean and dirty dataframe.\n",
    "    return clean_df, dirty_df"
   ]
  },
  {
   "cell_type": "markdown",
   "metadata": {},
   "source": [
    "**Notes**  \n",
    "Applying one-hot encoding to the variable \"GEBAEUDETYP\" causes some issues as there are no values for one of the dummy variables (no dummy for `GEBAEUDETYP_5.0`) leading to a different number of features for both datasets. This would become a problem later on. \n",
    "\n",
    "Again, there are other ways to solve this but the easiest one for now is to drop this variable entirely."
   ]
  },
  {
   "cell_type": "markdown",
   "metadata": {},
   "source": [
    "#### Checking the function\n",
    "We are checking whether the function seems to work or not. Note that applying the function may take a while..."
   ]
  },
  {
   "cell_type": "code",
   "execution_count": 50,
   "metadata": {},
   "outputs": [
    {
     "name": "stdout",
     "output_type": "stream",
     "text": [
      "53.536141872406006\n"
     ]
    }
   ],
   "source": [
    "# Reload the initial data and check if the function worked\n",
    "feat_info = pd.read_csv(\"AZDIAS_Feature_Summary.csv\", sep=\";\")\n",
    "\n",
    "# Reload and check if the function worked\n",
    "import time\n",
    "start = time.time()\n",
    "azdias = pd.read_csv(\"Udacity_AZDIAS_Subset.csv\", sep=\";\")\n",
    "clean_azdias, dirty_azdias = clean_data(azdias)\n",
    "end = time.time()\n",
    "print(end - start)"
   ]
  },
  {
   "cell_type": "code",
   "execution_count": 51,
   "metadata": {},
   "outputs": [
    {
     "name": "stdout",
     "output_type": "stream",
     "text": [
      "9.093443870544434\n"
     ]
    }
   ],
   "source": [
    "# Load customers data to check if we have same numbers of cols, etc.\n",
    "start = time.time()\n",
    "customers = pd.read_csv(\"Udacity_CUSTOMERS_Subset.csv\", sep=\";\")\n",
    "clean_customers, dirty_customers = clean_data(customers)\n",
    "end = time.time()\n",
    "print(end - start)"
   ]
  },
  {
   "cell_type": "markdown",
   "metadata": {},
   "source": [
    "Same shape for both cleaned datasets?"
   ]
  },
  {
   "cell_type": "code",
   "execution_count": 52,
   "metadata": {},
   "outputs": [
    {
     "name": "stdout",
     "output_type": "stream",
     "text": [
      "(797426, 108)\n",
      "(141640, 108)\n"
     ]
    }
   ],
   "source": [
    "# Shape of clean azdias \n",
    "print(clean_azdias.shape)\n",
    "\n",
    "# Shape of clean customers data\n",
    "print(clean_customers.shape)\n",
    "\n",
    "# Change notation to initial one / simplify notation\n",
    "# Aliasing so data is not copied and drains RAM\n",
    "sub1 = clean_azdias\n",
    "customers = clean_customers"
   ]
  },
  {
   "cell_type": "markdown",
   "metadata": {},
   "source": [
    "---\n",
    "## Part 2: Feature Transformation and Principal Component Analysis\n",
    "\n",
    "### Apply Feature Scaling\n",
    "\n",
    "Before we apply dimensionality reduction to the data, we need to perform feature scaling so that the principal component vectors are not influenced by the natural differences in scale for features. Starting from this part of the project, we'll want to keep an eye on the [API reference page for sklearn](http://scikit-learn.org/stable/modules/classes.html).\n",
    "\n",
    "- sklearn requires that data not have missing values in order for its estimators to work properly. So, before applying the scaler to the data, we make sure that the DataFrame is cleaned of the remaining missing values. This can be as simple as just removing all data points with missing data, or applying an [Imputer](http://scikit-learn.org/stable/modules/generated/sklearn.preprocessing.Imputer.html) to replace all missing values.\n",
    "\n",
    "- For the actual scaling function, a [StandardScaler](http://scikit-learn.org/stable/modules/generated/sklearn.preprocessing.StandardScaler.html) instance is suggested, scaling each feature to mean 0 and standard deviation 1.\n",
    "\n",
    "- For these classes, we can make use of the `.fit_transform()` method to both fit a procedure to the data as well as apply the transformation to the data at the same time. \n",
    "\n",
    "Note that later we'll applying the fitted objects again to the customer demographics data. It is important that we do not fit them again in order to have a consistent scaling."
   ]
  },
  {
   "cell_type": "code",
   "execution_count": 53,
   "metadata": {},
   "outputs": [],
   "source": [
    "# Initialize instance of the class...\n",
    "imputer = Imputer()\n",
    "sub1 = pd.DataFrame(imputer.fit_transform(sub1), columns = sub1.columns)\n",
    "\n",
    "# Apply feature scaling to the general population demographics data.\n",
    "scaler = StandardScaler()\n",
    "sub1 = pd.DataFrame(scaler.fit_transform(sub1), columns = sub1.columns)"
   ]
  },
  {
   "cell_type": "markdown",
   "metadata": {},
   "source": [
    "### Perform Dimensionality Reduction\n",
    "We can now apply dimensionality reduction techniques to the data using the skelarn library.\n",
    "\n",
    "- [PCA](http://scikit-learn.org/stable/modules/generated/sklearn.decomposition.PCA.html) class to apply principal component analysis (PCA) on the data, thus finding the vectors of maximal variance in the data.\n",
    "\n",
    "- We check out the ratio of variance explained by each principal component as well as the cumulative variance explained. Afterwards, we plot the cumulative or sequential values using matplotlib's [`plot()`](https://matplotlib.org/api/_as_gen/matplotlib.pyplot.plot.html) function. \n",
    "\n",
    "- Based on the findings, we select a value for the number of transformed features we'll retain for the clustering part of the project."
   ]
  },
  {
   "cell_type": "code",
   "execution_count": 54,
   "metadata": {},
   "outputs": [
    {
     "data": {
      "text/plain": [
       "array([0.12151871, 0.21882256, 0.28027692, 0.31648147, 0.34375323,\n",
       "       0.36555191, 0.38541812, 0.40510349, 0.42336413, 0.44102372,\n",
       "       0.45800588, 0.47376023, 0.4885777 , 0.50286147, 0.51631735,\n",
       "       0.52936753, 0.54211465, 0.55430394, 0.56640831, 0.57847996,\n",
       "       0.59005957, 0.60141934, 0.61259071, 0.62361846, 0.63456035,\n",
       "       0.64539643, 0.65592829, 0.66640222, 0.676737  , 0.68690422,\n",
       "       0.69703054, 0.70689993, 0.71674038, 0.72647349, 0.73608417,\n",
       "       0.74555012, 0.75497633, 0.76419137, 0.77318761, 0.78213186,\n",
       "       0.79100514, 0.79958539, 0.80812077, 0.81642414, 0.8243143 ,\n",
       "       0.8320925 , 0.83963406, 0.84705163, 0.85414269, 0.86100243])"
      ]
     },
     "execution_count": 54,
     "metadata": {},
     "output_type": "execute_result"
    }
   ],
   "source": [
    "# Initialize an instance of PCA() class and fit to sub1\n",
    "pca = PCA()\n",
    "sub1_pca = pca.fit_transform(sub1)\n",
    "\n",
    "# Show cumulative sum of explained variance ratio\n",
    "np.cumsum(pca.explained_variance_ratio_)[:50]"
   ]
  },
  {
   "cell_type": "markdown",
   "metadata": {},
   "source": [
    "**Notes**  \n",
    "From above we see that we need 5 principal components to explain more than a third of the variance, 14 to explain half of it and around 43 principal components to get to a cum. variance of more than eighty percent."
   ]
  },
  {
   "cell_type": "code",
   "execution_count": 55,
   "metadata": {},
   "outputs": [
    {
     "data": {
      "image/png": "[encoded data removed]",
      "text/plain": [
       "<matplotlib.figure.Figure at 0x1758f19ad68>"
      ]
     },
     "metadata": {},
     "output_type": "display_data"
    }
   ],
   "source": [
    "# Visual investigation of the variance accounted for by each PC.\n",
    "fig = plt.figure()\n",
    "ax = fig.add_axes([0,0,1,1],True)\n",
    "ax.set_title(\"No. of principal components in relation to explained variance\")\n",
    "ax2 = ax.twinx()\n",
    "ax.plot(pca.explained_variance_ratio_, label='var per principal component',)\n",
    "ax2.plot(np.cumsum(pca.explained_variance_ratio_), label='cum. var.',color = 'red');\n",
    "fig.legend(loc=(0.6,0.2));"
   ]
  },
  {
   "cell_type": "markdown",
   "metadata": {},
   "source": [
    "**Notes**  \n",
    "Fewer than 15 principal components are needed to achieve an explained cumulative variance of 50%. Moreover, with little more than 40 principal components, 80% of variance can be explained."
   ]
  },
  {
   "cell_type": "code",
   "execution_count": 56,
   "metadata": {},
   "outputs": [
    {
     "name": "stdout",
     "output_type": "stream",
     "text": [
      "Explained variance using 43 components is: 80.72%\n"
     ]
    }
   ],
   "source": [
    "# Re-apply PCA to the data while selecting number of components to retain.\n",
    "n = 43\n",
    "pca = PCA(n_components = n, random_state=42)\n",
    "sub1_pca = pca.fit_transform(sub1)\n",
    "pca_expl = pca.explained_variance_ratio_.sum()\n",
    "print(\"Explained variance using {} components is: {:.2f}%\".format(n,pca_expl*100))"
   ]
  },
  {
   "cell_type": "markdown",
   "metadata": {},
   "source": [
    "### Interpret Principal Components\n",
    "\n",
    "Now that we have our transformed principal components, it's a nice idea to check out the weight of each variable on the first few components to see if they can be interpreted in some way.\n",
    "\n",
    "As a reminder, each principal component is a unit vector that points in the direction of highest variance (after accounting for the variance captured by earlier principal components). The further a weight is from zero, the more the principal component is in the direction of the corresponding feature. If two features have large weights of the same sign (both positive or both negative), then increases in one tend expect to be associated with increases in the other. To contrast, features with different signs can be expected to show a negative correlation: increases in one variable should result in a decrease in the other.\n",
    "\n",
    "- To investigate the features, we have to map each weight to their corresponding feature name, then sort the features according to weight. The most interesting features for each principal component will be those at the beginning and end of the sorted list. \n",
    "\n",
    "- The data dictionary document helps to understand these prominent features, their relationships, and what a positive or negative value on the principal component might indicate.\n",
    "\n",
    "- We investigate and interpret feature associations from the first three principal components in this substep. To help facilitate this, we write a function that can be called at any time to print the sorted list of feature weights, for the *i*-th principal component. This might come in handy in the next step of the project, when we interpret the tendencies of the discovered clusters."
   ]
  },
  {
   "cell_type": "code",
   "execution_count": 57,
   "metadata": {},
   "outputs": [
    {
     "data": {
      "text/html": [
       "<div>\n",
       "<style scoped>\n",
       "    .dataframe tbody tr th:only-of-type {\n",
       "        vertical-align: middle;\n",
       "    }\n",
       "\n",
       "    .dataframe tbody tr th {\n",
       "        vertical-align: top;\n",
       "    }\n",
       "\n",
       "    .dataframe thead th {\n",
       "        text-align: right;\n",
       "    }\n",
       "</style>\n",
       "<table border=\"1\" class=\"dataframe\">\n",
       "  <thead>\n",
       "    <tr style=\"text-align: right;\">\n",
       "      <th></th>\n",
       "      <th>0</th>\n",
       "      <th>1</th>\n",
       "      <th>2</th>\n",
       "      <th>3</th>\n",
       "      <th>4</th>\n",
       "      <th>5</th>\n",
       "      <th>6</th>\n",
       "      <th>7</th>\n",
       "      <th>8</th>\n",
       "      <th>9</th>\n",
       "      <th>...</th>\n",
       "      <th>33</th>\n",
       "      <th>34</th>\n",
       "      <th>35</th>\n",
       "      <th>36</th>\n",
       "      <th>37</th>\n",
       "      <th>38</th>\n",
       "      <th>39</th>\n",
       "      <th>40</th>\n",
       "      <th>41</th>\n",
       "      <th>42</th>\n",
       "    </tr>\n",
       "  </thead>\n",
       "  <tbody>\n",
       "    <tr>\n",
       "      <th>0</th>\n",
       "      <td>(LP_STATUS_GROB_1.0, 0.20325682404854287)</td>\n",
       "      <td>(ALTERSKATEGORIE_GROB, 0.22593231638214462)</td>\n",
       "      <td>(SEMIO_VERT, 0.32673630623661826)</td>\n",
       "      <td>(GREEN_AVANTGARDE, 0.33091059594549815)</td>\n",
       "      <td>(ANZ_PERSONEN, 0.2977204106348195)</td>\n",
       "      <td>(KBA13_ANZAHL_PKW, 0.3523187023959497)</td>\n",
       "      <td>(KBA05_ANTG4, 0.2591319926995533)</td>\n",
       "      <td>(KBA05_ANTG4, 0.322598275090719)</td>\n",
       "      <td>(NATIONALITAET_KZ_2.0, 0.2686736867034312)</td>\n",
       "      <td>(REGIOTYP, 0.25074381139268104)</td>\n",
       "      <td>...</td>\n",
       "      <td>(SOHO_KZ, 0.5226296052653983)</td>\n",
       "      <td>(LP_FAMILIE_GROB_4.0, 0.46972136226501665)</td>\n",
       "      <td>(NATIONALITAET_KZ_3.0, 0.3497744937855006)</td>\n",
       "      <td>(CAMEO_DEUG_2015_5, 0.4590212646082588)</td>\n",
       "      <td>(WOHNDAUER_2008, 0.3351077071984484)</td>\n",
       "      <td>(ANZ_HH_TITEL, 0.4625877228619181)</td>\n",
       "      <td>(KBA05_ANTG3, 0.2244070699396672)</td>\n",
       "      <td>(ZABEOTYP_4, 0.35551836554504584)</td>\n",
       "      <td>(ZABEOTYP_6, 0.3455294127870479)</td>\n",
       "      <td>(SOHO_KZ, 0.46163872600346895)</td>\n",
       "    </tr>\n",
       "    <tr>\n",
       "      <th>1</th>\n",
       "      <td>(PLZ8_ANTG3, 0.1940853944894831)</td>\n",
       "      <td>(FINANZ_VORSORGER, 0.21164474876951095)</td>\n",
       "      <td>(SEMIO_FAM, 0.25806916245786454)</td>\n",
       "      <td>(LP_STATUS_GROB_5.0, 0.2709454115787222)</td>\n",
       "      <td>(LP_FAMILIE_GROB_5.0, 0.24682251166267688)</td>\n",
       "      <td>(PLZ8_HHZ, 0.32044547149326974)</td>\n",
       "      <td>(ANZ_HAUSHALTE_AKTIV, 0.23622342044671607)</td>\n",
       "      <td>(ANZ_HAUSHALTE_AKTIV, 0.25883032156312946)</td>\n",
       "      <td>(NATIONALITAET_KZ_3.0, 0.2180751538268724)</td>\n",
       "      <td>(KKK, 0.22910593697149811)</td>\n",
       "      <td>...</td>\n",
       "      <td>(ZABEOTYP_2, 0.2669086540635914)</td>\n",
       "      <td>(CAMEO_DEUG_2015_9, 0.2568052271993823)</td>\n",
       "      <td>(SOHO_KZ, 0.34313693162408115)</td>\n",
       "      <td>(NATIONALITAET_KZ_3.0, 0.44660815300312906)</td>\n",
       "      <td>(FINANZTYP_4, 0.2701594311702839)</td>\n",
       "      <td>(SOHO_KZ, 0.23895922806647726)</td>\n",
       "      <td>(CAMEO_DEUG_2015_7, 0.2193797482910828)</td>\n",
       "      <td>(ANZ_HH_TITEL, 0.17181027323497527)</td>\n",
       "      <td>(SHOPPER_TYP_0.0, 0.3128539126792891)</td>\n",
       "      <td>(ZABEOTYP_1, 0.3771617626757052)</td>\n",
       "    </tr>\n",
       "    <tr>\n",
       "      <th>2</th>\n",
       "      <td>(CAMEO_INTL_2015_WEALTH, 0.189239983742159)</td>\n",
       "      <td>(ZABEOTYP_3, 0.20513983484792153)</td>\n",
       "      <td>(SEMIO_SOZ, 0.25771199206886286)</td>\n",
       "      <td>(EWDICHTE, 0.25742520422589416)</td>\n",
       "      <td>(KKK, 0.23386282969744016)</td>\n",
       "      <td>(ANZ_PERSONEN, 0.27700729381257394)</td>\n",
       "      <td>(SHOPPER_TYP_3.0, 0.20617550152865918)</td>\n",
       "      <td>(KBA13_ANZAHL_PKW, 0.2523954528693729)</td>\n",
       "      <td>(SEMIO_TRADV, 0.20398286655066336)</td>\n",
       "      <td>(NATIONALITAET_KZ_2.0, 0.17431431155409532)</td>\n",
       "      <td>...</td>\n",
       "      <td>(NATIONALITAET_KZ_2.0, 0.21246157500329693)</td>\n",
       "      <td>(CAMEO_DEUG_2015_2, 0.22127372204477966)</td>\n",
       "      <td>(LP_FAMILIE_GROB_3.0, 0.3198893580744107)</td>\n",
       "      <td>(SOHO_KZ, 0.35495854977682995)</td>\n",
       "      <td>(LP_FAMILIE_GROB_3.0, 0.21315238396505196)</td>\n",
       "      <td>(KBA05_ANTG2, 0.22250896208024393)</td>\n",
       "      <td>(FINANZTYP_4, 0.21899299510614093)</td>\n",
       "      <td>(LP_FAMILIE_GROB_5.0, 0.16697777434977004)</td>\n",
       "      <td>(FINANZTYP_4, 0.2101185926091189)</td>\n",
       "      <td>(RELAT_AB, 0.168150683070761)</td>\n",
       "    </tr>\n",
       "    <tr>\n",
       "      <th>3</th>\n",
       "      <td>(HH_EINKOMMEN_SCORE, 0.18892347561650039)</td>\n",
       "      <td>(SEMIO_ERL, 0.1882739971415195)</td>\n",
       "      <td>(SEMIO_KULT, 0.24690570140768683)</td>\n",
       "      <td>(ORTSGR_KLS9, 0.24689860233994168)</td>\n",
       "      <td>(FINANZTYP_6, 0.22564245822739656)</td>\n",
       "      <td>(PLZ8_GBZ, 0.25934689093506497)</td>\n",
       "      <td>(ANZ_HH_TITEL, 0.1834505544283084)</td>\n",
       "      <td>(PLZ8_HHZ, 0.24560740357305635)</td>\n",
       "      <td>(ZABEOTYP_6, 0.19613110759525884)</td>\n",
       "      <td>(FINANZTYP_2, 0.16775860673539375)</td>\n",
       "      <td>...</td>\n",
       "      <td>(CJT_GESAMTTYP_1.0, 0.16850523710152782)</td>\n",
       "      <td>(CJT_GESAMTTYP_4.0, 0.1853259678873041)</td>\n",
       "      <td>(CAMEO_DEUG_2015_4, 0.19380739570705782)</td>\n",
       "      <td>(LP_FAMILIE_GROB_4.0, 0.1833861372151892)</td>\n",
       "      <td>(ANZ_HH_TITEL, 0.20977670527582556)</td>\n",
       "      <td>(ANZ_HAUSHALTE_AKTIV, 0.21968566478097726)</td>\n",
       "      <td>(CAMEO_DEUG_2015_4, 0.21074121586855446)</td>\n",
       "      <td>(NATIONALITAET_KZ_3.0, 0.1336636290788706)</td>\n",
       "      <td>(ZABEOTYP_4, 0.18756935338799502)</td>\n",
       "      <td>(KBA05_ANTG3, 0.15440845336706976)</td>\n",
       "    </tr>\n",
       "    <tr>\n",
       "      <th>4</th>\n",
       "      <td>(PLZ8_ANTG4, 0.18742668010881347)</td>\n",
       "      <td>(SEMIO_LUST, 0.16021868841839781)</td>\n",
       "      <td>(FINANZTYP_5, 0.13684732568598618)</td>\n",
       "      <td>(ANZ_PERSONEN, 0.14996499482980302)</td>\n",
       "      <td>(OST_WEST_KZ, 0.18836506766598765)</td>\n",
       "      <td>(LP_FAMILIE_GROB_5.0, 0.25455442365206443)</td>\n",
       "      <td>(FINANZ_HAUSBAUER, 0.1798509703199863)</td>\n",
       "      <td>(MIN_GEBAEUDEJAHR, 0.18879062805454763)</td>\n",
       "      <td>(SEMIO_RAT, 0.19560525292149097)</td>\n",
       "      <td>(KBA05_ANTG4, 0.15530770541938552)</td>\n",
       "      <td>...</td>\n",
       "      <td>(CAMEO_DEUG_2015_9, 0.14642884039855886)</td>\n",
       "      <td>(CAMEO_DEUG_2015_3, 0.17030349286147017)</td>\n",
       "      <td>(CAMEO_DEUG_2015_2, 0.1313010892481541)</td>\n",
       "      <td>(LP_STATUS_GROB_1.0, 0.10622479981685373)</td>\n",
       "      <td>(CJT_GESAMTTYP_1.0, 0.17822175566984985)</td>\n",
       "      <td>(LP_STATUS_GROB_2.0, 0.16742952168783576)</td>\n",
       "      <td>(NATIONALITAET_KZ_2.0, 0.17353198866424366)</td>\n",
       "      <td>(SHOPPER_TYP_2.0, 0.13259280789749953)</td>\n",
       "      <td>(FINANZTYP_3, 0.17873010782570123)</td>\n",
       "      <td>(GEBAEUDETYP_RASTER, 0.1265727325460186)</td>\n",
       "    </tr>\n",
       "  </tbody>\n",
       "</table>\n",
       "<p>5 rows × 43 columns</p>\n",
       "</div>"
      ],
      "text/plain": [
       "                                            0   \\\n",
       "0    (LP_STATUS_GROB_1.0, 0.20325682404854287)   \n",
       "1             (PLZ8_ANTG3, 0.1940853944894831)   \n",
       "2  (CAMEO_INTL_2015_WEALTH, 0.189239983742159)   \n",
       "3    (HH_EINKOMMEN_SCORE, 0.18892347561650039)   \n",
       "4            (PLZ8_ANTG4, 0.18742668010881347)   \n",
       "\n",
       "                                            1   \\\n",
       "0  (ALTERSKATEGORIE_GROB, 0.22593231638214462)   \n",
       "1      (FINANZ_VORSORGER, 0.21164474876951095)   \n",
       "2            (ZABEOTYP_3, 0.20513983484792153)   \n",
       "3              (SEMIO_ERL, 0.1882739971415195)   \n",
       "4            (SEMIO_LUST, 0.16021868841839781)   \n",
       "\n",
       "                                   2   \\\n",
       "0   (SEMIO_VERT, 0.32673630623661826)   \n",
       "1    (SEMIO_FAM, 0.25806916245786454)   \n",
       "2    (SEMIO_SOZ, 0.25771199206886286)   \n",
       "3   (SEMIO_KULT, 0.24690570140768683)   \n",
       "4  (FINANZTYP_5, 0.13684732568598618)   \n",
       "\n",
       "                                         3   \\\n",
       "0   (GREEN_AVANTGARDE, 0.33091059594549815)   \n",
       "1  (LP_STATUS_GROB_5.0, 0.2709454115787222)   \n",
       "2           (EWDICHTE, 0.25742520422589416)   \n",
       "3        (ORTSGR_KLS9, 0.24689860233994168)   \n",
       "4       (ANZ_PERSONEN, 0.14996499482980302)   \n",
       "\n",
       "                                           4   \\\n",
       "0          (ANZ_PERSONEN, 0.2977204106348195)   \n",
       "1  (LP_FAMILIE_GROB_5.0, 0.24682251166267688)   \n",
       "2                  (KKK, 0.23386282969744016)   \n",
       "3          (FINANZTYP_6, 0.22564245822739656)   \n",
       "4          (OST_WEST_KZ, 0.18836506766598765)   \n",
       "\n",
       "                                           5   \\\n",
       "0      (KBA13_ANZAHL_PKW, 0.3523187023959497)   \n",
       "1             (PLZ8_HHZ, 0.32044547149326974)   \n",
       "2         (ANZ_PERSONEN, 0.27700729381257394)   \n",
       "3             (PLZ8_GBZ, 0.25934689093506497)   \n",
       "4  (LP_FAMILIE_GROB_5.0, 0.25455442365206443)   \n",
       "\n",
       "                                           6   \\\n",
       "0           (KBA05_ANTG4, 0.2591319926995533)   \n",
       "1  (ANZ_HAUSHALTE_AKTIV, 0.23622342044671607)   \n",
       "2      (SHOPPER_TYP_3.0, 0.20617550152865918)   \n",
       "3          (ANZ_HH_TITEL, 0.1834505544283084)   \n",
       "4      (FINANZ_HAUSBAUER, 0.1798509703199863)   \n",
       "\n",
       "                                           7   \\\n",
       "0            (KBA05_ANTG4, 0.322598275090719)   \n",
       "1  (ANZ_HAUSHALTE_AKTIV, 0.25883032156312946)   \n",
       "2      (KBA13_ANZAHL_PKW, 0.2523954528693729)   \n",
       "3             (PLZ8_HHZ, 0.24560740357305635)   \n",
       "4     (MIN_GEBAEUDEJAHR, 0.18879062805454763)   \n",
       "\n",
       "                                           8   \\\n",
       "0  (NATIONALITAET_KZ_2.0, 0.2686736867034312)   \n",
       "1  (NATIONALITAET_KZ_3.0, 0.2180751538268724)   \n",
       "2          (SEMIO_TRADV, 0.20398286655066336)   \n",
       "3           (ZABEOTYP_6, 0.19613110759525884)   \n",
       "4            (SEMIO_RAT, 0.19560525292149097)   \n",
       "\n",
       "                                            9   \\\n",
       "0              (REGIOTYP, 0.25074381139268104)   \n",
       "1                   (KKK, 0.22910593697149811)   \n",
       "2  (NATIONALITAET_KZ_2.0, 0.17431431155409532)   \n",
       "3           (FINANZTYP_2, 0.16775860673539375)   \n",
       "4           (KBA05_ANTG4, 0.15530770541938552)   \n",
       "\n",
       "                     ...                     \\\n",
       "0                    ...                      \n",
       "1                    ...                      \n",
       "2                    ...                      \n",
       "3                    ...                      \n",
       "4                    ...                      \n",
       "\n",
       "                                            33  \\\n",
       "0                (SOHO_KZ, 0.5226296052653983)   \n",
       "1             (ZABEOTYP_2, 0.2669086540635914)   \n",
       "2  (NATIONALITAET_KZ_2.0, 0.21246157500329693)   \n",
       "3     (CJT_GESAMTTYP_1.0, 0.16850523710152782)   \n",
       "4     (CAMEO_DEUG_2015_9, 0.14642884039855886)   \n",
       "\n",
       "                                           34  \\\n",
       "0  (LP_FAMILIE_GROB_4.0, 0.46972136226501665)   \n",
       "1     (CAMEO_DEUG_2015_9, 0.2568052271993823)   \n",
       "2    (CAMEO_DEUG_2015_2, 0.22127372204477966)   \n",
       "3     (CJT_GESAMTTYP_4.0, 0.1853259678873041)   \n",
       "4    (CAMEO_DEUG_2015_3, 0.17030349286147017)   \n",
       "\n",
       "                                           35  \\\n",
       "0  (NATIONALITAET_KZ_3.0, 0.3497744937855006)   \n",
       "1              (SOHO_KZ, 0.34313693162408115)   \n",
       "2   (LP_FAMILIE_GROB_3.0, 0.3198893580744107)   \n",
       "3    (CAMEO_DEUG_2015_4, 0.19380739570705782)   \n",
       "4     (CAMEO_DEUG_2015_2, 0.1313010892481541)   \n",
       "\n",
       "                                            36  \\\n",
       "0      (CAMEO_DEUG_2015_5, 0.4590212646082588)   \n",
       "1  (NATIONALITAET_KZ_3.0, 0.44660815300312906)   \n",
       "2               (SOHO_KZ, 0.35495854977682995)   \n",
       "3    (LP_FAMILIE_GROB_4.0, 0.1833861372151892)   \n",
       "4    (LP_STATUS_GROB_1.0, 0.10622479981685373)   \n",
       "\n",
       "                                           37  \\\n",
       "0        (WOHNDAUER_2008, 0.3351077071984484)   \n",
       "1           (FINANZTYP_4, 0.2701594311702839)   \n",
       "2  (LP_FAMILIE_GROB_3.0, 0.21315238396505196)   \n",
       "3         (ANZ_HH_TITEL, 0.20977670527582556)   \n",
       "4    (CJT_GESAMTTYP_1.0, 0.17822175566984985)   \n",
       "\n",
       "                                           38  \\\n",
       "0          (ANZ_HH_TITEL, 0.4625877228619181)   \n",
       "1              (SOHO_KZ, 0.23895922806647726)   \n",
       "2          (KBA05_ANTG2, 0.22250896208024393)   \n",
       "3  (ANZ_HAUSHALTE_AKTIV, 0.21968566478097726)   \n",
       "4   (LP_STATUS_GROB_2.0, 0.16742952168783576)   \n",
       "\n",
       "                                            39  \\\n",
       "0            (KBA05_ANTG3, 0.2244070699396672)   \n",
       "1      (CAMEO_DEUG_2015_7, 0.2193797482910828)   \n",
       "2           (FINANZTYP_4, 0.21899299510614093)   \n",
       "3     (CAMEO_DEUG_2015_4, 0.21074121586855446)   \n",
       "4  (NATIONALITAET_KZ_2.0, 0.17353198866424366)   \n",
       "\n",
       "                                           40  \\\n",
       "0           (ZABEOTYP_4, 0.35551836554504584)   \n",
       "1         (ANZ_HH_TITEL, 0.17181027323497527)   \n",
       "2  (LP_FAMILIE_GROB_5.0, 0.16697777434977004)   \n",
       "3  (NATIONALITAET_KZ_3.0, 0.1336636290788706)   \n",
       "4      (SHOPPER_TYP_2.0, 0.13259280789749953)   \n",
       "\n",
       "                                      41  \\\n",
       "0       (ZABEOTYP_6, 0.3455294127870479)   \n",
       "1  (SHOPPER_TYP_0.0, 0.3128539126792891)   \n",
       "2      (FINANZTYP_4, 0.2101185926091189)   \n",
       "3      (ZABEOTYP_4, 0.18756935338799502)   \n",
       "4     (FINANZTYP_3, 0.17873010782570123)   \n",
       "\n",
       "                                         42  \n",
       "0            (SOHO_KZ, 0.46163872600346895)  \n",
       "1          (ZABEOTYP_1, 0.3771617626757052)  \n",
       "2             (RELAT_AB, 0.168150683070761)  \n",
       "3        (KBA05_ANTG3, 0.15440845336706976)  \n",
       "4  (GEBAEUDETYP_RASTER, 0.1265727325460186)  \n",
       "\n",
       "[5 rows x 43 columns]"
      ]
     },
     "execution_count": 57,
     "metadata": {},
     "output_type": "execute_result"
    }
   ],
   "source": [
    "# Map weights for the first principal component to corresponding feature names\n",
    "# and then print the linked values, sorted by weight.\n",
    "\n",
    "def pca_fun(data):\n",
    "    feat = pd.Series(data.columns, range(len(data.columns)))\n",
    "    comp = {}\n",
    "    for i in range(pca.components_.shape[0]):\n",
    "        comp[i] = [(feat[a],b) for a,b in sorted(enumerate(pca.components_[i]),key=lambda x:x[1],reverse=True)]\n",
    "    return pd.DataFrame(comp)\n",
    "\n",
    "comp = pca_fun(sub1)\n",
    "\n",
    "# show comp\n",
    "comp.head()"
   ]
  },
  {
   "cell_type": "markdown",
   "metadata": {},
   "source": [
    "### First principal component\n",
    "Map weights for the first principal components to corresponding feature names and then print the linked values, sorted by weight."
   ]
  },
  {
   "cell_type": "code",
   "execution_count": 58,
   "metadata": {},
   "outputs": [
    {
     "data": {
      "text/plain": [
       "0      (LP_STATUS_GROB_1.0, 0.20325682404854287)\n",
       "1               (PLZ8_ANTG3, 0.1940853944894831)\n",
       "2    (CAMEO_INTL_2015_WEALTH, 0.189239983742159)\n",
       "3      (HH_EINKOMMEN_SCORE, 0.18892347561650039)\n",
       "4              (PLZ8_ANTG4, 0.18742668010881347)\n",
       "Name: 0, dtype: object"
      ]
     },
     "execution_count": 58,
     "metadata": {},
     "output_type": "execute_result"
    }
   ],
   "source": [
    "# Show first 5 of principal component 1\n",
    "comp[:5][0]"
   ]
  },
  {
   "cell_type": "code",
   "execution_count": 59,
   "metadata": {},
   "outputs": [
    {
     "data": {
      "text/plain": [
       "103             (KBA05_GBZ, -0.1895778379620755)\n",
       "104           (PLZ8_ANTG1, -0.19354755227237752)\n",
       "105          (KBA05_ANTG1, -0.19919050593814505)\n",
       "106    (FINANZ_MINIMALIST, -0.21209822195362804)\n",
       "107           (MOBI_REGIO, -0.21305614855711275)\n",
       "Name: 0, dtype: object"
      ]
     },
     "execution_count": 59,
     "metadata": {},
     "output_type": "execute_result"
    }
   ],
   "source": [
    "comp[-5:][0]"
   ]
  },
  {
   "cell_type": "markdown",
   "metadata": {},
   "source": [
    "### Second principal component\n",
    "Same for the second principal component"
   ]
  },
  {
   "cell_type": "code",
   "execution_count": 60,
   "metadata": {},
   "outputs": [
    {
     "data": {
      "text/plain": [
       "0    (ALTERSKATEGORIE_GROB, 0.22593231638214462)\n",
       "1        (FINANZ_VORSORGER, 0.21164474876951095)\n",
       "2              (ZABEOTYP_3, 0.20513983484792153)\n",
       "3                (SEMIO_ERL, 0.1882739971415195)\n",
       "4              (SEMIO_LUST, 0.16021868841839781)\n",
       "Name: 1, dtype: object"
      ]
     },
     "execution_count": 60,
     "metadata": {},
     "output_type": "execute_result"
    }
   ],
   "source": [
    "# 2nd PC, first five\n",
    "comp[:5][1]"
   ]
  },
  {
   "cell_type": "code",
   "execution_count": 61,
   "metadata": {},
   "outputs": [
    {
     "data": {
      "text/plain": [
       "103                  (SEMIO_TRADV, -0.20509023585708952)\n",
       "104         (FINANZ_UNAUFFAELLIGER, -0.2111877179028752)\n",
       "105                (FINANZ_SPARER, -0.21121331706292812)\n",
       "106                    (SEMIO_REL, -0.21184774153733715)\n",
       "107    (PRAEGENDE_JUGENDJAHRE_DEC, -0.23005036693804043)\n",
       "Name: 1, dtype: object"
      ]
     },
     "execution_count": 61,
     "metadata": {},
     "output_type": "execute_result"
    }
   ],
   "source": [
    "# 2nd PC, last five\n",
    "comp[-5:][1]"
   ]
  },
  {
   "cell_type": "markdown",
   "metadata": {},
   "source": [
    "### Third principal component"
   ]
  },
  {
   "cell_type": "code",
   "execution_count": 62,
   "metadata": {},
   "outputs": [
    {
     "data": {
      "text/plain": [
       "0     (SEMIO_VERT, 0.32673630623661826)\n",
       "1      (SEMIO_FAM, 0.25806916245786454)\n",
       "2      (SEMIO_SOZ, 0.25771199206886286)\n",
       "3     (SEMIO_KULT, 0.24690570140768683)\n",
       "4    (FINANZTYP_5, 0.13684732568598618)\n",
       "Name: 2, dtype: object"
      ]
     },
     "execution_count": 62,
     "metadata": {},
     "output_type": "execute_result"
    }
   ],
   "source": [
    "# 3rd PC, first five\n",
    "comp[:5][2]"
   ]
  },
  {
   "cell_type": "code",
   "execution_count": 63,
   "metadata": {},
   "outputs": [
    {
     "data": {
      "text/plain": [
       "103      (SEMIO_ERL, -0.1967329057789234)\n",
       "104    (SEMIO_KRIT, -0.27069687845665946)\n",
       "105       (SEMIO_DOM, -0.299995472488797)\n",
       "106     (SEMIO_KAEM, -0.3265228025062786)\n",
       "107      (ANREDE_KZ, -0.3541708473993428)\n",
       "Name: 2, dtype: object"
      ]
     },
     "execution_count": 63,
     "metadata": {},
     "output_type": "execute_result"
    }
   ],
   "source": [
    "# 3rd PC, last five\n",
    "comp[-5:][2]"
   ]
  },
  {
   "cell_type": "markdown",
   "metadata": {},
   "source": [
    "### Interpretation Principal Components\n",
    "**First principal component:**  \n",
    "High correlation and therefore important contribution in explaining the variation have the factors:\n",
    "- Status\n",
    "- Income\n",
    "- Living conditions (especially living in regions where bigger apartment buildings seem more prevaent)\n",
    "- Wealth \n",
    "- Size of community.\n",
    "\n",
    "**Second principal component:**  \n",
    "Dimensions of this principal component are to a large extent determined by:\n",
    "- Age\n",
    "- Financial literacy\n",
    "- Personal attitudes (especially dutifulness, traditional and religious)\n",
    "\n",
    "**Third principal component:**  \n",
    "This principal components direction is in large part explained by:\n",
    "- Personality typology: \n",
    " - Positive: Dreamfulness, family-, socially-, and cultural mindfulness\n",
    " - Negative: Rational, event-orientede, critical-minded or combative classified individuals\n",
    "- Gender is negataively associated with this component\n",
    "\n",
    "It can be noted that in PCA the factor loading is the correlation of the variable on the respective PC. Therefore negative **and** positive values are both important. The higher the number the further away from the midpoint and, thus,  the more important they are for the principal component."
   ]
  },
  {
   "cell_type": "markdown",
   "metadata": {},
   "source": [
    "## Part 3: Clustering\n",
    "\n",
    "### Apply Clustering to General Population\n",
    "So far, we have assessed and cleaned the demographics data, then scaled and transformed them. Now, it's time so see how the data clusters in the principal components space. We will apply k-means clusering to the dataset and use the average within-cluster distances from each point to their assigned cluster's centroid to decide on a number of clusters to keep.\n",
    "\n",
    "- We will use sklearn's [KMeans](http://scikit-learn.org/stable/modules/generated/sklearn.cluster.KMeans.html#sklearn.cluster.KMeans) class to perform k-means clustering on the PCA-transformed data.\n",
    "\n",
    "- Then, we compute the average difference from each point to its assigned cluster's center. The KMeans object's `.score()` method seems to be useful here. In sklearn, scores tend to be defined so that larger is better.\n",
    "- We perform the above two steps for a number of different cluster counts to see how the average distance decreases with an increasing number of clusters. However, each additional cluster provides a smaller net benefit. We use this fact to select a final number of clusters in which to group the data.\n",
    "- We'll plot the score and look out whether we can use the so-called [Elbow method](https://en.wikipedia.org/wiki/Elbow_method_(clustering)).\n",
    "- Because of the large size of the dataset, it takes a long time for the algorithm to resolve. The more clusters to fit, the longer the algorithm will take.\n",
    "- Once we've selected a final number of clusters to use, we re-fit a KMeans instance to perform the clustering operation. We will also obtain the cluster assignments for the general demographics data to use them later for comparison.\n",
    "\n",
    "After realizing that my computer takes a lot of time for fitting many `KMeans()` instances, I have opted to use the `MiniBatchKmeans()` class to determine the optimal no. of clusters before using `KMeans()` on the perceived, optimal number of classes. Feel free to deviate from my approach."
   ]
  },
  {
   "cell_type": "code",
   "execution_count": 64,
   "metadata": {},
   "outputs": [
    {
     "name": "stdout",
     "output_type": "stream",
     "text": [
      "Evaluation: 1 clusters | Distance:9.2338 | Score: -69560908.5770\n",
      "Evaluation: 2 clusters | Distance:8.6881 | Score: -61848565.3402\n",
      "Evaluation: 3 clusters | Distance:8.3643 | Score: -57423170.8407\n",
      "Evaluation: 4 clusters | Distance:8.1956 | Score: -55086598.9088\n",
      "Evaluation: 5 clusters | Distance:8.0710 | Score: -53531137.7301\n",
      "Evaluation: 6 clusters | Distance:8.0470 | Score: -53311177.3120\n",
      "Evaluation: 7 clusters | Distance:7.9256 | Score: -51718115.8033\n",
      "Evaluation: 8 clusters | Distance:7.7820 | Score: -49955390.3373\n",
      "Evaluation: 9 clusters | Distance:7.8263 | Score: -50521025.1126\n",
      "Evaluation: 10 clusters | Distance:7.8087 | Score: -50287613.4948\n",
      "Evaluation: 11 clusters | Distance:7.7108 | Score: -49081505.8934\n",
      "Evaluation: 12 clusters | Distance:7.6059 | Score: -47431498.5978\n",
      "Evaluation: 13 clusters | Distance:7.6399 | Score: -48179610.2636\n",
      "Evaluation: 14 clusters | Distance:7.5078 | Score: -46362478.5264\n",
      "Evaluation: 15 clusters | Distance:7.5918 | Score: -47607595.4178\n",
      "Evaluation: 16 clusters | Distance:7.4732 | Score: -46100714.9355\n",
      "Evaluation: 17 clusters | Distance:7.4095 | Score: -45425020.0100\n",
      "Evaluation: 18 clusters | Distance:7.3984 | Score: -44934696.9844\n",
      "Evaluation: 19 clusters | Distance:7.3803 | Score: -44704370.6387\n",
      "Evaluation: 20 clusters | Distance:7.4999 | Score: -46385616.6539\n",
      "Evaluation: 21 clusters | Distance:7.4009 | Score: -45087881.1303\n",
      "Evaluation: 22 clusters | Distance:7.4394 | Score: -45478776.0518\n",
      "Evaluation: 23 clusters | Distance:7.2709 | Score: -43433490.5525\n",
      "Evaluation: 24 clusters | Distance:7.2604 | Score: -43324238.3971\n",
      "Evaluation: 25 clusters | Distance:7.2252 | Score: -42733844.9321\n"
     ]
    }
   ],
   "source": [
    "# Determine list of cluster nums\n",
    "cluster_nums = list(range(1,26))\n",
    "\n",
    "# Lists to keep track of results\n",
    "distances = []\n",
    "score = []\n",
    "\n",
    "# Run MiniBatchKMeans clustering on the data using different numbers of clusters\n",
    "# For-loop to perform the tasks, collect and print results\n",
    "for c in cluster_nums:  \n",
    "\n",
    "    kmeans = MiniBatchKMeans(c)\n",
    "    preds = kmeans.fit_predict(sub1_pca)\n",
    "    \n",
    "    # compute average within-cluster distances.\n",
    "    pred_centroids = kmeans.cluster_centers_\n",
    "    centers = pred_centroids[preds]\n",
    "    distance = np.sqrt(((sub1_pca - centers) ** 2).sum(axis=1)).mean()\n",
    "    distances.append(distance)\n",
    "    \n",
    "    # Score \n",
    "    sc = kmeans.score(sub1_pca)\n",
    "    score.append(sc)\n",
    "    \n",
    "    print(\"Evaluation: {} clusters | Distance:{:.4f} | Score: {:.4f}\".format(c, distance, sc))"
   ]
  },
  {
   "cell_type": "code",
   "execution_count": 65,
   "metadata": {},
   "outputs": [
    {
     "data": {
      "image/png": "[encoded data removed]",
      "text/plain": [
       "<matplotlib.figure.Figure at 0x1758f1486d8>"
      ]
     },
     "metadata": {},
     "output_type": "display_data"
    }
   ],
   "source": [
    "# Plot score vs. no. of clusters. Elbow?\n",
    "plt.plot(cluster_nums, score, '-o');\n",
    "plt.ylabel(\"Score\")\n",
    "plt.xlabel(\"# of clusters\");"
   ]
  },
  {
   "cell_type": "code",
   "execution_count": 66,
   "metadata": {},
   "outputs": [
    {
     "data": {
      "image/png": "[encoded data removed]",
      "text/plain": [
       "<matplotlib.figure.Figure at 0x1758f1396a0>"
      ]
     },
     "metadata": {},
     "output_type": "display_data"
    }
   ],
   "source": [
    "# Same for distances\n",
    "plt.plot(cluster_nums, distances, '-o');\n",
    "plt.ylabel(\"Average distance to centroids\")\n",
    "plt.xlabel(\"# of clusters\");"
   ]
  },
  {
   "cell_type": "markdown",
   "metadata": {},
   "source": [
    "**Notes:**  \n",
    "It seems that after 10, 11 clusters the change in score/average distance to centroids is only marginal. Hence, this seems to be a good number of Clusters. Next, we'll fit an instance of the `KMeans()` class to 11 Clusters. "
   ]
  },
  {
   "cell_type": "code",
   "execution_count": 67,
   "metadata": {},
   "outputs": [],
   "source": [
    "# Re-fit the k-means model with the selected number of clusters and obtain\n",
    "#cluster predictions for the general population demographics data.\n",
    "kmeans = KMeans(11, random_state=42)\n",
    "clusters_pop = kmeans.fit_predict(sub1_pca)"
   ]
  },
  {
   "cell_type": "markdown",
   "metadata": {},
   "source": [
    "### Summary: Apply Clustering to General Population\n",
    "Due to performance issues with `KMeans()`, I haven chosen `MiniBatchKmeans()` to determine the number of clusters. In order to do this I plotted the score as well as the avearge distance to centroids. After a rapid increase (plot1), respectively decrease (plot2) after 7 clusters it seems as for both plots the change seems to be rather small. In particular after 10-15 clusters there is not much change here. Hence, following the elbow method, one should choose between 10-15 clusters. As there seems to be a small uptick after 11 clusters, this seems to be a reasonable number of clusters. "
   ]
  },
  {
   "cell_type": "markdown",
   "metadata": {},
   "source": [
    "### Apply All Steps to the Customer Data\n",
    "\n",
    "Now that we have clusters and cluster centers for the general population, it's time to see how the customer data maps on to those clusters. Instead of re-fitting, we're going to use the fits from the general population to clean, transform, and cluster the customer data. Hence we get the same cleaning, transformations, scaling and clusters for the new data. In the last step of the project, we will interpret how the general population fits apply to the customer data.\n",
    "\n",
    "- We apply the same feature wrangling, selection, and engineering steps to the customer demographics using the `clean_data()` function created earlier.\n",
    "\n",
    "- Also, we use the same sklearn objects from the general demographics data, and apply their transformations to the customers data. Hence, we must not be using a `.fit()` or `.fit_transform()` method to re-fit the old objects, nor should we create/instantiate new sklearn objects! We will carefully carry the data through the feature scaling, PCA, and clustering steps, obtaining cluster assignments for all of the data in the customer demographics data."
   ]
  },
  {
   "cell_type": "markdown",
   "metadata": {},
   "source": [
    "#### Did I mention that it is of paramount importance to not change the objects or fit in the following? "
   ]
  },
  {
   "cell_type": "code",
   "execution_count": 68,
   "metadata": {},
   "outputs": [],
   "source": [
    "# Apply preprocessing, feature transformation, and clustering from the general\n",
    "# demographics onto the customer data, obtaining cluster predictions for the\n",
    "# customer demographics data.\n",
    "\n",
    "# Load in customer demographics data, if not done before\n",
    "customers = pd.read_csv(\"Udacity_CUSTOMERS_Subset.csv\", delimiter =\";\")\n",
    "\n",
    "# Apply cleaning function\n",
    "customers, dirty_customers = clean_data(customers)\n",
    "\n",
    "# Impute\n",
    "customers = pd.DataFrame(imputer.transform(customers), columns = customers.columns)\n",
    "\n",
    "# Scale\n",
    "customers = pd.DataFrame(scaler.transform(customers), columns = customers.columns)\n",
    "\n",
    "# PCA\n",
    "customers_pca = pca.transform(customers)\n",
    "\n",
    "# KMeans\n",
    "clusters_customers = kmeans.predict(customers_pca)"
   ]
  },
  {
   "cell_type": "code",
   "execution_count": 69,
   "metadata": {},
   "outputs": [
    {
     "name": "stdout",
     "output_type": "stream",
     "text": [
      "Shape transformed, scaled customer data: (141640, 108)\n",
      "\n",
      "    ALTERSKATEGORIE_GROB  ANREDE_KZ  FINANZ_MINIMALIST  FINANZ_SPARER  \\\n",
      "0              1.184837  -1.043765           1.409069      -1.155304   \n",
      "1              1.184837   0.958071           1.409069      -1.155304   \n",
      "2              1.184837  -1.043765           1.409069      -1.155304   \n",
      "3              0.201306  -1.043765          -0.042770      -1.155304   \n",
      "4              0.201306  -1.043765           1.409069      -1.155304   \n",
      "\n",
      "   FINANZ_VORSORGER  FINANZ_ANLEGER  FINANZ_UNAUFFAELLIGER  FINANZ_HAUSBAUER  \\\n",
      "0          1.137960       -1.249881              -0.469752         -0.792034   \n",
      "1          1.137960       -1.249881               0.959677          0.628533   \n",
      "2          1.137960       -0.570799              -1.184467         -0.792034   \n",
      "3          0.411731        0.787366               1.674391         -0.792034   \n",
      "4          1.137960       -1.249881              -0.469752         -0.081750   \n",
      "\n",
      "   GREEN_AVANTGARDE  HEALTH_TYP            ...              CAMEO_DEUG_2015_4  \\\n",
      "0          1.884775   -1.625569            ...                      -0.390091   \n",
      "1          1.884775   -0.270002            ...                      -0.390091   \n",
      "2         -0.530567   -0.270002            ...                       2.582952   \n",
      "3         -0.530567    1.085565            ...                      -0.390091   \n",
      "4          1.884775    1.085565            ...                      -0.390091   \n",
      "\n",
      "   CAMEO_DEUG_2015_5  CAMEO_DEUG_2015_6  CAMEO_DEUG_2015_7  CAMEO_DEUG_2015_8  \\\n",
      "0          -0.274987          -0.394399          -0.331679           -0.45401   \n",
      "1           3.664113          -0.394399          -0.331679           -0.45401   \n",
      "2          -0.274987          -0.394399          -0.331679           -0.45401   \n",
      "3          -0.274987          -0.394399           3.037832           -0.45401   \n",
      "4           3.664113          -0.394399          -0.331679           -0.45401   \n",
      "\n",
      "   CAMEO_DEUG_2015_9  PRAEGENDE_JUGENDJAHRE_MS  PRAEGENDE_JUGENDJAHRE_DEC  \\\n",
      "0          -0.399357                 -0.176461                  -1.629389   \n",
      "1          -0.399357                 -0.176461                  -1.629389   \n",
      "2          -0.399357                 -0.176461                  -2.328113   \n",
      "3          -0.399357                 -0.176461                  -0.231940   \n",
      "4          -0.399357                 -0.176461                  -1.629389   \n",
      "\n",
      "   CAMEO_INTL_2015_WEALTH  CAMEO_INTL_2015_LIFESTAGE  \n",
      "0               -1.550709                   0.085880  \n",
      "1               -0.179899                   0.761893  \n",
      "2               -0.865304                   0.761893  \n",
      "3                0.505507                  -1.266147  \n",
      "4               -0.179899                   0.761893  \n",
      "\n",
      "[5 rows x 108 columns]\n",
      "Shape PCA: (141640, 43)\n",
      "\n",
      "Clusters of the first 20 individuals: [ 9  2  8 10  9  9  9  5  9  9  8  8  5  9  9  9  0  3  9  4]\n"
     ]
    }
   ],
   "source": [
    "# Checking the shape\n",
    "print(\"Shape transformed, scaled customer data:\", customers.shape)\n",
    "\n",
    "# Show head of scaled and transformed data\n",
    "print(\"\\n\",customers.head())\n",
    "\n",
    "# Check if we have 43 principal components\n",
    "print(\"Shape PCA:\",customers_pca.shape)\n",
    "\n",
    "# Check if each individual is associated with one cluster\n",
    "print(\"\\nClusters of the first 20 individuals:\",clusters_customers[:20])"
   ]
  },
  {
   "cell_type": "markdown",
   "metadata": {},
   "source": [
    "### Compare Customer Data to Demographics Data\n",
    "\n",
    "At this point, we have clustered data based on demographics of the general population of Germany, and seen how the customer data for a mail-order sales company maps onto those demographic clusters. In the final substep, we will compare the two cluster distributions to see where the strongest customer base for the company is.\n",
    "\n",
    "Consider the proportion of persons in each cluster for the general population, and the proportions for the customers. If we think the company's customer base to be universal, then the cluster assignment proportions should be fairly similar between the two. \n",
    "\n",
    "If there are only particular segments of the population that are interested in the company's products, then we should see a mismatch from one to the other. If there is a higher proportion of persons in a cluster for the customer data compared to the general population (e.g. 5% of persons are assigned to a cluster for the general population, but 15% of the customer data is closest to that cluster's centroid) then that suggests the people in that cluster to be a target audience for the company. On the other hand, the proportion of the data in a cluster being larger in the general population than the customer data (e.g. only 2% of customers closest to a population centroid that captures 6% of the data) suggests that group of persons to be outside of the target demographics.\n",
    "\n",
    "We will perform the following steps:\n",
    "\n",
    "- Calculating the proportion of data points in each cluster for the general population and the customer data. \n",
    "\n",
    "- Recall that we separated out certain data points from the dataset if they had more than a specified threshold of missing values and found them to be qualitatively different from the main bulk of the data. Guess what, they are coming back as cluster! We treat them as an additional data cluster, classified as Cluster `-1`. \n",
    "\n",
    "Main questions: \n",
    "1. Which cluster or clusters are overrepresented in the customer dataset compared to the general population? \n",
    "2. Which cluster or clusters are underrepresented in the customer dataset compared to the general population? \n",
    "3. What kinds of people are typified by these clusters?\n",
    "\n",
    "We will do this for one cluster that is overrepresented and one that is underrepresented. This could be extended further for all clusters.\n",
    "\n",
    "We can use the `.inverse_transform()` method of the PCA and StandardScaler objects to transform centroids back to the original data space and interpret the retrieved values directly."
   ]
  },
  {
   "cell_type": "code",
   "execution_count": 70,
   "metadata": {},
   "outputs": [],
   "source": [
    "# Take care of individuals with many missings from demographics as cluster \"-1\"\n",
    "dirty_azdias_array = np.full((dirty_azdias.shape[0],),-1)\n",
    "\n",
    "# Concatenate them to full data\n",
    "clusters_full_azdias = np.concatenate([clusters_pop, dirty_azdias_array])\n",
    "\n",
    "# same for customers...\n",
    "dirty_customers_array = np.full((dirty_customers.shape[0],),-1)\n",
    "clusters_full_customers = np.concatenate([clusters_customers, dirty_customers_array])"
   ]
  },
  {
   "cell_type": "code",
   "execution_count": 71,
   "metadata": {},
   "outputs": [
    {
     "name": "stderr",
     "output_type": "stream",
     "text": [
      "C:\\Users\\TM\\Anaconda3\\lib\\site-packages\\seaborn\\categorical.py:1460: FutureWarning: remove_na is deprecated and is a private function. Do not use.\n",
      "  stat_data = remove_na(group_data)\n"
     ]
    },
    {
     "data": {
      "image/png": "[encoded data removed]",
      "text/plain": [
       "<matplotlib.figure.Figure at 0x1763ea0ca20>"
      ]
     },
     "metadata": {},
     "output_type": "display_data"
    }
   ],
   "source": [
    "# Visualization\n",
    "fig = plt.figure()\n",
    "ax1=fig.add_axes([0,1.2,2,1], title='Demographic count plot')\n",
    "ax2=fig.add_axes([0,2.4,2,1], title='Customers count plot')\n",
    "sns.set(style=\"darkgrid\")\n",
    "sns.countplot(clusters_full_azdias, label='demographic', ax=ax1)\n",
    "sns.countplot(clusters_full_customers, label='customer', ax=ax2)\n",
    "ax.legend();"
   ]
  },
  {
   "cell_type": "markdown",
   "metadata": {},
   "source": [
    "**Notes**  \n",
    "The above visualization give the imporession that customers of the company are qualitatively different from the population and we would like to know in which characteristics.\n",
    "\n",
    "However, the plot is a little bit misleading as it is in absolute units. For now, underrepresented customers seem to be in clusters 0, 1, 5, 6,7 and 10. Overrepresented as customers of the company seem to be individuals of cluster 9. We are going to check that in more detail."
   ]
  },
  {
   "cell_type": "code",
   "execution_count": 72,
   "metadata": {},
   "outputs": [
    {
     "name": "stdout",
     "output_type": "stream",
     "text": [
      "Cluster -1: 26.1 %\n",
      "Cluster 0: 0.53 %\n",
      "Cluster 1: 0.78 %\n",
      "Cluster 2: 8.52 %\n",
      "Cluster 3: 6.46 %\n",
      "Cluster 4: 7.37 %\n",
      "Cluster 5: 7.18 %\n",
      "Cluster 6: 2.0 %\n",
      "Cluster 7: 1.3 %\n",
      "Cluster 8: 13.07 %\n",
      "Cluster 9: 24.16 %\n",
      "Cluster 10: 2.54 %\n"
     ]
    }
   ],
   "source": [
    "# Check cluster distribution of customers\n",
    "total_cust = len(clusters_full_customers)\n",
    "\n",
    "cluster, counts = np.unique(clusters_full_customers, return_counts = True)\n",
    "dict_clusters_full_customers = dict(zip(cluster, counts))\n",
    "\n",
    "cluster_prop_cust = {}\n",
    "\n",
    "# Calculate percentages...\n",
    "for cluster, num in dict_clusters_full_customers.items():\n",
    "    print(\"Cluster {}:\".format(cluster), round((num / total_cust)*100,2),\"%\")\n",
    "    cluster_prop_cust[cluster] = num/total_cust"
   ]
  },
  {
   "cell_type": "code",
   "execution_count": 73,
   "metadata": {},
   "outputs": [
    {
     "name": "stdout",
     "output_type": "stream",
     "text": [
      "Cluster -1: 10.52 %\n",
      "Cluster 0: 7.31 %\n",
      "Cluster 1: 10.51 %\n",
      "Cluster 2: 6.22 %\n",
      "Cluster 3: 8.99 %\n",
      "Cluster 4: 5.63 %\n",
      "Cluster 5: 10.87 %\n",
      "Cluster 6: 7.22 %\n",
      "Cluster 7: 10.04 %\n",
      "Cluster 8: 8.79 %\n",
      "Cluster 9: 6.09 %\n",
      "Cluster 10: 7.8 %\n"
     ]
    }
   ],
   "source": [
    "# Check cluster distribution of general population\n",
    "total_pop = len(clusters_full_azdias)\n",
    "\n",
    "cluster, counts2 = np.unique(clusters_full_azdias, return_counts = True)\n",
    "dict_clusters_full_azdias = dict(zip(cluster, counts2))\n",
    "\n",
    "cluster_prop_pop = {}\n",
    "\n",
    "for cluster, num in dict_clusters_full_azdias.items():\n",
    "    print(\"Cluster {}:\".format(cluster), round((num / total_pop)*100,2),\"%\")\n",
    "    cluster_prop_pop[cluster] = num/total_pop"
   ]
  },
  {
   "cell_type": "code",
   "execution_count": 74,
   "metadata": {},
   "outputs": [
    {
     "name": "stdout",
     "output_type": "stream",
     "text": [
      "Cluster: -1 - Difference: 15.57%\n",
      "Cluster: 0 - Difference: -6.78%\n",
      "Cluster: 1 - Difference: -9.74%\n",
      "Cluster: 2 - Difference: 2.3%\n",
      "Cluster: 3 - Difference: -2.53%\n",
      "Cluster: 4 - Difference: 1.74%\n",
      "Cluster: 5 - Difference: -3.69%\n",
      "Cluster: 6 - Difference: -5.22%\n",
      "Cluster: 7 - Difference: -8.74%\n",
      "Cluster: 8 - Difference: 4.28%\n",
      "Cluster: 9 - Difference: 18.07%\n",
      "Cluster: 10 - Difference: -5.26%\n"
     ]
    }
   ],
   "source": [
    "# Calculate differences\n",
    "cluster_prop_diff = {}\n",
    "\n",
    "for i in range(-1,11):\n",
    "    diff = (cluster_prop_cust[i] - cluster_prop_pop[i])\n",
    "    cluster_prop_diff[i] = diff*100\n",
    "\n",
    "for cluster, perc in cluster_prop_diff.items():\n",
    "    print(\"Cluster: \"+str(cluster)+\" - Difference: \"+str(perc.round(2))+\"%\")"
   ]
  },
  {
   "cell_type": "markdown",
   "metadata": {},
   "source": [
    "**Notes:**  \n",
    "Overrepresented clusters (customers over population) are: \n",
    "- 9: +18.07%\n",
    "- -1: +15.57%\n",
    "- 8: +4.28%\n",
    "\n",
    "Underrepresented clusters:\n",
    "- 1: -9.74%\n",
    "- 7: -8.74%\n",
    "- 0: -6.8%\n",
    "\n",
    "In a next step we will have a look at cluster 9 and 1 to see what the characteristics of those people are that are overrepresented (9) and underrepresented (1)."
   ]
  },
  {
   "cell_type": "code",
   "execution_count": 75,
   "metadata": {},
   "outputs": [
    {
     "data": {
      "text/html": [
       "<div>\n",
       "<style scoped>\n",
       "    .dataframe tbody tr th:only-of-type {\n",
       "        vertical-align: middle;\n",
       "    }\n",
       "\n",
       "    .dataframe tbody tr th {\n",
       "        vertical-align: top;\n",
       "    }\n",
       "\n",
       "    .dataframe thead th {\n",
       "        text-align: right;\n",
       "    }\n",
       "</style>\n",
       "<table border=\"1\" class=\"dataframe\">\n",
       "  <thead>\n",
       "    <tr style=\"text-align: right;\">\n",
       "      <th></th>\n",
       "      <th>ALTERSKATEGORIE_GROB</th>\n",
       "      <th>ANREDE_KZ</th>\n",
       "      <th>FINANZ_MINIMALIST</th>\n",
       "      <th>FINANZ_SPARER</th>\n",
       "      <th>FINANZ_VORSORGER</th>\n",
       "      <th>FINANZ_ANLEGER</th>\n",
       "      <th>FINANZ_UNAUFFAELLIGER</th>\n",
       "      <th>FINANZ_HAUSBAUER</th>\n",
       "      <th>GREEN_AVANTGARDE</th>\n",
       "      <th>HEALTH_TYP</th>\n",
       "      <th>...</th>\n",
       "      <th>CAMEO_DEUG_2015_4</th>\n",
       "      <th>CAMEO_DEUG_2015_5</th>\n",
       "      <th>CAMEO_DEUG_2015_6</th>\n",
       "      <th>CAMEO_DEUG_2015_7</th>\n",
       "      <th>CAMEO_DEUG_2015_8</th>\n",
       "      <th>CAMEO_DEUG_2015_9</th>\n",
       "      <th>PRAEGENDE_JUGENDJAHRE_MS</th>\n",
       "      <th>PRAEGENDE_JUGENDJAHRE_DEC</th>\n",
       "      <th>CAMEO_INTL_2015_WEALTH</th>\n",
       "      <th>CAMEO_INTL_2015_LIFESTAGE</th>\n",
       "    </tr>\n",
       "  </thead>\n",
       "  <tbody>\n",
       "    <tr>\n",
       "      <th>0</th>\n",
       "      <td>1.866835</td>\n",
       "      <td>0.976900</td>\n",
       "      <td>1.746704</td>\n",
       "      <td>4.534506</td>\n",
       "      <td>1.924207</td>\n",
       "      <td>3.709440</td>\n",
       "      <td>3.953400</td>\n",
       "      <td>3.711475</td>\n",
       "      <td>0.101735</td>\n",
       "      <td>2.327463</td>\n",
       "      <td>...</td>\n",
       "      <td>0.023233</td>\n",
       "      <td>0.054054</td>\n",
       "      <td>0.116617</td>\n",
       "      <td>0.132143</td>\n",
       "      <td>0.308003</td>\n",
       "      <td>0.327861</td>\n",
       "      <td>0.865175</td>\n",
       "      <td>87.799178</td>\n",
       "      <td>4.366607</td>\n",
       "      <td>2.019686</td>\n",
       "    </tr>\n",
       "    <tr>\n",
       "      <th>1</th>\n",
       "      <td>1.786907</td>\n",
       "      <td>1.995758</td>\n",
       "      <td>1.107904</td>\n",
       "      <td>4.346833</td>\n",
       "      <td>2.250067</td>\n",
       "      <td>4.190556</td>\n",
       "      <td>3.778276</td>\n",
       "      <td>4.202132</td>\n",
       "      <td>0.028595</td>\n",
       "      <td>2.197702</td>\n",
       "      <td>...</td>\n",
       "      <td>0.014414</td>\n",
       "      <td>0.057275</td>\n",
       "      <td>0.122491</td>\n",
       "      <td>0.142240</td>\n",
       "      <td>0.307834</td>\n",
       "      <td>0.307501</td>\n",
       "      <td>1.044349</td>\n",
       "      <td>85.585739</td>\n",
       "      <td>4.343405</td>\n",
       "      <td>2.079002</td>\n",
       "    </tr>\n",
       "    <tr>\n",
       "      <th>2</th>\n",
       "      <td>3.364003</td>\n",
       "      <td>1.938942</td>\n",
       "      <td>4.210196</td>\n",
       "      <td>1.708311</td>\n",
       "      <td>4.088632</td>\n",
       "      <td>2.190415</td>\n",
       "      <td>2.202432</td>\n",
       "      <td>2.234867</td>\n",
       "      <td>0.910870</td>\n",
       "      <td>2.141199</td>\n",
       "      <td>...</td>\n",
       "      <td>0.178175</td>\n",
       "      <td>0.070038</td>\n",
       "      <td>0.087432</td>\n",
       "      <td>0.030157</td>\n",
       "      <td>0.028695</td>\n",
       "      <td>0.013819</td>\n",
       "      <td>0.069898</td>\n",
       "      <td>66.857522</td>\n",
       "      <td>1.975421</td>\n",
       "      <td>3.653259</td>\n",
       "    </tr>\n",
       "    <tr>\n",
       "      <th>3</th>\n",
       "      <td>3.553059</td>\n",
       "      <td>1.925108</td>\n",
       "      <td>3.740091</td>\n",
       "      <td>1.586169</td>\n",
       "      <td>4.339228</td>\n",
       "      <td>2.620748</td>\n",
       "      <td>1.782636</td>\n",
       "      <td>3.018848</td>\n",
       "      <td>0.035555</td>\n",
       "      <td>2.027499</td>\n",
       "      <td>...</td>\n",
       "      <td>0.247121</td>\n",
       "      <td>0.089407</td>\n",
       "      <td>0.151212</td>\n",
       "      <td>0.076939</td>\n",
       "      <td>0.057547</td>\n",
       "      <td>0.025211</td>\n",
       "      <td>2.127535</td>\n",
       "      <td>63.638717</td>\n",
       "      <td>2.623474</td>\n",
       "      <td>3.353658</td>\n",
       "    </tr>\n",
       "    <tr>\n",
       "      <th>4</th>\n",
       "      <td>3.777925</td>\n",
       "      <td>1.035557</td>\n",
       "      <td>3.459417</td>\n",
       "      <td>1.358651</td>\n",
       "      <td>4.770983</td>\n",
       "      <td>1.145587</td>\n",
       "      <td>1.454756</td>\n",
       "      <td>4.102556</td>\n",
       "      <td>0.092530</td>\n",
       "      <td>1.728056</td>\n",
       "      <td>...</td>\n",
       "      <td>0.035278</td>\n",
       "      <td>0.056235</td>\n",
       "      <td>0.199479</td>\n",
       "      <td>0.136603</td>\n",
       "      <td>0.317934</td>\n",
       "      <td>0.190390</td>\n",
       "      <td>2.266343</td>\n",
       "      <td>57.678319</td>\n",
       "      <td>4.171747</td>\n",
       "      <td>2.706380</td>\n",
       "    </tr>\n",
       "    <tr>\n",
       "      <th>5</th>\n",
       "      <td>3.588712</td>\n",
       "      <td>1.958512</td>\n",
       "      <td>2.558509</td>\n",
       "      <td>1.882442</td>\n",
       "      <td>4.294826</td>\n",
       "      <td>2.215018</td>\n",
       "      <td>1.689267</td>\n",
       "      <td>4.301032</td>\n",
       "      <td>0.071896</td>\n",
       "      <td>2.047369</td>\n",
       "      <td>...</td>\n",
       "      <td>0.037076</td>\n",
       "      <td>0.059073</td>\n",
       "      <td>0.166576</td>\n",
       "      <td>0.146677</td>\n",
       "      <td>0.330854</td>\n",
       "      <td>0.205747</td>\n",
       "      <td>1.835530</td>\n",
       "      <td>63.086433</td>\n",
       "      <td>4.217935</td>\n",
       "      <td>2.656257</td>\n",
       "    </tr>\n",
       "    <tr>\n",
       "      <th>6</th>\n",
       "      <td>2.007339</td>\n",
       "      <td>0.983926</td>\n",
       "      <td>3.379245</td>\n",
       "      <td>3.925566</td>\n",
       "      <td>2.120843</td>\n",
       "      <td>3.749024</td>\n",
       "      <td>4.110871</td>\n",
       "      <td>1.819064</td>\n",
       "      <td>0.335106</td>\n",
       "      <td>2.218866</td>\n",
       "      <td>...</td>\n",
       "      <td>0.245875</td>\n",
       "      <td>0.078891</td>\n",
       "      <td>0.123066</td>\n",
       "      <td>0.063414</td>\n",
       "      <td>0.042503</td>\n",
       "      <td>0.003046</td>\n",
       "      <td>0.533574</td>\n",
       "      <td>86.662790</td>\n",
       "      <td>2.309570</td>\n",
       "      <td>3.272849</td>\n",
       "    </tr>\n",
       "    <tr>\n",
       "      <th>7</th>\n",
       "      <td>1.933806</td>\n",
       "      <td>1.969997</td>\n",
       "      <td>2.350830</td>\n",
       "      <td>3.932955</td>\n",
       "      <td>2.247277</td>\n",
       "      <td>4.380774</td>\n",
       "      <td>3.983215</td>\n",
       "      <td>2.767504</td>\n",
       "      <td>0.197098</td>\n",
       "      <td>2.243870</td>\n",
       "      <td>...</td>\n",
       "      <td>0.237911</td>\n",
       "      <td>0.085649</td>\n",
       "      <td>0.135758</td>\n",
       "      <td>0.070983</td>\n",
       "      <td>0.040593</td>\n",
       "      <td>0.021753</td>\n",
       "      <td>0.801394</td>\n",
       "      <td>86.281282</td>\n",
       "      <td>2.436447</td>\n",
       "      <td>3.221538</td>\n",
       "    </tr>\n",
       "    <tr>\n",
       "      <th>8</th>\n",
       "      <td>3.229246</td>\n",
       "      <td>1.118399</td>\n",
       "      <td>4.564899</td>\n",
       "      <td>1.667131</td>\n",
       "      <td>4.278054</td>\n",
       "      <td>2.207514</td>\n",
       "      <td>1.770948</td>\n",
       "      <td>2.153373</td>\n",
       "      <td>0.027064</td>\n",
       "      <td>2.345241</td>\n",
       "      <td>...</td>\n",
       "      <td>0.234852</td>\n",
       "      <td>0.080546</td>\n",
       "      <td>0.125241</td>\n",
       "      <td>0.071190</td>\n",
       "      <td>0.044993</td>\n",
       "      <td>0.026471</td>\n",
       "      <td>2.117988</td>\n",
       "      <td>65.792565</td>\n",
       "      <td>2.467195</td>\n",
       "      <td>3.281071</td>\n",
       "    </tr>\n",
       "    <tr>\n",
       "      <th>9</th>\n",
       "      <td>3.299215</td>\n",
       "      <td>1.054642</td>\n",
       "      <td>4.793719</td>\n",
       "      <td>1.628614</td>\n",
       "      <td>4.315473</td>\n",
       "      <td>1.470372</td>\n",
       "      <td>2.088865</td>\n",
       "      <td>1.942068</td>\n",
       "      <td>0.959398</td>\n",
       "      <td>2.018304</td>\n",
       "      <td>...</td>\n",
       "      <td>0.165548</td>\n",
       "      <td>0.065012</td>\n",
       "      <td>0.104967</td>\n",
       "      <td>0.046330</td>\n",
       "      <td>0.023371</td>\n",
       "      <td>0.014122</td>\n",
       "      <td>0.101531</td>\n",
       "      <td>65.287012</td>\n",
       "      <td>2.028539</td>\n",
       "      <td>3.612382</td>\n",
       "    </tr>\n",
       "    <tr>\n",
       "      <th>10</th>\n",
       "      <td>2.838551</td>\n",
       "      <td>1.074585</td>\n",
       "      <td>3.188466</td>\n",
       "      <td>2.401922</td>\n",
       "      <td>3.807329</td>\n",
       "      <td>2.033690</td>\n",
       "      <td>1.910407</td>\n",
       "      <td>3.182960</td>\n",
       "      <td>0.108781</td>\n",
       "      <td>2.777218</td>\n",
       "      <td>...</td>\n",
       "      <td>0.032358</td>\n",
       "      <td>0.066337</td>\n",
       "      <td>0.127749</td>\n",
       "      <td>0.131272</td>\n",
       "      <td>0.303831</td>\n",
       "      <td>0.309550</td>\n",
       "      <td>1.301966</td>\n",
       "      <td>70.799239</td>\n",
       "      <td>4.347639</td>\n",
       "      <td>2.134294</td>\n",
       "    </tr>\n",
       "  </tbody>\n",
       "</table>\n",
       "<p>11 rows × 108 columns</p>\n",
       "</div>"
      ],
      "text/plain": [
       "    ALTERSKATEGORIE_GROB  ANREDE_KZ  FINANZ_MINIMALIST  FINANZ_SPARER  \\\n",
       "0               1.866835   0.976900           1.746704       4.534506   \n",
       "1               1.786907   1.995758           1.107904       4.346833   \n",
       "2               3.364003   1.938942           4.210196       1.708311   \n",
       "3               3.553059   1.925108           3.740091       1.586169   \n",
       "4               3.777925   1.035557           3.459417       1.358651   \n",
       "5               3.588712   1.958512           2.558509       1.882442   \n",
       "6               2.007339   0.983926           3.379245       3.925566   \n",
       "7               1.933806   1.969997           2.350830       3.932955   \n",
       "8               3.229246   1.118399           4.564899       1.667131   \n",
       "9               3.299215   1.054642           4.793719       1.628614   \n",
       "10              2.838551   1.074585           3.188466       2.401922   \n",
       "\n",
       "    FINANZ_VORSORGER  FINANZ_ANLEGER  FINANZ_UNAUFFAELLIGER  FINANZ_HAUSBAUER  \\\n",
       "0           1.924207        3.709440               3.953400          3.711475   \n",
       "1           2.250067        4.190556               3.778276          4.202132   \n",
       "2           4.088632        2.190415               2.202432          2.234867   \n",
       "3           4.339228        2.620748               1.782636          3.018848   \n",
       "4           4.770983        1.145587               1.454756          4.102556   \n",
       "5           4.294826        2.215018               1.689267          4.301032   \n",
       "6           2.120843        3.749024               4.110871          1.819064   \n",
       "7           2.247277        4.380774               3.983215          2.767504   \n",
       "8           4.278054        2.207514               1.770948          2.153373   \n",
       "9           4.315473        1.470372               2.088865          1.942068   \n",
       "10          3.807329        2.033690               1.910407          3.182960   \n",
       "\n",
       "    GREEN_AVANTGARDE  HEALTH_TYP            ...              \\\n",
       "0           0.101735    2.327463            ...               \n",
       "1           0.028595    2.197702            ...               \n",
       "2           0.910870    2.141199            ...               \n",
       "3           0.035555    2.027499            ...               \n",
       "4           0.092530    1.728056            ...               \n",
       "5           0.071896    2.047369            ...               \n",
       "6           0.335106    2.218866            ...               \n",
       "7           0.197098    2.243870            ...               \n",
       "8           0.027064    2.345241            ...               \n",
       "9           0.959398    2.018304            ...               \n",
       "10          0.108781    2.777218            ...               \n",
       "\n",
       "    CAMEO_DEUG_2015_4  CAMEO_DEUG_2015_5  CAMEO_DEUG_2015_6  \\\n",
       "0            0.023233           0.054054           0.116617   \n",
       "1            0.014414           0.057275           0.122491   \n",
       "2            0.178175           0.070038           0.087432   \n",
       "3            0.247121           0.089407           0.151212   \n",
       "4            0.035278           0.056235           0.199479   \n",
       "5            0.037076           0.059073           0.166576   \n",
       "6            0.245875           0.078891           0.123066   \n",
       "7            0.237911           0.085649           0.135758   \n",
       "8            0.234852           0.080546           0.125241   \n",
       "9            0.165548           0.065012           0.104967   \n",
       "10           0.032358           0.066337           0.127749   \n",
       "\n",
       "    CAMEO_DEUG_2015_7  CAMEO_DEUG_2015_8  CAMEO_DEUG_2015_9  \\\n",
       "0            0.132143           0.308003           0.327861   \n",
       "1            0.142240           0.307834           0.307501   \n",
       "2            0.030157           0.028695           0.013819   \n",
       "3            0.076939           0.057547           0.025211   \n",
       "4            0.136603           0.317934           0.190390   \n",
       "5            0.146677           0.330854           0.205747   \n",
       "6            0.063414           0.042503           0.003046   \n",
       "7            0.070983           0.040593           0.021753   \n",
       "8            0.071190           0.044993           0.026471   \n",
       "9            0.046330           0.023371           0.014122   \n",
       "10           0.131272           0.303831           0.309550   \n",
       "\n",
       "    PRAEGENDE_JUGENDJAHRE_MS  PRAEGENDE_JUGENDJAHRE_DEC  \\\n",
       "0                   0.865175                  87.799178   \n",
       "1                   1.044349                  85.585739   \n",
       "2                   0.069898                  66.857522   \n",
       "3                   2.127535                  63.638717   \n",
       "4                   2.266343                  57.678319   \n",
       "5                   1.835530                  63.086433   \n",
       "6                   0.533574                  86.662790   \n",
       "7                   0.801394                  86.281282   \n",
       "8                   2.117988                  65.792565   \n",
       "9                   0.101531                  65.287012   \n",
       "10                  1.301966                  70.799239   \n",
       "\n",
       "    CAMEO_INTL_2015_WEALTH  CAMEO_INTL_2015_LIFESTAGE  \n",
       "0                 4.366607                   2.019686  \n",
       "1                 4.343405                   2.079002  \n",
       "2                 1.975421                   3.653259  \n",
       "3                 2.623474                   3.353658  \n",
       "4                 4.171747                   2.706380  \n",
       "5                 4.217935                   2.656257  \n",
       "6                 2.309570                   3.272849  \n",
       "7                 2.436447                   3.221538  \n",
       "8                 2.467195                   3.281071  \n",
       "9                 2.028539                   3.612382  \n",
       "10                4.347639                   2.134294  \n",
       "\n",
       "[11 rows x 108 columns]"
      ]
     },
     "execution_count": 75,
     "metadata": {},
     "output_type": "execute_result"
    }
   ],
   "source": [
    "# Reverse scaling, transformation and pca\n",
    "cluster = pd.DataFrame(scaler.inverse_transform(pca.inverse_transform(kmeans.cluster_centers_)), columns=sub1.columns)\n",
    "cluster"
   ]
  },
  {
   "cell_type": "markdown",
   "metadata": {},
   "source": [
    "**Notes:**   \n",
    "After reversing the transformation, scaling and pca we get the average number of a feature in each cluster. The information about the variable coding are based on the data dictionary. For example `ALTERSKATEGORIE_GROB` with a value of `3.2992` in cluster 9:\n",
    "- Category 3: 46 - 60 years old  \n",
    "- Category 4: > 60 years old\n",
    "- Hence, 3.2992 corresponds to an average age of roughly 50 years in that cluster.\n",
    "\n",
    "#### Cluster 9: Overrepresented\n",
    "- Age (3.2992): Corresponds to an average age of ~50\n",
    "- Gender (1.05): Predominantly male \n",
    "- People in this cluster seem to not actively preparing for old-age and having low financial interest\n",
    "- not socially-minded, \n",
    "- religious\n",
    "\n",
    "#### Cluster 1: Underrepresented\n",
    "- Age (1.79): Under 30 \n",
    "- Gender (1.99): Predominantly female\n",
    "- Low financial interest, no money-savers\n",
    "- socially-minded, family-minded, not religious\n",
    "\n",
    "**Conclusion**  \n",
    "One possible suggestion would be to target female customers under 30, focusing on social topics and family-oriented themes."
   ]
  },
  {
   "cell_type": "markdown",
   "metadata": {},
   "source": [
    "### Compare Customer Data to Demographics Data\n",
    "\n",
    "### What kind of people are part of a cluster that is overrepresented in the customer data compared to the general population?\n",
    "People in cluster 9 are overrepresented as customers in comparison to the total population. A typical individual in this cluster is roughly 50 years old and male. This individual does not actively prepare for old-age and having low financial interest. Moreover, a typical individual of this cluster is relatively religious and not socially minded. \n",
    "\n",
    "### What kinds of people are part of a cluster that is underrepresented in the customer data compared to the general population?\n",
    "The group of customers in cluster 1 are the most underrpresented part in terms of percentage points compared to the demographic distribution. Individuals in this cluster are on average under 30 and female. Moreover, they have low financial interest and are no money-saver. These individuals are relatively unreligious. They are socially as well as family-minded."
   ]
  },
  {
   "cell_type": "code",
   "execution_count": 76,
   "metadata": {},
   "outputs": [
    {
     "name": "stdout",
     "output_type": "stream",
     "text": [
      "End of notebook!!!\n"
     ]
    }
   ],
   "source": [
    "print(\"End of notebook!!!\")"
   ]
  }
 ],
 "metadata": {
  "kernelspec": {
   "display_name": "Python [default]",
   "language": "python",
   "name": "python3"
  },
  "language_info": {
   "codemirror_mode": {
    "name": "ipython",
    "version": 3
   },
   "file_extension": ".py",
   "mimetype": "text/x-python",
   "name": "python",
   "nbconvert_exporter": "python",
   "pygments_lexer": "ipython3",
   "version": "3.6.6"
  }
 },
 "nbformat": 4,
 "nbformat_minor": 2
}
