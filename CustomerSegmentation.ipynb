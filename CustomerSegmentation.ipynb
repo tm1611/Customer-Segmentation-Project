{
 "cells": [
  {
   "cell_type": "markdown",
   "metadata": {},
   "source": [
    "# Project: Identify Customer Segments\n",
    "\n",
    "In this project, you will apply unsupervised learning techniques to identify segments of the population that form the core customer base for a mail-order sales company in Germany. These segments can then be used to direct marketing campaigns towards audiences that will have the highest expected rate of returns. The data that you will use has been provided by our partners at Bertelsmann Arvato Analytics, and represents a real-life data science task.\n",
    "\n",
    "This notebook will help you complete this task by providing a framework within which you will perform your analysis steps. In each step of the project, you will see some text describing the subtask that you will perform, followed by one or more code cells for you to complete your work. **Feel free to add additional code and markdown cells as you go along so that you can explore everything in precise chunks.** The code cells provided in the base template will outline only the major tasks, and will usually not be enough to cover all of the minor tasks that comprise it.\n",
    "\n",
    "It should be noted that while there will be precise guidelines on how you should handle certain tasks in the project, there will also be places where an exact specification is not provided. **There will be times in the project where you will need to make and justify your own decisions on how to treat the data.** These are places where there may not be only one way to handle the data. In real-life tasks, there may be many valid ways to approach an analysis task. One of the most important things you can do is clearly document your approach so that other scientists can understand the decisions you've made.\n",
    "\n",
    "At the end of most sections, there will be a Markdown cell labeled **Discussion**. In these cells, you will report your findings for the completed section, as well as document the decisions that you made in your approach to each subtask. **Your project will be evaluated not just on the code used to complete the tasks outlined, but also your communication about your observations and conclusions at each stage.**"
   ]
  },
  {
   "cell_type": "code",
   "execution_count": 1,
   "metadata": {},
   "outputs": [],
   "source": [
    "# import libraries here; add more as necessary\n",
    "import numpy as np\n",
    "import pandas as pd\n",
    "import matplotlib.pyplot as plt\n",
    "import seaborn as sns\n",
    "\n",
    "from sklearn.preprocessing import Imputer\n",
    "from sklearn.cluster import KMeans, MiniBatchKMeans\n",
    "from sklearn.preprocessing import StandardScaler\n",
    "from sklearn.decomposition import PCA    \n",
    "from sklearn.preprocessing import LabelEncoder\n",
    "\n",
    "# magic word for producing visualizations in notebook\n",
    "%matplotlib inline"
   ]
  },
  {
   "cell_type": "markdown",
   "metadata": {},
   "source": [
    "### Step 0: Load the Data\n",
    "\n",
    "There are four files associated with this project (not including this one):\n",
    "\n",
    "- `Udacity_AZDIAS_Subset.csv`: Demographics data for the general population of Germany; 891211 persons (rows) x 85 features (columns).\n",
    "- `Udacity_CUSTOMERS_Subset.csv`: Demographics data for customers of a mail-order company; 191652 persons (rows) x 85 features (columns).\n",
    "- `Data_Dictionary.md`: Detailed information file about the features in the provided datasets.\n",
    "- `AZDIAS_Feature_Summary.csv`: Summary of feature attributes for demographics data; 85 features (rows) x 4 columns\n",
    "\n",
    "Each row of the demographics files represents a single person, but also includes information outside of individuals, including information about their household, building, and neighborhood. You will use this information to cluster the general population into groups with similar demographic properties. Then, you will see how the people in the customers dataset fit into those created clusters. The hope here is that certain clusters are over-represented in the customers data, as compared to the general population; those over-represented clusters will be assumed to be part of the core userbase. This information can then be used for further applications, such as targeting for a marketing campaign.\n",
    "\n",
    "To start off with, load in the demographics data for the general population into a pandas DataFrame, and do the same for the feature attributes summary. Note for all of the `.csv` data files in this project: they're semicolon (`;`) delimited, so you'll need an additional argument in your [`read_csv()`](https://pandas.pydata.org/pandas-docs/stable/generated/pandas.read_csv.html) call to read in the data properly. Also, considering the size of the main dataset, it may take some time for it to load completely.\n",
    "\n",
    "Once the dataset is loaded, it's recommended that you take a little bit of time just browsing the general structure of the dataset and feature summary file. You'll be getting deep into the innards of the cleaning in the first major step of the project, so gaining some general familiarity can help you get your bearings."
   ]
  },
  {
   "cell_type": "code",
   "execution_count": 2,
   "metadata": {},
   "outputs": [],
   "source": [
    "# Load in the general demographics data.\n",
    "azdias = pd.read_csv(\"Udacity_AZDIAS_Subset.csv\", sep=\";\")\n",
    "\n",
    "# Load in the feature summary file.\n",
    "feat_info = pd.read_csv(\"AZDIAS_Feature_Summary.csv\", sep=\";\")"
   ]
  },
  {
   "cell_type": "code",
   "execution_count": 3,
   "metadata": {},
   "outputs": [
    {
     "name": "stdout",
     "output_type": "stream",
     "text": [
      "Structure 'azdias': \n"
     ]
    },
    {
     "data": {
      "text/plain": [
       "(891221, 85)"
      ]
     },
     "execution_count": 3,
     "metadata": {},
     "output_type": "execute_result"
    }
   ],
   "source": [
    "# Check the structure of the data after it's loaded (e.g. print the number of\n",
    "# rows and columns, print the first few rows).\n",
    "\n",
    "# azdias\n",
    "print(\"Structure 'azdias': \")\n",
    "azdias.shape"
   ]
  },
  {
   "cell_type": "markdown",
   "metadata": {},
   "source": [
    "**Notes**  \n",
    "The given dataset at the beginning contains `891221` rows and `85`columns indicating no. of individuals and features, respectively."
   ]
  },
  {
   "cell_type": "code",
   "execution_count": 4,
   "metadata": {},
   "outputs": [
    {
     "data": {
      "text/html": [
       "<div>\n",
       "<style>\n",
       "    .dataframe thead tr:only-child th {\n",
       "        text-align: right;\n",
       "    }\n",
       "\n",
       "    .dataframe thead th {\n",
       "        text-align: left;\n",
       "    }\n",
       "\n",
       "    .dataframe tbody tr th {\n",
       "        vertical-align: top;\n",
       "    }\n",
       "</style>\n",
       "<table border=\"1\" class=\"dataframe\">\n",
       "  <thead>\n",
       "    <tr style=\"text-align: right;\">\n",
       "      <th></th>\n",
       "      <th>AGER_TYP</th>\n",
       "      <th>ALTERSKATEGORIE_GROB</th>\n",
       "      <th>ANREDE_KZ</th>\n",
       "      <th>CJT_GESAMTTYP</th>\n",
       "      <th>FINANZ_MINIMALIST</th>\n",
       "      <th>FINANZ_SPARER</th>\n",
       "      <th>FINANZ_VORSORGER</th>\n",
       "      <th>FINANZ_ANLEGER</th>\n",
       "      <th>FINANZ_UNAUFFAELLIGER</th>\n",
       "      <th>FINANZ_HAUSBAUER</th>\n",
       "      <th>...</th>\n",
       "      <th>PLZ8_ANTG1</th>\n",
       "      <th>PLZ8_ANTG2</th>\n",
       "      <th>PLZ8_ANTG3</th>\n",
       "      <th>PLZ8_ANTG4</th>\n",
       "      <th>PLZ8_BAUMAX</th>\n",
       "      <th>PLZ8_HHZ</th>\n",
       "      <th>PLZ8_GBZ</th>\n",
       "      <th>ARBEIT</th>\n",
       "      <th>ORTSGR_KLS9</th>\n",
       "      <th>RELAT_AB</th>\n",
       "    </tr>\n",
       "  </thead>\n",
       "  <tbody>\n",
       "    <tr>\n",
       "      <th>891216</th>\n",
       "      <td>-1</td>\n",
       "      <td>3</td>\n",
       "      <td>2</td>\n",
       "      <td>5.0</td>\n",
       "      <td>1</td>\n",
       "      <td>4</td>\n",
       "      <td>2</td>\n",
       "      <td>5</td>\n",
       "      <td>4</td>\n",
       "      <td>4</td>\n",
       "      <td>...</td>\n",
       "      <td>3.0</td>\n",
       "      <td>2.0</td>\n",
       "      <td>0.0</td>\n",
       "      <td>0.0</td>\n",
       "      <td>1.0</td>\n",
       "      <td>2.0</td>\n",
       "      <td>3.0</td>\n",
       "      <td>NaN</td>\n",
       "      <td>NaN</td>\n",
       "      <td>NaN</td>\n",
       "    </tr>\n",
       "    <tr>\n",
       "      <th>891217</th>\n",
       "      <td>-1</td>\n",
       "      <td>2</td>\n",
       "      <td>1</td>\n",
       "      <td>4.0</td>\n",
       "      <td>3</td>\n",
       "      <td>3</td>\n",
       "      <td>3</td>\n",
       "      <td>2</td>\n",
       "      <td>2</td>\n",
       "      <td>3</td>\n",
       "      <td>...</td>\n",
       "      <td>1.0</td>\n",
       "      <td>3.0</td>\n",
       "      <td>3.0</td>\n",
       "      <td>2.0</td>\n",
       "      <td>4.0</td>\n",
       "      <td>5.0</td>\n",
       "      <td>3.0</td>\n",
       "      <td>4.0</td>\n",
       "      <td>6.0</td>\n",
       "      <td>5.0</td>\n",
       "    </tr>\n",
       "    <tr>\n",
       "      <th>891218</th>\n",
       "      <td>-1</td>\n",
       "      <td>2</td>\n",
       "      <td>2</td>\n",
       "      <td>4.0</td>\n",
       "      <td>2</td>\n",
       "      <td>4</td>\n",
       "      <td>2</td>\n",
       "      <td>5</td>\n",
       "      <td>4</td>\n",
       "      <td>3</td>\n",
       "      <td>...</td>\n",
       "      <td>4.0</td>\n",
       "      <td>2.0</td>\n",
       "      <td>0.0</td>\n",
       "      <td>0.0</td>\n",
       "      <td>1.0</td>\n",
       "      <td>3.0</td>\n",
       "      <td>4.0</td>\n",
       "      <td>2.0</td>\n",
       "      <td>2.0</td>\n",
       "      <td>3.0</td>\n",
       "    </tr>\n",
       "    <tr>\n",
       "      <th>891219</th>\n",
       "      <td>-1</td>\n",
       "      <td>1</td>\n",
       "      <td>1</td>\n",
       "      <td>3.0</td>\n",
       "      <td>1</td>\n",
       "      <td>5</td>\n",
       "      <td>3</td>\n",
       "      <td>5</td>\n",
       "      <td>5</td>\n",
       "      <td>5</td>\n",
       "      <td>...</td>\n",
       "      <td>1.0</td>\n",
       "      <td>4.0</td>\n",
       "      <td>3.0</td>\n",
       "      <td>1.0</td>\n",
       "      <td>5.0</td>\n",
       "      <td>1.0</td>\n",
       "      <td>1.0</td>\n",
       "      <td>4.0</td>\n",
       "      <td>7.0</td>\n",
       "      <td>5.0</td>\n",
       "    </tr>\n",
       "    <tr>\n",
       "      <th>891220</th>\n",
       "      <td>-1</td>\n",
       "      <td>4</td>\n",
       "      <td>1</td>\n",
       "      <td>1.0</td>\n",
       "      <td>4</td>\n",
       "      <td>2</td>\n",
       "      <td>5</td>\n",
       "      <td>2</td>\n",
       "      <td>1</td>\n",
       "      <td>5</td>\n",
       "      <td>...</td>\n",
       "      <td>3.0</td>\n",
       "      <td>3.0</td>\n",
       "      <td>1.0</td>\n",
       "      <td>0.0</td>\n",
       "      <td>1.0</td>\n",
       "      <td>4.0</td>\n",
       "      <td>4.0</td>\n",
       "      <td>3.0</td>\n",
       "      <td>4.0</td>\n",
       "      <td>5.0</td>\n",
       "    </tr>\n",
       "  </tbody>\n",
       "</table>\n",
       "<p>5 rows × 85 columns</p>\n",
       "</div>"
      ],
      "text/plain": [
       "        AGER_TYP  ALTERSKATEGORIE_GROB  ANREDE_KZ  CJT_GESAMTTYP  \\\n",
       "891216        -1                     3          2            5.0   \n",
       "891217        -1                     2          1            4.0   \n",
       "891218        -1                     2          2            4.0   \n",
       "891219        -1                     1          1            3.0   \n",
       "891220        -1                     4          1            1.0   \n",
       "\n",
       "        FINANZ_MINIMALIST  FINANZ_SPARER  FINANZ_VORSORGER  FINANZ_ANLEGER  \\\n",
       "891216                  1              4                 2               5   \n",
       "891217                  3              3                 3               2   \n",
       "891218                  2              4                 2               5   \n",
       "891219                  1              5                 3               5   \n",
       "891220                  4              2                 5               2   \n",
       "\n",
       "        FINANZ_UNAUFFAELLIGER  FINANZ_HAUSBAUER    ...     PLZ8_ANTG1  \\\n",
       "891216                      4                 4    ...            3.0   \n",
       "891217                      2                 3    ...            1.0   \n",
       "891218                      4                 3    ...            4.0   \n",
       "891219                      5                 5    ...            1.0   \n",
       "891220                      1                 5    ...            3.0   \n",
       "\n",
       "        PLZ8_ANTG2  PLZ8_ANTG3  PLZ8_ANTG4  PLZ8_BAUMAX  PLZ8_HHZ  PLZ8_GBZ  \\\n",
       "891216         2.0         0.0         0.0          1.0       2.0       3.0   \n",
       "891217         3.0         3.0         2.0          4.0       5.0       3.0   \n",
       "891218         2.0         0.0         0.0          1.0       3.0       4.0   \n",
       "891219         4.0         3.0         1.0          5.0       1.0       1.0   \n",
       "891220         3.0         1.0         0.0          1.0       4.0       4.0   \n",
       "\n",
       "        ARBEIT  ORTSGR_KLS9  RELAT_AB  \n",
       "891216     NaN          NaN       NaN  \n",
       "891217     4.0          6.0       5.0  \n",
       "891218     2.0          2.0       3.0  \n",
       "891219     4.0          7.0       5.0  \n",
       "891220     3.0          4.0       5.0  \n",
       "\n",
       "[5 rows x 85 columns]"
      ]
     },
     "execution_count": 4,
     "metadata": {},
     "output_type": "execute_result"
    }
   ],
   "source": [
    "azdias.head()\n",
    "azdias.tail()"
   ]
  },
  {
   "cell_type": "code",
   "execution_count": 5,
   "metadata": {},
   "outputs": [
    {
     "name": "stdout",
     "output_type": "stream",
     "text": [
      "\n",
      "Structure 'feature info':  (85, 4)\n",
      "\n",
      "               attribute information_level         type missing_or_unknown\n",
      "0              AGER_TYP            person  categorical             [-1,0]\n",
      "1  ALTERSKATEGORIE_GROB            person      ordinal           [-1,0,9]\n",
      "2             ANREDE_KZ            person  categorical             [-1,0]\n",
      "3         CJT_GESAMTTYP            person  categorical                [0]\n",
      "4     FINANZ_MINIMALIST            person      ordinal               [-1]\n",
      "\n",
      "Information level ['person' 'household' 'building' 'microcell_rr4' 'microcell_rr3' 'postcode'\n",
      " 'region_rr1' 'macrocell_plz8' 'community']\n",
      "\n",
      "Data type ['categorical' 'ordinal' 'numeric' 'mixed' 'interval']\n"
     ]
    }
   ],
   "source": [
    "# feature infos:\n",
    "print(\"\\nStructure 'feature info': \", feat_info.shape)\n",
    "print(\"\\n\",feat_info.head())\n",
    "print(\"\\nInformation level\",feat_info[\"information_level\"].unique())\n",
    "print(\"\\nData type\", feat_info[\"type\"].unique())"
   ]
  },
  {
   "cell_type": "code",
   "execution_count": 6,
   "metadata": {},
   "outputs": [
    {
     "name": "stdout",
     "output_type": "stream",
     "text": [
      "information_level\n",
      "building           7\n",
      "community          3\n",
      "household          7\n",
      "macrocell_plz8     8\n",
      "microcell_rr3      6\n",
      "microcell_rr4      3\n",
      "person            43\n",
      "postcode           3\n",
      "region_rr1         5\n",
      "dtype: int64\n",
      "\n",
      " type\n",
      "categorical    21\n",
      "interval        1\n",
      "mixed           7\n",
      "numeric         7\n",
      "ordinal        49\n",
      "dtype: int64\n"
     ]
    }
   ],
   "source": [
    "# Show feature info by information level and by type\n",
    "print(feat_info.groupby(by=\"information_level\").size())\n",
    "print(\"\\n\",feat_info.groupby(by=\"type\").size())"
   ]
  },
  {
   "cell_type": "markdown",
   "metadata": {},
   "source": [
    "**Notes**  \n",
    "The features are seperated by level of how they are related to the individual. Hence there are 43 features directly related to the person, whereas other features are on the household (7) or community (3) level. \n",
    "\n",
    "Moreover, the data features have different measurement scales. Of the 85 features, 49 are ordinally scaled, 21 categorically and the rest of the features are either interval, mixed or numerically scaled. It seems reasonable to have a look at the individually measurement scales later on and process them further."
   ]
  },
  {
   "cell_type": "markdown",
   "metadata": {},
   "source": [
    "## Step 1: Preprocessing\n",
    "\n",
    "### Step 1.1: Assess Missing Data\n",
    "\n",
    "The feature summary file contains a summary of properties for each demographics data column. You will use this file to help you make cleaning decisions during this stage of the project. First of all, you should assess the demographics data in terms of missing data. Pay attention to the following points as you perform your analysis, and take notes on what you observe. Make sure that you fill in the **Discussion** cell with your findings and decisions at the end of each step that has one!\n",
    "\n",
    "#### Step 1.1.1: Convert Missing Value Codes to NaNs\n",
    "The fourth column of the feature attributes summary (loaded in above as `feat_info`) documents the codes from the data dictionary that indicate missing or unknown data. While the file encodes this as a list (e.g. `[-1,0]`), this will get read in as a string object. You'll need to do a little bit of parsing to make use of it to identify and clean the data. Convert data that matches a 'missing' or 'unknown' value code into a numpy NaN value. You might want to see how much data takes on a 'missing' or 'unknown' code, and how much data is naturally missing, as a point of interest.\n",
    "\n",
    "**As one more reminder, you are encouraged to add additional cells to break up your analysis into manageable chunks.**"
   ]
  },
  {
   "cell_type": "code",
   "execution_count": 7,
   "metadata": {},
   "outputs": [],
   "source": [
    "# Now do this for the rest and change every missing_code to nan\n",
    "\n",
    "# Identify missing or unknown data values and convert them to NaNs.\n",
    "for index in feat_info.index:\n",
    "    feat_info.loc[index,'missing_or_unknown'] = feat_info.loc[index,'missing_or_unknown'].strip('[]').split(',')\n",
    "    for item in range(len(feat_info.loc[index,'missing_or_unknown'])):\n",
    "        try:\n",
    "            feat_info.loc[index,'missing_or_unknown'][item] = int(feat_info.loc[index,'missing_or_unknown'][item])\n",
    "        except:\n",
    "            continue\n",
    "    azdias.loc[:,(feat_info.loc[index, 'attribute'])].replace(feat_info.loc[index,'missing_or_unknown'], np.nan, inplace=True)"
   ]
  },
  {
   "cell_type": "markdown",
   "metadata": {},
   "source": [
    "**Notes**  \n",
    "I used a loop to identify how missing or unknown values are coded and changed them to nan. This took a lot of time to figure out..."
   ]
  },
  {
   "cell_type": "code",
   "execution_count": 8,
   "metadata": {},
   "outputs": [
    {
     "data": {
      "text/html": [
       "<div>\n",
       "<style>\n",
       "    .dataframe thead tr:only-child th {\n",
       "        text-align: right;\n",
       "    }\n",
       "\n",
       "    .dataframe thead th {\n",
       "        text-align: left;\n",
       "    }\n",
       "\n",
       "    .dataframe tbody tr th {\n",
       "        vertical-align: top;\n",
       "    }\n",
       "</style>\n",
       "<table border=\"1\" class=\"dataframe\">\n",
       "  <thead>\n",
       "    <tr style=\"text-align: right;\">\n",
       "      <th></th>\n",
       "      <th>AGER_TYP</th>\n",
       "      <th>ALTERSKATEGORIE_GROB</th>\n",
       "      <th>ANREDE_KZ</th>\n",
       "      <th>CJT_GESAMTTYP</th>\n",
       "      <th>FINANZ_MINIMALIST</th>\n",
       "      <th>FINANZ_SPARER</th>\n",
       "      <th>FINANZ_VORSORGER</th>\n",
       "      <th>FINANZ_ANLEGER</th>\n",
       "      <th>FINANZ_UNAUFFAELLIGER</th>\n",
       "      <th>FINANZ_HAUSBAUER</th>\n",
       "      <th>...</th>\n",
       "      <th>PLZ8_ANTG1</th>\n",
       "      <th>PLZ8_ANTG2</th>\n",
       "      <th>PLZ8_ANTG3</th>\n",
       "      <th>PLZ8_ANTG4</th>\n",
       "      <th>PLZ8_BAUMAX</th>\n",
       "      <th>PLZ8_HHZ</th>\n",
       "      <th>PLZ8_GBZ</th>\n",
       "      <th>ARBEIT</th>\n",
       "      <th>ORTSGR_KLS9</th>\n",
       "      <th>RELAT_AB</th>\n",
       "    </tr>\n",
       "  </thead>\n",
       "  <tbody>\n",
       "    <tr>\n",
       "      <th>1</th>\n",
       "      <td>NaN</td>\n",
       "      <td>1.0</td>\n",
       "      <td>2</td>\n",
       "      <td>5.0</td>\n",
       "      <td>1</td>\n",
       "      <td>5</td>\n",
       "      <td>2</td>\n",
       "      <td>5</td>\n",
       "      <td>4</td>\n",
       "      <td>5</td>\n",
       "      <td>...</td>\n",
       "      <td>2.0</td>\n",
       "      <td>3.0</td>\n",
       "      <td>2.0</td>\n",
       "      <td>1.0</td>\n",
       "      <td>1.0</td>\n",
       "      <td>5.0</td>\n",
       "      <td>4.0</td>\n",
       "      <td>3.0</td>\n",
       "      <td>5.0</td>\n",
       "      <td>4.0</td>\n",
       "    </tr>\n",
       "    <tr>\n",
       "      <th>2</th>\n",
       "      <td>NaN</td>\n",
       "      <td>3.0</td>\n",
       "      <td>2</td>\n",
       "      <td>3.0</td>\n",
       "      <td>1</td>\n",
       "      <td>4</td>\n",
       "      <td>1</td>\n",
       "      <td>2</td>\n",
       "      <td>3</td>\n",
       "      <td>5</td>\n",
       "      <td>...</td>\n",
       "      <td>3.0</td>\n",
       "      <td>3.0</td>\n",
       "      <td>1.0</td>\n",
       "      <td>0.0</td>\n",
       "      <td>1.0</td>\n",
       "      <td>4.0</td>\n",
       "      <td>4.0</td>\n",
       "      <td>3.0</td>\n",
       "      <td>5.0</td>\n",
       "      <td>2.0</td>\n",
       "    </tr>\n",
       "    <tr>\n",
       "      <th>3</th>\n",
       "      <td>2.0</td>\n",
       "      <td>4.0</td>\n",
       "      <td>2</td>\n",
       "      <td>2.0</td>\n",
       "      <td>4</td>\n",
       "      <td>2</td>\n",
       "      <td>5</td>\n",
       "      <td>2</td>\n",
       "      <td>1</td>\n",
       "      <td>2</td>\n",
       "      <td>...</td>\n",
       "      <td>2.0</td>\n",
       "      <td>2.0</td>\n",
       "      <td>2.0</td>\n",
       "      <td>0.0</td>\n",
       "      <td>1.0</td>\n",
       "      <td>3.0</td>\n",
       "      <td>4.0</td>\n",
       "      <td>2.0</td>\n",
       "      <td>3.0</td>\n",
       "      <td>3.0</td>\n",
       "    </tr>\n",
       "    <tr>\n",
       "      <th>4</th>\n",
       "      <td>NaN</td>\n",
       "      <td>3.0</td>\n",
       "      <td>1</td>\n",
       "      <td>5.0</td>\n",
       "      <td>4</td>\n",
       "      <td>3</td>\n",
       "      <td>4</td>\n",
       "      <td>1</td>\n",
       "      <td>3</td>\n",
       "      <td>2</td>\n",
       "      <td>...</td>\n",
       "      <td>2.0</td>\n",
       "      <td>4.0</td>\n",
       "      <td>2.0</td>\n",
       "      <td>1.0</td>\n",
       "      <td>2.0</td>\n",
       "      <td>3.0</td>\n",
       "      <td>3.0</td>\n",
       "      <td>4.0</td>\n",
       "      <td>6.0</td>\n",
       "      <td>5.0</td>\n",
       "    </tr>\n",
       "    <tr>\n",
       "      <th>5</th>\n",
       "      <td>3.0</td>\n",
       "      <td>1.0</td>\n",
       "      <td>2</td>\n",
       "      <td>2.0</td>\n",
       "      <td>3</td>\n",
       "      <td>1</td>\n",
       "      <td>5</td>\n",
       "      <td>2</td>\n",
       "      <td>2</td>\n",
       "      <td>5</td>\n",
       "      <td>...</td>\n",
       "      <td>2.0</td>\n",
       "      <td>3.0</td>\n",
       "      <td>1.0</td>\n",
       "      <td>1.0</td>\n",
       "      <td>1.0</td>\n",
       "      <td>5.0</td>\n",
       "      <td>5.0</td>\n",
       "      <td>2.0</td>\n",
       "      <td>3.0</td>\n",
       "      <td>3.0</td>\n",
       "    </tr>\n",
       "    <tr>\n",
       "      <th>6</th>\n",
       "      <td>NaN</td>\n",
       "      <td>2.0</td>\n",
       "      <td>2</td>\n",
       "      <td>5.0</td>\n",
       "      <td>1</td>\n",
       "      <td>5</td>\n",
       "      <td>1</td>\n",
       "      <td>5</td>\n",
       "      <td>4</td>\n",
       "      <td>3</td>\n",
       "      <td>...</td>\n",
       "      <td>3.0</td>\n",
       "      <td>3.0</td>\n",
       "      <td>1.0</td>\n",
       "      <td>0.0</td>\n",
       "      <td>1.0</td>\n",
       "      <td>5.0</td>\n",
       "      <td>5.0</td>\n",
       "      <td>4.0</td>\n",
       "      <td>6.0</td>\n",
       "      <td>3.0</td>\n",
       "    </tr>\n",
       "    <tr>\n",
       "      <th>7</th>\n",
       "      <td>NaN</td>\n",
       "      <td>1.0</td>\n",
       "      <td>1</td>\n",
       "      <td>3.0</td>\n",
       "      <td>3</td>\n",
       "      <td>3</td>\n",
       "      <td>4</td>\n",
       "      <td>1</td>\n",
       "      <td>3</td>\n",
       "      <td>2</td>\n",
       "      <td>...</td>\n",
       "      <td>3.0</td>\n",
       "      <td>3.0</td>\n",
       "      <td>1.0</td>\n",
       "      <td>0.0</td>\n",
       "      <td>1.0</td>\n",
       "      <td>4.0</td>\n",
       "      <td>4.0</td>\n",
       "      <td>2.0</td>\n",
       "      <td>5.0</td>\n",
       "      <td>2.0</td>\n",
       "    </tr>\n",
       "    <tr>\n",
       "      <th>8</th>\n",
       "      <td>NaN</td>\n",
       "      <td>3.0</td>\n",
       "      <td>1</td>\n",
       "      <td>3.0</td>\n",
       "      <td>4</td>\n",
       "      <td>4</td>\n",
       "      <td>2</td>\n",
       "      <td>4</td>\n",
       "      <td>2</td>\n",
       "      <td>2</td>\n",
       "      <td>...</td>\n",
       "      <td>2.0</td>\n",
       "      <td>3.0</td>\n",
       "      <td>2.0</td>\n",
       "      <td>1.0</td>\n",
       "      <td>1.0</td>\n",
       "      <td>3.0</td>\n",
       "      <td>3.0</td>\n",
       "      <td>2.0</td>\n",
       "      <td>4.0</td>\n",
       "      <td>3.0</td>\n",
       "    </tr>\n",
       "    <tr>\n",
       "      <th>9</th>\n",
       "      <td>NaN</td>\n",
       "      <td>3.0</td>\n",
       "      <td>2</td>\n",
       "      <td>4.0</td>\n",
       "      <td>2</td>\n",
       "      <td>4</td>\n",
       "      <td>2</td>\n",
       "      <td>3</td>\n",
       "      <td>5</td>\n",
       "      <td>4</td>\n",
       "      <td>...</td>\n",
       "      <td>2.0</td>\n",
       "      <td>3.0</td>\n",
       "      <td>2.0</td>\n",
       "      <td>1.0</td>\n",
       "      <td>1.0</td>\n",
       "      <td>3.0</td>\n",
       "      <td>3.0</td>\n",
       "      <td>2.0</td>\n",
       "      <td>3.0</td>\n",
       "      <td>1.0</td>\n",
       "    </tr>\n",
       "    <tr>\n",
       "      <th>10</th>\n",
       "      <td>NaN</td>\n",
       "      <td>3.0</td>\n",
       "      <td>2</td>\n",
       "      <td>1.0</td>\n",
       "      <td>2</td>\n",
       "      <td>2</td>\n",
       "      <td>5</td>\n",
       "      <td>3</td>\n",
       "      <td>1</td>\n",
       "      <td>5</td>\n",
       "      <td>...</td>\n",
       "      <td>2.0</td>\n",
       "      <td>4.0</td>\n",
       "      <td>2.0</td>\n",
       "      <td>0.0</td>\n",
       "      <td>2.0</td>\n",
       "      <td>3.0</td>\n",
       "      <td>3.0</td>\n",
       "      <td>4.0</td>\n",
       "      <td>6.0</td>\n",
       "      <td>5.0</td>\n",
       "    </tr>\n",
       "  </tbody>\n",
       "</table>\n",
       "<p>10 rows × 85 columns</p>\n",
       "</div>"
      ],
      "text/plain": [
       "    AGER_TYP  ALTERSKATEGORIE_GROB  ANREDE_KZ  CJT_GESAMTTYP  \\\n",
       "1        NaN                   1.0          2            5.0   \n",
       "2        NaN                   3.0          2            3.0   \n",
       "3        2.0                   4.0          2            2.0   \n",
       "4        NaN                   3.0          1            5.0   \n",
       "5        3.0                   1.0          2            2.0   \n",
       "6        NaN                   2.0          2            5.0   \n",
       "7        NaN                   1.0          1            3.0   \n",
       "8        NaN                   3.0          1            3.0   \n",
       "9        NaN                   3.0          2            4.0   \n",
       "10       NaN                   3.0          2            1.0   \n",
       "\n",
       "    FINANZ_MINIMALIST  FINANZ_SPARER  FINANZ_VORSORGER  FINANZ_ANLEGER  \\\n",
       "1                   1              5                 2               5   \n",
       "2                   1              4                 1               2   \n",
       "3                   4              2                 5               2   \n",
       "4                   4              3                 4               1   \n",
       "5                   3              1                 5               2   \n",
       "6                   1              5                 1               5   \n",
       "7                   3              3                 4               1   \n",
       "8                   4              4                 2               4   \n",
       "9                   2              4                 2               3   \n",
       "10                  2              2                 5               3   \n",
       "\n",
       "    FINANZ_UNAUFFAELLIGER  FINANZ_HAUSBAUER    ...     PLZ8_ANTG1  PLZ8_ANTG2  \\\n",
       "1                       4                 5    ...            2.0         3.0   \n",
       "2                       3                 5    ...            3.0         3.0   \n",
       "3                       1                 2    ...            2.0         2.0   \n",
       "4                       3                 2    ...            2.0         4.0   \n",
       "5                       2                 5    ...            2.0         3.0   \n",
       "6                       4                 3    ...            3.0         3.0   \n",
       "7                       3                 2    ...            3.0         3.0   \n",
       "8                       2                 2    ...            2.0         3.0   \n",
       "9                       5                 4    ...            2.0         3.0   \n",
       "10                      1                 5    ...            2.0         4.0   \n",
       "\n",
       "    PLZ8_ANTG3  PLZ8_ANTG4  PLZ8_BAUMAX  PLZ8_HHZ  PLZ8_GBZ  ARBEIT  \\\n",
       "1          2.0         1.0          1.0       5.0       4.0     3.0   \n",
       "2          1.0         0.0          1.0       4.0       4.0     3.0   \n",
       "3          2.0         0.0          1.0       3.0       4.0     2.0   \n",
       "4          2.0         1.0          2.0       3.0       3.0     4.0   \n",
       "5          1.0         1.0          1.0       5.0       5.0     2.0   \n",
       "6          1.0         0.0          1.0       5.0       5.0     4.0   \n",
       "7          1.0         0.0          1.0       4.0       4.0     2.0   \n",
       "8          2.0         1.0          1.0       3.0       3.0     2.0   \n",
       "9          2.0         1.0          1.0       3.0       3.0     2.0   \n",
       "10         2.0         0.0          2.0       3.0       3.0     4.0   \n",
       "\n",
       "    ORTSGR_KLS9  RELAT_AB  \n",
       "1           5.0       4.0  \n",
       "2           5.0       2.0  \n",
       "3           3.0       3.0  \n",
       "4           6.0       5.0  \n",
       "5           3.0       3.0  \n",
       "6           6.0       3.0  \n",
       "7           5.0       2.0  \n",
       "8           4.0       3.0  \n",
       "9           3.0       1.0  \n",
       "10          6.0       5.0  \n",
       "\n",
       "[10 rows x 85 columns]"
      ]
     },
     "execution_count": 8,
     "metadata": {},
     "output_type": "execute_result"
    }
   ],
   "source": [
    "# Check if this worked:\n",
    "azdias.loc[1:10]"
   ]
  },
  {
   "cell_type": "markdown",
   "metadata": {},
   "source": [
    "#### Step 1.1.2: Assess Missing Data in Each Column\n",
    "\n",
    "How much missing data is present in each column? There are a few columns that are outliers in terms of the proportion of values that are missing. You will want to use matplotlib's [`hist()`](https://matplotlib.org/api/_as_gen/matplotlib.pyplot.hist.html) function to visualize the distribution of missing value counts to find these columns. Identify and document these columns. While some of these columns might have justifications for keeping or re-encoding the data, for this project you should just remove them from the dataframe. (Feel free to make remarks about these outlier columns in the discussion, however!)\n",
    "\n",
    "For the remaining features, are there any patterns in which columns have, or share, missing data?"
   ]
  },
  {
   "cell_type": "code",
   "execution_count": 9,
   "metadata": {},
   "outputs": [
    {
     "name": "stdout",
     "output_type": "stream",
     "text": [
      "Missings per col: (many to none)\n",
      " TITEL_KZ                 889061\n",
      "AGER_TYP                 685843\n",
      "KK_KUNDENTYP             584612\n",
      "KBA05_BAUMAX             476524\n",
      "GEBURTSJAHR              392318\n",
      "ALTER_HH                 310267\n",
      "REGIOTYP                 158064\n",
      "KKK                      158064\n",
      "W_KEIT_KIND_HH           147988\n",
      "KBA05_ANTG1              133324\n",
      "KBA05_ANTG2              133324\n",
      "KBA05_ANTG3              133324\n",
      "KBA05_ANTG4              133324\n",
      "KBA05_GBZ                133324\n",
      "MOBI_REGIO               133324\n",
      "PLZ8_BAUMAX              116515\n",
      "PLZ8_GBZ                 116515\n",
      "PLZ8_ANTG1               116515\n",
      "PLZ8_ANTG2               116515\n",
      "PLZ8_ANTG3               116515\n",
      "PLZ8_ANTG4               116515\n",
      "PLZ8_HHZ                 116515\n",
      "VERS_TYP                 111196\n",
      "HEALTH_TYP               111196\n",
      "SHOPPER_TYP              111196\n",
      "NATIONALITAET_KZ         108315\n",
      "PRAEGENDE_JUGENDJAHRE    108164\n",
      "KBA13_ANZAHL_PKW         105800\n",
      "ANZ_HAUSHALTE_AKTIV       99611\n",
      "CAMEO_INTL_2015           99352\n",
      "                          ...  \n",
      "LP_STATUS_FEIN             4854\n",
      "ONLINE_AFFINITAET          4854\n",
      "GFK_URLAUBERTYP            4854\n",
      "RETOURTYP_BK_S             4854\n",
      "LP_STATUS_GROB             4854\n",
      "ALTERSKATEGORIE_GROB       2881\n",
      "ANREDE_KZ                     0\n",
      "FINANZTYP                     0\n",
      "FINANZ_SPARER                 0\n",
      "FINANZ_VORSORGER              0\n",
      "FINANZ_HAUSBAUER              0\n",
      "FINANZ_UNAUFFAELLIGER         0\n",
      "FINANZ_ANLEGER                0\n",
      "FINANZ_MINIMALIST             0\n",
      "SEMIO_KAEM                    0\n",
      "SEMIO_SOZ                     0\n",
      "SEMIO_DOM                     0\n",
      "SEMIO_FAM                     0\n",
      "SEMIO_REL                     0\n",
      "SEMIO_MAT                     0\n",
      "SEMIO_VERT                    0\n",
      "SEMIO_LUST                    0\n",
      "SEMIO_ERL                     0\n",
      "SEMIO_KULT                    0\n",
      "SEMIO_RAT                     0\n",
      "SEMIO_KRIT                    0\n",
      "SEMIO_TRADV                   0\n",
      "SEMIO_PFLICHT                 0\n",
      "GREEN_AVANTGARDE              0\n",
      "ZABEOTYP                      0\n",
      "Length: 85, dtype: int64\n",
      "\n",
      "No of total missings:  8373929\n"
     ]
    }
   ],
   "source": [
    "# Perform an assessment of how much missing data there is in each column of the\n",
    "# dataset.\n",
    "col_missings = azdias.isnull().sum()\n",
    "sort_index = np.argsort(-col_missings)\n",
    "col_missings_sort = col_missings.iloc[sort_index] # sorted\n",
    "print(\"Missings per col: (many to none)\\n\", col_missings_sort)\n",
    "print(\"\\nNo of total missings: \", azdias.isnull().sum().sum())"
   ]
  },
  {
   "cell_type": "code",
   "execution_count": 10,
   "metadata": {},
   "outputs": [
    {
     "name": "stdout",
     "output_type": "stream",
     "text": [
      "Entries missing: 11.05%\n"
     ]
    }
   ],
   "source": [
    "total_missings = azdias.isnull().sum().sum()\n",
    "total_entries = azdias.shape[0]*azdias.shape[1]\n",
    "print(\"Entries missing: {:.2f}%\".format( (total_missings / total_entries) * 100) )"
   ]
  },
  {
   "cell_type": "code",
   "execution_count": 11,
   "metadata": {},
   "outputs": [
    {
     "data": {
      "image/png": "[encoded data removed]",
      "text/plain": [
       "<matplotlib.figure.Figure at 0x7f4e5d2a2a58>"
      ]
     },
     "metadata": {
      "needs_background": "light"
     },
     "output_type": "display_data"
    }
   ],
   "source": [
    "# Investigate patterns in the amount of missing data in each column.\n",
    "#Use hist to identify columns with higher proportion of missings\n",
    "#Histogram is suggested\n",
    "\n",
    "plt.hist(col_missings, bins = 30)\n",
    "plt.xlabel(\"# of missing values\")\n",
    "plt.ylabel(\"# of columns\")\n",
    "\n",
    "plt.show()"
   ]
  },
  {
   "cell_type": "code",
   "execution_count": 12,
   "metadata": {},
   "outputs": [
    {
     "name": "stdout",
     "output_type": "stream",
     "text": [
      "Cols given more than 159k missings:\n",
      " TITEL_KZ        889061\n",
      "AGER_TYP        685843\n",
      "KK_KUNDENTYP    584612\n",
      "KBA05_BAUMAX    476524\n",
      "GEBURTSJAHR     392318\n",
      "ALTER_HH        310267\n",
      "dtype: int64\n",
      "\n",
      "Cols given more than 159k missings (in percent):\n",
      " TITEL_KZ        99.757636\n",
      "AGER_TYP        76.955435\n",
      "KK_KUNDENTYP    65.596749\n",
      "KBA05_BAUMAX    53.468668\n",
      "GEBURTSJAHR     44.020282\n",
      "ALTER_HH        34.813699\n",
      "dtype: float64\n"
     ]
    }
   ],
   "source": [
    "print(\"Cols given more than 159k missings:\\n\", col_missings_sort[col_missings_sort > 159000])\n",
    "print(\"\\nCols given more than 159k missings (in percent):\\n\", (col_missings_sort[col_missings_sort > 159000] / azdias.shape[0])*100)"
   ]
  },
  {
   "cell_type": "markdown",
   "metadata": {},
   "source": [
    "**Notes**:  \n",
    "It seems as if there is a clear gap between columns with fewer than 159k missing values and 6 columns with more than 310k missing values per column. Again, there are no columns with no. of missing values between 159k (~17%) and 310k (~35%).\n",
    "\n",
    "The first column with more than 159k missings (ascending order) is `ALTER_HH` with 310267 missing values or ~35%. The column with the most missing values is `TITEL_KZ` and has 889061 missing values (Recall from the shape that we have 891221 data entries). Hence, almost all data for this category are missing, except 2160. More than 99.7% of the data are missing in this column!"
   ]
  },
  {
   "cell_type": "code",
   "execution_count": 13,
   "metadata": {},
   "outputs": [
    {
     "data": {
      "text/plain": [
       "count        85.000000\n",
       "mean      98516.811765\n",
       "std      146604.203317\n",
       "min           0.000000\n",
       "25%           0.000000\n",
       "50%       93148.000000\n",
       "75%      116515.000000\n",
       "max      889061.000000\n",
       "dtype: float64"
      ]
     },
     "execution_count": 13,
     "metadata": {},
     "output_type": "execute_result"
    }
   ],
   "source": [
    "col_missings.describe()"
   ]
  },
  {
   "cell_type": "code",
   "execution_count": 14,
   "metadata": {},
   "outputs": [
    {
     "name": "stdout",
     "output_type": "stream",
     "text": [
      "24 columns without missings!\n"
     ]
    }
   ],
   "source": [
    "no_missings = len(col_missings[col_missings == 0])\n",
    "print(\"{} columns without missings!\".format(no_missings))"
   ]
  },
  {
   "cell_type": "markdown",
   "metadata": {},
   "source": [
    "**Notes**  \n",
    "The 85 columns have on average ~98,5k missing values, whereas the median is a little bit lower at ~93,1k missing values indicating that the distribution is right-skewed. "
   ]
  },
  {
   "cell_type": "code",
   "execution_count": 15,
   "metadata": {},
   "outputs": [
    {
     "name": "stdout",
     "output_type": "stream",
     "text": [
      "AGER_TYP        685843\n",
      "GEBURTSJAHR     392318\n",
      "TITEL_KZ        889061\n",
      "ALTER_HH        310267\n",
      "KK_KUNDENTYP    584612\n",
      "KBA05_BAUMAX    476524\n",
      "dtype: int64\n",
      "\n",
      "Outlier cols: \n",
      " Index(['AGER_TYP', 'GEBURTSJAHR', 'TITEL_KZ', 'ALTER_HH', 'KK_KUNDENTYP',\n",
      "       'KBA05_BAUMAX'],\n",
      "      dtype='object')\n"
     ]
    }
   ],
   "source": [
    "# \"outlier columns\"\n",
    "col_outlier = col_missings[col_missings > 159000]\n",
    "col_outlier_names = col_missings[col_missings > 159000].index\n",
    "print(col_outlier)\n",
    "print(\"\\nOutlier cols: \\n\", col_outlier_names)"
   ]
  },
  {
   "cell_type": "markdown",
   "metadata": {},
   "source": [
    "**Notes**  \n",
    "Delete the following columns, which have been identified as outliers:  \n",
    "- AGER_TYP\n",
    "- GEBURTSJAHR\n",
    "- TITEL_KZ\n",
    "- ALTER_HH\n",
    "- KK_KUNDENTYP\n",
    "- KBA05_BAUMAX"
   ]
  },
  {
   "cell_type": "code",
   "execution_count": 16,
   "metadata": {},
   "outputs": [
    {
     "name": "stdout",
     "output_type": "stream",
     "text": [
      "(891221, 79)\n"
     ]
    }
   ],
   "source": [
    "# Remove the outlier columns from the dataset. (You'll perform other data\n",
    "# engineering tasks such as re-encoding and imputation later.)\n",
    "azdias = azdias.drop(col_outlier_names, axis =1) # could also be done using inplace\n",
    "print(azdias.shape)"
   ]
  },
  {
   "cell_type": "markdown",
   "metadata": {},
   "source": [
    "**Comment**  \n",
    "I want to note that it was not said to delete the outlier columns from the feat_info data as well and thus I did not remove them. Therefore, the number of cols in feat_info and azdias is different which probably should be considered throughout the analysis."
   ]
  },
  {
   "cell_type": "code",
   "execution_count": 17,
   "metadata": {},
   "outputs": [
    {
     "name": "stdout",
     "output_type": "stream",
     "text": [
      "No. of total missings after deleting cols: 5035304\n"
     ]
    }
   ],
   "source": [
    "print(\"No. of total missings after deleting cols:\",azdias.isnull().sum().sum())"
   ]
  },
  {
   "cell_type": "code",
   "execution_count": 18,
   "metadata": {},
   "outputs": [
    {
     "data": {
      "text/plain": [
       "count        79.000000\n",
       "mean      63738.025316\n",
       "std       54253.866391\n",
       "min           0.000000\n",
       "25%           0.000000\n",
       "50%       93148.000000\n",
       "75%      108239.500000\n",
       "max      158064.000000\n",
       "dtype: float64"
      ]
     },
     "execution_count": 18,
     "metadata": {},
     "output_type": "execute_result"
    }
   ],
   "source": [
    "col_missings2 = azdias.isnull().sum()\n",
    "col_missings2.describe()"
   ]
  },
  {
   "cell_type": "markdown",
   "metadata": {},
   "source": [
    "**Notes**  \n",
    "- Before deleting the 6 columns we had `8373929` missing values\n",
    "- After deleting we have `5035304` missing values left.\n",
    "- Mean of missing values decreased to ~63,7k missing values."
   ]
  },
  {
   "cell_type": "code",
   "execution_count": 19,
   "metadata": {},
   "outputs": [
    {
     "name": "stdout",
     "output_type": "stream",
     "text": [
      "Percent of missing or unknown values:  7.15176430049\n"
     ]
    }
   ],
   "source": [
    "print(\"Percent of missing or unknown values: \", (col_missings2.sum() / (azdias.shape[0] * azdias.shape[1]))*100)"
   ]
  },
  {
   "cell_type": "markdown",
   "metadata": {},
   "source": [
    "#### Discussion 1.1.2: Assess Missing Data in Each Column\n",
    "(Note that the discussion is built on the notes throughout the analysis)\n",
    "\n",
    "The raw dataset contains 891,221 rows and 85 columns indicating no. of individuals and features, respectively.\n",
    "\n",
    "Its features are categorized by level of collection and measurement scales (type). There are 43 features collected on the personal level, whereas other features are for example collected on the household (7) or community (3) level. \n",
    "\n",
    "Moreover, the data features have different measurement scales. Of the 85 features, 49 are ordinally scaled, 21 categorically and the rest of the features are either interval, mixed or numerically scaled. It seems reasonable to have a look at the individually measurement scales later on and process them further.\n",
    "\n",
    "After changing the code for missings to nan it becomes visible that the dataset contains 8,373,929 missing or unknown values (11.05%). In the following analysis missing and unknown values are treated equally and the terms `missing` and `unknown` are interchangeably. \n",
    "\n",
    "Additionally, it can be seen that there is a clear gap between columns with fewer than 159k missing values and 6 columns with more than 310k missing values per column. Again, there are no columns with  missing values between 159k (~17%) and 310k (~35%).\n",
    "\n",
    "The first column with more than 159k missings (ascending order) is `ALTER_HH` with 310,267 missing values or ~35%. The column with the most missing values is `TITEL_KZ` and has 889,061 missing values (Recall from the shape that we have 891,221 data entries). Hence, almost all data for this category are missing, except 2,160. More than 99.7% of the data are missing in this column!\n",
    "\n",
    "The 85 columns have on average ~98,5k missing values, whereas the median is a little bit lower at ~93,1k missing values indicating that the distribution is right-skewed. In total, 11.05% of the entries are missing or unknown. Based on the aforementioned huge gap I decided to delete all columns with more than 159,000 missing values. \n",
    "\n",
    "Hence, I deleted the following columns, which I have identified as outliers:  \n",
    "- AGER_TYP\n",
    "- GEBURTSJAHR\n",
    "- TITEL_KZ\n",
    "- ALTER_HH\n",
    "- KK_KUNDENTYP\n",
    "- KBA05_BAUMAX\n",
    "\n",
    "Before deleting the 6 columns we had 8,373,929 missing values, whereas after deleting them  5,035,304 missing values are left. This decreased the mean of missing values to ~63,7k. In total 7.15% (-3.9) of the data are now missing or unknown. \n",
    "\n",
    "(Double click this cell and replace this text with your own text, reporting your observations regarding the amount of missing data in each column. Are there any patterns in missing values? Which columns were removed from the dataset?)"
   ]
  },
  {
   "cell_type": "markdown",
   "metadata": {},
   "source": [
    "#### Step 1.1.3: Assess Missing Data in Each Row\n",
    "\n",
    "Now, you'll perform a similar assessment for the rows of the dataset. How much data is missing in each row? As with the columns, you should see some groups of points that have a very different numbers of missing values. Divide the data into two subsets: one for data points that are above some threshold for missing values, and a second subset for points below that threshold.\n",
    "\n",
    "In order to know what to do with the outlier rows, we should see if the distribution of data values on columns that are not missing data (or are missing very little data) are similar or different between the two groups. Select at least five of these columns and compare the distribution of values.\n",
    "- You can use seaborn's [`countplot()`](https://seaborn.pydata.org/generated/seaborn.countplot.html) function to create a bar chart of code frequencies and matplotlib's [`subplot()`](https://matplotlib.org/api/_as_gen/matplotlib.pyplot.subplot.html) function to put bar charts for the two subplots side by side.\n",
    "- To reduce repeated code, you might want to write a function that can perform this comparison, taking as one of its arguments a column to be compared.\n",
    "\n",
    "Depending on what you observe in your comparison, this will have implications on how you approach your conclusions later in the analysis. If the distributions of non-missing features look similar between the data with many missing values and the data with few or no missing values, then we could argue that simply dropping those points from the analysis won't present a major issue. On the other hand, if the data with many missing values looks very different from the data with few or no missing values, then we should make a note on those data as special. We'll revisit these data later on. **Either way, you should continue your analysis for now using just the subset of the data with few or no missing values.**"
   ]
  },
  {
   "cell_type": "code",
   "execution_count": 20,
   "metadata": {},
   "outputs": [
    {
     "data": {
      "text/plain": [
       "count    891221.000000\n",
       "mean          5.649894\n",
       "std          13.234687\n",
       "min           0.000000\n",
       "25%           0.000000\n",
       "50%           0.000000\n",
       "75%           3.000000\n",
       "max          49.000000\n",
       "dtype: float64"
      ]
     },
     "execution_count": 20,
     "metadata": {},
     "output_type": "execute_result"
    }
   ],
   "source": [
    "# How much data is missing in each row of the dataset?\n",
    "row_missings = azdias.isnull().sum(axis=1)\n",
    "row_missings.describe()"
   ]
  },
  {
   "cell_type": "code",
   "execution_count": 21,
   "metadata": {},
   "outputs": [
    {
     "name": "stdout",
     "output_type": "stream",
     "text": [
      "0.50 Quantile 0.0\n",
      "0.55 Quantile 0.0\n",
      "0.60 Quantile 0.0\n",
      "0.65 Quantile 0.0\n",
      "0.70 Quantile 1.0\n",
      "0.75 Quantile 3.0\n",
      "0.80 Quantile 5.0\n",
      "0.85 Quantile 8.0\n",
      "0.90 Quantile 34.0\n",
      "0.95 Quantile 47.0\n"
     ]
    }
   ],
   "source": [
    "for i in range(50,100,5):\n",
    "    print(\"0.\"+str(i), \"Quantile\", np.percentile(row_missings,i))"
   ]
  },
  {
   "cell_type": "markdown",
   "metadata": {},
   "source": [
    "**Notes**  \n",
    "After deleting the outlier columns we have on average 5.7 missing values per row. Moreover, the 0.5 quantile (median) as well as the 0.65 quantile is zero. Hence, 65% of the rows have zero missings. Additionally, even the 0.85 Quantile is only 8, which means that 85% of the rows have 8 or fewer missings."
   ]
  },
  {
   "cell_type": "code",
   "execution_count": 22,
   "metadata": {},
   "outputs": [
    {
     "name": "stdout",
     "output_type": "stream",
     "text": [
      "Row missings fewer or equal 5:\n",
      " 719624\n",
      "Row missings more than 5:\n",
      " 171597\n"
     ]
    }
   ],
   "source": [
    "print(\"Row missings fewer or equal 5:\\n\",len(row_missings[row_missings <= 5]))\n",
    "print(\"Row missings more than 5:\\n\", len(row_missings[row_missings > 5]))"
   ]
  },
  {
   "cell_type": "code",
   "execution_count": 23,
   "metadata": {},
   "outputs": [
    {
     "data": {
      "text/plain": [
       "19.25414683899953"
      ]
     },
     "execution_count": 23,
     "metadata": {},
     "output_type": "execute_result"
    }
   ],
   "source": [
    "100 - ((len(row_missings[row_missings <= 5])/len(row_missings))*100)"
   ]
  },
  {
   "cell_type": "markdown",
   "metadata": {},
   "source": [
    "**Notes**\n",
    "We have 719,624 rows (80.75%) with fewer or equal to 5 missings and 171,597 rows (19.25%) have more than 5 missings. "
   ]
  },
  {
   "cell_type": "code",
   "execution_count": 24,
   "metadata": {},
   "outputs": [
    {
     "data": {
      "image/png": "[encoded data removed]",
      "text/plain": [
       "<matplotlib.figure.Figure at 0x7f4e50c306d8>"
      ]
     },
     "metadata": {
      "needs_background": "light"
     },
     "output_type": "display_data"
    }
   ],
   "source": [
    "# Histogram\n",
    "plt.hist(row_missings, bins = 20)\n",
    "plt.xlabel(\"# of missing values\")\n",
    "plt.ylabel(\"# of rows\")\n",
    "\n",
    "plt.show()"
   ]
  },
  {
   "cell_type": "markdown",
   "metadata": {},
   "source": [
    "**Notes**  \n",
    "The histogram implies that there are many rows with zero or close to zero missing values. Moreover, (almost) no rows with 20 - 30 missing values before the number of rows with 30 or more missing values per rows are increasing again."
   ]
  },
  {
   "cell_type": "code",
   "execution_count": 25,
   "metadata": {},
   "outputs": [
    {
     "name": "stdout",
     "output_type": "stream",
     "text": [
      "Row missings fewer or equal 20:\n",
      " 797426\n",
      "Row missings more than 20:\n",
      " 93795\n",
      "Twenty or fewer missings values per row (percent): 89.47567438379481\n"
     ]
    }
   ],
   "source": [
    "print(\"Row missings fewer or equal 20:\\n\",len(row_missings[row_missings <= 20]))\n",
    "print(\"Row missings more than 20:\\n\", len(row_missings[row_missings > 20]))\n",
    "print(\"Twenty or fewer missings values per row (percent):\",(len(row_missings[row_missings <= 20]) / len(row_missings))*100)"
   ]
  },
  {
   "cell_type": "markdown",
   "metadata": {},
   "source": [
    "**Notes**  \n",
    "In addition it seems as there is a gap betwen 20 and 30 missing values per row as almost 90% of rows have fewer than 20 missing values. "
   ]
  },
  {
   "cell_type": "code",
   "execution_count": 26,
   "metadata": {},
   "outputs": [],
   "source": [
    "# Write code to divide the data into two subsets based on the number of missing\n",
    "# values in each row.\n",
    "\n",
    "# determine missing values to split data on\n",
    "\n",
    "def subset_row_missings(missings_per_row=20):\n",
    "    '''\n",
    "    Function subsets azdias according to number of missings:\n",
    "    Could also be done using negative indexing but this seems \n",
    "    clearer and more intuitive to me'''\n",
    "    idx_be = row_missings.index[row_missings <= missings_per_row]\n",
    "    idx_ab = row_missings.index[row_missings > missings_per_row] \n",
    "    sub1 = azdias.loc[idx_be]\n",
    "    sub2 = azdias.loc[idx_ab]\n",
    "    return sub1, sub2\n",
    "\n",
    "sub1, sub2 = subset_row_missings(20)"
   ]
  },
  {
   "cell_type": "code",
   "execution_count": 27,
   "metadata": {},
   "outputs": [
    {
     "name": "stdout",
     "output_type": "stream",
     "text": [
      "Shape of complete dataset :  (891221, 79)\n",
      "Rows with fewer or equal 20 missings:  797426\n",
      "Rows with more than 20 missings:  93795\n"
     ]
    }
   ],
   "source": [
    "# Check if this worked based on shape \n",
    "print(\"Shape of complete dataset : \", azdias.shape)\n",
    "print(\"Rows with fewer or equal 20 missings: \", sub1.shape[0])\n",
    "print(\"Rows with more than 20 missings: \", sub2.shape[0])"
   ]
  },
  {
   "cell_type": "code",
   "execution_count": 28,
   "metadata": {},
   "outputs": [
    {
     "name": "stdout",
     "output_type": "stream",
     "text": [
      "rows subset 1:  797426\n",
      "rows subset 2:  93795\n"
     ]
    }
   ],
   "source": [
    "# Compare the distribution of values for at least five columns where there are\n",
    "# no or few missing values, between the two subsets.\n",
    "\n",
    "# 1. Subset data based on no or few missing values (I have chosen this to be 10)\n",
    "sub1, sub2 = subset_row_missings(20)\n",
    "print(\"rows subset 1: \", sub1.shape[0])\n",
    "print(\"rows subset 2: \", sub2.shape[0])"
   ]
  },
  {
   "cell_type": "code",
   "execution_count": 29,
   "metadata": {},
   "outputs": [
    {
     "data": {
      "text/html": [
       "<div>\n",
       "<style>\n",
       "    .dataframe thead tr:only-child th {\n",
       "        text-align: right;\n",
       "    }\n",
       "\n",
       "    .dataframe thead th {\n",
       "        text-align: left;\n",
       "    }\n",
       "\n",
       "    .dataframe tbody tr th {\n",
       "        vertical-align: top;\n",
       "    }\n",
       "</style>\n",
       "<table border=\"1\" class=\"dataframe\">\n",
       "  <thead>\n",
       "    <tr style=\"text-align: right;\">\n",
       "      <th></th>\n",
       "      <th>ALTERSKATEGORIE_GROB</th>\n",
       "      <th>ANREDE_KZ</th>\n",
       "      <th>CJT_GESAMTTYP</th>\n",
       "      <th>FINANZ_MINIMALIST</th>\n",
       "      <th>FINANZ_SPARER</th>\n",
       "      <th>FINANZ_VORSORGER</th>\n",
       "      <th>FINANZ_ANLEGER</th>\n",
       "      <th>FINANZ_UNAUFFAELLIGER</th>\n",
       "      <th>FINANZ_HAUSBAUER</th>\n",
       "      <th>FINANZTYP</th>\n",
       "      <th>...</th>\n",
       "      <th>PLZ8_ANTG1</th>\n",
       "      <th>PLZ8_ANTG2</th>\n",
       "      <th>PLZ8_ANTG3</th>\n",
       "      <th>PLZ8_ANTG4</th>\n",
       "      <th>PLZ8_BAUMAX</th>\n",
       "      <th>PLZ8_HHZ</th>\n",
       "      <th>PLZ8_GBZ</th>\n",
       "      <th>ARBEIT</th>\n",
       "      <th>ORTSGR_KLS9</th>\n",
       "      <th>RELAT_AB</th>\n",
       "    </tr>\n",
       "  </thead>\n",
       "  <tbody>\n",
       "    <tr>\n",
       "      <th>0</th>\n",
       "      <td>2.0</td>\n",
       "      <td>1</td>\n",
       "      <td>2.0</td>\n",
       "      <td>3</td>\n",
       "      <td>4</td>\n",
       "      <td>3</td>\n",
       "      <td>5</td>\n",
       "      <td>5</td>\n",
       "      <td>3</td>\n",
       "      <td>4</td>\n",
       "      <td>...</td>\n",
       "      <td>NaN</td>\n",
       "      <td>NaN</td>\n",
       "      <td>NaN</td>\n",
       "      <td>NaN</td>\n",
       "      <td>NaN</td>\n",
       "      <td>NaN</td>\n",
       "      <td>NaN</td>\n",
       "      <td>NaN</td>\n",
       "      <td>NaN</td>\n",
       "      <td>NaN</td>\n",
       "    </tr>\n",
       "    <tr>\n",
       "      <th>11</th>\n",
       "      <td>2.0</td>\n",
       "      <td>1</td>\n",
       "      <td>6.0</td>\n",
       "      <td>3</td>\n",
       "      <td>4</td>\n",
       "      <td>3</td>\n",
       "      <td>5</td>\n",
       "      <td>5</td>\n",
       "      <td>3</td>\n",
       "      <td>4</td>\n",
       "      <td>...</td>\n",
       "      <td>NaN</td>\n",
       "      <td>NaN</td>\n",
       "      <td>NaN</td>\n",
       "      <td>NaN</td>\n",
       "      <td>NaN</td>\n",
       "      <td>NaN</td>\n",
       "      <td>NaN</td>\n",
       "      <td>NaN</td>\n",
       "      <td>NaN</td>\n",
       "      <td>NaN</td>\n",
       "    </tr>\n",
       "    <tr>\n",
       "      <th>14</th>\n",
       "      <td>3.0</td>\n",
       "      <td>1</td>\n",
       "      <td>6.0</td>\n",
       "      <td>3</td>\n",
       "      <td>4</td>\n",
       "      <td>3</td>\n",
       "      <td>5</td>\n",
       "      <td>5</td>\n",
       "      <td>3</td>\n",
       "      <td>4</td>\n",
       "      <td>...</td>\n",
       "      <td>NaN</td>\n",
       "      <td>NaN</td>\n",
       "      <td>NaN</td>\n",
       "      <td>NaN</td>\n",
       "      <td>NaN</td>\n",
       "      <td>NaN</td>\n",
       "      <td>NaN</td>\n",
       "      <td>NaN</td>\n",
       "      <td>NaN</td>\n",
       "      <td>NaN</td>\n",
       "    </tr>\n",
       "    <tr>\n",
       "      <th>17</th>\n",
       "      <td>2.0</td>\n",
       "      <td>1</td>\n",
       "      <td>6.0</td>\n",
       "      <td>3</td>\n",
       "      <td>4</td>\n",
       "      <td>3</td>\n",
       "      <td>5</td>\n",
       "      <td>5</td>\n",
       "      <td>3</td>\n",
       "      <td>4</td>\n",
       "      <td>...</td>\n",
       "      <td>NaN</td>\n",
       "      <td>NaN</td>\n",
       "      <td>NaN</td>\n",
       "      <td>NaN</td>\n",
       "      <td>NaN</td>\n",
       "      <td>NaN</td>\n",
       "      <td>NaN</td>\n",
       "      <td>NaN</td>\n",
       "      <td>NaN</td>\n",
       "      <td>NaN</td>\n",
       "    </tr>\n",
       "    <tr>\n",
       "      <th>24</th>\n",
       "      <td>3.0</td>\n",
       "      <td>2</td>\n",
       "      <td>6.0</td>\n",
       "      <td>3</td>\n",
       "      <td>4</td>\n",
       "      <td>3</td>\n",
       "      <td>5</td>\n",
       "      <td>5</td>\n",
       "      <td>3</td>\n",
       "      <td>4</td>\n",
       "      <td>...</td>\n",
       "      <td>NaN</td>\n",
       "      <td>NaN</td>\n",
       "      <td>NaN</td>\n",
       "      <td>NaN</td>\n",
       "      <td>NaN</td>\n",
       "      <td>NaN</td>\n",
       "      <td>NaN</td>\n",
       "      <td>NaN</td>\n",
       "      <td>NaN</td>\n",
       "      <td>NaN</td>\n",
       "    </tr>\n",
       "  </tbody>\n",
       "</table>\n",
       "<p>5 rows × 79 columns</p>\n",
       "</div>"
      ],
      "text/plain": [
       "    ALTERSKATEGORIE_GROB  ANREDE_KZ  CJT_GESAMTTYP  FINANZ_MINIMALIST  \\\n",
       "0                    2.0          1            2.0                  3   \n",
       "11                   2.0          1            6.0                  3   \n",
       "14                   3.0          1            6.0                  3   \n",
       "17                   2.0          1            6.0                  3   \n",
       "24                   3.0          2            6.0                  3   \n",
       "\n",
       "    FINANZ_SPARER  FINANZ_VORSORGER  FINANZ_ANLEGER  FINANZ_UNAUFFAELLIGER  \\\n",
       "0               4                 3               5                      5   \n",
       "11              4                 3               5                      5   \n",
       "14              4                 3               5                      5   \n",
       "17              4                 3               5                      5   \n",
       "24              4                 3               5                      5   \n",
       "\n",
       "    FINANZ_HAUSBAUER  FINANZTYP    ...     PLZ8_ANTG1  PLZ8_ANTG2  PLZ8_ANTG3  \\\n",
       "0                  3          4    ...            NaN         NaN         NaN   \n",
       "11                 3          4    ...            NaN         NaN         NaN   \n",
       "14                 3          4    ...            NaN         NaN         NaN   \n",
       "17                 3          4    ...            NaN         NaN         NaN   \n",
       "24                 3          4    ...            NaN         NaN         NaN   \n",
       "\n",
       "    PLZ8_ANTG4  PLZ8_BAUMAX  PLZ8_HHZ  PLZ8_GBZ  ARBEIT  ORTSGR_KLS9  RELAT_AB  \n",
       "0          NaN          NaN       NaN       NaN     NaN          NaN       NaN  \n",
       "11         NaN          NaN       NaN       NaN     NaN          NaN       NaN  \n",
       "14         NaN          NaN       NaN       NaN     NaN          NaN       NaN  \n",
       "17         NaN          NaN       NaN       NaN     NaN          NaN       NaN  \n",
       "24         NaN          NaN       NaN       NaN     NaN          NaN       NaN  \n",
       "\n",
       "[5 rows x 79 columns]"
      ]
     },
     "execution_count": 29,
     "metadata": {},
     "output_type": "execute_result"
    }
   ],
   "source": [
    "sub1.head()\n",
    "sub2.head()"
   ]
  },
  {
   "cell_type": "code",
   "execution_count": 30,
   "metadata": {},
   "outputs": [],
   "source": [
    "outlier_names2 = ['AGER_TYP', 'GEBURTSJAHR', 'TITEL_KZ', 'ALTER_HH', 'KK_KUNDENTYP',\n",
    "       'KBA05_BAUMAX']"
   ]
  },
  {
   "cell_type": "code",
   "execution_count": 31,
   "metadata": {},
   "outputs": [
    {
     "data": {
      "text/plain": [
       "['GREEN_AVANTGARDE',\n",
       " 'FINANZTYP',\n",
       " 'FINANZ_ANLEGER',\n",
       " 'SEMIO_PFLICHT',\n",
       " 'ZABEOTYP']"
      ]
     },
     "execution_count": 31,
     "metadata": {},
     "output_type": "execute_result"
    }
   ],
   "source": [
    "# Choose (random) cols\n",
    "import random\n",
    "\n",
    "# Uncomment if you want 5 random cols\n",
    "# five_cols = azdias.columns[np.random.randint(0, 79,5)]\n",
    "\n",
    "five_cols = ([\"GREEN_AVANTGARDE\", \n",
    "              \"FINANZTYP\", \n",
    "              \"FINANZ_ANLEGER\", \n",
    "              \"SEMIO_PFLICHT\", \n",
    "              \"ZABEOTYP\", \n",
    "              ])\n",
    "five_cols"
   ]
  },
  {
   "cell_type": "code",
   "execution_count": 32,
   "metadata": {},
   "outputs": [
    {
     "data": {
      "image/png": "[encoded data removed]",
      "text/plain": [
       "<matplotlib.figure.Figure at 0x7f4e50bbea90>"
      ]
     },
     "metadata": {
      "needs_background": "light"
     },
     "output_type": "display_data"
    }
   ],
   "source": [
    "fig, axes = plt.subplots(nrows= 5, ncols = 2, figsize = (20,30))\n",
    "n = 0\n",
    "\n",
    "sns.set(style=\"darkgrid\")\n",
    "\n",
    "for column in five_cols:\n",
    "    sns.countplot(sub1.loc[:, column], ax = axes[n,0])\n",
    "    axes[n,0].set_title(\"Subset 1: Rows with <= 10 total missings \")\n",
    "    sns.countplot(sub2.loc[:, column], ax = axes[n,1])\n",
    "    axes[n,1].set_title(\"Subset 2: Rows with > 10 total per row\")\n",
    "    n+=1"
   ]
  },
  {
   "cell_type": "markdown",
   "metadata": {},
   "source": [
    "**Notes**    \n",
    "Function subset_row_missings divides the dataset into a subset 1 with fewer or equal to the determined values of missings per row and one subset which consists of the rows with more than the determined value of missings. \n",
    "\n",
    "The task is now to create a subset based on no or few missing values. I have determined this threshold to be five missing values per row. Afterwards I have plotted both subsets for five cols to see differences in distribution.\n"
   ]
  },
  {
   "cell_type": "markdown",
   "metadata": {},
   "source": [
    "#### Discussion 1.1.3: Assess Missing Data in Each Row\n",
    "After deleting the outlier columns we have on average 5.7 missing values per row. Moreover, the 0.5 quantile (median) as well as the 0.65 quantile is zero. Hence, 65% of the rows have zero missings. Additionally, even the 0.85 Quantile is only 8, which means that 85% of the rows have 8 or fewer missings.\n",
    "\n",
    "We have 719,624 rows (80.75%) with fewer or equal to 5 missings and 171,597 rows (19.25%) have more than 5 missings. \n",
    "\n",
    "The histogram implies that there are many rows with zero or close to zero missing values. Moreover, (almost) no rows with 20 - 30 missing values before the number of rows with 30 or more missing values per rows are increasing again.\n",
    "\n",
    "In addition it seems as there is a gap betwen 20 and 30 missing values per row as almost 90% of rows have fewer than 20 missing values.\n",
    "\n",
    "Function subset_row_missings divides the dataset into a subset 1 with fewer or equal to the determined values of missings per row and one subset which consists of the rows with more than the determined value of missings. \n",
    "\n",
    "The task is now to create a subset based on no or few missing values. I have determined this threshold to be five missing values per row. Afterwards I have plotted both subsets for five cols to see differences in distribution.\n",
    "\n",
    "Col. 1 (\"GREEN AVANTGARDE\"): Of those with fewer than 10 missing values per row roughly 180,000 are of type 1 in subset 1, whereas in subset 2 virtually nobody is of type 1\n",
    "\n",
    "Col. 2 (\"FINANZTYP\"): Distribution between both subsets is pretty different here as well. Whereas the most common type in subset 1 is `6`, most of the individuals in subset 2 belong to group 4. \n",
    "\n",
    "Col. 3 (\"FINANZ_ANLEGER\"): Whereas the distribution of individuals in subset 1 (<= 10 missings) is roughly uniform for groups 2 to 5 and most individuals belong to group 1, most individuals in subset 2 belong exclusively to category 5. \n",
    "\n",
    "Col. 4 (\"SEMIO_Pflicht\"): Again we see a quite different distribution between both subsets. In subset 1 individuals are spread across many groups, in particular group 3-7. In stark contrast individuals of subset 2 belong only to group 5 and few to group 4.\n",
    "\n",
    "Col. 5 (\"ZABEOTYP\"): For this feature we see that in both subsets the most common category is no.5. However, whereas individuals of subset 2 almost exclusively belong to this group, it is more heterogeneous for subset 1.   \n",
    "\n",
    "In summary, I can conclude that the data with >10 missing values per row seem to be qualitatively very different from data with <= 10 missing values per row.\n",
    "\n",
    "A major problem of missing data is the additional noise we get if we would include them in the analysis by imputation, taking averages, etc. Moreover, I have shown that those rows with <=  10 missing values are inherently different from the other rows. Hence, I have decided to continue the analysis using only the data of subset1 (`sub1`) from here. It may be interesting to compare both subsets in a later stage of the analysis to compare differences and the causal basis of why they are so different but this is beyond the scope of this project. \n",
    "\n",
    "(Double-click this cell and replace this text with your own text, reporting your observations regarding missing data in rows. Are the data with lots of missing values are qualitatively different from data with few or no missing values?)"
   ]
  },
  {
   "cell_type": "markdown",
   "metadata": {},
   "source": [
    "### Step 1.2: Select and Re-Encode Features\n",
    "\n",
    "Checking for missing data isn't the only way in which you can prepare a dataset for analysis. Since the unsupervised learning techniques to be used will only work on data that is encoded numerically, you need to make a few encoding changes or additional assumptions to be able to make progress. In addition, while almost all of the values in the dataset are encoded using numbers, not all of them represent numeric values. Check the third column of the feature summary (`feat_info`) for a summary of types of measurement.\n",
    "- For numeric and interval data, these features can be kept without changes.\n",
    "- Most of the variables in the dataset are ordinal in nature. While ordinal values may technically be non-linear in spacing, make the simplifying assumption that the ordinal variables can be treated as being interval in nature (that is, kept without any changes).\n",
    "- Special handling may be necessary for the remaining two variable types: categorical, and 'mixed'.\n",
    "\n",
    "In the first two parts of this sub-step, you will perform an investigation of the categorical and mixed-type features and make a decision on each of them, whether you will keep, drop, or re-encode each. Then, in the last part, you will create a new data frame with only the selected and engineered columns.\n",
    "\n",
    "Data wrangling is often the trickiest part of the data analysis process, and there's a lot of it to be done here. But stick with it: once you're done with this step, you'll be ready to get to the machine learning parts of the project!"
   ]
  },
  {
   "cell_type": "code",
   "execution_count": 33,
   "metadata": {},
   "outputs": [
    {
     "data": {
      "text/html": [
       "<div>\n",
       "<style>\n",
       "    .dataframe thead tr:only-child th {\n",
       "        text-align: right;\n",
       "    }\n",
       "\n",
       "    .dataframe thead th {\n",
       "        text-align: left;\n",
       "    }\n",
       "\n",
       "    .dataframe tbody tr th {\n",
       "        vertical-align: top;\n",
       "    }\n",
       "</style>\n",
       "<table border=\"1\" class=\"dataframe\">\n",
       "  <thead>\n",
       "    <tr style=\"text-align: right;\">\n",
       "      <th></th>\n",
       "      <th>attribute</th>\n",
       "      <th>information_level</th>\n",
       "      <th>missing_or_unknown</th>\n",
       "    </tr>\n",
       "    <tr>\n",
       "      <th>type</th>\n",
       "      <th></th>\n",
       "      <th></th>\n",
       "      <th></th>\n",
       "    </tr>\n",
       "  </thead>\n",
       "  <tbody>\n",
       "    <tr>\n",
       "      <th>categorical</th>\n",
       "      <td>21</td>\n",
       "      <td>21</td>\n",
       "      <td>21</td>\n",
       "    </tr>\n",
       "    <tr>\n",
       "      <th>interval</th>\n",
       "      <td>1</td>\n",
       "      <td>1</td>\n",
       "      <td>1</td>\n",
       "    </tr>\n",
       "    <tr>\n",
       "      <th>mixed</th>\n",
       "      <td>7</td>\n",
       "      <td>7</td>\n",
       "      <td>7</td>\n",
       "    </tr>\n",
       "    <tr>\n",
       "      <th>numeric</th>\n",
       "      <td>7</td>\n",
       "      <td>7</td>\n",
       "      <td>7</td>\n",
       "    </tr>\n",
       "    <tr>\n",
       "      <th>ordinal</th>\n",
       "      <td>49</td>\n",
       "      <td>49</td>\n",
       "      <td>49</td>\n",
       "    </tr>\n",
       "  </tbody>\n",
       "</table>\n",
       "</div>"
      ],
      "text/plain": [
       "             attribute  information_level  missing_or_unknown\n",
       "type                                                         \n",
       "categorical         21                 21                  21\n",
       "interval             1                  1                   1\n",
       "mixed                7                  7                   7\n",
       "numeric              7                  7                   7\n",
       "ordinal             49                 49                  49"
      ]
     },
     "execution_count": 33,
     "metadata": {},
     "output_type": "execute_result"
    }
   ],
   "source": [
    "# How many features are there of each data type?\n",
    "feat_info.groupby(\"type\").count()"
   ]
  },
  {
   "cell_type": "markdown",
   "metadata": {},
   "source": [
    "**Notes**  \n",
    "Note that feat_info still includes the outlier columns since it was not specified to drop them as well and I decided to not drop them."
   ]
  },
  {
   "cell_type": "markdown",
   "metadata": {},
   "source": [
    "#### Step 1.2.1: Re-Encode Categorical Features\n",
    "\n",
    "For categorical data, you would ordinarily need to encode the levels as dummy variables. Depending on the number of categories, perform one of the following:\n",
    "- For binary (two-level) categoricals that take numeric values, you can keep them without needing to do anything.\n",
    "- There is one binary variable that takes on non-numeric values. For this one, you need to re-encode the values as numbers or create a dummy variable.\n",
    "- For multi-level categoricals (three or more values), you can choose to encode the values using multiple dummy variables (e.g. via [OneHotEncoder](http://scikit-learn.org/stable/modules/generated/sklearn.preprocessing.OneHotEncoder.html)), or (to keep things straightforward) just drop them from the analysis. As always, document your choices in the Discussion section."
   ]
  },
  {
   "cell_type": "code",
   "execution_count": 34,
   "metadata": {},
   "outputs": [
    {
     "name": "stdout",
     "output_type": "stream",
     "text": [
      "18\n"
     ]
    }
   ],
   "source": [
    "# Assess categorical variables: which are binary, which are multi-level, and\n",
    "# which one needs to be re-encoded?\n",
    "\n",
    "### Apply list comprehension to choose and change data\n",
    "#in following steps\n",
    "\n",
    "# Change to array\n",
    "feat_info_categorical = feat_info[feat_info['type'] == 'categorical']['attribute'].values\n",
    "feat_info_categorical = [x for x in feat_info_categorical if x in azdias.columns]\n",
    "\n",
    "# Results in categorical features of the reduced dataset\n",
    "print(len(feat_info_categorical))"
   ]
  },
  {
   "cell_type": "markdown",
   "metadata": {},
   "source": [
    "**Notes**  \n",
    "18 categorical features remain to be taken care of and which require \"special handling\". "
   ]
  },
  {
   "cell_type": "code",
   "execution_count": 35,
   "metadata": {},
   "outputs": [
    {
     "data": {
      "text/html": [
       "<div>\n",
       "<style>\n",
       "    .dataframe thead tr:only-child th {\n",
       "        text-align: right;\n",
       "    }\n",
       "\n",
       "    .dataframe thead th {\n",
       "        text-align: left;\n",
       "    }\n",
       "\n",
       "    .dataframe tbody tr th {\n",
       "        vertical-align: top;\n",
       "    }\n",
       "</style>\n",
       "<table border=\"1\" class=\"dataframe\">\n",
       "  <thead>\n",
       "    <tr style=\"text-align: right;\">\n",
       "      <th></th>\n",
       "      <th>ANREDE_KZ</th>\n",
       "      <th>GREEN_AVANTGARDE</th>\n",
       "      <th>SOHO_KZ</th>\n",
       "      <th>VERS_TYP</th>\n",
       "      <th>OST_WEST_KZ</th>\n",
       "    </tr>\n",
       "  </thead>\n",
       "  <tbody>\n",
       "    <tr>\n",
       "      <th>0</th>\n",
       "      <td>1</td>\n",
       "      <td>0</td>\n",
       "      <td>NaN</td>\n",
       "      <td>NaN</td>\n",
       "      <td>NaN</td>\n",
       "    </tr>\n",
       "    <tr>\n",
       "      <th>1</th>\n",
       "      <td>2</td>\n",
       "      <td>0</td>\n",
       "      <td>1.0</td>\n",
       "      <td>2.0</td>\n",
       "      <td>W</td>\n",
       "    </tr>\n",
       "    <tr>\n",
       "      <th>2</th>\n",
       "      <td>2</td>\n",
       "      <td>1</td>\n",
       "      <td>0.0</td>\n",
       "      <td>1.0</td>\n",
       "      <td>W</td>\n",
       "    </tr>\n",
       "    <tr>\n",
       "      <th>3</th>\n",
       "      <td>2</td>\n",
       "      <td>0</td>\n",
       "      <td>0.0</td>\n",
       "      <td>1.0</td>\n",
       "      <td>W</td>\n",
       "    </tr>\n",
       "    <tr>\n",
       "      <th>4</th>\n",
       "      <td>1</td>\n",
       "      <td>0</td>\n",
       "      <td>0.0</td>\n",
       "      <td>2.0</td>\n",
       "      <td>W</td>\n",
       "    </tr>\n",
       "  </tbody>\n",
       "</table>\n",
       "</div>"
      ],
      "text/plain": [
       "   ANREDE_KZ  GREEN_AVANTGARDE  SOHO_KZ  VERS_TYP OST_WEST_KZ\n",
       "0          1                 0      NaN       NaN         NaN\n",
       "1          2                 0      1.0       2.0           W\n",
       "2          2                 1      0.0       1.0           W\n",
       "3          2                 0      0.0       1.0           W\n",
       "4          1                 0      0.0       2.0           W"
      ]
     },
     "execution_count": 35,
     "metadata": {},
     "output_type": "execute_result"
    }
   ],
   "source": [
    "binary = [x for x in feat_info_categorical if azdias[x].nunique()==2]\n",
    "azdias[binary][:5]"
   ]
  },
  {
   "cell_type": "code",
   "execution_count": 36,
   "metadata": {},
   "outputs": [
    {
     "data": {
      "text/html": [
       "<div>\n",
       "<style>\n",
       "    .dataframe thead tr:only-child th {\n",
       "        text-align: right;\n",
       "    }\n",
       "\n",
       "    .dataframe thead th {\n",
       "        text-align: left;\n",
       "    }\n",
       "\n",
       "    .dataframe tbody tr th {\n",
       "        vertical-align: top;\n",
       "    }\n",
       "</style>\n",
       "<table border=\"1\" class=\"dataframe\">\n",
       "  <thead>\n",
       "    <tr style=\"text-align: right;\">\n",
       "      <th></th>\n",
       "      <th>CJT_GESAMTTYP</th>\n",
       "      <th>FINANZTYP</th>\n",
       "      <th>GFK_URLAUBERTYP</th>\n",
       "      <th>LP_FAMILIE_FEIN</th>\n",
       "      <th>LP_FAMILIE_GROB</th>\n",
       "      <th>LP_STATUS_FEIN</th>\n",
       "      <th>LP_STATUS_GROB</th>\n",
       "      <th>NATIONALITAET_KZ</th>\n",
       "      <th>SHOPPER_TYP</th>\n",
       "      <th>ZABEOTYP</th>\n",
       "      <th>GEBAEUDETYP</th>\n",
       "      <th>CAMEO_DEUG_2015</th>\n",
       "      <th>CAMEO_DEU_2015</th>\n",
       "    </tr>\n",
       "  </thead>\n",
       "  <tbody>\n",
       "    <tr>\n",
       "      <th>0</th>\n",
       "      <td>2.0</td>\n",
       "      <td>4</td>\n",
       "      <td>10.0</td>\n",
       "      <td>2.0</td>\n",
       "      <td>2.0</td>\n",
       "      <td>1.0</td>\n",
       "      <td>1.0</td>\n",
       "      <td>NaN</td>\n",
       "      <td>NaN</td>\n",
       "      <td>3</td>\n",
       "      <td>NaN</td>\n",
       "      <td>NaN</td>\n",
       "      <td>NaN</td>\n",
       "    </tr>\n",
       "    <tr>\n",
       "      <th>1</th>\n",
       "      <td>5.0</td>\n",
       "      <td>1</td>\n",
       "      <td>10.0</td>\n",
       "      <td>5.0</td>\n",
       "      <td>3.0</td>\n",
       "      <td>2.0</td>\n",
       "      <td>1.0</td>\n",
       "      <td>1.0</td>\n",
       "      <td>3.0</td>\n",
       "      <td>5</td>\n",
       "      <td>8.0</td>\n",
       "      <td>8</td>\n",
       "      <td>8A</td>\n",
       "    </tr>\n",
       "    <tr>\n",
       "      <th>2</th>\n",
       "      <td>3.0</td>\n",
       "      <td>1</td>\n",
       "      <td>10.0</td>\n",
       "      <td>1.0</td>\n",
       "      <td>1.0</td>\n",
       "      <td>3.0</td>\n",
       "      <td>2.0</td>\n",
       "      <td>1.0</td>\n",
       "      <td>2.0</td>\n",
       "      <td>5</td>\n",
       "      <td>1.0</td>\n",
       "      <td>4</td>\n",
       "      <td>4C</td>\n",
       "    </tr>\n",
       "    <tr>\n",
       "      <th>3</th>\n",
       "      <td>2.0</td>\n",
       "      <td>6</td>\n",
       "      <td>1.0</td>\n",
       "      <td>NaN</td>\n",
       "      <td>NaN</td>\n",
       "      <td>9.0</td>\n",
       "      <td>4.0</td>\n",
       "      <td>1.0</td>\n",
       "      <td>1.0</td>\n",
       "      <td>3</td>\n",
       "      <td>1.0</td>\n",
       "      <td>2</td>\n",
       "      <td>2A</td>\n",
       "    </tr>\n",
       "    <tr>\n",
       "      <th>4</th>\n",
       "      <td>5.0</td>\n",
       "      <td>5</td>\n",
       "      <td>5.0</td>\n",
       "      <td>10.0</td>\n",
       "      <td>5.0</td>\n",
       "      <td>3.0</td>\n",
       "      <td>2.0</td>\n",
       "      <td>1.0</td>\n",
       "      <td>2.0</td>\n",
       "      <td>4</td>\n",
       "      <td>1.0</td>\n",
       "      <td>6</td>\n",
       "      <td>6B</td>\n",
       "    </tr>\n",
       "  </tbody>\n",
       "</table>\n",
       "</div>"
      ],
      "text/plain": [
       "   CJT_GESAMTTYP  FINANZTYP  GFK_URLAUBERTYP  LP_FAMILIE_FEIN  \\\n",
       "0            2.0          4             10.0              2.0   \n",
       "1            5.0          1             10.0              5.0   \n",
       "2            3.0          1             10.0              1.0   \n",
       "3            2.0          6              1.0              NaN   \n",
       "4            5.0          5              5.0             10.0   \n",
       "\n",
       "   LP_FAMILIE_GROB  LP_STATUS_FEIN  LP_STATUS_GROB  NATIONALITAET_KZ  \\\n",
       "0              2.0             1.0             1.0               NaN   \n",
       "1              3.0             2.0             1.0               1.0   \n",
       "2              1.0             3.0             2.0               1.0   \n",
       "3              NaN             9.0             4.0               1.0   \n",
       "4              5.0             3.0             2.0               1.0   \n",
       "\n",
       "   SHOPPER_TYP  ZABEOTYP  GEBAEUDETYP CAMEO_DEUG_2015 CAMEO_DEU_2015  \n",
       "0          NaN         3          NaN             NaN            NaN  \n",
       "1          3.0         5          8.0               8             8A  \n",
       "2          2.0         5          1.0               4             4C  \n",
       "3          1.0         3          1.0               2             2A  \n",
       "4          2.0         4          1.0               6             6B  "
      ]
     },
     "execution_count": 36,
     "metadata": {},
     "output_type": "execute_result"
    }
   ],
   "source": [
    "multilevel = [x for x in feat_info_categorical if azdias[x].nunique()>2]\n",
    "azdias[multilevel][:5]"
   ]
  },
  {
   "cell_type": "code",
   "execution_count": 37,
   "metadata": {},
   "outputs": [
    {
     "data": {
      "text/html": [
       "<div>\n",
       "<style>\n",
       "    .dataframe thead tr:only-child th {\n",
       "        text-align: right;\n",
       "    }\n",
       "\n",
       "    .dataframe thead th {\n",
       "        text-align: left;\n",
       "    }\n",
       "\n",
       "    .dataframe tbody tr th {\n",
       "        vertical-align: top;\n",
       "    }\n",
       "</style>\n",
       "<table border=\"1\" class=\"dataframe\">\n",
       "  <thead>\n",
       "    <tr style=\"text-align: right;\">\n",
       "      <th></th>\n",
       "      <th>ANREDE_KZ</th>\n",
       "      <th>CJT_GESAMTTYP</th>\n",
       "      <th>FINANZTYP</th>\n",
       "      <th>GFK_URLAUBERTYP</th>\n",
       "      <th>GREEN_AVANTGARDE</th>\n",
       "      <th>LP_FAMILIE_FEIN</th>\n",
       "      <th>LP_FAMILIE_GROB</th>\n",
       "      <th>LP_STATUS_FEIN</th>\n",
       "      <th>LP_STATUS_GROB</th>\n",
       "      <th>NATIONALITAET_KZ</th>\n",
       "      <th>SHOPPER_TYP</th>\n",
       "      <th>SOHO_KZ</th>\n",
       "      <th>VERS_TYP</th>\n",
       "      <th>ZABEOTYP</th>\n",
       "      <th>GEBAEUDETYP</th>\n",
       "      <th>OST_WEST_KZ</th>\n",
       "      <th>CAMEO_DEUG_2015</th>\n",
       "      <th>CAMEO_DEU_2015</th>\n",
       "    </tr>\n",
       "  </thead>\n",
       "  <tbody>\n",
       "    <tr>\n",
       "      <th>0</th>\n",
       "      <td>1</td>\n",
       "      <td>2.0</td>\n",
       "      <td>4</td>\n",
       "      <td>10.0</td>\n",
       "      <td>0</td>\n",
       "      <td>2.0</td>\n",
       "      <td>2.0</td>\n",
       "      <td>1.0</td>\n",
       "      <td>1.0</td>\n",
       "      <td>NaN</td>\n",
       "      <td>NaN</td>\n",
       "      <td>NaN</td>\n",
       "      <td>NaN</td>\n",
       "      <td>3</td>\n",
       "      <td>NaN</td>\n",
       "      <td>NaN</td>\n",
       "      <td>NaN</td>\n",
       "      <td>NaN</td>\n",
       "    </tr>\n",
       "    <tr>\n",
       "      <th>1</th>\n",
       "      <td>2</td>\n",
       "      <td>5.0</td>\n",
       "      <td>1</td>\n",
       "      <td>10.0</td>\n",
       "      <td>0</td>\n",
       "      <td>5.0</td>\n",
       "      <td>3.0</td>\n",
       "      <td>2.0</td>\n",
       "      <td>1.0</td>\n",
       "      <td>1.0</td>\n",
       "      <td>3.0</td>\n",
       "      <td>1.0</td>\n",
       "      <td>2.0</td>\n",
       "      <td>5</td>\n",
       "      <td>8.0</td>\n",
       "      <td>W</td>\n",
       "      <td>8</td>\n",
       "      <td>8A</td>\n",
       "    </tr>\n",
       "    <tr>\n",
       "      <th>2</th>\n",
       "      <td>2</td>\n",
       "      <td>3.0</td>\n",
       "      <td>1</td>\n",
       "      <td>10.0</td>\n",
       "      <td>1</td>\n",
       "      <td>1.0</td>\n",
       "      <td>1.0</td>\n",
       "      <td>3.0</td>\n",
       "      <td>2.0</td>\n",
       "      <td>1.0</td>\n",
       "      <td>2.0</td>\n",
       "      <td>0.0</td>\n",
       "      <td>1.0</td>\n",
       "      <td>5</td>\n",
       "      <td>1.0</td>\n",
       "      <td>W</td>\n",
       "      <td>4</td>\n",
       "      <td>4C</td>\n",
       "    </tr>\n",
       "    <tr>\n",
       "      <th>3</th>\n",
       "      <td>2</td>\n",
       "      <td>2.0</td>\n",
       "      <td>6</td>\n",
       "      <td>1.0</td>\n",
       "      <td>0</td>\n",
       "      <td>NaN</td>\n",
       "      <td>NaN</td>\n",
       "      <td>9.0</td>\n",
       "      <td>4.0</td>\n",
       "      <td>1.0</td>\n",
       "      <td>1.0</td>\n",
       "      <td>0.0</td>\n",
       "      <td>1.0</td>\n",
       "      <td>3</td>\n",
       "      <td>1.0</td>\n",
       "      <td>W</td>\n",
       "      <td>2</td>\n",
       "      <td>2A</td>\n",
       "    </tr>\n",
       "    <tr>\n",
       "      <th>4</th>\n",
       "      <td>1</td>\n",
       "      <td>5.0</td>\n",
       "      <td>5</td>\n",
       "      <td>5.0</td>\n",
       "      <td>0</td>\n",
       "      <td>10.0</td>\n",
       "      <td>5.0</td>\n",
       "      <td>3.0</td>\n",
       "      <td>2.0</td>\n",
       "      <td>1.0</td>\n",
       "      <td>2.0</td>\n",
       "      <td>0.0</td>\n",
       "      <td>2.0</td>\n",
       "      <td>4</td>\n",
       "      <td>1.0</td>\n",
       "      <td>W</td>\n",
       "      <td>6</td>\n",
       "      <td>6B</td>\n",
       "    </tr>\n",
       "  </tbody>\n",
       "</table>\n",
       "</div>"
      ],
      "text/plain": [
       "   ANREDE_KZ  CJT_GESAMTTYP  FINANZTYP  GFK_URLAUBERTYP  GREEN_AVANTGARDE  \\\n",
       "0          1            2.0          4             10.0                 0   \n",
       "1          2            5.0          1             10.0                 0   \n",
       "2          2            3.0          1             10.0                 1   \n",
       "3          2            2.0          6              1.0                 0   \n",
       "4          1            5.0          5              5.0                 0   \n",
       "\n",
       "   LP_FAMILIE_FEIN  LP_FAMILIE_GROB  LP_STATUS_FEIN  LP_STATUS_GROB  \\\n",
       "0              2.0              2.0             1.0             1.0   \n",
       "1              5.0              3.0             2.0             1.0   \n",
       "2              1.0              1.0             3.0             2.0   \n",
       "3              NaN              NaN             9.0             4.0   \n",
       "4             10.0              5.0             3.0             2.0   \n",
       "\n",
       "   NATIONALITAET_KZ  SHOPPER_TYP  SOHO_KZ  VERS_TYP  ZABEOTYP  GEBAEUDETYP  \\\n",
       "0               NaN          NaN      NaN       NaN         3          NaN   \n",
       "1               1.0          3.0      1.0       2.0         5          8.0   \n",
       "2               1.0          2.0      0.0       1.0         5          1.0   \n",
       "3               1.0          1.0      0.0       1.0         3          1.0   \n",
       "4               1.0          2.0      0.0       2.0         4          1.0   \n",
       "\n",
       "  OST_WEST_KZ CAMEO_DEUG_2015 CAMEO_DEU_2015  \n",
       "0         NaN             NaN            NaN  \n",
       "1           W               8             8A  \n",
       "2           W               4             4C  \n",
       "3           W               2             2A  \n",
       "4           W               6             6B  "
      ]
     },
     "execution_count": 37,
     "metadata": {},
     "output_type": "execute_result"
    }
   ],
   "source": [
    "# Take a look at categorical data to decide on how to proceed\n",
    "azdias[feat_info_categorical][:5]"
   ]
  },
  {
   "cell_type": "code",
   "execution_count": 38,
   "metadata": {},
   "outputs": [
    {
     "data": {
      "text/plain": [
       "ANREDE_KZ            2\n",
       "CJT_GESAMTTYP        6\n",
       "FINANZTYP            6\n",
       "GFK_URLAUBERTYP     12\n",
       "GREEN_AVANTGARDE     2\n",
       "LP_FAMILIE_FEIN     11\n",
       "LP_FAMILIE_GROB      5\n",
       "LP_STATUS_FEIN      10\n",
       "LP_STATUS_GROB       5\n",
       "NATIONALITAET_KZ     3\n",
       "SHOPPER_TYP          4\n",
       "SOHO_KZ              2\n",
       "VERS_TYP             2\n",
       "ZABEOTYP             6\n",
       "GEBAEUDETYP          7\n",
       "OST_WEST_KZ          2\n",
       "CAMEO_DEUG_2015      9\n",
       "CAMEO_DEU_2015      44\n",
       "dtype: int64"
      ]
     },
     "execution_count": 38,
     "metadata": {},
     "output_type": "execute_result"
    }
   ],
   "source": [
    "# And another look on how many categories we have per feature...\n",
    "azdias[feat_info_categorical].nunique()"
   ]
  },
  {
   "cell_type": "markdown",
   "metadata": {},
   "source": [
    "**Notes**  \n",
    "For the categorical data we see that most of them have fewer than 7 different categories which is fine to apply one-hot encoding (dummies). But there are three variables with 10, 11, and 12 categories respectively, which I will drop for various reasons as they result in too many dummies which may lead to computational performance issues later on. Moreover, for STATUS and FAMILIE there are close substitutes constituting of almost the same information in a broader coding.  \n",
    "\n",
    "In addition, there is one variable that stoods out, namely \"CAMEO_DEU_2015\" which has 44 factors and encodings like \"8A, 4C, 6B\", etc. I decided to drop this variable and not construct 44 dummies for this variable.\n",
    "\n",
    "In addition, the variable `OST_WEST_KZ` is decoded as \"W\" and \"O\" (in german \"Osten\" for \"East\") will take care of this as will and re-encode this to \"W\" as 0 and \"O\" to 1. "
   ]
  },
  {
   "cell_type": "code",
   "execution_count": 39,
   "metadata": {},
   "outputs": [
    {
     "data": {
      "text/plain": [
       "['CJT_GESAMTTYP',\n",
       " 'FINANZTYP',\n",
       " 'GFK_URLAUBERTYP',\n",
       " 'LP_FAMILIE_FEIN',\n",
       " 'LP_FAMILIE_GROB',\n",
       " 'LP_STATUS_FEIN',\n",
       " 'LP_STATUS_GROB',\n",
       " 'NATIONALITAET_KZ',\n",
       " 'SHOPPER_TYP',\n",
       " 'ZABEOTYP',\n",
       " 'GEBAEUDETYP',\n",
       " 'CAMEO_DEUG_2015',\n",
       " 'CAMEO_DEU_2015']"
      ]
     },
     "execution_count": 39,
     "metadata": {},
     "output_type": "execute_result"
    }
   ],
   "source": [
    "multilevel"
   ]
  },
  {
   "cell_type": "code",
   "execution_count": 40,
   "metadata": {},
   "outputs": [
    {
     "data": {
      "text/plain": [
       "(797426, 75)"
      ]
     },
     "execution_count": 40,
     "metadata": {},
     "output_type": "execute_result"
    }
   ],
   "source": [
    "# Re-encode categorical variable(s) to be kept in the analysis.\n",
    "# Drop variables as stated above\n",
    "col_remove = [\"CAMEO_DEU_2015\", \"GFK_URLAUBERTYP\", \n",
    "              \"LP_FAMILIE_FEIN\", \"LP_STATUS_FEIN\"]\n",
    "\n",
    "for col in col_remove:\n",
    "    multilevel.remove(col)\n",
    "    sub1.drop(col, axis = 1, inplace=True)\n",
    "\n",
    "sub1.shape"
   ]
  },
  {
   "cell_type": "code",
   "execution_count": 41,
   "metadata": {},
   "outputs": [
    {
     "data": {
      "text/html": [
       "<div>\n",
       "<style>\n",
       "    .dataframe thead tr:only-child th {\n",
       "        text-align: right;\n",
       "    }\n",
       "\n",
       "    .dataframe thead th {\n",
       "        text-align: left;\n",
       "    }\n",
       "\n",
       "    .dataframe tbody tr th {\n",
       "        vertical-align: top;\n",
       "    }\n",
       "</style>\n",
       "<table border=\"1\" class=\"dataframe\">\n",
       "  <thead>\n",
       "    <tr style=\"text-align: right;\">\n",
       "      <th></th>\n",
       "      <th>ALTERSKATEGORIE_GROB</th>\n",
       "      <th>ANREDE_KZ</th>\n",
       "      <th>CJT_GESAMTTYP</th>\n",
       "      <th>FINANZ_MINIMALIST</th>\n",
       "      <th>FINANZ_SPARER</th>\n",
       "      <th>FINANZ_VORSORGER</th>\n",
       "      <th>FINANZ_ANLEGER</th>\n",
       "      <th>FINANZ_UNAUFFAELLIGER</th>\n",
       "      <th>FINANZ_HAUSBAUER</th>\n",
       "      <th>FINANZTYP</th>\n",
       "      <th>...</th>\n",
       "      <th>PLZ8_ANTG1</th>\n",
       "      <th>PLZ8_ANTG2</th>\n",
       "      <th>PLZ8_ANTG3</th>\n",
       "      <th>PLZ8_ANTG4</th>\n",
       "      <th>PLZ8_BAUMAX</th>\n",
       "      <th>PLZ8_HHZ</th>\n",
       "      <th>PLZ8_GBZ</th>\n",
       "      <th>ARBEIT</th>\n",
       "      <th>ORTSGR_KLS9</th>\n",
       "      <th>RELAT_AB</th>\n",
       "    </tr>\n",
       "  </thead>\n",
       "  <tbody>\n",
       "    <tr>\n",
       "      <th>1</th>\n",
       "      <td>1.0</td>\n",
       "      <td>2</td>\n",
       "      <td>5.0</td>\n",
       "      <td>1</td>\n",
       "      <td>5</td>\n",
       "      <td>2</td>\n",
       "      <td>5</td>\n",
       "      <td>4</td>\n",
       "      <td>5</td>\n",
       "      <td>1</td>\n",
       "      <td>...</td>\n",
       "      <td>2.0</td>\n",
       "      <td>3.0</td>\n",
       "      <td>2.0</td>\n",
       "      <td>1.0</td>\n",
       "      <td>1.0</td>\n",
       "      <td>5.0</td>\n",
       "      <td>4.0</td>\n",
       "      <td>3.0</td>\n",
       "      <td>5.0</td>\n",
       "      <td>4.0</td>\n",
       "    </tr>\n",
       "    <tr>\n",
       "      <th>2</th>\n",
       "      <td>3.0</td>\n",
       "      <td>2</td>\n",
       "      <td>3.0</td>\n",
       "      <td>1</td>\n",
       "      <td>4</td>\n",
       "      <td>1</td>\n",
       "      <td>2</td>\n",
       "      <td>3</td>\n",
       "      <td>5</td>\n",
       "      <td>1</td>\n",
       "      <td>...</td>\n",
       "      <td>3.0</td>\n",
       "      <td>3.0</td>\n",
       "      <td>1.0</td>\n",
       "      <td>0.0</td>\n",
       "      <td>1.0</td>\n",
       "      <td>4.0</td>\n",
       "      <td>4.0</td>\n",
       "      <td>3.0</td>\n",
       "      <td>5.0</td>\n",
       "      <td>2.0</td>\n",
       "    </tr>\n",
       "    <tr>\n",
       "      <th>3</th>\n",
       "      <td>4.0</td>\n",
       "      <td>2</td>\n",
       "      <td>2.0</td>\n",
       "      <td>4</td>\n",
       "      <td>2</td>\n",
       "      <td>5</td>\n",
       "      <td>2</td>\n",
       "      <td>1</td>\n",
       "      <td>2</td>\n",
       "      <td>6</td>\n",
       "      <td>...</td>\n",
       "      <td>2.0</td>\n",
       "      <td>2.0</td>\n",
       "      <td>2.0</td>\n",
       "      <td>0.0</td>\n",
       "      <td>1.0</td>\n",
       "      <td>3.0</td>\n",
       "      <td>4.0</td>\n",
       "      <td>2.0</td>\n",
       "      <td>3.0</td>\n",
       "      <td>3.0</td>\n",
       "    </tr>\n",
       "    <tr>\n",
       "      <th>4</th>\n",
       "      <td>3.0</td>\n",
       "      <td>1</td>\n",
       "      <td>5.0</td>\n",
       "      <td>4</td>\n",
       "      <td>3</td>\n",
       "      <td>4</td>\n",
       "      <td>1</td>\n",
       "      <td>3</td>\n",
       "      <td>2</td>\n",
       "      <td>5</td>\n",
       "      <td>...</td>\n",
       "      <td>2.0</td>\n",
       "      <td>4.0</td>\n",
       "      <td>2.0</td>\n",
       "      <td>1.0</td>\n",
       "      <td>2.0</td>\n",
       "      <td>3.0</td>\n",
       "      <td>3.0</td>\n",
       "      <td>4.0</td>\n",
       "      <td>6.0</td>\n",
       "      <td>5.0</td>\n",
       "    </tr>\n",
       "    <tr>\n",
       "      <th>5</th>\n",
       "      <td>1.0</td>\n",
       "      <td>2</td>\n",
       "      <td>2.0</td>\n",
       "      <td>3</td>\n",
       "      <td>1</td>\n",
       "      <td>5</td>\n",
       "      <td>2</td>\n",
       "      <td>2</td>\n",
       "      <td>5</td>\n",
       "      <td>2</td>\n",
       "      <td>...</td>\n",
       "      <td>2.0</td>\n",
       "      <td>3.0</td>\n",
       "      <td>1.0</td>\n",
       "      <td>1.0</td>\n",
       "      <td>1.0</td>\n",
       "      <td>5.0</td>\n",
       "      <td>5.0</td>\n",
       "      <td>2.0</td>\n",
       "      <td>3.0</td>\n",
       "      <td>3.0</td>\n",
       "    </tr>\n",
       "  </tbody>\n",
       "</table>\n",
       "<p>5 rows × 75 columns</p>\n",
       "</div>"
      ],
      "text/plain": [
       "   ALTERSKATEGORIE_GROB  ANREDE_KZ  CJT_GESAMTTYP  FINANZ_MINIMALIST  \\\n",
       "1                   1.0          2            5.0                  1   \n",
       "2                   3.0          2            3.0                  1   \n",
       "3                   4.0          2            2.0                  4   \n",
       "4                   3.0          1            5.0                  4   \n",
       "5                   1.0          2            2.0                  3   \n",
       "\n",
       "   FINANZ_SPARER  FINANZ_VORSORGER  FINANZ_ANLEGER  FINANZ_UNAUFFAELLIGER  \\\n",
       "1              5                 2               5                      4   \n",
       "2              4                 1               2                      3   \n",
       "3              2                 5               2                      1   \n",
       "4              3                 4               1                      3   \n",
       "5              1                 5               2                      2   \n",
       "\n",
       "   FINANZ_HAUSBAUER  FINANZTYP    ...     PLZ8_ANTG1  PLZ8_ANTG2  PLZ8_ANTG3  \\\n",
       "1                 5          1    ...            2.0         3.0         2.0   \n",
       "2                 5          1    ...            3.0         3.0         1.0   \n",
       "3                 2          6    ...            2.0         2.0         2.0   \n",
       "4                 2          5    ...            2.0         4.0         2.0   \n",
       "5                 5          2    ...            2.0         3.0         1.0   \n",
       "\n",
       "   PLZ8_ANTG4  PLZ8_BAUMAX  PLZ8_HHZ  PLZ8_GBZ  ARBEIT  ORTSGR_KLS9  RELAT_AB  \n",
       "1         1.0          1.0       5.0       4.0     3.0          5.0       4.0  \n",
       "2         0.0          1.0       4.0       4.0     3.0          5.0       2.0  \n",
       "3         0.0          1.0       3.0       4.0     2.0          3.0       3.0  \n",
       "4         1.0          2.0       3.0       3.0     4.0          6.0       5.0  \n",
       "5         1.0          1.0       5.0       5.0     2.0          3.0       3.0  \n",
       "\n",
       "[5 rows x 75 columns]"
      ]
     },
     "execution_count": 41,
     "metadata": {},
     "output_type": "execute_result"
    }
   ],
   "source": [
    "sub1[\"OST_WEST_KZ\"] = sub1[\"OST_WEST_KZ\"].map({\"W\": 0, \"O\": 1})\n",
    "sub1[:5]"
   ]
  },
  {
   "cell_type": "code",
   "execution_count": 42,
   "metadata": {},
   "outputs": [
    {
     "data": {
      "text/plain": [
       "2"
      ]
     },
     "execution_count": 42,
     "metadata": {},
     "output_type": "execute_result"
    }
   ],
   "source": [
    "# Check if it worked. Ought to be two values\n",
    "sub1[\"OST_WEST_KZ\"][:10]\n",
    "sub1[\"OST_WEST_KZ\"].nunique()"
   ]
  },
  {
   "cell_type": "code",
   "execution_count": 43,
   "metadata": {},
   "outputs": [],
   "source": [
    "# Last step is to re-encode the other categorical variables \n",
    "#using pd.get_dummies\n",
    "\n",
    "for col in multilevel:\n",
    "    df = sub1[col][sub1[col].notnull()]\n",
    "    sub1 = sub1.join(pd.get_dummies(df, prefix=col))\n",
    "    sub1.drop([col], axis = 1, inplace=True)"
   ]
  },
  {
   "cell_type": "code",
   "execution_count": 44,
   "metadata": {},
   "outputs": [
    {
     "data": {
      "text/plain": [
       "(797426, 117)"
      ]
     },
     "execution_count": 44,
     "metadata": {},
     "output_type": "execute_result"
    }
   ],
   "source": [
    "sub1.shape"
   ]
  },
  {
   "cell_type": "markdown",
   "metadata": {},
   "source": [
    "**Notes**  \n",
    "Shape is now 780,153 rows (because we dropped all rows with more than 10 missing values) and 150 features (after re-encoding and adding dummies) which seems plausible. "
   ]
  },
  {
   "cell_type": "markdown",
   "metadata": {},
   "source": [
    "#### Discussion 1.2.1: Re-Encode Categorical Features\n",
    "Of 21 initial categorical variables we have 18 categorical features remain to be taken care of and which require \"special handling\".\n",
    "\n",
    "For the categorical data we see that most of them have fewer than 7 different categories which is fine to apply one-hot encoding (dummies). Moreover, there are three variables with 10, 11, and 12 categories respectively. It is tempting to drop them but I decided to keep them and stick to as much of the dataset as possible. If computational power would be a limiting factor one might consider to drop them. Finally, there is one variable that stoods out, namely \"CAMEO_DEU_2015\" which has 44 factors and encodings like \"8A, 4C, 6B\", etc. I decided to drop this variable and not construct 44 dummies for this variable.\n",
    "\n",
    "In addition, the variable `OST_WEST_KZ` is decoded as \"W\" and \"O\" (in german \"Osten\" for \"East\") will take care of this as will and re-encode this to \"W\" as 0 and \"O\" to 1. \n",
    "\n",
    "Shape is now 780,153 rows (because we dropped all rows with more than 10 missing values) and 150 features (after re-encoding and adding dummies) which seems plausible."
   ]
  },
  {
   "cell_type": "markdown",
   "metadata": {},
   "source": [
    "#### Step 1.2.2: Engineer Mixed-Type Features\n",
    "\n",
    "There are a handful of features that are marked as \"mixed\" in the feature summary that require special treatment in order to be included in the analysis. There are two in particular that deserve attention; the handling of the rest are up to your own choices:\n",
    "- \"PRAEGENDE_JUGENDJAHRE\" combines information on three dimensions: generation by decade, movement (mainstream vs. avantgarde), and nation (east vs. west). While there aren't enough levels to disentangle east from west, you should create two new variables to capture the other two dimensions: an interval-type variable for decade, and a binary variable for movement.\n",
    "- \"CAMEO_INTL_2015\" combines information on two axes: wealth and life stage. Break up the two-digit codes by their 'tens'-place and 'ones'-place digits into two new ordinal variables (which, for the purposes of this project, is equivalent to just treating them as their raw numeric values).\n",
    "- If you decide to keep or engineer new features around the other mixed-type features, make sure you note your steps in the Discussion section.\n",
    "\n",
    "Be sure to check `Data_Dictionary.md` for the details needed to finish these tasks."
   ]
  },
  {
   "cell_type": "code",
   "execution_count": 45,
   "metadata": {},
   "outputs": [
    {
     "data": {
      "text/plain": [
       "['LP_LEBENSPHASE_FEIN',\n",
       " 'LP_LEBENSPHASE_GROB',\n",
       " 'PRAEGENDE_JUGENDJAHRE',\n",
       " 'WOHNLAGE',\n",
       " 'CAMEO_INTL_2015',\n",
       " 'PLZ8_BAUMAX']"
      ]
     },
     "execution_count": 45,
     "metadata": {},
     "output_type": "execute_result"
    }
   ],
   "source": [
    "# Subbing mixed feat_info\n",
    "feat_info_mixed = feat_info[feat_info[\"type\"] == \"mixed\"]\n",
    "mixed_array = feat_info_mixed[\"attribute\"].values\n",
    "# List comprehension to get mixed cols and only select cols\n",
    "#we wanted to keep\n",
    "mixed = [x for x in mixed_array if x in sub1.columns]\n",
    "mixed[:10]"
   ]
  },
  {
   "cell_type": "code",
   "execution_count": 46,
   "metadata": {},
   "outputs": [
    {
     "data": {
      "text/plain": [
       "1     14.0\n",
       "2     15.0\n",
       "3      8.0\n",
       "4      8.0\n",
       "5      3.0\n",
       "6     10.0\n",
       "7      8.0\n",
       "8     11.0\n",
       "9     15.0\n",
       "10     3.0\n",
       "Name: PRAEGENDE_JUGENDJAHRE, dtype: float64"
      ]
     },
     "execution_count": 46,
     "metadata": {},
     "output_type": "execute_result"
    }
   ],
   "source": [
    "# Investigate \"PRAEGENDE_JUGENDJAHRE\" and engineer two new variables.\n",
    "sub1[\"PRAEGENDE_JUGENDJAHRE\"][:10]"
   ]
  },
  {
   "cell_type": "code",
   "execution_count": 47,
   "metadata": {},
   "outputs": [],
   "source": [
    "# We want to capture the two variables for mainstream and avantgarde\n",
    "#Following info are taken from Data_disctionary.md\n",
    "ms, av = [1,3,4,8,10,12,14], [2,4,6,7,9,11,13,15]"
   ]
  },
  {
   "cell_type": "code",
   "execution_count": 48,
   "metadata": {},
   "outputs": [],
   "source": [
    "# Function to disentangle\n",
    "def disentangler(x):\n",
    "    if x in ms: \n",
    "        res = 1\n",
    "    elif x in av:\n",
    "        res = 0\n",
    "    else:\n",
    "        res = x\n",
    "    return res"
   ]
  },
  {
   "cell_type": "code",
   "execution_count": 49,
   "metadata": {},
   "outputs": [],
   "source": [
    "# Create new variable indicating whether mainstream=1 or avantgarde =0\n",
    "sub1[\"PRAEGENDE_JUGENDJAHRE_MS\"] = sub1[\"PRAEGENDE_JUGENDJAHRE\"].apply(disentangler)"
   ]
  },
  {
   "cell_type": "code",
   "execution_count": 50,
   "metadata": {},
   "outputs": [
    {
     "data": {
      "text/html": [
       "<div>\n",
       "<style>\n",
       "    .dataframe thead tr:only-child th {\n",
       "        text-align: right;\n",
       "    }\n",
       "\n",
       "    .dataframe thead th {\n",
       "        text-align: left;\n",
       "    }\n",
       "\n",
       "    .dataframe tbody tr th {\n",
       "        vertical-align: top;\n",
       "    }\n",
       "</style>\n",
       "<table border=\"1\" class=\"dataframe\">\n",
       "  <thead>\n",
       "    <tr style=\"text-align: right;\">\n",
       "      <th></th>\n",
       "      <th>ALTERSKATEGORIE_GROB</th>\n",
       "      <th>ANREDE_KZ</th>\n",
       "      <th>FINANZ_MINIMALIST</th>\n",
       "      <th>FINANZ_SPARER</th>\n",
       "      <th>FINANZ_VORSORGER</th>\n",
       "      <th>FINANZ_ANLEGER</th>\n",
       "      <th>FINANZ_UNAUFFAELLIGER</th>\n",
       "      <th>FINANZ_HAUSBAUER</th>\n",
       "      <th>GREEN_AVANTGARDE</th>\n",
       "      <th>HEALTH_TYP</th>\n",
       "      <th>...</th>\n",
       "      <th>CAMEO_DEUG_2015_1</th>\n",
       "      <th>CAMEO_DEUG_2015_2</th>\n",
       "      <th>CAMEO_DEUG_2015_3</th>\n",
       "      <th>CAMEO_DEUG_2015_4</th>\n",
       "      <th>CAMEO_DEUG_2015_5</th>\n",
       "      <th>CAMEO_DEUG_2015_6</th>\n",
       "      <th>CAMEO_DEUG_2015_7</th>\n",
       "      <th>CAMEO_DEUG_2015_8</th>\n",
       "      <th>CAMEO_DEUG_2015_9</th>\n",
       "      <th>PRAEGENDE_JUGENDJAHRE_MS</th>\n",
       "    </tr>\n",
       "  </thead>\n",
       "  <tbody>\n",
       "    <tr>\n",
       "      <th>1</th>\n",
       "      <td>1.0</td>\n",
       "      <td>2</td>\n",
       "      <td>1</td>\n",
       "      <td>5</td>\n",
       "      <td>2</td>\n",
       "      <td>5</td>\n",
       "      <td>4</td>\n",
       "      <td>5</td>\n",
       "      <td>0</td>\n",
       "      <td>3.0</td>\n",
       "      <td>...</td>\n",
       "      <td>0.0</td>\n",
       "      <td>0.0</td>\n",
       "      <td>0.0</td>\n",
       "      <td>0.0</td>\n",
       "      <td>0.0</td>\n",
       "      <td>0.0</td>\n",
       "      <td>0.0</td>\n",
       "      <td>1.0</td>\n",
       "      <td>0.0</td>\n",
       "      <td>1.0</td>\n",
       "    </tr>\n",
       "    <tr>\n",
       "      <th>2</th>\n",
       "      <td>3.0</td>\n",
       "      <td>2</td>\n",
       "      <td>1</td>\n",
       "      <td>4</td>\n",
       "      <td>1</td>\n",
       "      <td>2</td>\n",
       "      <td>3</td>\n",
       "      <td>5</td>\n",
       "      <td>1</td>\n",
       "      <td>3.0</td>\n",
       "      <td>...</td>\n",
       "      <td>0.0</td>\n",
       "      <td>0.0</td>\n",
       "      <td>0.0</td>\n",
       "      <td>1.0</td>\n",
       "      <td>0.0</td>\n",
       "      <td>0.0</td>\n",
       "      <td>0.0</td>\n",
       "      <td>0.0</td>\n",
       "      <td>0.0</td>\n",
       "      <td>0.0</td>\n",
       "    </tr>\n",
       "    <tr>\n",
       "      <th>3</th>\n",
       "      <td>4.0</td>\n",
       "      <td>2</td>\n",
       "      <td>4</td>\n",
       "      <td>2</td>\n",
       "      <td>5</td>\n",
       "      <td>2</td>\n",
       "      <td>1</td>\n",
       "      <td>2</td>\n",
       "      <td>0</td>\n",
       "      <td>2.0</td>\n",
       "      <td>...</td>\n",
       "      <td>0.0</td>\n",
       "      <td>1.0</td>\n",
       "      <td>0.0</td>\n",
       "      <td>0.0</td>\n",
       "      <td>0.0</td>\n",
       "      <td>0.0</td>\n",
       "      <td>0.0</td>\n",
       "      <td>0.0</td>\n",
       "      <td>0.0</td>\n",
       "      <td>1.0</td>\n",
       "    </tr>\n",
       "    <tr>\n",
       "      <th>4</th>\n",
       "      <td>3.0</td>\n",
       "      <td>1</td>\n",
       "      <td>4</td>\n",
       "      <td>3</td>\n",
       "      <td>4</td>\n",
       "      <td>1</td>\n",
       "      <td>3</td>\n",
       "      <td>2</td>\n",
       "      <td>0</td>\n",
       "      <td>3.0</td>\n",
       "      <td>...</td>\n",
       "      <td>0.0</td>\n",
       "      <td>0.0</td>\n",
       "      <td>0.0</td>\n",
       "      <td>0.0</td>\n",
       "      <td>0.0</td>\n",
       "      <td>1.0</td>\n",
       "      <td>0.0</td>\n",
       "      <td>0.0</td>\n",
       "      <td>0.0</td>\n",
       "      <td>1.0</td>\n",
       "    </tr>\n",
       "    <tr>\n",
       "      <th>5</th>\n",
       "      <td>1.0</td>\n",
       "      <td>2</td>\n",
       "      <td>3</td>\n",
       "      <td>1</td>\n",
       "      <td>5</td>\n",
       "      <td>2</td>\n",
       "      <td>2</td>\n",
       "      <td>5</td>\n",
       "      <td>0</td>\n",
       "      <td>3.0</td>\n",
       "      <td>...</td>\n",
       "      <td>0.0</td>\n",
       "      <td>0.0</td>\n",
       "      <td>0.0</td>\n",
       "      <td>0.0</td>\n",
       "      <td>0.0</td>\n",
       "      <td>0.0</td>\n",
       "      <td>0.0</td>\n",
       "      <td>1.0</td>\n",
       "      <td>0.0</td>\n",
       "      <td>1.0</td>\n",
       "    </tr>\n",
       "  </tbody>\n",
       "</table>\n",
       "<p>5 rows × 118 columns</p>\n",
       "</div>"
      ],
      "text/plain": [
       "   ALTERSKATEGORIE_GROB  ANREDE_KZ  FINANZ_MINIMALIST  FINANZ_SPARER  \\\n",
       "1                   1.0          2                  1              5   \n",
       "2                   3.0          2                  1              4   \n",
       "3                   4.0          2                  4              2   \n",
       "4                   3.0          1                  4              3   \n",
       "5                   1.0          2                  3              1   \n",
       "\n",
       "   FINANZ_VORSORGER  FINANZ_ANLEGER  FINANZ_UNAUFFAELLIGER  FINANZ_HAUSBAUER  \\\n",
       "1                 2               5                      4                 5   \n",
       "2                 1               2                      3                 5   \n",
       "3                 5               2                      1                 2   \n",
       "4                 4               1                      3                 2   \n",
       "5                 5               2                      2                 5   \n",
       "\n",
       "   GREEN_AVANTGARDE  HEALTH_TYP            ...             CAMEO_DEUG_2015_1  \\\n",
       "1                 0         3.0            ...                           0.0   \n",
       "2                 1         3.0            ...                           0.0   \n",
       "3                 0         2.0            ...                           0.0   \n",
       "4                 0         3.0            ...                           0.0   \n",
       "5                 0         3.0            ...                           0.0   \n",
       "\n",
       "   CAMEO_DEUG_2015_2  CAMEO_DEUG_2015_3  CAMEO_DEUG_2015_4  CAMEO_DEUG_2015_5  \\\n",
       "1                0.0                0.0                0.0                0.0   \n",
       "2                0.0                0.0                1.0                0.0   \n",
       "3                1.0                0.0                0.0                0.0   \n",
       "4                0.0                0.0                0.0                0.0   \n",
       "5                0.0                0.0                0.0                0.0   \n",
       "\n",
       "   CAMEO_DEUG_2015_6  CAMEO_DEUG_2015_7  CAMEO_DEUG_2015_8  CAMEO_DEUG_2015_9  \\\n",
       "1                0.0                0.0                1.0                0.0   \n",
       "2                0.0                0.0                0.0                0.0   \n",
       "3                0.0                0.0                0.0                0.0   \n",
       "4                1.0                0.0                0.0                0.0   \n",
       "5                0.0                0.0                1.0                0.0   \n",
       "\n",
       "   PRAEGENDE_JUGENDJAHRE_MS  \n",
       "1                       1.0  \n",
       "2                       0.0  \n",
       "3                       1.0  \n",
       "4                       1.0  \n",
       "5                       1.0  \n",
       "\n",
       "[5 rows x 118 columns]"
      ]
     },
     "execution_count": 50,
     "metadata": {},
     "output_type": "execute_result"
    }
   ],
   "source": [
    "sub1.head()"
   ]
  },
  {
   "cell_type": "code",
   "execution_count": 51,
   "metadata": {},
   "outputs": [
    {
     "data": {
      "text/plain": [
       "1     40\n",
       "2     40\n",
       "3     50\n",
       "4     50\n",
       "5     60\n",
       "6     60\n",
       "7     60\n",
       "8     70\n",
       "9     70\n",
       "10    80\n",
       "11    80\n",
       "12    80\n",
       "13    80\n",
       "14    90\n",
       "15    90\n",
       "dtype: int64"
      ]
     },
     "execution_count": 51,
     "metadata": {},
     "output_type": "execute_result"
    }
   ],
   "source": [
    "# Create 2nd variable \n",
    "x, y = [x+1 for x in range(15)], [40,40,50,50,60,60,60,70,70,80,80,80,80,90,90]\n",
    "dec = pd.Series(y, x)\n",
    "\n",
    "# Show decade mapping\n",
    "dec"
   ]
  },
  {
   "cell_type": "code",
   "execution_count": 52,
   "metadata": {},
   "outputs": [
    {
     "data": {
      "text/plain": [
       "1     90.0\n",
       "2     90.0\n",
       "3     70.0\n",
       "4     70.0\n",
       "5     50.0\n",
       "6     80.0\n",
       "7     70.0\n",
       "8     80.0\n",
       "9     90.0\n",
       "10    50.0\n",
       "Name: PRAEGENDE_JUGENDJAHRE_DEC, dtype: float64"
      ]
     },
     "execution_count": 52,
     "metadata": {},
     "output_type": "execute_result"
    }
   ],
   "source": [
    "sub1[\"PRAEGENDE_JUGENDJAHRE_DEC\"] = sub1[\"PRAEGENDE_JUGENDJAHRE\"].map(dec)\n",
    "sub1[\"PRAEGENDE_JUGENDJAHRE_DEC\"][:10]"
   ]
  },
  {
   "cell_type": "code",
   "execution_count": 53,
   "metadata": {},
   "outputs": [
    {
     "data": {
      "text/plain": [
       "1     51\n",
       "2     24\n",
       "3     12\n",
       "4     43\n",
       "5     54\n",
       "6     22\n",
       "7     14\n",
       "8     13\n",
       "9     15\n",
       "10    51\n",
       "Name: CAMEO_INTL_2015, dtype: object"
      ]
     },
     "execution_count": 53,
     "metadata": {},
     "output_type": "execute_result"
    }
   ],
   "source": [
    "# Investigate \"CAMEO_INTL_2015\" and engineer two new variables.\n",
    "sub1[\"CAMEO_INTL_2015\"][:10]"
   ]
  },
  {
   "cell_type": "code",
   "execution_count": 54,
   "metadata": {},
   "outputs": [],
   "source": [
    "# Engineer first variable\n",
    "sub1.loc[sub1['CAMEO_INTL_2015'].notnull(),'CAMEO_INTL_2015_WEALTH'] = sub1.loc[sub1['CAMEO_INTL_2015'].notnull(),'CAMEO_INTL_2015'].map(lambda x:int(str(x)[0]))"
   ]
  },
  {
   "cell_type": "code",
   "execution_count": 55,
   "metadata": {},
   "outputs": [
    {
     "data": {
      "text/plain": [
       "1    5.0\n",
       "2    2.0\n",
       "3    1.0\n",
       "4    4.0\n",
       "5    5.0\n",
       "Name: CAMEO_INTL_2015_WEALTH, dtype: float64"
      ]
     },
     "execution_count": 55,
     "metadata": {},
     "output_type": "execute_result"
    }
   ],
   "source": [
    "sub1[\"CAMEO_INTL_2015_WEALTH\"][:5]"
   ]
  },
  {
   "cell_type": "code",
   "execution_count": 56,
   "metadata": {},
   "outputs": [],
   "source": [
    "# Engineer second variable\n",
    "sub1.loc[sub1['CAMEO_INTL_2015'].notnull(),'CAMEO_INTL_2015_LIFESTAGE'] = sub1.loc[sub1['CAMEO_INTL_2015'].notnull(),'CAMEO_INTL_2015'].map(lambda x:int(str(x)[1]))"
   ]
  },
  {
   "cell_type": "code",
   "execution_count": 57,
   "metadata": {},
   "outputs": [
    {
     "data": {
      "text/plain": [
       "1    1.0\n",
       "2    4.0\n",
       "3    2.0\n",
       "4    3.0\n",
       "5    4.0\n",
       "Name: CAMEO_INTL_2015_LIFESTAGE, dtype: float64"
      ]
     },
     "execution_count": 57,
     "metadata": {},
     "output_type": "execute_result"
    }
   ],
   "source": [
    "sub1['CAMEO_INTL_2015_LIFESTAGE'][:5]"
   ]
  },
  {
   "cell_type": "code",
   "execution_count": 58,
   "metadata": {},
   "outputs": [
    {
     "data": {
      "text/plain": [
       "['LP_LEBENSPHASE_FEIN',\n",
       " 'LP_LEBENSPHASE_GROB',\n",
       " 'PRAEGENDE_JUGENDJAHRE',\n",
       " 'WOHNLAGE',\n",
       " 'CAMEO_INTL_2015',\n",
       " 'PLZ8_BAUMAX']"
      ]
     },
     "execution_count": 58,
     "metadata": {},
     "output_type": "execute_result"
    }
   ],
   "source": [
    "mixed"
   ]
  },
  {
   "cell_type": "code",
   "execution_count": 59,
   "metadata": {},
   "outputs": [],
   "source": [
    "# Drop all un-engineered mixed variables\n",
    "sub1.drop(mixed, axis=1, inplace=True)"
   ]
  },
  {
   "cell_type": "code",
   "execution_count": 60,
   "metadata": {},
   "outputs": [
    {
     "data": {
      "text/html": [
       "<div>\n",
       "<style>\n",
       "    .dataframe thead tr:only-child th {\n",
       "        text-align: right;\n",
       "    }\n",
       "\n",
       "    .dataframe thead th {\n",
       "        text-align: left;\n",
       "    }\n",
       "\n",
       "    .dataframe tbody tr th {\n",
       "        vertical-align: top;\n",
       "    }\n",
       "</style>\n",
       "<table border=\"1\" class=\"dataframe\">\n",
       "  <thead>\n",
       "    <tr style=\"text-align: right;\">\n",
       "      <th></th>\n",
       "      <th>ALTERSKATEGORIE_GROB</th>\n",
       "      <th>ANREDE_KZ</th>\n",
       "      <th>FINANZ_MINIMALIST</th>\n",
       "      <th>FINANZ_SPARER</th>\n",
       "      <th>FINANZ_VORSORGER</th>\n",
       "      <th>FINANZ_ANLEGER</th>\n",
       "      <th>FINANZ_UNAUFFAELLIGER</th>\n",
       "      <th>FINANZ_HAUSBAUER</th>\n",
       "      <th>GREEN_AVANTGARDE</th>\n",
       "      <th>HEALTH_TYP</th>\n",
       "      <th>...</th>\n",
       "      <th>CAMEO_DEUG_2015_4</th>\n",
       "      <th>CAMEO_DEUG_2015_5</th>\n",
       "      <th>CAMEO_DEUG_2015_6</th>\n",
       "      <th>CAMEO_DEUG_2015_7</th>\n",
       "      <th>CAMEO_DEUG_2015_8</th>\n",
       "      <th>CAMEO_DEUG_2015_9</th>\n",
       "      <th>PRAEGENDE_JUGENDJAHRE_MS</th>\n",
       "      <th>PRAEGENDE_JUGENDJAHRE_DEC</th>\n",
       "      <th>CAMEO_INTL_2015_WEALTH</th>\n",
       "      <th>CAMEO_INTL_2015_LIFESTAGE</th>\n",
       "    </tr>\n",
       "  </thead>\n",
       "  <tbody>\n",
       "    <tr>\n",
       "      <th>1</th>\n",
       "      <td>1.0</td>\n",
       "      <td>2</td>\n",
       "      <td>1</td>\n",
       "      <td>5</td>\n",
       "      <td>2</td>\n",
       "      <td>5</td>\n",
       "      <td>4</td>\n",
       "      <td>5</td>\n",
       "      <td>0</td>\n",
       "      <td>3.0</td>\n",
       "      <td>...</td>\n",
       "      <td>0.0</td>\n",
       "      <td>0.0</td>\n",
       "      <td>0.0</td>\n",
       "      <td>0.0</td>\n",
       "      <td>1.0</td>\n",
       "      <td>0.0</td>\n",
       "      <td>1.0</td>\n",
       "      <td>90.0</td>\n",
       "      <td>5.0</td>\n",
       "      <td>1.0</td>\n",
       "    </tr>\n",
       "    <tr>\n",
       "      <th>2</th>\n",
       "      <td>3.0</td>\n",
       "      <td>2</td>\n",
       "      <td>1</td>\n",
       "      <td>4</td>\n",
       "      <td>1</td>\n",
       "      <td>2</td>\n",
       "      <td>3</td>\n",
       "      <td>5</td>\n",
       "      <td>1</td>\n",
       "      <td>3.0</td>\n",
       "      <td>...</td>\n",
       "      <td>1.0</td>\n",
       "      <td>0.0</td>\n",
       "      <td>0.0</td>\n",
       "      <td>0.0</td>\n",
       "      <td>0.0</td>\n",
       "      <td>0.0</td>\n",
       "      <td>0.0</td>\n",
       "      <td>90.0</td>\n",
       "      <td>2.0</td>\n",
       "      <td>4.0</td>\n",
       "    </tr>\n",
       "    <tr>\n",
       "      <th>3</th>\n",
       "      <td>4.0</td>\n",
       "      <td>2</td>\n",
       "      <td>4</td>\n",
       "      <td>2</td>\n",
       "      <td>5</td>\n",
       "      <td>2</td>\n",
       "      <td>1</td>\n",
       "      <td>2</td>\n",
       "      <td>0</td>\n",
       "      <td>2.0</td>\n",
       "      <td>...</td>\n",
       "      <td>0.0</td>\n",
       "      <td>0.0</td>\n",
       "      <td>0.0</td>\n",
       "      <td>0.0</td>\n",
       "      <td>0.0</td>\n",
       "      <td>0.0</td>\n",
       "      <td>1.0</td>\n",
       "      <td>70.0</td>\n",
       "      <td>1.0</td>\n",
       "      <td>2.0</td>\n",
       "    </tr>\n",
       "    <tr>\n",
       "      <th>4</th>\n",
       "      <td>3.0</td>\n",
       "      <td>1</td>\n",
       "      <td>4</td>\n",
       "      <td>3</td>\n",
       "      <td>4</td>\n",
       "      <td>1</td>\n",
       "      <td>3</td>\n",
       "      <td>2</td>\n",
       "      <td>0</td>\n",
       "      <td>3.0</td>\n",
       "      <td>...</td>\n",
       "      <td>0.0</td>\n",
       "      <td>0.0</td>\n",
       "      <td>1.0</td>\n",
       "      <td>0.0</td>\n",
       "      <td>0.0</td>\n",
       "      <td>0.0</td>\n",
       "      <td>1.0</td>\n",
       "      <td>70.0</td>\n",
       "      <td>4.0</td>\n",
       "      <td>3.0</td>\n",
       "    </tr>\n",
       "    <tr>\n",
       "      <th>5</th>\n",
       "      <td>1.0</td>\n",
       "      <td>2</td>\n",
       "      <td>3</td>\n",
       "      <td>1</td>\n",
       "      <td>5</td>\n",
       "      <td>2</td>\n",
       "      <td>2</td>\n",
       "      <td>5</td>\n",
       "      <td>0</td>\n",
       "      <td>3.0</td>\n",
       "      <td>...</td>\n",
       "      <td>0.0</td>\n",
       "      <td>0.0</td>\n",
       "      <td>0.0</td>\n",
       "      <td>0.0</td>\n",
       "      <td>1.0</td>\n",
       "      <td>0.0</td>\n",
       "      <td>1.0</td>\n",
       "      <td>50.0</td>\n",
       "      <td>5.0</td>\n",
       "      <td>4.0</td>\n",
       "    </tr>\n",
       "  </tbody>\n",
       "</table>\n",
       "<p>5 rows × 115 columns</p>\n",
       "</div>"
      ],
      "text/plain": [
       "   ALTERSKATEGORIE_GROB  ANREDE_KZ  FINANZ_MINIMALIST  FINANZ_SPARER  \\\n",
       "1                   1.0          2                  1              5   \n",
       "2                   3.0          2                  1              4   \n",
       "3                   4.0          2                  4              2   \n",
       "4                   3.0          1                  4              3   \n",
       "5                   1.0          2                  3              1   \n",
       "\n",
       "   FINANZ_VORSORGER  FINANZ_ANLEGER  FINANZ_UNAUFFAELLIGER  FINANZ_HAUSBAUER  \\\n",
       "1                 2               5                      4                 5   \n",
       "2                 1               2                      3                 5   \n",
       "3                 5               2                      1                 2   \n",
       "4                 4               1                      3                 2   \n",
       "5                 5               2                      2                 5   \n",
       "\n",
       "   GREEN_AVANTGARDE  HEALTH_TYP            ...              CAMEO_DEUG_2015_4  \\\n",
       "1                 0         3.0            ...                            0.0   \n",
       "2                 1         3.0            ...                            1.0   \n",
       "3                 0         2.0            ...                            0.0   \n",
       "4                 0         3.0            ...                            0.0   \n",
       "5                 0         3.0            ...                            0.0   \n",
       "\n",
       "   CAMEO_DEUG_2015_5  CAMEO_DEUG_2015_6  CAMEO_DEUG_2015_7  CAMEO_DEUG_2015_8  \\\n",
       "1                0.0                0.0                0.0                1.0   \n",
       "2                0.0                0.0                0.0                0.0   \n",
       "3                0.0                0.0                0.0                0.0   \n",
       "4                0.0                1.0                0.0                0.0   \n",
       "5                0.0                0.0                0.0                1.0   \n",
       "\n",
       "   CAMEO_DEUG_2015_9  PRAEGENDE_JUGENDJAHRE_MS  PRAEGENDE_JUGENDJAHRE_DEC  \\\n",
       "1                0.0                       1.0                       90.0   \n",
       "2                0.0                       0.0                       90.0   \n",
       "3                0.0                       1.0                       70.0   \n",
       "4                0.0                       1.0                       70.0   \n",
       "5                0.0                       1.0                       50.0   \n",
       "\n",
       "   CAMEO_INTL_2015_WEALTH  CAMEO_INTL_2015_LIFESTAGE  \n",
       "1                     5.0                        1.0  \n",
       "2                     2.0                        4.0  \n",
       "3                     1.0                        2.0  \n",
       "4                     4.0                        3.0  \n",
       "5                     5.0                        4.0  \n",
       "\n",
       "[5 rows x 115 columns]"
      ]
     },
     "execution_count": 60,
     "metadata": {},
     "output_type": "execute_result"
    }
   ],
   "source": [
    "sub1[:5]"
   ]
  },
  {
   "cell_type": "code",
   "execution_count": 61,
   "metadata": {},
   "outputs": [
    {
     "data": {
      "text/plain": [
       "(797426, 115)"
      ]
     },
     "execution_count": 61,
     "metadata": {},
     "output_type": "execute_result"
    }
   ],
   "source": [
    "sub1.shape"
   ]
  },
  {
   "cell_type": "markdown",
   "metadata": {},
   "source": [
    "#### Discussion 1.2.2: Engineer Mixed-Type Features\n",
    "The first step was to look at the \"mixed\" features which consists of 6 features shown above.\n",
    "\n",
    "After looking at the `PRAEGENDE_JUGENDJAHRE` and following the hints I saw in data_dictionary that one can disentangle (re-encode) the variable `PRAEGENDE_JUGENDJAHRE` into mainstream (ms) and avantgarde (av) based on leading to a new binary variable.\n",
    "\n",
    "In addition, I have chosen to include a variable which indicates the respective decade. \n",
    "\n",
    "Next, after a look at `CAMEO_INTL_2015` and the respective data_dictionary one can engineer this variable into one for wealth and one for the respective lifestage which I decided after looking at the variable and the description in the data dictionary.\n",
    "\n",
    "Note that all used variables should be dropped. In addition I have chosen to drop LP_LEBENSPHASE_FEIN as it consists of almost the same information as LP_LEBENSPHASE_GROB and has too many levels. I think one should delete at least one (possible multicollinearity) and decided for the more complicated one.\n",
    "\n",
    "(Double-click this cell and replace this text with your own text, reporting your findings and decisions regarding mixed-value features. Which ones did you keep, which did you drop, and what engineering steps did you perform?)"
   ]
  },
  {
   "cell_type": "markdown",
   "metadata": {},
   "source": [
    "#### Step 1.2.3: Complete Feature Selection\n",
    "\n",
    "In order to finish this step up, you need to make sure that your data frame now only has the columns that you want to keep. To summarize, the dataframe should consist of the following:\n",
    "- All numeric, interval, and ordinal type columns from the original dataset.\n",
    "- Binary categorical features (all numerically-encoded).\n",
    "- Engineered features from other multi-level categorical features and mixed features.\n",
    "\n",
    "Make sure that for any new columns that you have engineered, that you've excluded the original columns from the final dataset. Otherwise, their values will interfere with the analysis later on the project. For example, you should not keep \"PRAEGENDE_JUGENDJAHRE\", since its values won't be useful for the algorithm: only the values derived from it in the engineered features you created should be retained. As a reminder, your data should only be from **the subset with few or no missing values**."
   ]
  },
  {
   "cell_type": "code",
   "execution_count": 62,
   "metadata": {},
   "outputs": [],
   "source": [
    "# If there are other re-engineering tasks you need to perform, make sure you\n",
    "# take care of them here. (Dealing with missing data will come in step 2.1.)\n",
    "\n",
    "# -> DONE"
   ]
  },
  {
   "cell_type": "code",
   "execution_count": 63,
   "metadata": {},
   "outputs": [],
   "source": [
    "# Do whatever you need to in order to ensure that the dataframe only contains\n",
    "# the columns that should be passed to the algorithm functions.\n",
    "\n",
    "# -> DONE"
   ]
  },
  {
   "cell_type": "markdown",
   "metadata": {},
   "source": [
    "### Step 1.3: Create a Cleaning Function\n",
    "\n",
    "Even though you've finished cleaning up the general population demographics data, it's important to look ahead to the future and realize that you'll need to perform the same cleaning steps on the customer demographics data. In this substep, complete the function below to execute the main feature selection, encoding, and re-engineering steps you performed above. Then, when it comes to looking at the customer data in Step 3, you can just run this function on that DataFrame to get the trimmed dataset in a single step."
   ]
  },
  {
   "cell_type": "code",
   "execution_count": 64,
   "metadata": {},
   "outputs": [],
   "source": [
    "def clean_data(df):\n",
    "    \"\"\"\n",
    "    Perform feature trimming, re-encoding, and engineering for demographics\n",
    "    data\n",
    "    \n",
    "    INPUT: Demographics DataFrame\n",
    "    OUTPUT: Trimmed and cleaned demographics DataFrame\n",
    "    \"\"\"\n",
    "    \n",
    "    # Put in code here to execute all main cleaning steps:\n",
    "    # convert missing value codes into NaNs, ...\n",
    "    feat_info = pd.read_csv('AZDIAS_Feature_Summary.csv', delimiter=';')\n",
    "    for index in feat_info.index:\n",
    "        feat_info.loc[index,'missing_or_unknown'] = feat_info.loc[index,'missing_or_unknown'].strip('[]').split(',')\n",
    "        for item in range(len(feat_info.loc[index,'missing_or_unknown'])):\n",
    "            try:\n",
    "                feat_info.loc[index,'missing_or_unknown'][item] = int(feat_info.loc[index,'missing_or_unknown'][item])\n",
    "            except:\n",
    "                continue\n",
    "        df.loc[:,(feat_info.loc[index, 'attribute'])].replace(feat_info.loc[index,'missing_or_unknown'], np.nan, inplace=True)        \n",
    "    \n",
    "    # Drop cols (outlier cols) + \"GEBAUEDTYP\" (issues with dummies)\n",
    "    drop_col = ['AGER_TYP', 'GEBURTSJAHR', 'TITEL_KZ', 'ALTER_HH', 'KK_KUNDENTYP',\n",
    "       'KBA05_BAUMAX', \"GEBAEUDETYP\"]\n",
    "    df.drop(drop_col , axis=1, inplace=True)\n",
    "    \n",
    "    # Index for rows with missings of equal or fewer than 20\n",
    "    row_missings = df.isnull().sum(axis=1)\n",
    "    idx1 = row_missings.index[row_missings <= 20]\n",
    "    idx2 = row_missings.index[row_missings > 20]\n",
    "    \n",
    "    categorical = feat_info[feat_info[\"type\"] == \"categorical\"][\"attribute\"].values\n",
    "    categorical = [x for x in categorical if x in df.columns]\n",
    "    binary = [x for x in categorical if df[x].nunique()==2]\n",
    "    multilevel = [x for x in categorical if df[x].nunique()>2]\n",
    "    \n",
    "    col_remove = [\"CAMEO_DEU_2015\", \"GFK_URLAUBERTYP\", \n",
    "              \"LP_FAMILIE_FEIN\", \"LP_STATUS_FEIN\"]\n",
    "\n",
    "    for col in col_remove:\n",
    "        multilevel.remove(col)\n",
    "        df.drop(col, axis = 1, inplace=True)\n",
    "\n",
    "    df[\"OST_WEST_KZ\"] = df[\"OST_WEST_KZ\"].map({\"W\": 0, \"O\": 1})\n",
    "    \n",
    "    for col in multilevel:\n",
    "        dat = df[col][df[col].notnull()]\n",
    "        df = df.join(pd.get_dummies(dat, prefix=col))\n",
    "        df.drop([col], axis=1, inplace=True)\n",
    "    \n",
    "    mixed = feat_info[feat_info['type'] == 'mixed']['attribute'].values\n",
    "    mixed = [x for x in mixed if x in df.columns] \n",
    "        \n",
    "    ms = [1,3,4,8,10,12,14]\n",
    "    av = [2,4,6,7,9,11,13,15]\n",
    "    df['PRAEGENDE_JUGENDJAHRE_MS'] = df['PRAEGENDE_JUGENDJAHRE'].apply(disentangler)\n",
    "      \n",
    "    x = [x+1 for x in range(15)]\n",
    "    y = [40,40,50,50,60,60,60,70,70,80,80,80,80,90,90]\n",
    "    dec = pd.Series(y, index = x)\n",
    "    df['PRAEGENDE_JUGENDJAHRE_DEC'] = df['PRAEGENDE_JUGENDJAHRE'].map(dec)\n",
    "    \n",
    "    df.loc[df['CAMEO_INTL_2015'].notnull(),'CAMEO_INTL_2015_WEALTH'] = df.loc[df['CAMEO_INTL_2015'].notnull(),'CAMEO_INTL_2015'].map(lambda x:int(str(x)[0]))\n",
    "    df.loc[df['CAMEO_INTL_2015'].notnull(),'CAMEO_INTL_2015_LIFESTAGE'] = df.loc[df['CAMEO_INTL_2015'].notnull(),'CAMEO_INTL_2015'].map(lambda x:int(str(x)[1]))\n",
    "\n",
    "    df.drop(mixed, axis=1, inplace=True)\n",
    "    \n",
    "    clean_df = df.loc[idx1]\n",
    "    dirty_df = df.loc[idx2]  \n",
    "        \n",
    "    # Return clean and dirty dataframe.\n",
    "    return clean_df, dirty_df"
   ]
  },
  {
   "cell_type": "markdown",
   "metadata": {},
   "source": [
    "**Notes**  \n",
    "Due to problems with the variable \"GEBAEUDETYP\" I had to drop this variable in the function in addition to previously dropped categorical variables. It was differently dummy-encoded causing problems later on. Whereas the function worked fine on the azdias data applying the function to the customers data left out the dummy \"GEBAUEDETYP_5.0\""
   ]
  },
  {
   "cell_type": "code",
   "execution_count": 65,
   "metadata": {},
   "outputs": [],
   "source": [
    "feat_info = pd.read_csv(\"AZDIAS_Feature_Summary.csv\", sep=\";\")"
   ]
  },
  {
   "cell_type": "code",
   "execution_count": 66,
   "metadata": {},
   "outputs": [
    {
     "name": "stdout",
     "output_type": "stream",
     "text": [
      "151.84265160560608\n"
     ]
    }
   ],
   "source": [
    "# Reload and check if the function worked\n",
    "import time\n",
    "start = time.time()\n",
    "azdias = pd.read_csv(\"Udacity_AZDIAS_Subset.csv\", sep=\";\")\n",
    "clean_azdias, dirty_azdias = clean_data(azdias)\n",
    "end = time.time()\n",
    "print(end - start)"
   ]
  },
  {
   "cell_type": "code",
   "execution_count": 67,
   "metadata": {},
   "outputs": [
    {
     "name": "stdout",
     "output_type": "stream",
     "text": [
      "10.552395582199097\n"
     ]
    }
   ],
   "source": [
    "# Load customers data to check if we have same numbers of cols, etc.\n",
    "start = time.time()\n",
    "customers = pd.read_csv(\"Udacity_CUSTOMERS_Subset.csv\", sep=\";\")\n",
    "clean_customers, dirty_customers = clean_data(customers)\n",
    "end = time.time()\n",
    "print(end - start)"
   ]
  },
  {
   "cell_type": "code",
   "execution_count": 68,
   "metadata": {},
   "outputs": [
    {
     "data": {
      "text/plain": [
       "(797426, 108)"
      ]
     },
     "execution_count": 68,
     "metadata": {},
     "output_type": "execute_result"
    }
   ],
   "source": [
    "clean_azdias.shape"
   ]
  },
  {
   "cell_type": "code",
   "execution_count": 69,
   "metadata": {},
   "outputs": [
    {
     "data": {
      "text/plain": [
       "(141640, 108)"
      ]
     },
     "execution_count": 69,
     "metadata": {},
     "output_type": "execute_result"
    }
   ],
   "source": [
    "clean_customers.shape"
   ]
  },
  {
   "cell_type": "code",
   "execution_count": 70,
   "metadata": {},
   "outputs": [],
   "source": [
    "# To keep previous notation as well as to simplify it\n",
    "sub1 = clean_azdias\n",
    "customers = clean_customers"
   ]
  },
  {
   "cell_type": "markdown",
   "metadata": {},
   "source": [
    "### Hoooray, it worked!"
   ]
  },
  {
   "cell_type": "markdown",
   "metadata": {},
   "source": [
    "## Step 2: Feature Transformation\n",
    "\n",
    "### Step 2.1: Apply Feature Scaling\n",
    "\n",
    "Before we apply dimensionality reduction techniques to the data, we need to perform feature scaling so that the principal component vectors are not influenced by the natural differences in scale for features. Starting from this part of the project, you'll want to keep an eye on the [API reference page for sklearn](http://scikit-learn.org/stable/modules/classes.html) to help you navigate to all of the classes and functions that you'll need. In this substep, you'll need to check the following:\n",
    "\n",
    "- sklearn requires that data not have missing values in order for its estimators to work properly. So, before applying the scaler to your data, make sure that you've cleaned the DataFrame of the remaining missing values. This can be as simple as just removing all data points with missing data, or applying an [Imputer](http://scikit-learn.org/stable/modules/generated/sklearn.preprocessing.Imputer.html) to replace all missing values. You might also try a more complicated procedure where you temporarily remove missing values in order to compute the scaling parameters before re-introducing those missing values and applying imputation. Think about how much missing data you have and what possible effects each approach might have on your analysis, and justify your decision in the discussion section below.\n",
    "- For the actual scaling function, a [StandardScaler](http://scikit-learn.org/stable/modules/generated/sklearn.preprocessing.StandardScaler.html) instance is suggested, scaling each feature to mean 0 and standard deviation 1.\n",
    "- For these classes, you can make use of the `.fit_transform()` method to both fit a procedure to the data as well as apply the transformation to the data at the same time. Don't forget to keep the fit sklearn objects handy, since you'll be applying them to the customer demographics data towards the end of the project."
   ]
  },
  {
   "cell_type": "code",
   "execution_count": 71,
   "metadata": {},
   "outputs": [],
   "source": [
    "# If you've not yet cleaned the dataset of all NaN values, then investigate and\n",
    "# do that now.\n",
    "\n",
    "# Initialize\n",
    "imputer = Imputer()\n",
    "sub1 = pd.DataFrame(imputer.fit_transform(sub1), columns = sub1.columns)"
   ]
  },
  {
   "cell_type": "code",
   "execution_count": 72,
   "metadata": {},
   "outputs": [],
   "source": [
    "# Apply feature scaling to the general population demographics data.\n",
    "scaler = StandardScaler()\n",
    "sub1 = pd.DataFrame(scaler.fit_transform(sub1), columns=sub1.columns)"
   ]
  },
  {
   "cell_type": "markdown",
   "metadata": {},
   "source": [
    "### Discussion 2.1: Apply Feature Scaling\n",
    "As hinted In the introducing text I have loaded and applied the Imputer class as well as the StandardScaler to scale the feature to mean 0 and standard deviaion 1.\n",
    "\n",
    "(Double-click this cell and replace this text with your own text, reporting your decisions regarding feature scaling.)"
   ]
  },
  {
   "cell_type": "markdown",
   "metadata": {},
   "source": [
    "### Step 2.2: Perform Dimensionality Reduction\n",
    "\n",
    "On your scaled data, you are now ready to apply dimensionality reduction techniques.\n",
    "\n",
    "- Use sklearn's [PCA](http://scikit-learn.org/stable/modules/generated/sklearn.decomposition.PCA.html) class to apply principal component analysis on the data, thus finding the vectors of maximal variance in the data. To start, you should not set any parameters (so all components are computed) or set a number of components that is at least half the number of features (so there's enough features to see the general trend in variability).\n",
    "- Check out the ratio of variance explained by each principal component as well as the cumulative variance explained. Try plotting the cumulative or sequential values using matplotlib's [`plot()`](https://matplotlib.org/api/_as_gen/matplotlib.pyplot.plot.html) function. Based on what you find, select a value for the number of transformed features you'll retain for the clustering part of the project.\n",
    "- Once you've made a choice for the number of components to keep, make sure you re-fit a PCA instance to perform the decided-on transformation."
   ]
  },
  {
   "cell_type": "code",
   "execution_count": 73,
   "metadata": {},
   "outputs": [],
   "source": [
    "# Apply PCA to the data ->Initialize and fit\n",
    "pca = PCA()\n",
    "sub1_pca = pca.fit_transform(sub1)"
   ]
  },
  {
   "cell_type": "code",
   "execution_count": 74,
   "metadata": {},
   "outputs": [
    {
     "data": {
      "text/plain": [
       "array([ 0.12151871,  0.21882256,  0.28027692,  0.31648147,  0.34375323,\n",
       "        0.36555191,  0.38541812,  0.40510349,  0.42336413,  0.44102372,\n",
       "        0.45800588,  0.47376023,  0.4885777 ,  0.50286147,  0.51631735,\n",
       "        0.52936753,  0.54211465,  0.55430394,  0.56640831,  0.57847996,\n",
       "        0.59005957,  0.60141934,  0.61259071,  0.62361846,  0.63456035,\n",
       "        0.64539643,  0.65592829,  0.66640222,  0.676737  ,  0.68690422,\n",
       "        0.69703054,  0.70689993,  0.71674038,  0.72647349,  0.73608417,\n",
       "        0.74555012,  0.75497633,  0.76419137,  0.77318761,  0.78213186,\n",
       "        0.79100514,  0.79958539,  0.80812077,  0.81642414,  0.8243143 ,\n",
       "        0.8320925 ,  0.83963406,  0.84705163,  0.85414269,  0.86100243])"
      ]
     },
     "execution_count": 74,
     "metadata": {},
     "output_type": "execute_result"
    }
   ],
   "source": [
    "np.cumsum(pca.explained_variance_ratio_)[:50]"
   ]
  },
  {
   "cell_type": "markdown",
   "metadata": {},
   "source": [
    "**Notes**  \n",
    "From above we see that we need around 43 principal components to get to a cum. variance of more than 80%."
   ]
  },
  {
   "cell_type": "code",
   "execution_count": 75,
   "metadata": {},
   "outputs": [
    {
     "data": {
      "image/png": "[encoded data removed]",
      "text/plain": [
       "<matplotlib.figure.Figure at 0x7f4e3d53fcc0>"
      ]
     },
     "metadata": {},
     "output_type": "display_data"
    }
   ],
   "source": [
    "# Investigate the variance accounted for by each principal component.\n",
    "# Use matplotlibs plot-function\n",
    "fig = plt.figure()\n",
    "ax = fig.add_axes([0,0,1,1],True)\n",
    "ax.set_title(\"No. of principal components in relation to explained variance\")\n",
    "ax2 = ax.twinx()\n",
    "ax.plot(pca.explained_variance_ratio_, label='var per principal component',)\n",
    "ax2.plot(np.cumsum(pca.explained_variance_ratio_), label='cum. var.',color = 'red');\n",
    "fig.legend(loc=(0.6,0.2));"
   ]
  },
  {
   "cell_type": "markdown",
   "metadata": {},
   "source": [
    "**Notes**  \n",
    "Fewer than 20 principal components are required to get a cum. explained variance of 50%. Moreover, with around 40 principal components, 80% of variance can be explained."
   ]
  },
  {
   "cell_type": "code",
   "execution_count": 76,
   "metadata": {},
   "outputs": [
    {
     "name": "stdout",
     "output_type": "stream",
     "text": [
      "Explained variance using 43 components is: 80.72%\n"
     ]
    }
   ],
   "source": [
    "# Re-apply PCA to the data while selecting for number of components to retain.\n",
    "n = 43\n",
    "pca = PCA(n_components = n, random_state=42)\n",
    "sub1_pca = pca.fit_transform(sub1)\n",
    "pca_expl = pca.explained_variance_ratio_.sum()\n",
    "print(\"Explained variance using {} components is: {:.2f}%\".format(n,pca_expl*100))"
   ]
  },
  {
   "cell_type": "markdown",
   "metadata": {},
   "source": [
    "### Discussion 2.2: Perform Dimensionality Reduction\n",
    "In this section I applied PCA on the cleaned data. First, I had a look at how many\n",
    "principal components were required to achieve 80% which was 43.\n",
    "\n",
    "Afterwards, I plotted a curve to see the behaviour of added explained variance vs cumulative explained variance.\n",
    "Around 40-45 principal components are required to explain 80% of variance, whereas the first 20 principal components already explain around 60% of the variacnce.\n",
    "\n",
    "Lastly, I re-applied PCA determining how many principal components I want to use which leads to an cumulative explained variance of 80.72%."
   ]
  },
  {
   "cell_type": "markdown",
   "metadata": {},
   "source": [
    "### Step 2.3: Interpret Principal Components\n",
    "\n",
    "Now that we have our transformed principal components, it's a nice idea to check out the weight of each variable on the first few components to see if they can be interpreted in some fashion.\n",
    "\n",
    "As a reminder, each principal component is a unit vector that points in the direction of highest variance (after accounting for the variance captured by earlier principal components). The further a weight is from zero, the more the principal component is in the direction of the corresponding feature. If two features have large weights of the same sign (both positive or both negative), then increases in one tend expect to be associated with increases in the other. To contrast, features with different signs can be expected to show a negative correlation: increases in one variable should result in a decrease in the other.\n",
    "\n",
    "- To investigate the features, you should map each weight to their corresponding feature name, then sort the features according to weight. The most interesting features for each principal component, then, will be those at the beginning and end of the sorted list. Use the data dictionary document to help you understand these most prominent features, their relationships, and what a positive or negative value on the principal component might indicate.\n",
    "- You should investigate and interpret feature associations from the first three principal components in this substep. To help facilitate this, you should write a function that you can call at any time to print the sorted list of feature weights, for the *i*-th principal component. This might come in handy in the next step of the project, when you interpret the tendencies of the discovered clusters."
   ]
  },
  {
   "cell_type": "code",
   "execution_count": 77,
   "metadata": {},
   "outputs": [],
   "source": [
    "# Map weights for the first principal component to corresponding feature names\n",
    "# and then print the linked values, sorted by weight.\n",
    "# HINT: Try defining a function here or in a new cell that you can reuse in the\n",
    "# other cells.\n",
    "def pca_fun(data):\n",
    "    feat = pd.Series(data.columns, range(len(data.columns)))\n",
    "    comp = {}\n",
    "    for i in range(pca.components_.shape[0]):\n",
    "        comp[i] = [(feat[a],b) for a,b in sorted(enumerate(pca.components_[i]),key=lambda x:x[1],reverse=True)]\n",
    "    return pd.DataFrame(comp)\n",
    "\n",
    "comp = pca_fun(sub1)"
   ]
  },
  {
   "cell_type": "markdown",
   "metadata": {},
   "source": [
    "### First principal component"
   ]
  },
  {
   "cell_type": "code",
   "execution_count": 78,
   "metadata": {},
   "outputs": [
    {
     "data": {
      "text/plain": [
       "0        (LP_STATUS_GROB_1.0, 0.203256824049)\n",
       "1                (PLZ8_ANTG3, 0.194085394489)\n",
       "2    (CAMEO_INTL_2015_WEALTH, 0.189239983742)\n",
       "3        (HH_EINKOMMEN_SCORE, 0.188923475617)\n",
       "4                (PLZ8_ANTG4, 0.187426680109)\n",
       "5               (ORTSGR_KLS9, 0.167996265817)\n",
       "Name: 0, dtype: object"
      ]
     },
     "execution_count": 78,
     "metadata": {},
     "output_type": "execute_result"
    }
   ],
   "source": [
    "# Map weights for the first principal components to corresponding feature names\n",
    "#and then print the linked values, sorted by weight.\n",
    "comp[:6][0]"
   ]
  },
  {
   "cell_type": "code",
   "execution_count": 79,
   "metadata": {},
   "outputs": [
    {
     "data": {
      "text/plain": [
       "102          (KONSUMNAEHE, -0.144298026929)\n",
       "103            (KBA05_GBZ, -0.189577837962)\n",
       "104           (PLZ8_ANTG1, -0.193547552272)\n",
       "105          (KBA05_ANTG1, -0.199190505938)\n",
       "106    (FINANZ_MINIMALIST, -0.212098221954)\n",
       "107           (MOBI_REGIO, -0.213056148557)\n",
       "Name: 0, dtype: object"
      ]
     },
     "execution_count": 79,
     "metadata": {},
     "output_type": "execute_result"
    }
   ],
   "source": [
    "comp[-6:][0]"
   ]
  },
  {
   "cell_type": "markdown",
   "metadata": {},
   "source": [
    "### Second principal component"
   ]
  },
  {
   "cell_type": "code",
   "execution_count": 80,
   "metadata": {},
   "outputs": [
    {
     "data": {
      "text/plain": [
       "0    (ALTERSKATEGORIE_GROB, 0.225932316382)\n",
       "1         (FINANZ_VORSORGER, 0.21164474877)\n",
       "2              (ZABEOTYP_3, 0.205139834848)\n",
       "3               (SEMIO_ERL, 0.188273997142)\n",
       "4              (SEMIO_LUST, 0.160218688418)\n",
       "5          (RETOURTYP_BK_S, 0.153378147131)\n",
       "Name: 1, dtype: object"
      ]
     },
     "execution_count": 80,
     "metadata": {},
     "output_type": "execute_result"
    }
   ],
   "source": [
    "# Map weights for the second principal component to corresponding feature names\n",
    "# and then print the linked values, sorted by weight.\n",
    "comp[:6][1]"
   ]
  },
  {
   "cell_type": "code",
   "execution_count": 81,
   "metadata": {},
   "outputs": [
    {
     "data": {
      "text/plain": [
       "0          (ALTERSKATEGORIE_GROB, 0.225932316382)\n",
       "1               (FINANZ_VORSORGER, 0.21164474877)\n",
       "2                    (ZABEOTYP_3, 0.205139834848)\n",
       "3                     (SEMIO_ERL, 0.188273997142)\n",
       "4                    (SEMIO_LUST, 0.160218688418)\n",
       "5                (RETOURTYP_BK_S, 0.153378147131)\n",
       "6                (W_KEIT_KIND_HH, 0.126847944146)\n",
       "7              (FINANZ_HAUSBAUER, 0.119069108942)\n",
       "8      (PRAEGENDE_JUGENDJAHRE_MS, 0.114087713934)\n",
       "9              (CJT_GESAMTTYP_2.0, 0.10557786428)\n",
       "10                  (PLZ8_ANTG3, 0.0938741854504)\n",
       "11                 (FINANZTYP_5, 0.0938019081879)\n",
       "12                  (PLZ8_ANTG4, 0.0894557083137)\n",
       "13                   (SEMIO_KRIT, 0.087430827366)\n",
       "14      (CAMEO_INTL_2015_WEALTH, 0.0873451190011)\n",
       "15                    (EWDICHTE, 0.0855242805031)\n",
       "16                 (ORTSGR_KLS9, 0.0848665562422)\n",
       "17                 (FINANZTYP_2, 0.0837518510844)\n",
       "18                   (SEMIO_KAEM, 0.080010254012)\n",
       "19             (SHOPPER_TYP_3.0, 0.0731809875957)\n",
       "20          (HH_EINKOMMEN_SCORE, 0.0710421264191)\n",
       "21                 (KBA05_ANTG4, 0.0694864041195)\n",
       "22           (CJT_GESAMTTYP_1.0, 0.0693399597562)\n",
       "23                      (ARBEIT, 0.0684058761765)\n",
       "24          (LP_FAMILIE_GROB_1.0, 0.067618751645)\n",
       "25                 (FINANZTYP_6, 0.0650480723225)\n",
       "26         (ANZ_HAUSHALTE_AKTIV, 0.0647536695865)\n",
       "27                  (PLZ8_ANTG2, 0.0643673106341)\n",
       "28                    (RELAT_AB, 0.0634238389227)\n",
       "29        (NATIONALITAET_KZ_1.0, 0.0610559978848)\n",
       "                          ...                    \n",
       "72         (GEBAEUDETYP_RASTER, -0.0448423234889)\n",
       "73                 (SEMIO_VERT, -0.0456480282539)\n",
       "74        (LP_FAMILIE_GROB_5.0, -0.0464951488885)\n",
       "75            (MIN_GEBAEUDEJAHR, -0.049930461696)\n",
       "76                 (HEALTH_TYP, -0.0512680964675)\n",
       "77                   (BALLRAUM, -0.0536570899923)\n",
       "78          (CJT_GESAMTTYP_4.0, -0.0564282569852)\n",
       "79            (SHOPPER_TYP_0.0, -0.0584911514687)\n",
       "80        (LP_FAMILIE_GROB_4.0, -0.0668869007147)\n",
       "81                 (INNENSTADT, -0.0688895160015)\n",
       "82                (KONSUMNAEHE, -0.0696029602057)\n",
       "83               (ANZ_PERSONEN, -0.0713756148305)\n",
       "84                   (PLZ8_GBZ, -0.0729151452322)\n",
       "85                  (SEMIO_SOZ, -0.0729209804848)\n",
       "86                 (ZABEOTYP_1, -0.0817549950731)\n",
       "87                 (ZABEOTYP_5, -0.0818401795294)\n",
       "88                (KBA05_ANTG1, -0.0859017145508)\n",
       "89                (FINANZTYP_3, -0.0874861589301)\n",
       "90                  (KBA05_GBZ, -0.0911500432005)\n",
       "91                (FINANZTYP_4, -0.0927891008642)\n",
       "92                 (PLZ8_ANTG1, -0.0931731290372)\n",
       "93                 (MOBI_REGIO, -0.0945986076446)\n",
       "94                 (ZABEOTYP_4, -0.0966791914712)\n",
       "95                 (FINANZTYP_1, -0.110448740435)\n",
       "96                    (SEMIO_MAT, -0.13145156717)\n",
       "97                    (SEMIO_FAM, -0.14197395244)\n",
       "98                   (SEMIO_RAT, -0.154830440576)\n",
       "99           (ONLINE_AFFINITAET, -0.169012867764)\n",
       "100                 (SEMIO_KULT, -0.174042642268)\n",
       "101              (FINANZ_ANLEGER, -0.18814590939)\n",
       "Name: 1, Length: 102, dtype: object"
      ]
     },
     "execution_count": 81,
     "metadata": {},
     "output_type": "execute_result"
    }
   ],
   "source": [
    "# Map weights for the second principal component to corresponding feature names\n",
    "# and then print the linked values, sorted by weight.\n",
    "comp[:-6][1]"
   ]
  },
  {
   "cell_type": "markdown",
   "metadata": {},
   "source": [
    "### Third principal component"
   ]
  },
  {
   "cell_type": "code",
   "execution_count": 82,
   "metadata": {},
   "outputs": [
    {
     "data": {
      "text/plain": [
       "0           (SEMIO_VERT, 0.326736306237)\n",
       "1            (SEMIO_FAM, 0.258069162458)\n",
       "2            (SEMIO_SOZ, 0.257711992069)\n",
       "3           (SEMIO_KULT, 0.246905701408)\n",
       "4          (FINANZTYP_5, 0.136847325686)\n",
       "5    (FINANZ_MINIMALIST, 0.133904136645)\n",
       "Name: 2, dtype: object"
      ]
     },
     "execution_count": 82,
     "metadata": {},
     "output_type": "execute_result"
    }
   ],
   "source": [
    "# Map weights for the third principal component to corresponding feature names\n",
    "# and then print the linked values, sorted by weight.\n",
    "comp[:6][2]"
   ]
  },
  {
   "cell_type": "code",
   "execution_count": 83,
   "metadata": {},
   "outputs": [
    {
     "data": {
      "text/plain": [
       "102     (SEMIO_RAT, -0.177946904622)\n",
       "103     (SEMIO_ERL, -0.196732905779)\n",
       "104    (SEMIO_KRIT, -0.270696878457)\n",
       "105     (SEMIO_DOM, -0.299995472489)\n",
       "106    (SEMIO_KAEM, -0.326522802506)\n",
       "107     (ANREDE_KZ, -0.354170847399)\n",
       "Name: 2, dtype: object"
      ]
     },
     "execution_count": 83,
     "metadata": {},
     "output_type": "execute_result"
    }
   ],
   "source": [
    "comp[-6:][2]"
   ]
  },
  {
   "cell_type": "markdown",
   "metadata": {},
   "source": [
    "### Discussion 2.3: Interpret Principal Components\n",
    "Important variables **first principal component:**  \n",
    "High correlation and thus of high importance in explaining the variation of this component are the status of the people, income, as well as living conditions (especially living in regions where houses with a lot of famlies are prevalent. Moreover, wealth is of high importance as well as size of community. \n",
    "\n",
    "Important variables for **second principal component:**  \n",
    "The dimension of this principal component is determined by age and financial literacy. This component further describes whether people are saving money, are financial literate as well as variables on personal attitudes, especially whether people are dutiful, traditional and/ or religious.\n",
    "\n",
    "Important variables for the **third principal component:**  \n",
    "In particular variables concerning personality typology are in play here. Positively effect on the component have whether someone is dreamful, family-, socially-, or cultureal-minded. Low financial interest is positively correlated. Negatively correlated with this component are people, described as rational, event-oriented, critical-minded or combative. Moreover, gender variable is negatively associated with this component.  \n",
    "\n",
    "It can be noted that in PCA the factor loading is the correlation of the variable on the respective PC. Therefore negative and positive values are important. The higher the number the further away from the midpoint and, thus,  the more important they are for the principal component."
   ]
  },
  {
   "cell_type": "markdown",
   "metadata": {},
   "source": [
    "## Step 3: Clustering\n",
    "\n",
    "### Step 3.1: Apply Clustering to General Population\n",
    "\n",
    "You've assessed and cleaned the demographics data, then scaled and transformed them. Now, it's time to see how the data clusters in the principal components space. In this substep, you will apply k-means clustering to the dataset and use the average within-cluster distances from each point to their assigned cluster's centroid to decide on a number of clusters to keep.\n",
    "\n",
    "- Use sklearn's [KMeans](http://scikit-learn.org/stable/modules/generated/sklearn.cluster.KMeans.html#sklearn.cluster.KMeans) class to perform k-means clustering on the PCA-transformed data.\n",
    "- Then, compute the average difference from each point to its assigned cluster's center. **Hint**: The KMeans object's `.score()` method might be useful here, but note that in sklearn, scores tend to be defined so that larger is better. Try applying it to a small, toy dataset, or use an internet search to help your understanding.\n",
    "- Perform the above two steps for a number of different cluster counts. You can then see how the average distance decreases with an increasing number of clusters. However, each additional cluster provides a smaller net benefit. Use this fact to select a final number of clusters in which to group the data. **Warning**: because of the large size of the dataset, it can take a long time for the algorithm to resolve. The more clusters to fit, the longer the algorithm will take. You should test for cluster counts through at least 10 clusters to get the full picture, but you shouldn't need to test for a number of clusters above about 30.\n",
    "- Once you've selected a final number of clusters to use, re-fit a KMeans instance to perform the clustering operation. Make sure that you also obtain the cluster assignments for the general demographics data, since you'll be using them in the final Step 3.3."
   ]
  },
  {
   "cell_type": "code",
   "execution_count": 84,
   "metadata": {},
   "outputs": [
    {
     "name": "stdout",
     "output_type": "stream",
     "text": [
      "Evaluation of 1 clusters | Distance:9.2303 | Score: -69514246.6735\n",
      "Evaluation of 2 clusters | Distance:8.7117 | Score: -62194346.6203\n",
      "Evaluation of 3 clusters | Distance:8.3742 | Score: -57562676.5145\n",
      "Evaluation of 4 clusters | Distance:8.2580 | Score: -55978104.9732\n",
      "Evaluation of 5 clusters | Distance:8.0572 | Score: -53336064.2676\n",
      "Evaluation of 6 clusters | Distance:8.0580 | Score: -53328357.0256\n",
      "Evaluation of 7 clusters | Distance:7.9912 | Score: -52527076.4291\n",
      "Evaluation of 8 clusters | Distance:7.8504 | Score: -50739538.9272\n",
      "Evaluation of 9 clusters | Distance:7.7157 | Score: -49092013.6477\n",
      "Evaluation of 10 clusters | Distance:7.7162 | Score: -49055978.3639\n",
      "Evaluation of 11 clusters | Distance:7.6586 | Score: -48410671.9769\n",
      "Evaluation of 12 clusters | Distance:7.5733 | Score: -47360608.1979\n",
      "Evaluation of 13 clusters | Distance:7.5951 | Score: -47643664.6044\n",
      "Evaluation of 14 clusters | Distance:7.5361 | Score: -46555800.4157\n",
      "Evaluation of 15 clusters | Distance:7.4781 | Score: -46050846.1450\n",
      "Evaluation of 16 clusters | Distance:7.4534 | Score: -45425809.5989\n",
      "Evaluation of 17 clusters | Distance:7.4307 | Score: -45651284.8832\n",
      "Evaluation of 18 clusters | Distance:7.3789 | Score: -44711641.3062\n",
      "Evaluation of 19 clusters | Distance:7.5363 | Score: -46912630.3652\n",
      "Evaluation of 20 clusters | Distance:7.3562 | Score: -44701191.7959\n",
      "Evaluation of 21 clusters | Distance:7.4909 | Score: -46146148.0397\n",
      "Evaluation of 22 clusters | Distance:7.2975 | Score: -43854382.7560\n",
      "Evaluation of 23 clusters | Distance:7.3635 | Score: -44762808.7949\n",
      "Evaluation of 24 clusters | Distance:7.2635 | Score: -43383611.8895\n",
      "Evaluation of 25 clusters | Distance:7.2502 | Score: -43202756.3034\n"
     ]
    }
   ],
   "source": [
    "# Because KMeans takes so long I will use MiniBatchKMeans for determining\n",
    "#the optimal no. of clusters\n",
    "cluster_nums = [1, 2, 3, 4, 5, 6, 7, 8, 9, 10, 11, 12, 13, 14, 15, 16, 17, 18, 19, 20, 21, 22, 23, 24, 25]\n",
    "distances = []\n",
    "score = []\n",
    "\n",
    "# Over a number of different cluster counts...\n",
    "for c in cluster_nums:  \n",
    "    # run k-means clustering on the data\n",
    "    # using MiniBatchKMeans() due to performance issues\n",
    "    \n",
    "    kmeans = MiniBatchKMeans(c)\n",
    "    preds = kmeans.fit_predict(sub1_pca)\n",
    "    \n",
    "    # compute average within-cluster distances.\n",
    "    pred_centroids = kmeans.cluster_centers_\n",
    "    centers = pred_centroids[preds]\n",
    "    distance = np.sqrt(((sub1_pca - centers) ** 2).sum(axis=1)).mean()\n",
    "    distances.append(distance)\n",
    "    \n",
    "    # Score \n",
    "    sc = kmeans.score(sub1_pca)\n",
    "    score.append(sc)\n",
    "    \n",
    "    print(\"Evaluation of {} clusters | Distance:{:.4f} | Score: {:.4f}\".format(c, distance, sc))"
   ]
  },
  {
   "cell_type": "code",
   "execution_count": 85,
   "metadata": {},
   "outputs": [
    {
     "data": {
      "image/png": "[encoded data removed]",
      "text/plain": [
       "<matplotlib.figure.Figure at 0x7f4e4feffe80>"
      ]
     },
     "metadata": {},
     "output_type": "display_data"
    }
   ],
   "source": [
    "plt.plot(cluster_nums, score, '-o');\n",
    "plt.ylabel(\"Score\")\n",
    "plt.xlabel(\"# of clusters\");"
   ]
  },
  {
   "cell_type": "code",
   "execution_count": 86,
   "metadata": {},
   "outputs": [
    {
     "data": {
      "image/png": "[encoded data removed]",
      "text/plain": [
       "<matplotlib.figure.Figure at 0x7f4e4fedb3c8>"
      ]
     },
     "metadata": {},
     "output_type": "display_data"
    }
   ],
   "source": [
    "plt.plot(cluster_nums, distances, '-o');\n",
    "plt.ylabel(\"Average distance to centroids\")\n",
    "plt.xlabel(\"# of clusters\");"
   ]
  },
  {
   "cell_type": "code",
   "execution_count": 87,
   "metadata": {},
   "outputs": [],
   "source": [
    "# Re-fit the k-means model with the selected number of clusters and obtain\n",
    "# cluster predictions for the general population demographics data.\n",
    "kmeans = KMeans(11, random_state=42)\n",
    "clusters_pop = kmeans.fit_predict(sub1_pca)"
   ]
  },
  {
   "cell_type": "markdown",
   "metadata": {},
   "source": [
    "### Discussion 3.1: Apply Clustering to General Population\n",
    "Because of performance issues with KMeans() I choose MiniBatchKmeans() first to determine the number of clusters. In order to do this I plotted the score as well as the avearge distance to centroids. After a rapid increase (plot1), respectively decrease (plot2) after 7 clusters it seems as for both plots the change seems to be rather small. In particular after 10-15 clusters there is not much change here. Hence, following the elbow method, one should choose between 10-15 clusters. As there seems to be a small uptick after 11 clusters I choose to take 11 clusters in the following Analysis. "
   ]
  },
  {
   "cell_type": "markdown",
   "metadata": {},
   "source": [
    "### Step 3.2: Apply All Steps to the Customer Data\n",
    "\n",
    "Now that you have clusters and cluster centers for the general population, it's time to see how the customer data maps on to those clusters. Take care to not confuse this for re-fitting all of the models to the customer data. Instead, you're going to use the fits from the general population to clean, transform, and cluster the customer data. In the last step of the project, you will interpret how the general population fits apply to the customer data.\n",
    "\n",
    "- Don't forget when loading in the customers data, that it is semicolon (`;`) delimited.\n",
    "- Apply the same feature wrangling, selection, and engineering steps to the customer demographics using the `clean_data()` function you created earlier. (You can assume that the customer demographics data has similar meaning behind missing data patterns as the general demographics data.)\n",
    "- Use the sklearn objects from the general demographics data, and apply their transformations to the customers data. That is, you should not be using a `.fit()` or `.fit_transform()` method to re-fit the old objects, nor should you be creating new sklearn objects! Carry the data through the feature scaling, PCA, and clustering steps, obtaining cluster assignments for all of the data in the customer demographics data."
   ]
  },
  {
   "cell_type": "markdown",
   "metadata": {},
   "source": [
    "#### Do not change the objects or fit in the following:"
   ]
  },
  {
   "cell_type": "code",
   "execution_count": 88,
   "metadata": {},
   "outputs": [],
   "source": [
    "# Apply preprocessing, feature transformation, and clustering from the general\n",
    "# demographics onto the customer data, obtaining cluster predictions for the\n",
    "# customer demographics data.\n",
    "\n",
    "# Load in the customer demographics data, if not done before\n",
    "customers = pd.read_csv(\"Udacity_CUSTOMERS_Subset.csv\", delimiter =\";\")\n",
    "customers, dirty_customers = clean_data(customers)\n",
    "\n",
    "# Impute\n",
    "customers = pd.DataFrame(imputer.transform(customers), columns = customers.columns)\n",
    "\n",
    "# Scale\n",
    "customers = pd.DataFrame(scaler.transform(customers), columns = customers.columns)\n",
    "\n",
    "# PCA\n",
    "customers_pca = pca.transform(customers)\n",
    "\n",
    "# KMeans\n",
    "clusters_customers = kmeans.predict(customers_pca)"
   ]
  },
  {
   "cell_type": "markdown",
   "metadata": {},
   "source": [
    "### Step 3.3: Compare Customer Data to Demographics Data\n",
    "\n",
    "At this point, you have clustered data based on demographics of the general population of Germany, and seen how the customer data for a mail-order sales company maps onto those demographic clusters. In this final substep, you will compare the two cluster distributions to see where the strongest customer base for the company is.\n",
    "\n",
    "Consider the proportion of persons in each cluster for the general population, and the proportions for the customers. If we think the company's customer base to be universal, then the cluster assignment proportions should be fairly similar between the two. If there are only particular segments of the population that are interested in the company's products, then we should see a mismatch from one to the other. If there is a higher proportion of persons in a cluster for the customer data compared to the general population (e.g. 5% of persons are assigned to a cluster for the general population, but 15% of the customer data is closest to that cluster's centroid) then that suggests the people in that cluster to be a target audience for the company. On the other hand, the proportion of the data in a cluster being larger in the general population than the customer data (e.g. only 2% of customers closest to a population centroid that captures 6% of the data) suggests that group of persons to be outside of the target demographics.\n",
    "\n",
    "Take a look at the following points in this step:\n",
    "\n",
    "- Compute the proportion of data points in each cluster for the general population and the customer data. Visualizations will be useful here: both for the individual dataset proportions, but also to visualize the ratios in cluster representation between groups. Seaborn's [`countplot()`](https://seaborn.pydata.org/generated/seaborn.countplot.html) or [`barplot()`](https://seaborn.pydata.org/generated/seaborn.barplot.html) function could be handy.\n",
    "  - Recall the analysis you performed in step 1.1.3 of the project, where you separated out certain data points from the dataset if they had more than a specified threshold of missing values. If you found that this group was qualitatively different from the main bulk of the data, you should treat this as an additional data cluster in this analysis. Make sure that you account for the number of data points in this subset, for both the general population and customer datasets, when making your computations!\n",
    "- Which cluster or clusters are overrepresented in the customer dataset compared to the general population? Select at least one such cluster and infer what kind of people might be represented by that cluster. Use the principal component interpretations from step 2.3 or look at additional components to help you make this inference. Alternatively, you can use the `.inverse_transform()` method of the PCA and StandardScaler objects to transform centroids back to the original data space and interpret the retrieved values directly.\n",
    "- Perform a similar investigation for the underrepresented clusters. Which cluster or clusters are underrepresented in the customer dataset compared to the general population, and what kinds of people are typified by these clusters?"
   ]
  },
  {
   "cell_type": "code",
   "execution_count": 89,
   "metadata": {},
   "outputs": [],
   "source": [
    "dirty_azdias_array = np.full((dirty_azdias.shape[0],),-1)\n",
    "clusters_full_azdias = np.concatenate([clusters_pop, dirty_azdias_array])\n",
    "\n",
    "dirty_customers_array = np.full((dirty_customers.shape[0],),-1)\n",
    "clusters_full_customers = np.concatenate([clusters_customers, dirty_customers_array])"
   ]
  },
  {
   "cell_type": "code",
   "execution_count": 90,
   "metadata": {},
   "outputs": [
    {
     "data": {
      "image/png": "[encoded data removed]",
      "text/plain": [
       "<matplotlib.figure.Figure at 0x7f4e5d1ce1d0>"
      ]
     },
     "metadata": {},
     "output_type": "display_data"
    }
   ],
   "source": [
    "# Visualization\n",
    "fig = plt.figure()\n",
    "ax1=fig.add_axes([0,1.2,2,1], title='Demographic count plot')\n",
    "ax2=fig.add_axes([0,2.4,2,1], title='Customers count plot')\n",
    "sns.set(style=\"darkgrid\")\n",
    "sns.countplot(clusters_full_azdias, label='demographic', ax=ax1)\n",
    "sns.countplot(clusters_full_customers, label='customer', ax=ax2)\n",
    "ax.legend();"
   ]
  },
  {
   "cell_type": "markdown",
   "metadata": {},
   "source": [
    "**Notes**  \n",
    "The above visualization give the imporession that customers of the company are inherently differnt from the population. \n",
    "\n",
    "However, the plot is a little bit misleading as it is in absolute units. For now, underrepresented customers seem to be in clusters 0, 1, 5, 6,7 and 10. Overrepresented as customers of the company seem to be individuals of cluster 9."
   ]
  },
  {
   "cell_type": "code",
   "execution_count": 91,
   "metadata": {},
   "outputs": [
    {
     "name": "stdout",
     "output_type": "stream",
     "text": [
      "Cluster -1: 26.1 %\n",
      "Cluster 0: 0.53 %\n",
      "Cluster 1: 0.78 %\n",
      "Cluster 2: 8.52 %\n",
      "Cluster 3: 6.46 %\n",
      "Cluster 4: 7.37 %\n",
      "Cluster 5: 7.18 %\n",
      "Cluster 6: 2.0 %\n",
      "Cluster 7: 1.3 %\n",
      "Cluster 8: 13.07 %\n",
      "Cluster 9: 24.16 %\n",
      "Cluster 10: 2.54 %\n"
     ]
    }
   ],
   "source": [
    "total_cust = len(clusters_full_customers)\n",
    "\n",
    "cluster, counts = np.unique(clusters_full_customers, return_counts = True)\n",
    "dict_clusters_full_customers = dict(zip(cluster, counts))\n",
    "\n",
    "cluster_prop_cust = {}\n",
    "\n",
    "for cluster, num in dict_clusters_full_customers.items():\n",
    "    print(\"Cluster {}:\".format(cluster), round((num / total_cust)*100,2),\"%\")\n",
    "    cluster_prop_cust[cluster] = num/total_cust"
   ]
  },
  {
   "cell_type": "code",
   "execution_count": 92,
   "metadata": {},
   "outputs": [
    {
     "name": "stdout",
     "output_type": "stream",
     "text": [
      "Cluster -1: 10.52 %\n",
      "Cluster 0: 7.31 %\n",
      "Cluster 1: 10.51 %\n",
      "Cluster 2: 6.22 %\n",
      "Cluster 3: 8.99 %\n",
      "Cluster 4: 5.63 %\n",
      "Cluster 5: 10.87 %\n",
      "Cluster 6: 7.22 %\n",
      "Cluster 7: 10.04 %\n",
      "Cluster 8: 8.79 %\n",
      "Cluster 9: 6.09 %\n",
      "Cluster 10: 7.8 %\n"
     ]
    }
   ],
   "source": [
    "total_pop = len(clusters_full_azdias)\n",
    "\n",
    "cluster, counts2 = np.unique(clusters_full_azdias, return_counts = True)\n",
    "dict_clusters_full_azdias = dict(zip(cluster, counts2))\n",
    "\n",
    "cluster_prop_pop = {}\n",
    "\n",
    "for cluster, num in dict_clusters_full_azdias.items():\n",
    "    print(\"Cluster {}:\".format(cluster), round((num / total_pop)*100,2),\"%\")\n",
    "    cluster_prop_pop[cluster] = num/total_pop"
   ]
  },
  {
   "cell_type": "code",
   "execution_count": 93,
   "metadata": {},
   "outputs": [
    {
     "data": {
      "text/plain": [
       "{-1: 15.57088862627598,\n",
       " 0: -6.7797482722214291,\n",
       " 1: -9.7353121002422576,\n",
       " 2: 2.2996472107777515,\n",
       " 3: -2.5293577483058076,\n",
       " 4: 1.7361897048887922,\n",
       " 5: -3.6915236662671118,\n",
       " 6: -5.2199978032153265,\n",
       " 7: -8.7374164536991845,\n",
       " 8: 4.2762762805044972,\n",
       " 9: 18.073712480279948,\n",
       " 10: -5.2633582587758534}"
      ]
     },
     "execution_count": 93,
     "metadata": {},
     "output_type": "execute_result"
    }
   ],
   "source": [
    "cluster_prop_diff = {}\n",
    "\n",
    "for i in range(-1,11):\n",
    "    diff = (cluster_prop_cust[i] - cluster_prop_pop[i])\n",
    "    cluster_prop_diff[i] = diff*100\n",
    "\n",
    "cluster_prop_diff"
   ]
  },
  {
   "cell_type": "markdown",
   "metadata": {},
   "source": [
    "**Notes:**  \n",
    "Overrepresented clusters (customers over population) are: \n",
    "- 9: +18.07\n",
    "- -1: +15.57\n",
    "- 8: +4.28%\n",
    "\n",
    "Underrepresented clusters:\n",
    "- 1: -9.74%\n",
    "- 7: -8.74%\n",
    "- 0: -6.8%\n",
    "\n",
    "In a next step I will have a look at cluster 9 and 1 to see what the characteristics of those people are that are overrepresented (9) and underrepresented (1)."
   ]
  },
  {
   "cell_type": "code",
   "execution_count": 94,
   "metadata": {},
   "outputs": [
    {
     "data": {
      "text/html": [
       "<div>\n",
       "<style>\n",
       "    .dataframe thead tr:only-child th {\n",
       "        text-align: right;\n",
       "    }\n",
       "\n",
       "    .dataframe thead th {\n",
       "        text-align: left;\n",
       "    }\n",
       "\n",
       "    .dataframe tbody tr th {\n",
       "        vertical-align: top;\n",
       "    }\n",
       "</style>\n",
       "<table border=\"1\" class=\"dataframe\">\n",
       "  <thead>\n",
       "    <tr style=\"text-align: right;\">\n",
       "      <th></th>\n",
       "      <th>ALTERSKATEGORIE_GROB</th>\n",
       "      <th>ANREDE_KZ</th>\n",
       "      <th>FINANZ_MINIMALIST</th>\n",
       "      <th>FINANZ_SPARER</th>\n",
       "      <th>FINANZ_VORSORGER</th>\n",
       "      <th>FINANZ_ANLEGER</th>\n",
       "      <th>FINANZ_UNAUFFAELLIGER</th>\n",
       "      <th>FINANZ_HAUSBAUER</th>\n",
       "      <th>GREEN_AVANTGARDE</th>\n",
       "      <th>HEALTH_TYP</th>\n",
       "      <th>...</th>\n",
       "      <th>CAMEO_DEUG_2015_4</th>\n",
       "      <th>CAMEO_DEUG_2015_5</th>\n",
       "      <th>CAMEO_DEUG_2015_6</th>\n",
       "      <th>CAMEO_DEUG_2015_7</th>\n",
       "      <th>CAMEO_DEUG_2015_8</th>\n",
       "      <th>CAMEO_DEUG_2015_9</th>\n",
       "      <th>PRAEGENDE_JUGENDJAHRE_MS</th>\n",
       "      <th>PRAEGENDE_JUGENDJAHRE_DEC</th>\n",
       "      <th>CAMEO_INTL_2015_WEALTH</th>\n",
       "      <th>CAMEO_INTL_2015_LIFESTAGE</th>\n",
       "    </tr>\n",
       "  </thead>\n",
       "  <tbody>\n",
       "    <tr>\n",
       "      <th>0</th>\n",
       "      <td>1.866835</td>\n",
       "      <td>0.976900</td>\n",
       "      <td>1.746704</td>\n",
       "      <td>4.534506</td>\n",
       "      <td>1.924207</td>\n",
       "      <td>3.709440</td>\n",
       "      <td>3.953400</td>\n",
       "      <td>3.711475</td>\n",
       "      <td>0.101735</td>\n",
       "      <td>2.327463</td>\n",
       "      <td>...</td>\n",
       "      <td>0.023233</td>\n",
       "      <td>0.054054</td>\n",
       "      <td>0.116617</td>\n",
       "      <td>0.132143</td>\n",
       "      <td>0.308003</td>\n",
       "      <td>0.327861</td>\n",
       "      <td>0.865175</td>\n",
       "      <td>87.799178</td>\n",
       "      <td>4.366607</td>\n",
       "      <td>2.019686</td>\n",
       "    </tr>\n",
       "    <tr>\n",
       "      <th>1</th>\n",
       "      <td>1.786907</td>\n",
       "      <td>1.995758</td>\n",
       "      <td>1.107904</td>\n",
       "      <td>4.346833</td>\n",
       "      <td>2.250067</td>\n",
       "      <td>4.190556</td>\n",
       "      <td>3.778276</td>\n",
       "      <td>4.202132</td>\n",
       "      <td>0.028595</td>\n",
       "      <td>2.197702</td>\n",
       "      <td>...</td>\n",
       "      <td>0.014414</td>\n",
       "      <td>0.057275</td>\n",
       "      <td>0.122491</td>\n",
       "      <td>0.142240</td>\n",
       "      <td>0.307834</td>\n",
       "      <td>0.307501</td>\n",
       "      <td>1.044349</td>\n",
       "      <td>85.585739</td>\n",
       "      <td>4.343405</td>\n",
       "      <td>2.079002</td>\n",
       "    </tr>\n",
       "    <tr>\n",
       "      <th>2</th>\n",
       "      <td>3.364003</td>\n",
       "      <td>1.938942</td>\n",
       "      <td>4.210196</td>\n",
       "      <td>1.708311</td>\n",
       "      <td>4.088632</td>\n",
       "      <td>2.190415</td>\n",
       "      <td>2.202432</td>\n",
       "      <td>2.234867</td>\n",
       "      <td>0.910870</td>\n",
       "      <td>2.141199</td>\n",
       "      <td>...</td>\n",
       "      <td>0.178175</td>\n",
       "      <td>0.070038</td>\n",
       "      <td>0.087432</td>\n",
       "      <td>0.030157</td>\n",
       "      <td>0.028695</td>\n",
       "      <td>0.013819</td>\n",
       "      <td>0.069898</td>\n",
       "      <td>66.857522</td>\n",
       "      <td>1.975421</td>\n",
       "      <td>3.653259</td>\n",
       "    </tr>\n",
       "    <tr>\n",
       "      <th>3</th>\n",
       "      <td>3.553059</td>\n",
       "      <td>1.925108</td>\n",
       "      <td>3.740091</td>\n",
       "      <td>1.586169</td>\n",
       "      <td>4.339228</td>\n",
       "      <td>2.620748</td>\n",
       "      <td>1.782636</td>\n",
       "      <td>3.018848</td>\n",
       "      <td>0.035555</td>\n",
       "      <td>2.027499</td>\n",
       "      <td>...</td>\n",
       "      <td>0.247121</td>\n",
       "      <td>0.089407</td>\n",
       "      <td>0.151212</td>\n",
       "      <td>0.076939</td>\n",
       "      <td>0.057547</td>\n",
       "      <td>0.025211</td>\n",
       "      <td>2.127535</td>\n",
       "      <td>63.638717</td>\n",
       "      <td>2.623474</td>\n",
       "      <td>3.353658</td>\n",
       "    </tr>\n",
       "    <tr>\n",
       "      <th>4</th>\n",
       "      <td>3.777925</td>\n",
       "      <td>1.035557</td>\n",
       "      <td>3.459417</td>\n",
       "      <td>1.358651</td>\n",
       "      <td>4.770983</td>\n",
       "      <td>1.145587</td>\n",
       "      <td>1.454756</td>\n",
       "      <td>4.102556</td>\n",
       "      <td>0.092530</td>\n",
       "      <td>1.728056</td>\n",
       "      <td>...</td>\n",
       "      <td>0.035278</td>\n",
       "      <td>0.056235</td>\n",
       "      <td>0.199479</td>\n",
       "      <td>0.136603</td>\n",
       "      <td>0.317934</td>\n",
       "      <td>0.190390</td>\n",
       "      <td>2.266343</td>\n",
       "      <td>57.678319</td>\n",
       "      <td>4.171747</td>\n",
       "      <td>2.706380</td>\n",
       "    </tr>\n",
       "    <tr>\n",
       "      <th>5</th>\n",
       "      <td>3.588712</td>\n",
       "      <td>1.958512</td>\n",
       "      <td>2.558509</td>\n",
       "      <td>1.882442</td>\n",
       "      <td>4.294826</td>\n",
       "      <td>2.215018</td>\n",
       "      <td>1.689267</td>\n",
       "      <td>4.301032</td>\n",
       "      <td>0.071896</td>\n",
       "      <td>2.047369</td>\n",
       "      <td>...</td>\n",
       "      <td>0.037076</td>\n",
       "      <td>0.059073</td>\n",
       "      <td>0.166576</td>\n",
       "      <td>0.146677</td>\n",
       "      <td>0.330854</td>\n",
       "      <td>0.205747</td>\n",
       "      <td>1.835530</td>\n",
       "      <td>63.086433</td>\n",
       "      <td>4.217935</td>\n",
       "      <td>2.656257</td>\n",
       "    </tr>\n",
       "    <tr>\n",
       "      <th>6</th>\n",
       "      <td>2.007339</td>\n",
       "      <td>0.983926</td>\n",
       "      <td>3.379245</td>\n",
       "      <td>3.925566</td>\n",
       "      <td>2.120843</td>\n",
       "      <td>3.749024</td>\n",
       "      <td>4.110871</td>\n",
       "      <td>1.819064</td>\n",
       "      <td>0.335106</td>\n",
       "      <td>2.218866</td>\n",
       "      <td>...</td>\n",
       "      <td>0.245875</td>\n",
       "      <td>0.078891</td>\n",
       "      <td>0.123066</td>\n",
       "      <td>0.063414</td>\n",
       "      <td>0.042503</td>\n",
       "      <td>0.003046</td>\n",
       "      <td>0.533574</td>\n",
       "      <td>86.662790</td>\n",
       "      <td>2.309570</td>\n",
       "      <td>3.272849</td>\n",
       "    </tr>\n",
       "    <tr>\n",
       "      <th>7</th>\n",
       "      <td>1.933806</td>\n",
       "      <td>1.969997</td>\n",
       "      <td>2.350830</td>\n",
       "      <td>3.932955</td>\n",
       "      <td>2.247277</td>\n",
       "      <td>4.380774</td>\n",
       "      <td>3.983215</td>\n",
       "      <td>2.767504</td>\n",
       "      <td>0.197098</td>\n",
       "      <td>2.243870</td>\n",
       "      <td>...</td>\n",
       "      <td>0.237911</td>\n",
       "      <td>0.085649</td>\n",
       "      <td>0.135758</td>\n",
       "      <td>0.070983</td>\n",
       "      <td>0.040593</td>\n",
       "      <td>0.021753</td>\n",
       "      <td>0.801394</td>\n",
       "      <td>86.281282</td>\n",
       "      <td>2.436447</td>\n",
       "      <td>3.221538</td>\n",
       "    </tr>\n",
       "    <tr>\n",
       "      <th>8</th>\n",
       "      <td>3.229246</td>\n",
       "      <td>1.118399</td>\n",
       "      <td>4.564899</td>\n",
       "      <td>1.667131</td>\n",
       "      <td>4.278054</td>\n",
       "      <td>2.207514</td>\n",
       "      <td>1.770948</td>\n",
       "      <td>2.153373</td>\n",
       "      <td>0.027064</td>\n",
       "      <td>2.345241</td>\n",
       "      <td>...</td>\n",
       "      <td>0.234852</td>\n",
       "      <td>0.080546</td>\n",
       "      <td>0.125241</td>\n",
       "      <td>0.071190</td>\n",
       "      <td>0.044993</td>\n",
       "      <td>0.026471</td>\n",
       "      <td>2.117988</td>\n",
       "      <td>65.792565</td>\n",
       "      <td>2.467195</td>\n",
       "      <td>3.281071</td>\n",
       "    </tr>\n",
       "    <tr>\n",
       "      <th>9</th>\n",
       "      <td>3.299215</td>\n",
       "      <td>1.054642</td>\n",
       "      <td>4.793719</td>\n",
       "      <td>1.628614</td>\n",
       "      <td>4.315473</td>\n",
       "      <td>1.470372</td>\n",
       "      <td>2.088865</td>\n",
       "      <td>1.942068</td>\n",
       "      <td>0.959398</td>\n",
       "      <td>2.018304</td>\n",
       "      <td>...</td>\n",
       "      <td>0.165548</td>\n",
       "      <td>0.065012</td>\n",
       "      <td>0.104967</td>\n",
       "      <td>0.046330</td>\n",
       "      <td>0.023371</td>\n",
       "      <td>0.014122</td>\n",
       "      <td>0.101531</td>\n",
       "      <td>65.287012</td>\n",
       "      <td>2.028539</td>\n",
       "      <td>3.612382</td>\n",
       "    </tr>\n",
       "    <tr>\n",
       "      <th>10</th>\n",
       "      <td>2.838551</td>\n",
       "      <td>1.074585</td>\n",
       "      <td>3.188466</td>\n",
       "      <td>2.401922</td>\n",
       "      <td>3.807329</td>\n",
       "      <td>2.033690</td>\n",
       "      <td>1.910407</td>\n",
       "      <td>3.182960</td>\n",
       "      <td>0.108781</td>\n",
       "      <td>2.777218</td>\n",
       "      <td>...</td>\n",
       "      <td>0.032358</td>\n",
       "      <td>0.066337</td>\n",
       "      <td>0.127749</td>\n",
       "      <td>0.131272</td>\n",
       "      <td>0.303831</td>\n",
       "      <td>0.309550</td>\n",
       "      <td>1.301966</td>\n",
       "      <td>70.799239</td>\n",
       "      <td>4.347639</td>\n",
       "      <td>2.134294</td>\n",
       "    </tr>\n",
       "  </tbody>\n",
       "</table>\n",
       "<p>11 rows × 108 columns</p>\n",
       "</div>"
      ],
      "text/plain": [
       "    ALTERSKATEGORIE_GROB  ANREDE_KZ  FINANZ_MINIMALIST  FINANZ_SPARER  \\\n",
       "0               1.866835   0.976900           1.746704       4.534506   \n",
       "1               1.786907   1.995758           1.107904       4.346833   \n",
       "2               3.364003   1.938942           4.210196       1.708311   \n",
       "3               3.553059   1.925108           3.740091       1.586169   \n",
       "4               3.777925   1.035557           3.459417       1.358651   \n",
       "5               3.588712   1.958512           2.558509       1.882442   \n",
       "6               2.007339   0.983926           3.379245       3.925566   \n",
       "7               1.933806   1.969997           2.350830       3.932955   \n",
       "8               3.229246   1.118399           4.564899       1.667131   \n",
       "9               3.299215   1.054642           4.793719       1.628614   \n",
       "10              2.838551   1.074585           3.188466       2.401922   \n",
       "\n",
       "    FINANZ_VORSORGER  FINANZ_ANLEGER  FINANZ_UNAUFFAELLIGER  FINANZ_HAUSBAUER  \\\n",
       "0           1.924207        3.709440               3.953400          3.711475   \n",
       "1           2.250067        4.190556               3.778276          4.202132   \n",
       "2           4.088632        2.190415               2.202432          2.234867   \n",
       "3           4.339228        2.620748               1.782636          3.018848   \n",
       "4           4.770983        1.145587               1.454756          4.102556   \n",
       "5           4.294826        2.215018               1.689267          4.301032   \n",
       "6           2.120843        3.749024               4.110871          1.819064   \n",
       "7           2.247277        4.380774               3.983215          2.767504   \n",
       "8           4.278054        2.207514               1.770948          2.153373   \n",
       "9           4.315473        1.470372               2.088865          1.942068   \n",
       "10          3.807329        2.033690               1.910407          3.182960   \n",
       "\n",
       "    GREEN_AVANTGARDE  HEALTH_TYP            ...              \\\n",
       "0           0.101735    2.327463            ...               \n",
       "1           0.028595    2.197702            ...               \n",
       "2           0.910870    2.141199            ...               \n",
       "3           0.035555    2.027499            ...               \n",
       "4           0.092530    1.728056            ...               \n",
       "5           0.071896    2.047369            ...               \n",
       "6           0.335106    2.218866            ...               \n",
       "7           0.197098    2.243870            ...               \n",
       "8           0.027064    2.345241            ...               \n",
       "9           0.959398    2.018304            ...               \n",
       "10          0.108781    2.777218            ...               \n",
       "\n",
       "    CAMEO_DEUG_2015_4  CAMEO_DEUG_2015_5  CAMEO_DEUG_2015_6  \\\n",
       "0            0.023233           0.054054           0.116617   \n",
       "1            0.014414           0.057275           0.122491   \n",
       "2            0.178175           0.070038           0.087432   \n",
       "3            0.247121           0.089407           0.151212   \n",
       "4            0.035278           0.056235           0.199479   \n",
       "5            0.037076           0.059073           0.166576   \n",
       "6            0.245875           0.078891           0.123066   \n",
       "7            0.237911           0.085649           0.135758   \n",
       "8            0.234852           0.080546           0.125241   \n",
       "9            0.165548           0.065012           0.104967   \n",
       "10           0.032358           0.066337           0.127749   \n",
       "\n",
       "    CAMEO_DEUG_2015_7  CAMEO_DEUG_2015_8  CAMEO_DEUG_2015_9  \\\n",
       "0            0.132143           0.308003           0.327861   \n",
       "1            0.142240           0.307834           0.307501   \n",
       "2            0.030157           0.028695           0.013819   \n",
       "3            0.076939           0.057547           0.025211   \n",
       "4            0.136603           0.317934           0.190390   \n",
       "5            0.146677           0.330854           0.205747   \n",
       "6            0.063414           0.042503           0.003046   \n",
       "7            0.070983           0.040593           0.021753   \n",
       "8            0.071190           0.044993           0.026471   \n",
       "9            0.046330           0.023371           0.014122   \n",
       "10           0.131272           0.303831           0.309550   \n",
       "\n",
       "    PRAEGENDE_JUGENDJAHRE_MS  PRAEGENDE_JUGENDJAHRE_DEC  \\\n",
       "0                   0.865175                  87.799178   \n",
       "1                   1.044349                  85.585739   \n",
       "2                   0.069898                  66.857522   \n",
       "3                   2.127535                  63.638717   \n",
       "4                   2.266343                  57.678319   \n",
       "5                   1.835530                  63.086433   \n",
       "6                   0.533574                  86.662790   \n",
       "7                   0.801394                  86.281282   \n",
       "8                   2.117988                  65.792565   \n",
       "9                   0.101531                  65.287012   \n",
       "10                  1.301966                  70.799239   \n",
       "\n",
       "    CAMEO_INTL_2015_WEALTH  CAMEO_INTL_2015_LIFESTAGE  \n",
       "0                 4.366607                   2.019686  \n",
       "1                 4.343405                   2.079002  \n",
       "2                 1.975421                   3.653259  \n",
       "3                 2.623474                   3.353658  \n",
       "4                 4.171747                   2.706380  \n",
       "5                 4.217935                   2.656257  \n",
       "6                 2.309570                   3.272849  \n",
       "7                 2.436447                   3.221538  \n",
       "8                 2.467195                   3.281071  \n",
       "9                 2.028539                   3.612382  \n",
       "10                4.347639                   2.134294  \n",
       "\n",
       "[11 rows x 108 columns]"
      ]
     },
     "execution_count": 94,
     "metadata": {},
     "output_type": "execute_result"
    }
   ],
   "source": [
    "cluster = pd.DataFrame(scaler.inverse_transform(pca.inverse_transform(kmeans.cluster_centers_)), columns=sub1.columns)\n",
    "cluster"
   ]
  },
  {
   "cell_type": "markdown",
   "metadata": {},
   "source": [
    "**Notes:**   \n",
    "\n",
    "#### Cluster 9: Overrepresented\n",
    "- Age: Over 46 and below 60\n",
    "- Gender (1.05): Rather male \n",
    "- Financially heterogenous as people in this cluster seem to save money without actively preparing for old-age and having low financial interest\n",
    "- not socially-minded, \n",
    "- religious\n",
    "\n",
    "#### Cluster 1: Underrepresented\n",
    "- Age (1.79): Under 30 \n",
    "- Gender (1.99): Predominantly female\n",
    "- Low financial interest, no money-saver\n",
    "- socially-minded, family-minded, not religious"
   ]
  },
  {
   "cell_type": "markdown",
   "metadata": {},
   "source": [
    "### Discussion 3.3: Compare Customer Data to Demographics Data\n",
    "\n",
    "### What kinds of people are part of a cluster that is overrepresented in the customer data compared to the general population?\n",
    "People in cluster 9 are overrepresented as customers in comparison to the total population. A typical individual in this cluster is between 46 and 60 and male. This individual is financially heterogenous as it saves money but does not actively prepare for old-age, is not socially minded but religious. \n",
    "\n",
    "\n",
    "### What kinds of people are part of a cluster that is underrepresented in the customer data compared to the general population?\n",
    "The group of customers in cluster 1 are the most underrpresented part in comparison to the population. People in this cluster are typically under 30 and female. Moreover, they have low financial interest and are no money-saver. These individuals are not regligious, socially- and family-minded.\n",
    "\n",
    "(Double-click this cell and replace this text with your own text, reporting findings and conclusions from the clustering analysis. Can we describe segments of the population that are relatively popular with the mail-order company, or relatively unpopular with the company?)"
   ]
  },
  {
   "cell_type": "markdown",
   "metadata": {},
   "source": [
    "> Congratulations on making it this far in the project! Before you finish, make sure to check through the entire notebook from top to bottom to make sure that your analysis follows a logical flow and all of your findings are documented in **Discussion** cells. Once you've checked over all of your work, you should export the notebook as an HTML document to submit for evaluation. You can do this from the menu, navigating to **File -> Download as -> HTML (.html)**. You will submit both that document and this notebook for your project submission."
   ]
  },
  {
   "cell_type": "code",
   "execution_count": 95,
   "metadata": {},
   "outputs": [
    {
     "data": {
      "text/plain": [
       "['[NbConvertApp] Converting notebook Identify_Customer_Segments.ipynb to html',\n",
       " '[NbConvertApp] Writing 709712 bytes to Identify_Customer_Segments.html']"
      ]
     },
     "execution_count": 95,
     "metadata": {},
     "output_type": "execute_result"
    }
   ],
   "source": [
    "!!jupyter nbconvert *.ipynb"
   ]
  }
 ],
 "metadata": {
  "kernelspec": {
   "display_name": "Python 3",
   "language": "python",
   "name": "python3"
  },
  "language_info": {
   "codemirror_mode": {
    "name": "ipython",
    "version": 3
   },
   "file_extension": ".py",
   "mimetype": "text/x-python",
   "name": "python",
   "nbconvert_exporter": "python",
   "pygments_lexer": "ipython3",
   "version": "3.6.3"
  }
 },
 "nbformat": 4,
 "nbformat_minor": 2
}
